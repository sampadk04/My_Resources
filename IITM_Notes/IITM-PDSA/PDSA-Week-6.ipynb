{
 "cells": [
  {
   "cell_type": "markdown",
   "metadata": {},
   "source": [
    "# Week 6"
   ]
  },
  {
   "cell_type": "markdown",
   "metadata": {},
   "source": [
    "### In-built data-structure 'Heap' in python"
   ]
  },
  {
   "cell_type": "code",
   "execution_count": 2,
   "metadata": {},
   "outputs": [],
   "source": [
    "import heapq\n"
   ]
  },
  {
   "cell_type": "code",
   "execution_count": 4,
   "metadata": {},
   "outputs": [
    {
     "name": "stdout",
     "output_type": "stream",
     "text": [
      "[21, 1, 45, 78, 3, 5]\n"
     ]
    }
   ],
   "source": [
    "# List before heapification:\n",
    "H = [21, 1, 45, 78, 3, 5]\n",
    "print(H)\n"
   ]
  },
  {
   "cell_type": "code",
   "execution_count": 5,
   "metadata": {},
   "outputs": [
    {
     "name": "stdout",
     "output_type": "stream",
     "text": [
      "[1, 3, 5, 78, 21, 45]\n"
     ]
    }
   ],
   "source": [
    "# Use heapify to rearrange the elements in-place\n",
    "# List after heapification:\n",
    "heapq.heapify(H)\n",
    "print(H)\n"
   ]
  },
  {
   "cell_type": "code",
   "execution_count": 6,
   "metadata": {},
   "outputs": [
    {
     "name": "stdout",
     "output_type": "stream",
     "text": [
      "[1, 3, 5, 78, 21, 45, 8]\n"
     ]
    }
   ],
   "source": [
    "# Add an element ---\n",
    "# this is insert() operation as described in lectures\n",
    "# Heap after pushing 8:\n",
    "heapq.heappush(H, 8)\n",
    "print(H)\n"
   ]
  },
  {
   "cell_type": "code",
   "execution_count": 7,
   "metadata": {},
   "outputs": [
    {
     "name": "stdout",
     "output_type": "stream",
     "text": [
      "1\n",
      "[3, 8, 5, 78, 21, 45]\n"
     ]
    }
   ],
   "source": [
    "# Removing and returning the smallest element of the heap ---\n",
    "# this is the delete_min() operation as described in lectures\n",
    "# Heap after popping:\n",
    "r = heapq.heappop(H)\n",
    "print(r, H, sep=\"\\n\")\n"
   ]
  },
  {
   "cell_type": "code",
   "execution_count": 8,
   "metadata": {},
   "outputs": [
    {
     "name": "stdout",
     "output_type": "stream",
     "text": [
      "[3, 8, 5, 78, 21, 45]\n"
     ]
    }
   ],
   "source": [
    "# This function combines the functioning of both push and pop operation\n",
    "# Heap before push-popping:\n",
    "print(H)\n"
   ]
  },
  {
   "cell_type": "code",
   "execution_count": 9,
   "metadata": {},
   "outputs": [
    {
     "name": "stdout",
     "output_type": "stream",
     "text": [
      "[3, 8, 5, 78, 21, 45]\n"
     ]
    }
   ],
   "source": [
    "# This function combines the functioning of both pop and push operation\n",
    "# Heap after pusp-popping:\n",
    "heapq.heappushpop(H, 2)\n",
    "print(H)\n",
    "# No change because, 2 is the smallest element which will be popped\n",
    "# immediately after adding\n"
   ]
  },
  {
   "cell_type": "code",
   "execution_count": 11,
   "metadata": {},
   "outputs": [
    {
     "name": "stdout",
     "output_type": "stream",
     "text": [
      "[3, 8, 5, 78, 21, 45]\n"
     ]
    }
   ],
   "source": [
    "# Heap before replacing:\n",
    "print(H)\n"
   ]
  },
  {
   "cell_type": "code",
   "execution_count": 12,
   "metadata": {},
   "outputs": [
    {
     "name": "stdout",
     "output_type": "stream",
     "text": [
      " \n",
      "3\n",
      "[5, 8, 6, 78, 21, 45]\n"
     ]
    }
   ],
   "source": [
    "# Heap after replaceing the root:\n",
    "r = heapq.heapreplace(H, 6)\n",
    "print(\" \")\n",
    "print(r, H, sep=\"\\n\")\n",
    "\n",
    "# To replace arbitrary elements in the heap and re-heapify\n",
    "# (to make it usable for some algorithms like Dijkstra's), we need to\n",
    "# use the method as described in Week-6 lectures\n"
   ]
  },
  {
   "cell_type": "markdown",
   "metadata": {},
   "source": [
    "## PPA"
   ]
  },
  {
   "cell_type": "code",
   "execution_count": null,
   "metadata": {},
   "outputs": [],
   "source": [
    "import heapq as h\n",
    "\n",
    "\n",
    "def KminGreaterThan(A, k, n):\n",
    "    h.heapify(A)\n",
    "\n",
    "    for _ in range(k):\n",
    "        x = h.heappop(A)\n",
    "\n",
    "    if x >= n:\n",
    "        return True\n",
    "    else:\n",
    "        return False\n"
   ]
  },
  {
   "cell_type": "code",
   "execution_count": 15,
   "metadata": {},
   "outputs": [],
   "source": [
    "# This is similar to GRPA 3."
   ]
  },
  {
   "cell_type": "markdown",
   "metadata": {},
   "source": [
    "#### Improved Kruskal's Algorithm"
   ]
  },
  {
   "cell_type": "code",
   "execution_count": 3,
   "metadata": {},
   "outputs": [],
   "source": [
    "# Implementing Kruskal's Algorithm with Union-Find DS\n",
    "# for more details follow the gfg article on Kruskal (check the python code)\n",
    "\n",
    "edges = []\n",
    "parent, rank = {}, {}\n",
    "\n",
    "\n",
    "def find(i):\n",
    "    if parent[i] == i:\n",
    "        return i\n",
    "    return find(parent[i])\n",
    "\n",
    "\n",
    "def union(i, j):\n",
    "    root_i = find(i)\n",
    "    root_j = find(j)\n",
    "    if rank[root_i] > rank[root_j]:\n",
    "        root_i, root_j = root_j, root_i\n",
    "    parent[root_i] = root_j\n",
    "    rank[root_i] += 1\n",
    "\n",
    "\n",
    "def Kruskal(WList):\n",
    "    for u in WList.keys():\n",
    "        edges.extend([(u, v, d) for (v, d) in WList[u]])\n",
    "        parent[u], rank[u] = u, 0  # These are required for the union-find DS\n",
    "    sorted_edges = sorted(edges, key=lambda item: item[2])\n",
    "    # This is sorting the list w.r.t the third component of the tuple (which represents the weight here, as we want to sort the edges w.r.t. their weights)\n",
    "\n",
    "    TE, e, i, cost = [], 0, 0, 0\n",
    "    while e < len(WList.keys()) and i < len(sorted_edges):\n",
    "        (u, v, d) = sorted_edges[i]\n",
    "        i += 1\n",
    "        p_u, p_v = find(u), find(v)\n",
    "        if p_u != p_v:\n",
    "            e += 1\n",
    "            TE.append((u, v, d))\n",
    "            cost += d\n",
    "            union(p_u, p_v)\n",
    "\n",
    "    return TE, cost, e\n",
    "\n"
   ]
  },
  {
   "cell_type": "code",
   "execution_count": null,
   "metadata": {},
   "outputs": [],
   "source": [
    "# This is PPA 3 using the improved Kruskal's Algorithm\n",
    "\n",
    "\n",
    "def connectSites(AList, exCamp):\n",
    "    myList = {}\n",
    "    for u in AList.keys():\n",
    "        if u != exCamp:\n",
    "            myList[u] = [(v, d) for (v, d) in AList[u] if v != exCamp]\n",
    "\n",
    "    TE, cost, e = Kruskal(myList)\n",
    "\n",
    "    if e < len(myList.keys()) - 1:\n",
    "        return -1\n",
    "    else:\n",
    "        return cost\n"
   ]
  },
  {
   "cell_type": "markdown",
   "metadata": {},
   "source": [
    "## GRPA"
   ]
  },
  {
   "cell_type": "code",
   "execution_count": null,
   "metadata": {},
   "outputs": [],
   "source": [
    "import heapq as h\n",
    "\n",
    "\n",
    "def mergeKLists(L):\n",
    "    hL, opL = [], []\n",
    "    h.heapify(hL)\n",
    "\n",
    "    for i in range(len(L)):\n",
    "        h.heappush(hL, (L[i][0], i, 0, len(L[i])))\n",
    "\n",
    "    while len(hL) > 0:\n",
    "        (w, x, y, z) = h.heappop(hL)\n",
    "        # Here w = current list head (least element), x = current list-index in L, y = index of w in the list L[x], z = length of the list L[x]\n",
    "        opL.append(w)\n",
    "        y += 1\n",
    "        if y < z:\n",
    "            w = L[x][y]\n",
    "            h.heappush(hL, (w, x, y, z))\n",
    "\n",
    "    return opL\n"
   ]
  },
  {
   "cell_type": "code",
   "execution_count": null,
   "metadata": {},
   "outputs": [],
   "source": [
    "def maxLessThan(root, K):\n",
    "    if root.isempty():\n",
    "        return None\n",
    "\n",
    "    if root.value == K:\n",
    "        return K\n",
    "\n",
    "    if root.isleaf():\n",
    "        if root.value < K:\n",
    "            return root.value\n",
    "        else:\n",
    "            return None\n",
    "\n",
    "    if root.value > K:\n",
    "        return maxLessThan(root.left, K)\n",
    "    else:\n",
    "        if maxLessThan(root.right, K) != None:\n",
    "            return maxLessThan(root.right, K)\n",
    "        else:\n",
    "            return root.value\n",
    "\n"
   ]
  },
  {
   "cell_type": "code",
   "execution_count": 14,
   "metadata": {},
   "outputs": [],
   "source": [
    "# This algorithm is same as building a O(n) max-heapification algorithm\n",
    "\n",
    "# This max-heapifies along the path i and below.\n",
    "def heapify(A, n, i):\n",
    "    largest = i\n",
    "    l = 2 * i + 1\n",
    "    r = 2 * i + 2\n",
    "    if l < n and A[largest] < A[l]:\n",
    "        largest = l\n",
    "    if r < n and A[largest] < A[r]:\n",
    "        largest = r\n",
    "    if largest != i:\n",
    "        A[i], A[largest] = A[largest], A[i]\n",
    "        heapify(A, n, largest)\n",
    "\n",
    "\n",
    "# Here, we are assuming, the leaves to be heapified (and every element after n//2 are leaves of the tree, which means they are assumed to be already heapified) So, we heapify in reverse order, starting from n//2 and move upwards till the root.\n",
    "def min_max(arr):\n",
    "    n = len(arr)\n",
    "    for i in range(n // 2, -1, -1):\n",
    "        heapify(arr, n, i)\n"
   ]
  }
 ],
 "metadata": {
  "interpreter": {
   "hash": "66fad59707e6f8d3b27b4c9127f242ae202c8ccb4feab6c573ba2ffb28290316"
  },
  "kernelspec": {
   "display_name": "Python 3.9.7 64-bit ('skk-std-env': conda)",
   "name": "python3"
  },
  "language_info": {
   "codemirror_mode": {
    "name": "ipython",
    "version": 3
   },
   "file_extension": ".py",
   "mimetype": "text/x-python",
   "name": "python",
   "nbconvert_exporter": "python",
   "pygments_lexer": "ipython3",
   "version": "3.8.8"
  },
  "orig_nbformat": 4
 },
 "nbformat": 4,
 "nbformat_minor": 2
}
