{
 "cells": [
  {
   "cell_type": "markdown",
   "metadata": {},
   "source": [
    "# Bagging and Random Forest Classifier"
   ]
  },
  {
   "cell_type": "markdown",
   "metadata": {},
   "source": [
    "In this notebook, we will apply ensemble techniques tto regression problem in california housing dataset.\n",
    "\n",
    "We have already applied different regressors on california housing datasets. In this notebook, we will make use of  ---\n",
    "- Decision Tree Regressor\n",
    "- Bagging Regressor\n",
    "- Random Forest Regressor\n",
    "\n",
    "We will observe performance improvement when we use Random Forest over Decision Tree regressor and Bagging, which also implicity uses Decision Tree regressors."
   ]
  },
  {
   "cell_type": "markdown",
   "metadata": {},
   "source": [
    "# Imports"
   ]
  },
  {
   "cell_type": "code",
   "execution_count": 1,
   "metadata": {},
   "outputs": [],
   "source": [
    "import numpy as np\n",
    "import pandas as pd\n",
    "\n",
    "from sklearn.datasets import fetch_california_housing\n",
    "\n",
    "from sklearn.ensemble import BaggingRegressor, RandomForestRegressor\n",
    "\n",
    "from sklearn.metrics import mean_absolute_error\n",
    "\n",
    "from sklearn.model_selection import train_test_split, cross_validate, RandomizedSearchCV, ShuffleSplit\n",
    "\n",
    "from sklearn.tree import DecisionTreeRegressor"
   ]
  },
  {
   "cell_type": "code",
   "execution_count": 2,
   "metadata": {},
   "outputs": [],
   "source": [
    "np.random.seed(69)"
   ]
  },
  {
   "cell_type": "markdown",
   "metadata": {},
   "source": [
    "We use `ShuffleSplit` cross validation with $10$ splits and $20\\%$ of the data set aside for model evaluation as a test data."
   ]
  },
  {
   "cell_type": "code",
   "execution_count": 3,
   "metadata": {},
   "outputs": [],
   "source": [
    "shufflesplit_cv = ShuffleSplit(\n",
    "    n_splits=10,\n",
    "    test_size=0.2,\n",
    "    random_state=69\n",
    ")"
   ]
  },
  {
   "cell_type": "markdown",
   "metadata": {},
   "source": [
    "Let's download the data and split it into training and test sets."
   ]
  },
  {
   "cell_type": "code",
   "execution_count": 4,
   "metadata": {},
   "outputs": [],
   "source": [
    "# fetch dataset\n",
    "features, labels = fetch_california_housing(as_frame=True, return_X_y=True)\n",
    "labels *= 100\n",
    "\n",
    "# train-test split\n",
    "X_train, X_test, y_train, y_test = train_test_split(features, labels, random_state=69)"
   ]
  },
  {
   "cell_type": "markdown",
   "metadata": {},
   "source": [
    "We train a helper function to help us train different regressors on the `California Housing Dataset`."
   ]
  },
  {
   "cell_type": "code",
   "execution_count": 5,
   "metadata": {},
   "outputs": [],
   "source": [
    "def train_regressor(estimator, X_train, y_train, cv, name):\n",
    "    cv_results = cross_validate(\n",
    "        estimator,\n",
    "        X_train,\n",
    "        y_train,\n",
    "        cv=cv,\n",
    "        scoring='neg_mean_absolute_error',\n",
    "        return_train_score=True,\n",
    "        return_estimator=True\n",
    "    )\n",
    "\n",
    "    cv_train_error = -1* cv_results['train_score']\n",
    "    cv_test_error = -1*cv_results['test_score']\n",
    "\n",
    "    print(f\"On an average, {name} model makes an error of \" f\"{cv_train_error.mean():3f}k +/- {cv_train_error.std():3f}k on the training set.\")\n",
    "    print(f\"On an average, {name} model makes an error of \" f\"{cv_test_error.mean():3f}k +/- {cv_test_error.std():3f}k on the test set.\")"
   ]
  },
  {
   "cell_type": "markdown",
   "metadata": {},
   "source": [
    "# Decision Tree Regressor"
   ]
  },
  {
   "cell_type": "code",
   "execution_count": 6,
   "metadata": {},
   "outputs": [
    {
     "name": "stdout",
     "output_type": "stream",
     "text": [
      "On an average, Decision Tree Regressor model makes an error of 0.000000k +/- 0.000000k on the training set.\n",
      "On an average, Decision Tree Regressor model makes an error of 46.533976k +/- 1.283197k on the test set.\n"
     ]
    }
   ],
   "source": [
    "train_regressor(\n",
    "    DecisionTreeRegressor(random_state=69),\n",
    "    X_train,\n",
    "    y_train,\n",
    "    cv=shufflesplit_cv,\n",
    "    name=\"Decision Tree Regressor\"\n",
    ")"
   ]
  },
  {
   "cell_type": "markdown",
   "metadata": {},
   "source": [
    "As we can see above, there is a strong case of overfitting taking place here."
   ]
  },
  {
   "cell_type": "markdown",
   "metadata": {},
   "source": [
    "# Bagging Regressor"
   ]
  },
  {
   "cell_type": "code",
   "execution_count": 7,
   "metadata": {},
   "outputs": [
    {
     "name": "stdout",
     "output_type": "stream",
     "text": [
      "On an average, Bagging Regressor model makes an error of 14.266920k +/- 0.123606k on the training set.\n",
      "On an average, Bagging Regressor model makes an error of 35.320800k +/- 0.718662k on the test set.\n"
     ]
    }
   ],
   "source": [
    "train_regressor(\n",
    "    BaggingRegressor(random_state=69),\n",
    "    X_train,\n",
    "    y_train,\n",
    "    cv=shufflesplit_cv,\n",
    "    name=\"Bagging Regressor\"\n",
    ")"
   ]
  },
  {
   "cell_type": "markdown",
   "metadata": {},
   "source": [
    "Althought the error on the training set has increase, it has generalized better, as the error on the test set has reduced."
   ]
  },
  {
   "cell_type": "markdown",
   "metadata": {},
   "source": [
    "# Random Forest Regressor"
   ]
  },
  {
   "cell_type": "code",
   "execution_count": 8,
   "metadata": {},
   "outputs": [
    {
     "name": "stdout",
     "output_type": "stream",
     "text": [
      "On an average, Random Forest Regressor model makes an error of 12.558201k +/- 0.082668k on the training set.\n",
      "On an average, Random Forest Regressor model makes an error of 33.435454k +/- 0.633468k on the test set.\n"
     ]
    }
   ],
   "source": [
    "train_regressor(\n",
    "    RandomForestRegressor(random_state=69),\n",
    "    X_train,\n",
    "    y_train,\n",
    "    cv=shufflesplit_cv,\n",
    "    name=\"Random Forest Regressor\"\n",
    ")"
   ]
  },
  {
   "cell_type": "markdown",
   "metadata": {},
   "source": [
    "# Hyperparameter Tuning for Random Forest Regressor"
   ]
  },
  {
   "cell_type": "code",
   "execution_count": 10,
   "metadata": {},
   "outputs": [],
   "source": [
    "rfr_params = {\n",
    "    'n_estimators':[1,2,5,10,20,50,100,200,500],\n",
    "    'max_leaf_nodes':[2,5,10,20,50,100]\n",
    "}\n",
    "\n",
    "rfr_search_cv = RandomizedSearchCV(\n",
    "    RandomForestRegressor(n_jobs=2, random_state=69),\n",
    "    param_distributions=rfr_params,\n",
    "    scoring='neg_mean_absolute_error',\n",
    "    n_iter=10,\n",
    "    random_state=69,\n",
    "    n_jobs=2\n",
    ")"
   ]
  },
  {
   "cell_type": "code",
   "execution_count": 11,
   "metadata": {},
   "outputs": [
    {
     "data": {
      "text/plain": [
       "RandomizedSearchCV(estimator=RandomForestRegressor(n_jobs=2, random_state=69),\n",
       "                   n_jobs=2,\n",
       "                   param_distributions={'max_leaf_nodes': [2, 5, 10, 20, 50,\n",
       "                                                           100],\n",
       "                                        'n_estimators': [1, 2, 5, 10, 20, 50,\n",
       "                                                         100, 200, 500]},\n",
       "                   random_state=69, scoring='neg_mean_absolute_error')"
      ]
     },
     "execution_count": 11,
     "metadata": {},
     "output_type": "execute_result"
    }
   ],
   "source": [
    "rfr_search_cv.fit(X_train,y_train)"
   ]
  },
  {
   "cell_type": "markdown",
   "metadata": {},
   "source": [
    "Let's look at the results of this randomized parameter search."
   ]
  },
  {
   "cell_type": "code",
   "execution_count": 12,
   "metadata": {},
   "outputs": [
    {
     "data": {
      "text/html": [
       "<div>\n",
       "<style scoped>\n",
       "    .dataframe tbody tr th:only-of-type {\n",
       "        vertical-align: middle;\n",
       "    }\n",
       "\n",
       "    .dataframe tbody tr th {\n",
       "        vertical-align: top;\n",
       "    }\n",
       "\n",
       "    .dataframe thead th {\n",
       "        text-align: right;\n",
       "    }\n",
       "</style>\n",
       "<table border=\"1\" class=\"dataframe\">\n",
       "  <thead>\n",
       "    <tr style=\"text-align: right;\">\n",
       "      <th></th>\n",
       "      <th>param_n_estimators</th>\n",
       "      <th>param_max_leaf_nodes</th>\n",
       "      <th>mean_test_error</th>\n",
       "      <th>std_test_error</th>\n",
       "    </tr>\n",
       "  </thead>\n",
       "  <tbody>\n",
       "    <tr>\n",
       "      <th>7</th>\n",
       "      <td>5</td>\n",
       "      <td>100</td>\n",
       "      <td>41.875612</td>\n",
       "      <td>-0.525083</td>\n",
       "    </tr>\n",
       "    <tr>\n",
       "      <th>1</th>\n",
       "      <td>10</td>\n",
       "      <td>20</td>\n",
       "      <td>49.718961</td>\n",
       "      <td>-0.698376</td>\n",
       "    </tr>\n",
       "    <tr>\n",
       "      <th>9</th>\n",
       "      <td>1</td>\n",
       "      <td>50</td>\n",
       "      <td>49.978396</td>\n",
       "      <td>-0.780722</td>\n",
       "    </tr>\n",
       "    <tr>\n",
       "      <th>6</th>\n",
       "      <td>1</td>\n",
       "      <td>20</td>\n",
       "      <td>54.061509</td>\n",
       "      <td>-0.522468</td>\n",
       "    </tr>\n",
       "    <tr>\n",
       "      <th>0</th>\n",
       "      <td>200</td>\n",
       "      <td>10</td>\n",
       "      <td>54.704262</td>\n",
       "      <td>-0.603559</td>\n",
       "    </tr>\n",
       "    <tr>\n",
       "      <th>4</th>\n",
       "      <td>2</td>\n",
       "      <td>10</td>\n",
       "      <td>56.582734</td>\n",
       "      <td>-0.660194</td>\n",
       "    </tr>\n",
       "    <tr>\n",
       "      <th>5</th>\n",
       "      <td>20</td>\n",
       "      <td>2</td>\n",
       "      <td>72.419007</td>\n",
       "      <td>-1.085487</td>\n",
       "    </tr>\n",
       "    <tr>\n",
       "      <th>3</th>\n",
       "      <td>200</td>\n",
       "      <td>2</td>\n",
       "      <td>72.551403</td>\n",
       "      <td>-1.182701</td>\n",
       "    </tr>\n",
       "    <tr>\n",
       "      <th>2</th>\n",
       "      <td>500</td>\n",
       "      <td>2</td>\n",
       "      <td>72.601623</td>\n",
       "      <td>-1.161199</td>\n",
       "    </tr>\n",
       "    <tr>\n",
       "      <th>8</th>\n",
       "      <td>2</td>\n",
       "      <td>2</td>\n",
       "      <td>74.424927</td>\n",
       "      <td>-1.036156</td>\n",
       "    </tr>\n",
       "  </tbody>\n",
       "</table>\n",
       "</div>"
      ],
      "text/plain": [
       "  param_n_estimators param_max_leaf_nodes  mean_test_error  std_test_error\n",
       "7                  5                  100        41.875612       -0.525083\n",
       "1                 10                   20        49.718961       -0.698376\n",
       "9                  1                   50        49.978396       -0.780722\n",
       "6                  1                   20        54.061509       -0.522468\n",
       "0                200                   10        54.704262       -0.603559\n",
       "4                  2                   10        56.582734       -0.660194\n",
       "5                 20                    2        72.419007       -1.085487\n",
       "3                200                    2        72.551403       -1.182701\n",
       "2                500                    2        72.601623       -1.161199\n",
       "8                  2                    2        74.424927       -1.036156"
      ]
     },
     "execution_count": 12,
     "metadata": {},
     "output_type": "execute_result"
    }
   ],
   "source": [
    "columns = [f\"param_{name}\" for name in rfr_params.keys()]\n",
    "columns += ['mean_test_error', 'std_test_error']\n",
    "cv_results = pd.DataFrame(rfr_search_cv.cv_results_)\n",
    "cv_results['mean_test_error'] = -cv_results['mean_test_score']\n",
    "cv_results['std_test_error'] = -cv_results['std_test_score']\n",
    "cv_results[columns].sort_values(by='mean_test_error')"
   ]
  },
  {
   "cell_type": "code",
   "execution_count": 13,
   "metadata": {},
   "outputs": [
    {
     "name": "stdout",
     "output_type": "stream",
     "text": [
      "On average, our Random Forest Classifer makes an error of 42.73k\n"
     ]
    }
   ],
   "source": [
    "error = -rfr_search_cv.score(X_test, y_test)\n",
    "print(f\"On average, our Random Forest Classifer makes an error of {error:.2f}k\")"
   ]
  }
 ],
 "metadata": {
  "interpreter": {
   "hash": "ee0777041ec98f607d7fd5b29a894c71a8ff0325c3258b55f9f8e1ee2f7fef34"
  },
  "kernelspec": {
   "display_name": "Python 3.9.7 ('skk-mlp-env')",
   "language": "python",
   "name": "python3"
  },
  "language_info": {
   "codemirror_mode": {
    "name": "ipython",
    "version": 3
   },
   "file_extension": ".py",
   "mimetype": "text/x-python",
   "name": "python",
   "nbconvert_exporter": "python",
   "pygments_lexer": "ipython3",
   "version": "3.9.7"
  },
  "orig_nbformat": 4
 },
 "nbformat": 4,
 "nbformat_minor": 2
}
