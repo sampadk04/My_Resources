{
 "cells": [
  {
   "cell_type": "code",
   "execution_count": 1,
   "metadata": {},
   "outputs": [],
   "source": [
    "from IPython.display import display, Math, Latex\n",
    "# This is imported for proper rendering of Latex in Notebook."
   ]
  },
  {
   "cell_type": "markdown",
   "metadata": {},
   "source": [
    "# Data Pre-processing Techniques"
   ]
  },
  {
   "cell_type": "markdown",
   "metadata": {},
   "source": [
    "Data pre-processing involves several transformation that are applied to the raw data to make it more amenable for learning. It is carried out before using it for model training or prediction.\n",
    "\n",
    "There are many pre-processing techniques for ---\n",
    "\n",
    "- Data Cleaning\n",
    "    - Data Imputation\n",
    "    - Feature Scaling\n",
    "\n",
    "- Feature Transformation\n",
    "    - Polynomial Features\n",
    "    - Discretization\n",
    "    - Handling Categorical Features\n",
    "    - Custom Transformers\n",
    "    - Composite Transformers\n",
    "        - Apply transformation to diverse features\n",
    "        - TargetTransformedRegressor\n",
    "\n",
    "- Feature Selection\n",
    "    - Filter based feature selection\n",
    "    - Wrapper based feature selection\n",
    "\n",
    "- Feature Extraction\n",
    "    - PCA\n",
    "\n",
    "\n",
    "The transformations are applied in a specific order and the order and order can be specified via `Pipeline`. We need to apply different transformations based on the feature type. `FeatureUnion` helps us perform the task and combine the outputs from multiple transformations into a single transformed feature matrix. We will also study how to visualize this pipeline."
   ]
  },
  {
   "cell_type": "markdown",
   "metadata": {},
   "source": [
    "### Importing basic libraries\n",
    "\n",
    "In this notebook, we are importing libraries as needed. However, it is a good practice to have all imports in one cell - arranged in alphabetical order. This helps us weed out any duplicate imports and some such issues."
   ]
  },
  {
   "cell_type": "code",
   "execution_count": 2,
   "metadata": {},
   "outputs": [],
   "source": [
    "import numpy as np\n",
    "import matplotlib.pyplot as plt\n",
    "import pandas as pd\n",
    "import seaborn as sns\n",
    "sns.set_theme(style=\"whitegrid\")\n",
    "%matplotlib inline"
   ]
  },
  {
   "cell_type": "markdown",
   "metadata": {},
   "source": [
    "## 1. Feature Extraction"
   ]
  },
  {
   "cell_type": "markdown",
   "metadata": {},
   "source": [
    "### `DictVectorizer`"
   ]
  },
  {
   "cell_type": "markdown",
   "metadata": {},
   "source": [
    "Many a times the data is present as a **list of dictionary objects**. ML algorithms expect the data in **matrix form** with shape $(n,m)$ where $n$ is the no. of samples and $m$ is the no. of features.\n",
    "\n",
    "`DictVectorizer` converts a *list of dictionary objects* to *feature matrix*."
   ]
  },
  {
   "cell_type": "markdown",
   "metadata": {},
   "source": [
    "Let's create a sample data for demo purpose containing `age` and `height` of children.\n",
    "\n",
    "> Each record/sample is a dictionary with $2$ keys `age` and `height`, and corresponding values."
   ]
  },
  {
   "cell_type": "code",
   "execution_count": 3,
   "metadata": {},
   "outputs": [],
   "source": [
    "data = [{'age': 4, 'height': 96.0},\n",
    "        {'age': 1, 'height': 73.9},\n",
    "        {'age': 3, 'height': 88.9},\n",
    "        {'age': 2, 'height': 81.6},]"
   ]
  },
  {
   "cell_type": "markdown",
   "metadata": {},
   "source": [
    "Let's make use of `DictVectorizer` to convert the list of dictionary objects to the feature matrix."
   ]
  },
  {
   "cell_type": "code",
   "execution_count": 4,
   "metadata": {},
   "outputs": [
    {
     "data": {
      "text/plain": [
       "array([[ 4. , 96. ],\n",
       "       [ 1. , 73.9],\n",
       "       [ 3. , 88.9],\n",
       "       [ 2. , 81.6]])"
      ]
     },
     "execution_count": 4,
     "metadata": {},
     "output_type": "execute_result"
    }
   ],
   "source": [
    "from sklearn.feature_extraction import DictVectorizer\n",
    "dv = DictVectorizer(sparse=False)\n",
    "data_transformed = dv.fit_transform(data)\n",
    "data_transformed"
   ]
  },
  {
   "cell_type": "code",
   "execution_count": 5,
   "metadata": {},
   "outputs": [
    {
     "data": {
      "text/plain": [
       "(4, 2)"
      ]
     },
     "execution_count": 5,
     "metadata": {},
     "output_type": "execute_result"
    }
   ],
   "source": [
    "data_transformed.shape"
   ]
  },
  {
   "cell_type": "markdown",
   "metadata": {},
   "source": [
    "## 2. Data Imputation\n",
    "\n",
    "- Many machine learning algorithms need full feature matrix and they may not work in the presence of missing data.\n",
    "- Data imputation identifies **missing values** in each feature of the dataset and **replaces** them with an **appropriate value** based on a **fixed strategy** such as ---\n",
    "    - **mean** or **median** or **mode** of that feature.\n",
    "    - using **specific constant** value.\n",
    "\n",
    "\n",
    "Sklearn library provides `sklearn.impute.SimpleImputer` class for this purpose."
   ]
  },
  {
   "cell_type": "code",
   "execution_count": 6,
   "metadata": {},
   "outputs": [],
   "source": [
    "from sklearn.impute import SimpleImputer"
   ]
  },
  {
   "cell_type": "markdown",
   "metadata": {},
   "source": [
    "Some of its important parameters:\n",
    "- *missing_values*: Could be `int`, `float`, `str`, `np.nan` or `None`. Default is `np.nan`.\n",
    "- *strategy*: string, default is 'mean'. One of the following strategies can be used:\n",
    "    - `mean`: missing values are replaced using the **mean** along each column\n",
    "    - `median`: missing values are replaced using the **median** along each column\n",
    "    - `most_frequent`: missing values are replaced using the **mode** along each column\n",
    "    - `column`: missing values are replaced with value specified in the `fill_value` argument\n",
    "\n",
    "\n",
    "- `add_indicator` is a boolean parametre that when set to `True` returns **missing value indicator** in `indicator_` member variable."
   ]
  },
  {
   "cell_type": "markdown",
   "metadata": {},
   "source": [
    "**Note:**\n",
    "- `mean` and `median` strategies can only be used with numeric data.\n",
    "- `most_frequent` and `constant` strategies can be used with strings or numeric data."
   ]
  },
  {
   "cell_type": "markdown",
   "metadata": {},
   "source": [
    "### Data imputation on real world dataset\n",
    "\n",
    "Let's perform data imputation on real world dataset. We will be using [heart-disease dataset from uci machine learning repository](https://archive.ics.uci.edu/ml/machine-learning-databases/heart-disease/processed.cleveland.data) for this purpose. We will load this dataset from csv file."
   ]
  },
  {
   "cell_type": "code",
   "execution_count": 7,
   "metadata": {},
   "outputs": [],
   "source": [
    "cols = ['age', 'sex', 'cp', 'trestbps', 'chol', 'fbs', 'restecg', 'thalac', 'exang', 'oldpeak', 'slope', 'ca', 'thal', 'num']\n",
    "heart_data = pd.read_csv('https://archive.ics.uci.edu/ml/machine-learning-databases/heart-disease/processed.cleveland.data', header=None, names=cols)"
   ]
  },
  {
   "cell_type": "code",
   "execution_count": 8,
   "metadata": {},
   "outputs": [
    {
     "data": {
      "text/html": [
       "<div>\n",
       "<style scoped>\n",
       "    .dataframe tbody tr th:only-of-type {\n",
       "        vertical-align: middle;\n",
       "    }\n",
       "\n",
       "    .dataframe tbody tr th {\n",
       "        vertical-align: top;\n",
       "    }\n",
       "\n",
       "    .dataframe thead th {\n",
       "        text-align: right;\n",
       "    }\n",
       "</style>\n",
       "<table border=\"1\" class=\"dataframe\">\n",
       "  <thead>\n",
       "    <tr style=\"text-align: right;\">\n",
       "      <th></th>\n",
       "      <th>age</th>\n",
       "      <th>sex</th>\n",
       "      <th>cp</th>\n",
       "      <th>trestbps</th>\n",
       "      <th>chol</th>\n",
       "      <th>fbs</th>\n",
       "      <th>restecg</th>\n",
       "      <th>thalac</th>\n",
       "      <th>exang</th>\n",
       "      <th>oldpeak</th>\n",
       "      <th>slope</th>\n",
       "      <th>ca</th>\n",
       "      <th>thal</th>\n",
       "      <th>num</th>\n",
       "    </tr>\n",
       "  </thead>\n",
       "  <tbody>\n",
       "    <tr>\n",
       "      <th>0</th>\n",
       "      <td>63.0</td>\n",
       "      <td>1.0</td>\n",
       "      <td>1.0</td>\n",
       "      <td>145.0</td>\n",
       "      <td>233.0</td>\n",
       "      <td>1.0</td>\n",
       "      <td>2.0</td>\n",
       "      <td>150.0</td>\n",
       "      <td>0.0</td>\n",
       "      <td>2.3</td>\n",
       "      <td>3.0</td>\n",
       "      <td>0.0</td>\n",
       "      <td>6.0</td>\n",
       "      <td>0</td>\n",
       "    </tr>\n",
       "    <tr>\n",
       "      <th>1</th>\n",
       "      <td>67.0</td>\n",
       "      <td>1.0</td>\n",
       "      <td>4.0</td>\n",
       "      <td>160.0</td>\n",
       "      <td>286.0</td>\n",
       "      <td>0.0</td>\n",
       "      <td>2.0</td>\n",
       "      <td>108.0</td>\n",
       "      <td>1.0</td>\n",
       "      <td>1.5</td>\n",
       "      <td>2.0</td>\n",
       "      <td>3.0</td>\n",
       "      <td>3.0</td>\n",
       "      <td>2</td>\n",
       "    </tr>\n",
       "    <tr>\n",
       "      <th>2</th>\n",
       "      <td>67.0</td>\n",
       "      <td>1.0</td>\n",
       "      <td>4.0</td>\n",
       "      <td>120.0</td>\n",
       "      <td>229.0</td>\n",
       "      <td>0.0</td>\n",
       "      <td>2.0</td>\n",
       "      <td>129.0</td>\n",
       "      <td>1.0</td>\n",
       "      <td>2.6</td>\n",
       "      <td>2.0</td>\n",
       "      <td>2.0</td>\n",
       "      <td>7.0</td>\n",
       "      <td>1</td>\n",
       "    </tr>\n",
       "    <tr>\n",
       "      <th>3</th>\n",
       "      <td>37.0</td>\n",
       "      <td>1.0</td>\n",
       "      <td>3.0</td>\n",
       "      <td>130.0</td>\n",
       "      <td>250.0</td>\n",
       "      <td>0.0</td>\n",
       "      <td>0.0</td>\n",
       "      <td>187.0</td>\n",
       "      <td>0.0</td>\n",
       "      <td>3.5</td>\n",
       "      <td>3.0</td>\n",
       "      <td>0.0</td>\n",
       "      <td>3.0</td>\n",
       "      <td>0</td>\n",
       "    </tr>\n",
       "    <tr>\n",
       "      <th>4</th>\n",
       "      <td>41.0</td>\n",
       "      <td>0.0</td>\n",
       "      <td>2.0</td>\n",
       "      <td>130.0</td>\n",
       "      <td>204.0</td>\n",
       "      <td>0.0</td>\n",
       "      <td>2.0</td>\n",
       "      <td>172.0</td>\n",
       "      <td>0.0</td>\n",
       "      <td>1.4</td>\n",
       "      <td>1.0</td>\n",
       "      <td>0.0</td>\n",
       "      <td>3.0</td>\n",
       "      <td>0</td>\n",
       "    </tr>\n",
       "  </tbody>\n",
       "</table>\n",
       "</div>"
      ],
      "text/plain": [
       "    age  sex   cp  trestbps   chol  fbs  restecg  thalac  exang  oldpeak  \\\n",
       "0  63.0  1.0  1.0     145.0  233.0  1.0      2.0   150.0    0.0      2.3   \n",
       "1  67.0  1.0  4.0     160.0  286.0  0.0      2.0   108.0    1.0      1.5   \n",
       "2  67.0  1.0  4.0     120.0  229.0  0.0      2.0   129.0    1.0      2.6   \n",
       "3  37.0  1.0  3.0     130.0  250.0  0.0      0.0   187.0    0.0      3.5   \n",
       "4  41.0  0.0  2.0     130.0  204.0  0.0      2.0   172.0    0.0      1.4   \n",
       "\n",
       "   slope   ca thal  num  \n",
       "0    3.0  0.0  6.0    0  \n",
       "1    2.0  3.0  3.0    2  \n",
       "2    2.0  2.0  7.0    1  \n",
       "3    3.0  0.0  3.0    0  \n",
       "4    1.0  0.0  3.0    0  "
      ]
     },
     "execution_count": 8,
     "metadata": {},
     "output_type": "execute_result"
    }
   ],
   "source": [
    "heart_data.head()"
   ]
  },
  {
   "cell_type": "markdown",
   "metadata": {},
   "source": [
    "**STEP 1:** Check if the dataset contains any missing values.\n",
    "- This can be checked via dataset description or by checking no. of `nan` or `np.null` in the dataframe. However, such a check can be performed only for numerical features.\n",
    "- For non-numerical features, we can list their unique valeues and check if there are values like `?`."
   ]
  },
  {
   "cell_type": "code",
   "execution_count": 9,
   "metadata": {},
   "outputs": [
    {
     "name": "stdout",
     "output_type": "stream",
     "text": [
      "<class 'pandas.core.frame.DataFrame'>\n",
      "RangeIndex: 303 entries, 0 to 302\n",
      "Data columns (total 14 columns):\n",
      " #   Column    Non-Null Count  Dtype  \n",
      "---  ------    --------------  -----  \n",
      " 0   age       303 non-null    float64\n",
      " 1   sex       303 non-null    float64\n",
      " 2   cp        303 non-null    float64\n",
      " 3   trestbps  303 non-null    float64\n",
      " 4   chol      303 non-null    float64\n",
      " 5   fbs       303 non-null    float64\n",
      " 6   restecg   303 non-null    float64\n",
      " 7   thalac    303 non-null    float64\n",
      " 8   exang     303 non-null    float64\n",
      " 9   oldpeak   303 non-null    float64\n",
      " 10  slope     303 non-null    float64\n",
      " 11  ca        303 non-null    object \n",
      " 12  thal      303 non-null    object \n",
      " 13  num       303 non-null    int64  \n",
      "dtypes: float64(11), int64(1), object(2)\n",
      "memory usage: 33.3+ KB\n"
     ]
    }
   ],
   "source": [
    "heart_data.info()"
   ]
  },
  {
   "cell_type": "markdown",
   "metadata": {},
   "source": [
    "Let's check if there are any missing values in numerical columns - here we have checked it for all columns in the dataframe."
   ]
  },
  {
   "cell_type": "code",
   "execution_count": 10,
   "metadata": {},
   "outputs": [
    {
     "data": {
      "text/plain": [
       "age         0\n",
       "sex         0\n",
       "cp          0\n",
       "trestbps    0\n",
       "chol        0\n",
       "fbs         0\n",
       "restecg     0\n",
       "thalac      0\n",
       "exang       0\n",
       "oldpeak     0\n",
       "slope       0\n",
       "ca          0\n",
       "thal        0\n",
       "num         0\n",
       "dtype: int64"
      ]
     },
     "execution_count": 10,
     "metadata": {},
     "output_type": "execute_result"
    }
   ],
   "source": [
    "(heart_data.isnull()).sum()"
   ]
  },
  {
   "cell_type": "markdown",
   "metadata": {},
   "source": [
    "There are two non-numerical features: `ca` and `thal`.\n",
    "- List their unique values."
   ]
  },
  {
   "cell_type": "code",
   "execution_count": 11,
   "metadata": {},
   "outputs": [
    {
     "name": "stdout",
     "output_type": "stream",
     "text": [
      "Unique values in the column ca: ['0.0' '3.0' '2.0' '1.0' '?']\n",
      "Unique values in the column thal: ['6.0' '3.0' '7.0' '?']\n"
     ]
    }
   ],
   "source": [
    "print(\"Unique values in the column ca:\", heart_data['ca'].unique())\n",
    "print(\"Unique values in the column thal:\", heart_data['thal'].unique())"
   ]
  },
  {
   "cell_type": "markdown",
   "metadata": {},
   "source": [
    "Both of them contain `?`, which are missing values. Let;s count the no. of missing values."
   ]
  },
  {
   "cell_type": "code",
   "execution_count": 12,
   "metadata": {},
   "outputs": [
    {
     "name": "stdout",
     "output_type": "stream",
     "text": [
      "# missing calues in ca: 4\n",
      "# missing calues in thal: 2\n"
     ]
    }
   ],
   "source": [
    "print(\"# missing calues in ca:\", heart_data.loc[heart_data['ca']=='?', 'ca'].count())\n",
    "print(\"# missing calues in thal:\", heart_data.loc[heart_data['thal']=='?', 'thal'].count())"
   ]
  },
  {
   "cell_type": "markdown",
   "metadata": {},
   "source": [
    "**STEP 2:** Replace `?` with `np.nan`."
   ]
  },
  {
   "cell_type": "code",
   "execution_count": 13,
   "metadata": {},
   "outputs": [],
   "source": [
    "heart_data.replace('?', np.nan, inplace=True)"
   ]
  },
  {
   "cell_type": "markdown",
   "metadata": {},
   "source": [
    "**STEP 3:** Fill the missing values with `sklearn` missing value imputation utilities.\n",
    "\n",
    "> Here we use `SimpleImputer` with `mean` strategy.\n",
    "\n",
    "We will try two variations-\n",
    "- `add_indicator = False`: Default choice that only imputes missing values."
   ]
  },
  {
   "cell_type": "code",
   "execution_count": 14,
   "metadata": {},
   "outputs": [
    {
     "name": "stdout",
     "output_type": "stream",
     "text": [
      "(303, 14)\n"
     ]
    }
   ],
   "source": [
    "imputer = SimpleImputer(missing_values= np.nan, strategy='mean')\n",
    "imputer = imputer.fit(heart_data)\n",
    "heart_data_imputed = imputer.transform(heart_data)\n",
    "print(heart_data_imputed.shape)"
   ]
  },
  {
   "cell_type": "markdown",
   "metadata": {},
   "source": [
    "- `add_indicator = True`: Adds additional column containing missing values. In our case, this adds $2$ boolean columns one for `ca` and other for `thal`. It indicates if the sample has a missing value."
   ]
  },
  {
   "cell_type": "code",
   "execution_count": 15,
   "metadata": {},
   "outputs": [
    {
     "name": "stdout",
     "output_type": "stream",
     "text": [
      "(303, 16)\n"
     ]
    }
   ],
   "source": [
    "imputer = SimpleImputer(missing_values= np.nan, strategy='mean', add_indicator=True)\n",
    "imputer.fit(heart_data)\n",
    "heart_data_imputed_with_indicator = imputer.transform(heart_data)\n",
    "print(heart_data_imputed_with_indicator.shape)"
   ]
  },
  {
   "cell_type": "markdown",
   "metadata": {},
   "source": [
    "## 3. Feature Scaling\n",
    "\n",
    "Feature scaling **transforms feature values** such that all the features are on the **same scale**.\n",
    "\n",
    "When we use feature matrix with all features on the same scale, it provides us certain advantages as listed below:\n",
    "- **Enables faster convergence** in iterative optimizationn algorithms like gradient descent and its variants.\n",
    "- The performance of ML algorithms such as SVM, K-NN and K-means etc. that compute euclidean distance amongst its input samples gets impacted if the features are not scaled.\n",
    "\n",
    "Tree based ML algorithms are not affected by feature-scaling. In other words, feature scaling is not required for tree based ML algorithms.\n",
    "\n",
    "Feature scaling can be performed with the following methods:\n",
    "- Standardization\n",
    "- Normalization\n",
    "- MaxAbsScaler"
   ]
  },
  {
   "cell_type": "markdown",
   "metadata": {},
   "source": [
    "Let's demonstate feature scaling on a real world dataset. For this purpose we will be using [ablone dataset](https://archive.ics.uci.edu/ml/machine-learning-databases/abalone/abalone.data). We will use different scaling utilities in `sklearn` library."
   ]
  },
  {
   "cell_type": "code",
   "execution_count": 16,
   "metadata": {},
   "outputs": [],
   "source": [
    "cols = ['Sex', 'Length', 'Diameter', 'Height', 'Whole weight', 'Shucked weight', 'Viscera weight', 'Shell weight', 'Rings']\n",
    "abalone_data = pd.read_csv('https://archive.ics.uci.edu/ml/machine-learning-databases/abalone/abalone.data', header=None, names=cols)"
   ]
  },
  {
   "cell_type": "code",
   "execution_count": 17,
   "metadata": {},
   "outputs": [
    {
     "data": {
      "text/html": [
       "<div>\n",
       "<style scoped>\n",
       "    .dataframe tbody tr th:only-of-type {\n",
       "        vertical-align: middle;\n",
       "    }\n",
       "\n",
       "    .dataframe tbody tr th {\n",
       "        vertical-align: top;\n",
       "    }\n",
       "\n",
       "    .dataframe thead th {\n",
       "        text-align: right;\n",
       "    }\n",
       "</style>\n",
       "<table border=\"1\" class=\"dataframe\">\n",
       "  <thead>\n",
       "    <tr style=\"text-align: right;\">\n",
       "      <th></th>\n",
       "      <th>Sex</th>\n",
       "      <th>Length</th>\n",
       "      <th>Diameter</th>\n",
       "      <th>Height</th>\n",
       "      <th>Whole weight</th>\n",
       "      <th>Shucked weight</th>\n",
       "      <th>Viscera weight</th>\n",
       "      <th>Shell weight</th>\n",
       "      <th>Rings</th>\n",
       "    </tr>\n",
       "  </thead>\n",
       "  <tbody>\n",
       "    <tr>\n",
       "      <th>0</th>\n",
       "      <td>M</td>\n",
       "      <td>0.455</td>\n",
       "      <td>0.365</td>\n",
       "      <td>0.095</td>\n",
       "      <td>0.5140</td>\n",
       "      <td>0.2245</td>\n",
       "      <td>0.1010</td>\n",
       "      <td>0.150</td>\n",
       "      <td>15</td>\n",
       "    </tr>\n",
       "    <tr>\n",
       "      <th>1</th>\n",
       "      <td>M</td>\n",
       "      <td>0.350</td>\n",
       "      <td>0.265</td>\n",
       "      <td>0.090</td>\n",
       "      <td>0.2255</td>\n",
       "      <td>0.0995</td>\n",
       "      <td>0.0485</td>\n",
       "      <td>0.070</td>\n",
       "      <td>7</td>\n",
       "    </tr>\n",
       "    <tr>\n",
       "      <th>2</th>\n",
       "      <td>F</td>\n",
       "      <td>0.530</td>\n",
       "      <td>0.420</td>\n",
       "      <td>0.135</td>\n",
       "      <td>0.6770</td>\n",
       "      <td>0.2565</td>\n",
       "      <td>0.1415</td>\n",
       "      <td>0.210</td>\n",
       "      <td>9</td>\n",
       "    </tr>\n",
       "    <tr>\n",
       "      <th>3</th>\n",
       "      <td>M</td>\n",
       "      <td>0.440</td>\n",
       "      <td>0.365</td>\n",
       "      <td>0.125</td>\n",
       "      <td>0.5160</td>\n",
       "      <td>0.2155</td>\n",
       "      <td>0.1140</td>\n",
       "      <td>0.155</td>\n",
       "      <td>10</td>\n",
       "    </tr>\n",
       "    <tr>\n",
       "      <th>4</th>\n",
       "      <td>I</td>\n",
       "      <td>0.330</td>\n",
       "      <td>0.255</td>\n",
       "      <td>0.080</td>\n",
       "      <td>0.2050</td>\n",
       "      <td>0.0895</td>\n",
       "      <td>0.0395</td>\n",
       "      <td>0.055</td>\n",
       "      <td>7</td>\n",
       "    </tr>\n",
       "  </tbody>\n",
       "</table>\n",
       "</div>"
      ],
      "text/plain": [
       "  Sex  Length  Diameter  Height  Whole weight  Shucked weight  Viscera weight  \\\n",
       "0   M   0.455     0.365   0.095        0.5140          0.2245          0.1010   \n",
       "1   M   0.350     0.265   0.090        0.2255          0.0995          0.0485   \n",
       "2   F   0.530     0.420   0.135        0.6770          0.2565          0.1415   \n",
       "3   M   0.440     0.365   0.125        0.5160          0.2155          0.1140   \n",
       "4   I   0.330     0.255   0.080        0.2050          0.0895          0.0395   \n",
       "\n",
       "   Shell weight  Rings  \n",
       "0         0.150     15  \n",
       "1         0.070      7  \n",
       "2         0.210      9  \n",
       "3         0.155     10  \n",
       "4         0.055      7  "
      ]
     },
     "execution_count": 17,
     "metadata": {},
     "output_type": "execute_result"
    }
   ],
   "source": [
    "abalone_data.head()"
   ]
  },
  {
   "cell_type": "markdown",
   "metadata": {},
   "source": [
    "**STEP 1:** Examine the dataset\n",
    "\n",
    "Feature scaling is performed only on numerical attributes. Let's check which are numerical attributes in this dataset. We cna get that via `info()` method."
   ]
  },
  {
   "cell_type": "code",
   "execution_count": 18,
   "metadata": {},
   "outputs": [
    {
     "name": "stdout",
     "output_type": "stream",
     "text": [
      "<class 'pandas.core.frame.DataFrame'>\n",
      "RangeIndex: 4177 entries, 0 to 4176\n",
      "Data columns (total 9 columns):\n",
      " #   Column          Non-Null Count  Dtype  \n",
      "---  ------          --------------  -----  \n",
      " 0   Sex             4177 non-null   object \n",
      " 1   Length          4177 non-null   float64\n",
      " 2   Diameter        4177 non-null   float64\n",
      " 3   Height          4177 non-null   float64\n",
      " 4   Whole weight    4177 non-null   float64\n",
      " 5   Shucked weight  4177 non-null   float64\n",
      " 6   Viscera weight  4177 non-null   float64\n",
      " 7   Shell weight    4177 non-null   float64\n",
      " 8   Rings           4177 non-null   int64  \n",
      "dtypes: float64(7), int64(1), object(1)\n",
      "memory usage: 293.8+ KB\n"
     ]
    }
   ],
   "source": [
    "abalone_data.info()"
   ]
  },
  {
   "cell_type": "markdown",
   "metadata": {},
   "source": [
    "**STEP 1a**[OPTIONAL]: Convert non-numerical attributes to numerical ones.\n",
    "\n",
    "> In this dataset, `Sex` is a non-numeric column in this dataset. Let's examine it and see if we can convert it to numeric representation."
   ]
  },
  {
   "cell_type": "code",
   "execution_count": 19,
   "metadata": {},
   "outputs": [
    {
     "data": {
      "text/plain": [
       "array(['M', 'F', 'I'], dtype=object)"
      ]
     },
     "execution_count": 19,
     "metadata": {},
     "output_type": "execute_result"
    }
   ],
   "source": [
    "abalone_data['Sex'].unique()"
   ]
  },
  {
   "cell_type": "code",
   "execution_count": 20,
   "metadata": {},
   "outputs": [
    {
     "name": "stdout",
     "output_type": "stream",
     "text": [
      "<class 'pandas.core.frame.DataFrame'>\n",
      "RangeIndex: 4177 entries, 0 to 4176\n",
      "Data columns (total 9 columns):\n",
      " #   Column          Non-Null Count  Dtype  \n",
      "---  ------          --------------  -----  \n",
      " 0   Sex             4177 non-null   int64  \n",
      " 1   Length          4177 non-null   float64\n",
      " 2   Diameter        4177 non-null   float64\n",
      " 3   Height          4177 non-null   float64\n",
      " 4   Whole weight    4177 non-null   float64\n",
      " 5   Shucked weight  4177 non-null   float64\n",
      " 6   Viscera weight  4177 non-null   float64\n",
      " 7   Shell weight    4177 non-null   float64\n",
      " 8   Rings           4177 non-null   int64  \n",
      "dtypes: float64(7), int64(2)\n",
      "memory usage: 293.8 KB\n"
     ]
    }
   ],
   "source": [
    "# Assign numericla values to sex.\n",
    "abalone_data = abalone_data.replace({\"Sex\": {'M':1, 'F':2, 'I':3}})\n",
    "abalone_data.info()"
   ]
  },
  {
   "cell_type": "markdown",
   "metadata": {},
   "source": [
    "**STEP 2:** Separate labels from features."
   ]
  },
  {
   "cell_type": "code",
   "execution_count": 21,
   "metadata": {},
   "outputs": [
    {
     "name": "stdout",
     "output_type": "stream",
     "text": [
      "<class 'pandas.core.frame.DataFrame'>\n",
      "RangeIndex: 4177 entries, 0 to 4176\n",
      "Data columns (total 8 columns):\n",
      " #   Column          Non-Null Count  Dtype  \n",
      "---  ------          --------------  -----  \n",
      " 0   Sex             4177 non-null   int64  \n",
      " 1   Length          4177 non-null   float64\n",
      " 2   Diameter        4177 non-null   float64\n",
      " 3   Height          4177 non-null   float64\n",
      " 4   Whole weight    4177 non-null   float64\n",
      " 5   Shucked weight  4177 non-null   float64\n",
      " 6   Viscera weight  4177 non-null   float64\n",
      " 7   Shell weight    4177 non-null   float64\n",
      "dtypes: float64(7), int64(1)\n",
      "memory usage: 261.2 KB\n"
     ]
    }
   ],
   "source": [
    "y = abalone_data.pop('Rings')\n",
    "abalone_data.info()"
   ]
  },
  {
   "cell_type": "markdown",
   "metadata": {},
   "source": [
    "**STEP 3:** Examine feature scales"
   ]
  },
  {
   "cell_type": "markdown",
   "metadata": {},
   "source": [
    "**Statistical method**\n",
    "\n",
    "Check the scales of different features with `describe()` method of DataFrame."
   ]
  },
  {
   "cell_type": "code",
   "execution_count": 22,
   "metadata": {},
   "outputs": [
    {
     "data": {
      "text/html": [
       "<div>\n",
       "<style scoped>\n",
       "    .dataframe tbody tr th:only-of-type {\n",
       "        vertical-align: middle;\n",
       "    }\n",
       "\n",
       "    .dataframe tbody tr th {\n",
       "        vertical-align: top;\n",
       "    }\n",
       "\n",
       "    .dataframe thead th {\n",
       "        text-align: right;\n",
       "    }\n",
       "</style>\n",
       "<table border=\"1\" class=\"dataframe\">\n",
       "  <thead>\n",
       "    <tr style=\"text-align: right;\">\n",
       "      <th></th>\n",
       "      <th>Sex</th>\n",
       "      <th>Length</th>\n",
       "      <th>Diameter</th>\n",
       "      <th>Height</th>\n",
       "      <th>Whole weight</th>\n",
       "      <th>Shucked weight</th>\n",
       "      <th>Viscera weight</th>\n",
       "      <th>Shell weight</th>\n",
       "    </tr>\n",
       "  </thead>\n",
       "  <tbody>\n",
       "    <tr>\n",
       "      <th>count</th>\n",
       "      <td>4177.000000</td>\n",
       "      <td>4177.000000</td>\n",
       "      <td>4177.000000</td>\n",
       "      <td>4177.000000</td>\n",
       "      <td>4177.000000</td>\n",
       "      <td>4177.000000</td>\n",
       "      <td>4177.000000</td>\n",
       "      <td>4177.000000</td>\n",
       "    </tr>\n",
       "    <tr>\n",
       "      <th>mean</th>\n",
       "      <td>1.955470</td>\n",
       "      <td>0.523992</td>\n",
       "      <td>0.407881</td>\n",
       "      <td>0.139516</td>\n",
       "      <td>0.828742</td>\n",
       "      <td>0.359367</td>\n",
       "      <td>0.180594</td>\n",
       "      <td>0.238831</td>\n",
       "    </tr>\n",
       "    <tr>\n",
       "      <th>std</th>\n",
       "      <td>0.827815</td>\n",
       "      <td>0.120093</td>\n",
       "      <td>0.099240</td>\n",
       "      <td>0.041827</td>\n",
       "      <td>0.490389</td>\n",
       "      <td>0.221963</td>\n",
       "      <td>0.109614</td>\n",
       "      <td>0.139203</td>\n",
       "    </tr>\n",
       "    <tr>\n",
       "      <th>min</th>\n",
       "      <td>1.000000</td>\n",
       "      <td>0.075000</td>\n",
       "      <td>0.055000</td>\n",
       "      <td>0.000000</td>\n",
       "      <td>0.002000</td>\n",
       "      <td>0.001000</td>\n",
       "      <td>0.000500</td>\n",
       "      <td>0.001500</td>\n",
       "    </tr>\n",
       "    <tr>\n",
       "      <th>25%</th>\n",
       "      <td>1.000000</td>\n",
       "      <td>0.450000</td>\n",
       "      <td>0.350000</td>\n",
       "      <td>0.115000</td>\n",
       "      <td>0.441500</td>\n",
       "      <td>0.186000</td>\n",
       "      <td>0.093500</td>\n",
       "      <td>0.130000</td>\n",
       "    </tr>\n",
       "    <tr>\n",
       "      <th>50%</th>\n",
       "      <td>2.000000</td>\n",
       "      <td>0.545000</td>\n",
       "      <td>0.425000</td>\n",
       "      <td>0.140000</td>\n",
       "      <td>0.799500</td>\n",
       "      <td>0.336000</td>\n",
       "      <td>0.171000</td>\n",
       "      <td>0.234000</td>\n",
       "    </tr>\n",
       "    <tr>\n",
       "      <th>75%</th>\n",
       "      <td>3.000000</td>\n",
       "      <td>0.615000</td>\n",
       "      <td>0.480000</td>\n",
       "      <td>0.165000</td>\n",
       "      <td>1.153000</td>\n",
       "      <td>0.502000</td>\n",
       "      <td>0.253000</td>\n",
       "      <td>0.329000</td>\n",
       "    </tr>\n",
       "    <tr>\n",
       "      <th>max</th>\n",
       "      <td>3.000000</td>\n",
       "      <td>0.815000</td>\n",
       "      <td>0.650000</td>\n",
       "      <td>1.130000</td>\n",
       "      <td>2.825500</td>\n",
       "      <td>1.488000</td>\n",
       "      <td>0.760000</td>\n",
       "      <td>1.005000</td>\n",
       "    </tr>\n",
       "  </tbody>\n",
       "</table>\n",
       "</div>"
      ],
      "text/plain": [
       "               Sex       Length     Diameter       Height  Whole weight  \\\n",
       "count  4177.000000  4177.000000  4177.000000  4177.000000   4177.000000   \n",
       "mean      1.955470     0.523992     0.407881     0.139516      0.828742   \n",
       "std       0.827815     0.120093     0.099240     0.041827      0.490389   \n",
       "min       1.000000     0.075000     0.055000     0.000000      0.002000   \n",
       "25%       1.000000     0.450000     0.350000     0.115000      0.441500   \n",
       "50%       2.000000     0.545000     0.425000     0.140000      0.799500   \n",
       "75%       3.000000     0.615000     0.480000     0.165000      1.153000   \n",
       "max       3.000000     0.815000     0.650000     1.130000      2.825500   \n",
       "\n",
       "       Shucked weight  Viscera weight  Shell weight  \n",
       "count     4177.000000     4177.000000   4177.000000  \n",
       "mean         0.359367        0.180594      0.238831  \n",
       "std          0.221963        0.109614      0.139203  \n",
       "min          0.001000        0.000500      0.001500  \n",
       "25%          0.186000        0.093500      0.130000  \n",
       "50%          0.336000        0.171000      0.234000  \n",
       "75%          0.502000        0.253000      0.329000  \n",
       "max          1.488000        0.760000      1.005000  "
      ]
     },
     "execution_count": 22,
     "metadata": {},
     "output_type": "execute_result"
    }
   ],
   "source": [
    "abalone_data.describe()"
   ]
  },
  {
   "cell_type": "markdown",
   "metadata": {},
   "source": [
    "**Visualization of feature distribution**\n",
    "\n",
    "Visualize feature distributions.\n",
    "- Histogram\n",
    "- Kernel density estimation (KDE) plot\n",
    "- Box plot\n",
    "- Violin"
   ]
  },
  {
   "cell_type": "markdown",
   "metadata": {},
   "source": [
    "1. Histogram"
   ]
  },
  {
   "cell_type": "code",
   "execution_count": 23,
   "metadata": {},
   "outputs": [
    {
     "data": {
      "image/png": "[encoded data removed]",
      "text/plain": [
       "<Figure size 1152x432 with 1 Axes>"
      ]
     },
     "metadata": {
      "needs_background": "light"
     },
     "output_type": "display_data"
    }
   ],
   "source": [
    "fig = plt.figure(figsize=(16,6))\n",
    "plt.hist(abalone_data, label=abalone_data.columns)\n",
    "plt.legend()\n",
    "plt.show()"
   ]
  },
  {
   "cell_type": "markdown",
   "metadata": {},
   "source": [
    "2. KDE"
   ]
  },
  {
   "cell_type": "code",
   "execution_count": 24,
   "metadata": {},
   "outputs": [
    {
     "data": {
      "image/png": "[encoded data removed]",
      "text/plain": [
       "<Figure size 432x288 with 1 Axes>"
      ]
     },
     "metadata": {
      "needs_background": "light"
     },
     "output_type": "display_data"
    }
   ],
   "source": [
    "ax = abalone_data.plot.kde()"
   ]
  },
  {
   "cell_type": "markdown",
   "metadata": {},
   "source": [
    "3. Boxplots"
   ]
  },
  {
   "cell_type": "code",
   "execution_count": 25,
   "metadata": {},
   "outputs": [
    {
     "data": {
      "image/png": "[encoded data removed]",
      "text/plain": [
       "<Figure size 1152x432 with 1 Axes>"
      ]
     },
     "metadata": {
      "needs_background": "light"
     },
     "output_type": "display_data"
    }
   ],
   "source": [
    "fig = plt.figure(figsize=(16,6))\n",
    "plt.boxplot(abalone_data, labels=abalone_data.columns)\n",
    "plt.show()"
   ]
  },
  {
   "cell_type": "markdown",
   "metadata": {},
   "source": [
    "4. Violinplots"
   ]
  },
  {
   "cell_type": "code",
   "execution_count": 26,
   "metadata": {},
   "outputs": [
    {
     "data": {
      "image/png": "[encoded data removed]",
      "text/plain": [
       "<Figure size 1152x432 with 1 Axes>"
      ]
     },
     "metadata": {
      "needs_background": "light"
     },
     "output_type": "display_data"
    }
   ],
   "source": [
    "fig = plt.figure(figsize=(16,6))\n",
    "plt.violinplot(abalone_data)\n",
    "plt.show()"
   ]
  },
  {
   "cell_type": "markdown",
   "metadata": {},
   "source": [
    "We can conclude after after looking at these plots are that the features are indeed of different scales."
   ]
  },
  {
   "cell_type": "markdown",
   "metadata": {},
   "source": [
    "**STEP 4:** Scaling"
   ]
  },
  {
   "cell_type": "markdown",
   "metadata": {},
   "source": [
    "### 1. Normalization\n",
    "\n",
    "The features are normalized such that their range lies between $[0,1]$ or $[-1,-1]$. There are $2$ ways to achieve this.\n",
    "- `MaxAbsoluteScaler` transforms features in range $[-1,1]$\n",
    "- `MinMaxScaler` transforms features in range $[0,1]$"
   ]
  },
  {
   "cell_type": "markdown",
   "metadata": {},
   "source": [
    "`MaxAbsoluteScaler`\n",
    "\n",
    "It transforms the original feature vector $x$ into new feature vector $x'$ so that all values fall within the range $[-1,1]$ ---\n",
    "$$x' = \\frac{x}{\\text{MaxAbsoluteValue}}$$\n",
    "\n",
    "where $\\text{MaxAbsoluteValue} = max(x.max, |x.min|)$"
   ]
  },
  {
   "cell_type": "code",
   "execution_count": 27,
   "metadata": {},
   "outputs": [
    {
     "name": "stdout",
     "output_type": "stream",
     "text": [
      "[[  4]\n",
      " [  2]\n",
      " [  5]\n",
      " [ -2]\n",
      " [100]]\n"
     ]
    }
   ],
   "source": [
    "x = np.array([4,2,5,-2,100]).reshape(-1,1)\n",
    "print(x)"
   ]
  },
  {
   "cell_type": "code",
   "execution_count": 28,
   "metadata": {},
   "outputs": [
    {
     "name": "stdout",
     "output_type": "stream",
     "text": [
      "[[ 0.04]\n",
      " [ 0.02]\n",
      " [ 0.05]\n",
      " [-0.02]\n",
      " [ 1.  ]]\n"
     ]
    }
   ],
   "source": [
    "from sklearn.preprocessing import MaxAbsScaler\n",
    "mas = MaxAbsScaler()\n",
    "x_new = mas.fit_transform(x)\n",
    "print(x_new)"
   ]
  },
  {
   "cell_type": "markdown",
   "metadata": {},
   "source": [
    "`MinMaxScaler`\n",
    "\n",
    "It transforms the original feature vector $x$ into new feature vector $x'$ so that all values fall within the range $[0,1]$ ---\n",
    "$$x' = \\frac{x - x.min}{x.max - x.min}$$"
   ]
  },
  {
   "cell_type": "code",
   "execution_count": 29,
   "metadata": {},
   "outputs": [
    {
     "data": {
      "text/plain": [
       "array([[0.        , 0.51351351, 0.5210084 , 0.0840708 , 0.18133522,\n",
       "        0.15030262, 0.1323239 , 0.14798206],\n",
       "       [0.        , 0.37162162, 0.35294118, 0.07964602, 0.07915707,\n",
       "        0.06624075, 0.06319947, 0.06826109],\n",
       "       [0.5       , 0.61486486, 0.61344538, 0.11946903, 0.23906499,\n",
       "        0.17182246, 0.18564845, 0.2077728 ],\n",
       "       [0.        , 0.49324324, 0.5210084 , 0.11061947, 0.18204356,\n",
       "        0.14425017, 0.14944042, 0.15296462],\n",
       "       [1.        , 0.34459459, 0.33613445, 0.07079646, 0.07189658,\n",
       "        0.0595158 , 0.05134957, 0.0533134 ]])"
      ]
     },
     "execution_count": 29,
     "metadata": {},
     "output_type": "execute_result"
    }
   ],
   "source": [
    "from sklearn.preprocessing import MinMaxScaler\n",
    "X = abalone_data\n",
    "mms = MinMaxScaler()\n",
    "X_normalized = mms.fit_transform(X)\n",
    "X_normalized[:5]"
   ]
  },
  {
   "cell_type": "markdown",
   "metadata": {},
   "source": [
    "The means and SDs of different features are now comparable. We can confirm this again using **Statistics** and **Visualization** methods."
   ]
  },
  {
   "cell_type": "code",
   "execution_count": 30,
   "metadata": {},
   "outputs": [
    {
     "name": "stdout",
     "output_type": "stream",
     "text": [
      "[0.47773522 0.60674608 0.59307774 0.12346584 0.29280756 0.24100033\n",
      " 0.23712127 0.2365031 ]\n",
      "[0.4138578  0.16226829 0.16676972 0.03701066 0.17366046 0.14925109\n",
      " 0.14430695 0.13870055]\n"
     ]
    }
   ],
   "source": [
    "print(X_normalized.mean(axis=0))\n",
    "print(X_normalized.std(axis=0))"
   ]
  },
  {
   "cell_type": "code",
   "execution_count": 31,
   "metadata": {},
   "outputs": [
    {
     "data": {
      "image/png": "[encoded data removed]",
      "text/plain": [
       "<Figure size 1152x432 with 1 Axes>"
      ]
     },
     "metadata": {
      "needs_background": "light"
     },
     "output_type": "display_data"
    }
   ],
   "source": [
    "fig = plt.figure(figsize=(16,6))\n",
    "plt.hist(X_normalized, label=abalone_data.columns)\n",
    "plt.legend()\n",
    "plt.show()"
   ]
  },
  {
   "cell_type": "code",
   "execution_count": 32,
   "metadata": {},
   "outputs": [
    {
     "data": {
      "image/png": "[encoded data removed]",
      "text/plain": [
       "<Figure size 1152x432 with 1 Axes>"
      ]
     },
     "metadata": {
      "needs_background": "light"
     },
     "output_type": "display_data"
    }
   ],
   "source": [
    "fig = plt.figure(figsize=(16,6))\n",
    "plt.boxplot(X_normalized, labels=abalone_data.columns)\n",
    "plt.show()"
   ]
  },
  {
   "cell_type": "markdown",
   "metadata": {},
   "source": [
    "### 2. Standardization\n",
    "\n",
    "Standardization is another feature scaling technique that results into (close to) zero mean and unit standard deviation of a feature's values.\n",
    "\n",
    "Formula for standardization:\n",
    "$$x' = \\frac{x - \\mu}{\\sigma}$$\n",
    "\n",
    "Here, $\\mu$ and $\\sigma$ respectively are the mean and standard deviation of the feature values."
   ]
  },
  {
   "cell_type": "markdown",
   "metadata": {},
   "source": [
    "Standardization can be achieved by the `StandardScaler` from `sklearn` library."
   ]
  },
  {
   "cell_type": "code",
   "execution_count": 33,
   "metadata": {},
   "outputs": [
    {
     "data": {
      "text/plain": [
       "array([[-1.15434629, -0.57455813, -0.43214879, -1.06442415, -0.64189823,\n",
       "        -0.60768536, -0.72621157, -0.63821689],\n",
       "       [-1.15434629, -1.44898585, -1.439929  , -1.18397831, -1.23027711,\n",
       "        -1.17090984, -1.20522124, -1.21298732],\n",
       "       [ 0.05379815,  0.05003309,  0.12213032, -0.10799087, -0.30946926,\n",
       "        -0.4634999 , -0.35668983, -0.20713907],\n",
       "       [-1.15434629, -0.69947638, -0.43214879, -0.34709919, -0.63781934,\n",
       "        -0.64823753, -0.60759966, -0.60229374],\n",
       "       [ 1.26194258, -1.61554351, -1.54070702, -1.42308663, -1.27208566,\n",
       "        -1.2159678 , -1.28733718, -1.32075677]])"
      ]
     },
     "execution_count": 33,
     "metadata": {},
     "output_type": "execute_result"
    }
   ],
   "source": [
    "from sklearn.preprocessing import StandardScaler\n",
    "ss = StandardScaler()\n",
    "X_standardized = ss.fit_transform(X)\n",
    "X_standardized[:5]"
   ]
  },
  {
   "cell_type": "code",
   "execution_count": 34,
   "metadata": {},
   "outputs": [
    {
     "name": "stdout",
     "output_type": "stream",
     "text": [
      "[-1.19075871e-17 -5.83471770e-16 -3.02792930e-16  3.91249292e-16\n",
      "  9.18585294e-17 -1.02065033e-17  2.70472337e-16  2.97689679e-16]\n",
      "[1. 1. 1. 1. 1. 1. 1. 1.]\n"
     ]
    }
   ],
   "source": [
    "print(X_standardized.mean(axis=0))\n",
    "print(X_standardized.std(axis=0))"
   ]
  },
  {
   "cell_type": "code",
   "execution_count": 35,
   "metadata": {},
   "outputs": [
    {
     "data": {
      "image/png": "[encoded data removed]",
      "text/plain": [
       "<Figure size 1152x432 with 1 Axes>"
      ]
     },
     "metadata": {
      "needs_background": "light"
     },
     "output_type": "display_data"
    }
   ],
   "source": [
    "fig = plt.figure(figsize=(16,6))\n",
    "plt.hist(X_standardized, label=abalone_data.columns)\n",
    "plt.legend()\n",
    "plt.show()"
   ]
  },
  {
   "cell_type": "code",
   "execution_count": 36,
   "metadata": {},
   "outputs": [
    {
     "data": {
      "image/png": "[encoded data removed]",
      "text/plain": [
       "<Figure size 1152x432 with 1 Axes>"
      ]
     },
     "metadata": {
      "needs_background": "light"
     },
     "output_type": "display_data"
    }
   ],
   "source": [
    "fig = plt.figure(figsize=(16,6))\n",
    "plt.boxplot(X_standardized, labels=abalone_data.columns)\n",
    "plt.show()"
   ]
  },
  {
   "cell_type": "markdown",
   "metadata": {},
   "source": [
    "## 4. Adding Dummy Features\n",
    "\n",
    "Augments datasets with a column vector, each value in the column vector is 1. This is useful for adding a parameter for the bias term in the model."
   ]
  },
  {
   "cell_type": "code",
   "execution_count": 38,
   "metadata": {},
   "outputs": [
    {
     "name": "stdout",
     "output_type": "stream",
     "text": [
      "[[1. 7. 1.]\n",
      " [1. 1. 8.]\n",
      " [1. 2. 0.]\n",
      " [1. 9. 6.]]\n"
     ]
    }
   ],
   "source": [
    "x = np.array(\n",
    "    [[7,1],\n",
    "     [1,8],\n",
    "     [2,0],\n",
    "     [9,6]]\n",
    ")\n",
    "\n",
    "from sklearn.preprocessing import add_dummy_feature\n",
    "x_new = add_dummy_feature(x)\n",
    "print(x_new)"
   ]
  },
  {
   "cell_type": "markdown",
   "metadata": {},
   "source": [
    "## 5. Custom Transformers\n",
    "\n",
    "This enables conversion of an existing Python function into a transformer to assist in data cleaning or processing.\n",
    "\n",
    "This is useful when:\n",
    "1. The dataset consists of *heterogenous data types* (e.g. raster images and text captions).\n",
    "2. The dataset is stored in a `pandas.DataFrame` and different columns requires *different processing pipelines*.\n",
    "3. We need stateless transformations such as taking the log of frequencies, custom scaling, etc."
   ]
  },
  {
   "cell_type": "code",
   "execution_count": 39,
   "metadata": {},
   "outputs": [],
   "source": [
    "from sklearn.preprocessing import FunctionTransformer"
   ]
  },
  {
   "cell_type": "markdown",
   "metadata": {},
   "source": [
    "You can implement a transformer from an arbitrary function with `FunctionTransformer`.\n",
    "- For example, let's build a transformer that applies a log transformation to features:\n",
    "\n",
    "For this demonstration, we will be using a [wine quality dataset](https://archive.ics.uci.edu/ml/machine-learning-databases/wine-quality/winequality-red.csv) from UCI machine learning repository."
   ]
  },
  {
   "cell_type": "code",
   "execution_count": 40,
   "metadata": {},
   "outputs": [],
   "source": [
    "wine_data = pd.read_csv('https://archive.ics.uci.edu/ml/machine-learning-databases/wine-quality/winequality-red.csv', sep=\";\")"
   ]
  },
  {
   "cell_type": "code",
   "execution_count": 41,
   "metadata": {},
   "outputs": [
    {
     "data": {
      "text/html": [
       "<div>\n",
       "<style scoped>\n",
       "    .dataframe tbody tr th:only-of-type {\n",
       "        vertical-align: middle;\n",
       "    }\n",
       "\n",
       "    .dataframe tbody tr th {\n",
       "        vertical-align: top;\n",
       "    }\n",
       "\n",
       "    .dataframe thead th {\n",
       "        text-align: right;\n",
       "    }\n",
       "</style>\n",
       "<table border=\"1\" class=\"dataframe\">\n",
       "  <thead>\n",
       "    <tr style=\"text-align: right;\">\n",
       "      <th></th>\n",
       "      <th>fixed acidity</th>\n",
       "      <th>volatile acidity</th>\n",
       "      <th>citric acid</th>\n",
       "      <th>residual sugar</th>\n",
       "      <th>chlorides</th>\n",
       "      <th>free sulfur dioxide</th>\n",
       "      <th>total sulfur dioxide</th>\n",
       "      <th>density</th>\n",
       "      <th>pH</th>\n",
       "      <th>sulphates</th>\n",
       "      <th>alcohol</th>\n",
       "      <th>quality</th>\n",
       "    </tr>\n",
       "  </thead>\n",
       "  <tbody>\n",
       "    <tr>\n",
       "      <th>0</th>\n",
       "      <td>7.4</td>\n",
       "      <td>0.70</td>\n",
       "      <td>0.00</td>\n",
       "      <td>1.9</td>\n",
       "      <td>0.076</td>\n",
       "      <td>11.0</td>\n",
       "      <td>34.0</td>\n",
       "      <td>0.9978</td>\n",
       "      <td>3.51</td>\n",
       "      <td>0.56</td>\n",
       "      <td>9.4</td>\n",
       "      <td>5</td>\n",
       "    </tr>\n",
       "    <tr>\n",
       "      <th>1</th>\n",
       "      <td>7.8</td>\n",
       "      <td>0.88</td>\n",
       "      <td>0.00</td>\n",
       "      <td>2.6</td>\n",
       "      <td>0.098</td>\n",
       "      <td>25.0</td>\n",
       "      <td>67.0</td>\n",
       "      <td>0.9968</td>\n",
       "      <td>3.20</td>\n",
       "      <td>0.68</td>\n",
       "      <td>9.8</td>\n",
       "      <td>5</td>\n",
       "    </tr>\n",
       "    <tr>\n",
       "      <th>2</th>\n",
       "      <td>7.8</td>\n",
       "      <td>0.76</td>\n",
       "      <td>0.04</td>\n",
       "      <td>2.3</td>\n",
       "      <td>0.092</td>\n",
       "      <td>15.0</td>\n",
       "      <td>54.0</td>\n",
       "      <td>0.9970</td>\n",
       "      <td>3.26</td>\n",
       "      <td>0.65</td>\n",
       "      <td>9.8</td>\n",
       "      <td>5</td>\n",
       "    </tr>\n",
       "    <tr>\n",
       "      <th>3</th>\n",
       "      <td>11.2</td>\n",
       "      <td>0.28</td>\n",
       "      <td>0.56</td>\n",
       "      <td>1.9</td>\n",
       "      <td>0.075</td>\n",
       "      <td>17.0</td>\n",
       "      <td>60.0</td>\n",
       "      <td>0.9980</td>\n",
       "      <td>3.16</td>\n",
       "      <td>0.58</td>\n",
       "      <td>9.8</td>\n",
       "      <td>6</td>\n",
       "    </tr>\n",
       "    <tr>\n",
       "      <th>4</th>\n",
       "      <td>7.4</td>\n",
       "      <td>0.70</td>\n",
       "      <td>0.00</td>\n",
       "      <td>1.9</td>\n",
       "      <td>0.076</td>\n",
       "      <td>11.0</td>\n",
       "      <td>34.0</td>\n",
       "      <td>0.9978</td>\n",
       "      <td>3.51</td>\n",
       "      <td>0.56</td>\n",
       "      <td>9.4</td>\n",
       "      <td>5</td>\n",
       "    </tr>\n",
       "  </tbody>\n",
       "</table>\n",
       "</div>"
      ],
      "text/plain": [
       "   fixed acidity  volatile acidity  citric acid  residual sugar  chlorides  \\\n",
       "0            7.4              0.70         0.00             1.9      0.076   \n",
       "1            7.8              0.88         0.00             2.6      0.098   \n",
       "2            7.8              0.76         0.04             2.3      0.092   \n",
       "3           11.2              0.28         0.56             1.9      0.075   \n",
       "4            7.4              0.70         0.00             1.9      0.076   \n",
       "\n",
       "   free sulfur dioxide  total sulfur dioxide  density    pH  sulphates  \\\n",
       "0                 11.0                  34.0   0.9978  3.51       0.56   \n",
       "1                 25.0                  67.0   0.9968  3.20       0.68   \n",
       "2                 15.0                  54.0   0.9970  3.26       0.65   \n",
       "3                 17.0                  60.0   0.9980  3.16       0.58   \n",
       "4                 11.0                  34.0   0.9978  3.51       0.56   \n",
       "\n",
       "   alcohol  quality  \n",
       "0      9.4        5  \n",
       "1      9.8        5  \n",
       "2      9.8        5  \n",
       "3      9.8        6  \n",
       "4      9.4        5  "
      ]
     },
     "execution_count": 41,
     "metadata": {},
     "output_type": "execute_result"
    }
   ],
   "source": [
    "wine_data.head()"
   ]
  },
  {
   "cell_type": "code",
   "execution_count": 42,
   "metadata": {},
   "outputs": [
    {
     "name": "stdout",
     "output_type": "stream",
     "text": [
      "<class 'pandas.core.frame.DataFrame'>\n",
      "RangeIndex: 1599 entries, 0 to 1598\n",
      "Data columns (total 12 columns):\n",
      " #   Column                Non-Null Count  Dtype  \n",
      "---  ------                --------------  -----  \n",
      " 0   fixed acidity         1599 non-null   float64\n",
      " 1   volatile acidity      1599 non-null   float64\n",
      " 2   citric acid           1599 non-null   float64\n",
      " 3   residual sugar        1599 non-null   float64\n",
      " 4   chlorides             1599 non-null   float64\n",
      " 5   free sulfur dioxide   1599 non-null   float64\n",
      " 6   total sulfur dioxide  1599 non-null   float64\n",
      " 7   density               1599 non-null   float64\n",
      " 8   pH                    1599 non-null   float64\n",
      " 9   sulphates             1599 non-null   float64\n",
      " 10  alcohol               1599 non-null   float64\n",
      " 11  quality               1599 non-null   int64  \n",
      "dtypes: float64(11), int64(1)\n",
      "memory usage: 150.0 KB\n"
     ]
    }
   ],
   "source": [
    "wine_data.info()"
   ]
  },
  {
   "cell_type": "code",
   "execution_count": 43,
   "metadata": {},
   "outputs": [
    {
     "data": {
      "text/html": [
       "<div>\n",
       "<style scoped>\n",
       "    .dataframe tbody tr th:only-of-type {\n",
       "        vertical-align: middle;\n",
       "    }\n",
       "\n",
       "    .dataframe tbody tr th {\n",
       "        vertical-align: top;\n",
       "    }\n",
       "\n",
       "    .dataframe thead th {\n",
       "        text-align: right;\n",
       "    }\n",
       "</style>\n",
       "<table border=\"1\" class=\"dataframe\">\n",
       "  <thead>\n",
       "    <tr style=\"text-align: right;\">\n",
       "      <th></th>\n",
       "      <th>fixed acidity</th>\n",
       "      <th>volatile acidity</th>\n",
       "      <th>citric acid</th>\n",
       "      <th>residual sugar</th>\n",
       "      <th>chlorides</th>\n",
       "      <th>free sulfur dioxide</th>\n",
       "      <th>total sulfur dioxide</th>\n",
       "      <th>density</th>\n",
       "      <th>pH</th>\n",
       "      <th>sulphates</th>\n",
       "      <th>alcohol</th>\n",
       "      <th>quality</th>\n",
       "    </tr>\n",
       "  </thead>\n",
       "  <tbody>\n",
       "    <tr>\n",
       "      <th>count</th>\n",
       "      <td>1599.000000</td>\n",
       "      <td>1599.000000</td>\n",
       "      <td>1599.000000</td>\n",
       "      <td>1599.000000</td>\n",
       "      <td>1599.000000</td>\n",
       "      <td>1599.000000</td>\n",
       "      <td>1599.000000</td>\n",
       "      <td>1599.000000</td>\n",
       "      <td>1599.000000</td>\n",
       "      <td>1599.000000</td>\n",
       "      <td>1599.000000</td>\n",
       "      <td>1599.000000</td>\n",
       "    </tr>\n",
       "    <tr>\n",
       "      <th>mean</th>\n",
       "      <td>8.319637</td>\n",
       "      <td>0.527821</td>\n",
       "      <td>0.270976</td>\n",
       "      <td>2.538806</td>\n",
       "      <td>0.087467</td>\n",
       "      <td>15.874922</td>\n",
       "      <td>46.467792</td>\n",
       "      <td>0.996747</td>\n",
       "      <td>3.311113</td>\n",
       "      <td>0.658149</td>\n",
       "      <td>10.422983</td>\n",
       "      <td>5.636023</td>\n",
       "    </tr>\n",
       "    <tr>\n",
       "      <th>std</th>\n",
       "      <td>1.741096</td>\n",
       "      <td>0.179060</td>\n",
       "      <td>0.194801</td>\n",
       "      <td>1.409928</td>\n",
       "      <td>0.047065</td>\n",
       "      <td>10.460157</td>\n",
       "      <td>32.895324</td>\n",
       "      <td>0.001887</td>\n",
       "      <td>0.154386</td>\n",
       "      <td>0.169507</td>\n",
       "      <td>1.065668</td>\n",
       "      <td>0.807569</td>\n",
       "    </tr>\n",
       "    <tr>\n",
       "      <th>min</th>\n",
       "      <td>4.600000</td>\n",
       "      <td>0.120000</td>\n",
       "      <td>0.000000</td>\n",
       "      <td>0.900000</td>\n",
       "      <td>0.012000</td>\n",
       "      <td>1.000000</td>\n",
       "      <td>6.000000</td>\n",
       "      <td>0.990070</td>\n",
       "      <td>2.740000</td>\n",
       "      <td>0.330000</td>\n",
       "      <td>8.400000</td>\n",
       "      <td>3.000000</td>\n",
       "    </tr>\n",
       "    <tr>\n",
       "      <th>25%</th>\n",
       "      <td>7.100000</td>\n",
       "      <td>0.390000</td>\n",
       "      <td>0.090000</td>\n",
       "      <td>1.900000</td>\n",
       "      <td>0.070000</td>\n",
       "      <td>7.000000</td>\n",
       "      <td>22.000000</td>\n",
       "      <td>0.995600</td>\n",
       "      <td>3.210000</td>\n",
       "      <td>0.550000</td>\n",
       "      <td>9.500000</td>\n",
       "      <td>5.000000</td>\n",
       "    </tr>\n",
       "    <tr>\n",
       "      <th>50%</th>\n",
       "      <td>7.900000</td>\n",
       "      <td>0.520000</td>\n",
       "      <td>0.260000</td>\n",
       "      <td>2.200000</td>\n",
       "      <td>0.079000</td>\n",
       "      <td>14.000000</td>\n",
       "      <td>38.000000</td>\n",
       "      <td>0.996750</td>\n",
       "      <td>3.310000</td>\n",
       "      <td>0.620000</td>\n",
       "      <td>10.200000</td>\n",
       "      <td>6.000000</td>\n",
       "    </tr>\n",
       "    <tr>\n",
       "      <th>75%</th>\n",
       "      <td>9.200000</td>\n",
       "      <td>0.640000</td>\n",
       "      <td>0.420000</td>\n",
       "      <td>2.600000</td>\n",
       "      <td>0.090000</td>\n",
       "      <td>21.000000</td>\n",
       "      <td>62.000000</td>\n",
       "      <td>0.997835</td>\n",
       "      <td>3.400000</td>\n",
       "      <td>0.730000</td>\n",
       "      <td>11.100000</td>\n",
       "      <td>6.000000</td>\n",
       "    </tr>\n",
       "    <tr>\n",
       "      <th>max</th>\n",
       "      <td>15.900000</td>\n",
       "      <td>1.580000</td>\n",
       "      <td>1.000000</td>\n",
       "      <td>15.500000</td>\n",
       "      <td>0.611000</td>\n",
       "      <td>72.000000</td>\n",
       "      <td>289.000000</td>\n",
       "      <td>1.003690</td>\n",
       "      <td>4.010000</td>\n",
       "      <td>2.000000</td>\n",
       "      <td>14.900000</td>\n",
       "      <td>8.000000</td>\n",
       "    </tr>\n",
       "  </tbody>\n",
       "</table>\n",
       "</div>"
      ],
      "text/plain": [
       "       fixed acidity  volatile acidity  citric acid  residual sugar  \\\n",
       "count    1599.000000       1599.000000  1599.000000     1599.000000   \n",
       "mean        8.319637          0.527821     0.270976        2.538806   \n",
       "std         1.741096          0.179060     0.194801        1.409928   \n",
       "min         4.600000          0.120000     0.000000        0.900000   \n",
       "25%         7.100000          0.390000     0.090000        1.900000   \n",
       "50%         7.900000          0.520000     0.260000        2.200000   \n",
       "75%         9.200000          0.640000     0.420000        2.600000   \n",
       "max        15.900000          1.580000     1.000000       15.500000   \n",
       "\n",
       "         chlorides  free sulfur dioxide  total sulfur dioxide      density  \\\n",
       "count  1599.000000          1599.000000           1599.000000  1599.000000   \n",
       "mean      0.087467            15.874922             46.467792     0.996747   \n",
       "std       0.047065            10.460157             32.895324     0.001887   \n",
       "min       0.012000             1.000000              6.000000     0.990070   \n",
       "25%       0.070000             7.000000             22.000000     0.995600   \n",
       "50%       0.079000            14.000000             38.000000     0.996750   \n",
       "75%       0.090000            21.000000             62.000000     0.997835   \n",
       "max       0.611000            72.000000            289.000000     1.003690   \n",
       "\n",
       "                pH    sulphates      alcohol      quality  \n",
       "count  1599.000000  1599.000000  1599.000000  1599.000000  \n",
       "mean      3.311113     0.658149    10.422983     5.636023  \n",
       "std       0.154386     0.169507     1.065668     0.807569  \n",
       "min       2.740000     0.330000     8.400000     3.000000  \n",
       "25%       3.210000     0.550000     9.500000     5.000000  \n",
       "50%       3.310000     0.620000    10.200000     6.000000  \n",
       "75%       3.400000     0.730000    11.100000     6.000000  \n",
       "max       4.010000     2.000000    14.900000     8.000000  "
      ]
     },
     "execution_count": 43,
     "metadata": {},
     "output_type": "execute_result"
    }
   ],
   "source": [
    "wine_data.describe()"
   ]
  },
  {
   "cell_type": "markdown",
   "metadata": {},
   "source": [
    "Let's use `np.log1p` which returns natural logarithm of $(1 + \\text{the feature value})$"
   ]
  },
  {
   "cell_type": "code",
   "execution_count": 45,
   "metadata": {},
   "outputs": [
    {
     "data": {
      "text/plain": [
       "array([[2.12823171, 0.53062825, 0.        , 1.06471074, 0.07325046,\n",
       "        2.48490665, 3.55534806, 0.69204658, 1.50629715, 0.44468582,\n",
       "        2.34180581, 1.79175947],\n",
       "       [2.17475172, 0.63127178, 0.        , 1.28093385, 0.09349034,\n",
       "        3.25809654, 4.21950771, 0.6915459 , 1.43508453, 0.51879379,\n",
       "        2.37954613, 1.79175947],\n",
       "       [2.17475172, 0.56531381, 0.03922071, 1.19392247, 0.08801088,\n",
       "        2.77258872, 4.00733319, 0.69164605, 1.44926916, 0.50077529,\n",
       "        2.37954613, 1.79175947],\n",
       "       [2.50143595, 0.24686008, 0.44468582, 1.06471074, 0.07232066,\n",
       "        2.89037176, 4.11087386, 0.69214668, 1.42551507, 0.45742485,\n",
       "        2.37954613, 1.94591015],\n",
       "       [2.12823171, 0.53062825, 0.        , 1.06471074, 0.07325046,\n",
       "        2.48490665, 3.55534806, 0.69204658, 1.50629715, 0.44468582,\n",
       "        2.34180581, 1.79175947]])"
      ]
     },
     "execution_count": 45,
     "metadata": {},
     "output_type": "execute_result"
    }
   ],
   "source": [
    "transformer = FunctionTransformer(np.log1p, validate=True)\n",
    "wine_data_transformed = transformer.transform(np.array(wine_data))\n",
    "wine_data_transformed[:5]"
   ]
  },
  {
   "cell_type": "code",
   "execution_count": 46,
   "metadata": {},
   "outputs": [
    {
     "data": {
      "text/html": [
       "<div>\n",
       "<style scoped>\n",
       "    .dataframe tbody tr th:only-of-type {\n",
       "        vertical-align: middle;\n",
       "    }\n",
       "\n",
       "    .dataframe tbody tr th {\n",
       "        vertical-align: top;\n",
       "    }\n",
       "\n",
       "    .dataframe thead th {\n",
       "        text-align: right;\n",
       "    }\n",
       "</style>\n",
       "<table border=\"1\" class=\"dataframe\">\n",
       "  <thead>\n",
       "    <tr style=\"text-align: right;\">\n",
       "      <th></th>\n",
       "      <th>fixed acidity</th>\n",
       "      <th>volatile acidity</th>\n",
       "      <th>citric acid</th>\n",
       "      <th>residual sugar</th>\n",
       "      <th>chlorides</th>\n",
       "      <th>free sulfur dioxide</th>\n",
       "      <th>total sulfur dioxide</th>\n",
       "      <th>density</th>\n",
       "      <th>pH</th>\n",
       "      <th>sulphates</th>\n",
       "      <th>alcohol</th>\n",
       "      <th>quality</th>\n",
       "    </tr>\n",
       "  </thead>\n",
       "  <tbody>\n",
       "    <tr>\n",
       "      <th>count</th>\n",
       "      <td>1599.000000</td>\n",
       "      <td>1599.000000</td>\n",
       "      <td>1599.000000</td>\n",
       "      <td>1599.000000</td>\n",
       "      <td>1599.000000</td>\n",
       "      <td>1599.000000</td>\n",
       "      <td>1599.000000</td>\n",
       "      <td>1599.000000</td>\n",
       "      <td>1599.000000</td>\n",
       "      <td>1599.000000</td>\n",
       "      <td>1599.000000</td>\n",
       "      <td>1599.000000</td>\n",
       "    </tr>\n",
       "    <tr>\n",
       "      <th>mean</th>\n",
       "      <td>2.215842</td>\n",
       "      <td>0.417173</td>\n",
       "      <td>0.228147</td>\n",
       "      <td>1.218131</td>\n",
       "      <td>0.083038</td>\n",
       "      <td>2.639013</td>\n",
       "      <td>3.634750</td>\n",
       "      <td>0.691519</td>\n",
       "      <td>1.460557</td>\n",
       "      <td>0.501073</td>\n",
       "      <td>2.431458</td>\n",
       "      <td>1.885054</td>\n",
       "    </tr>\n",
       "    <tr>\n",
       "      <th>std</th>\n",
       "      <td>0.178100</td>\n",
       "      <td>0.114926</td>\n",
       "      <td>0.152423</td>\n",
       "      <td>0.269969</td>\n",
       "      <td>0.038991</td>\n",
       "      <td>0.623790</td>\n",
       "      <td>0.682575</td>\n",
       "      <td>0.000945</td>\n",
       "      <td>0.035760</td>\n",
       "      <td>0.093731</td>\n",
       "      <td>0.090434</td>\n",
       "      <td>0.122749</td>\n",
       "    </tr>\n",
       "    <tr>\n",
       "      <th>min</th>\n",
       "      <td>1.722767</td>\n",
       "      <td>0.113329</td>\n",
       "      <td>0.000000</td>\n",
       "      <td>0.641854</td>\n",
       "      <td>0.011929</td>\n",
       "      <td>0.693147</td>\n",
       "      <td>1.945910</td>\n",
       "      <td>0.688170</td>\n",
       "      <td>1.319086</td>\n",
       "      <td>0.285179</td>\n",
       "      <td>2.240710</td>\n",
       "      <td>1.386294</td>\n",
       "    </tr>\n",
       "    <tr>\n",
       "      <th>25%</th>\n",
       "      <td>2.091864</td>\n",
       "      <td>0.329304</td>\n",
       "      <td>0.086178</td>\n",
       "      <td>1.064711</td>\n",
       "      <td>0.067659</td>\n",
       "      <td>2.079442</td>\n",
       "      <td>3.135494</td>\n",
       "      <td>0.690945</td>\n",
       "      <td>1.437463</td>\n",
       "      <td>0.438255</td>\n",
       "      <td>2.351375</td>\n",
       "      <td>1.791759</td>\n",
       "    </tr>\n",
       "    <tr>\n",
       "      <th>50%</th>\n",
       "      <td>2.186051</td>\n",
       "      <td>0.418710</td>\n",
       "      <td>0.231112</td>\n",
       "      <td>1.163151</td>\n",
       "      <td>0.076035</td>\n",
       "      <td>2.708050</td>\n",
       "      <td>3.663562</td>\n",
       "      <td>0.691521</td>\n",
       "      <td>1.460938</td>\n",
       "      <td>0.482426</td>\n",
       "      <td>2.415914</td>\n",
       "      <td>1.945910</td>\n",
       "    </tr>\n",
       "    <tr>\n",
       "      <th>75%</th>\n",
       "      <td>2.322388</td>\n",
       "      <td>0.494696</td>\n",
       "      <td>0.350657</td>\n",
       "      <td>1.280934</td>\n",
       "      <td>0.086178</td>\n",
       "      <td>3.091042</td>\n",
       "      <td>4.143135</td>\n",
       "      <td>0.692064</td>\n",
       "      <td>1.481605</td>\n",
       "      <td>0.548121</td>\n",
       "      <td>2.493205</td>\n",
       "      <td>1.945910</td>\n",
       "    </tr>\n",
       "    <tr>\n",
       "      <th>max</th>\n",
       "      <td>2.827314</td>\n",
       "      <td>0.947789</td>\n",
       "      <td>0.693147</td>\n",
       "      <td>2.803360</td>\n",
       "      <td>0.476855</td>\n",
       "      <td>4.290459</td>\n",
       "      <td>5.669881</td>\n",
       "      <td>0.694990</td>\n",
       "      <td>1.611436</td>\n",
       "      <td>1.098612</td>\n",
       "      <td>2.766319</td>\n",
       "      <td>2.197225</td>\n",
       "    </tr>\n",
       "  </tbody>\n",
       "</table>\n",
       "</div>"
      ],
      "text/plain": [
       "       fixed acidity  volatile acidity  citric acid  residual sugar  \\\n",
       "count    1599.000000       1599.000000  1599.000000     1599.000000   \n",
       "mean        2.215842          0.417173     0.228147        1.218131   \n",
       "std         0.178100          0.114926     0.152423        0.269969   \n",
       "min         1.722767          0.113329     0.000000        0.641854   \n",
       "25%         2.091864          0.329304     0.086178        1.064711   \n",
       "50%         2.186051          0.418710     0.231112        1.163151   \n",
       "75%         2.322388          0.494696     0.350657        1.280934   \n",
       "max         2.827314          0.947789     0.693147        2.803360   \n",
       "\n",
       "         chlorides  free sulfur dioxide  total sulfur dioxide      density  \\\n",
       "count  1599.000000          1599.000000           1599.000000  1599.000000   \n",
       "mean      0.083038             2.639013              3.634750     0.691519   \n",
       "std       0.038991             0.623790              0.682575     0.000945   \n",
       "min       0.011929             0.693147              1.945910     0.688170   \n",
       "25%       0.067659             2.079442              3.135494     0.690945   \n",
       "50%       0.076035             2.708050              3.663562     0.691521   \n",
       "75%       0.086178             3.091042              4.143135     0.692064   \n",
       "max       0.476855             4.290459              5.669881     0.694990   \n",
       "\n",
       "                pH    sulphates      alcohol      quality  \n",
       "count  1599.000000  1599.000000  1599.000000  1599.000000  \n",
       "mean      1.460557     0.501073     2.431458     1.885054  \n",
       "std       0.035760     0.093731     0.090434     0.122749  \n",
       "min       1.319086     0.285179     2.240710     1.386294  \n",
       "25%       1.437463     0.438255     2.351375     1.791759  \n",
       "50%       1.460938     0.482426     2.415914     1.945910  \n",
       "75%       1.481605     0.548121     2.493205     1.945910  \n",
       "max       1.611436     1.098612     2.766319     2.197225  "
      ]
     },
     "execution_count": 46,
     "metadata": {},
     "output_type": "execute_result"
    }
   ],
   "source": [
    "pd.DataFrame(wine_data_transformed, columns=wine_data.columns).describe()"
   ]
  },
  {
   "cell_type": "markdown",
   "metadata": {},
   "source": [
    "## 6. Polynomial Features\n",
    "\n",
    "Generate a new feature matrix consisting of all polynomial combinations of the features with degree less than or equal to the specified degree.\n",
    "- For example, if an input sample is $2$-dimensional and of the form $[a,b]$, the degree-$2$ polynomial features are $[1, a, b, a^2, ab, b^2]$.\n",
    "\n",
    "`sklearn.preprocessing.PolynomialFeatures` enables us to perform transformation of desired degree. Let's demonstrate it with the `wine quality` dataset again."
   ]
  },
  {
   "cell_type": "code",
   "execution_count": 47,
   "metadata": {},
   "outputs": [
    {
     "name": "stdout",
     "output_type": "stream",
     "text": [
      "Number of features before transformation:  (1599, 11)\n",
      "Number of features after transformation:  (1599, 78)\n"
     ]
    }
   ],
   "source": [
    "from sklearn.preprocessing import PolynomialFeatures\n",
    "\n",
    "wine_data = pd.read_csv('https://archive.ics.uci.edu/ml/machine-learning-databases/wine-quality/winequality-red.csv', sep=\";\")\n",
    "wine_data_copy = wine_data.copy()\n",
    "\n",
    "wine_data = wine_data.drop(['quality'], axis=1)\n",
    "print('Number of features before transformation: ', wine_data.shape)\n",
    "\n",
    "# Let us fit a polynomial of degree 2 to wine_data\n",
    "poly = PolynomialFeatures(degree=2)\n",
    "poly_wine_data = poly.fit_transform(wine_data)\n",
    "print('Number of features after transformation: ', poly_wine_data.shape)"
   ]
  },
  {
   "cell_type": "markdown",
   "metadata": {},
   "source": [
    "Note that after transformation, we have 78 features. Let's list out these features:"
   ]
  },
  {
   "cell_type": "code",
   "execution_count": 58,
   "metadata": {},
   "outputs": [
    {
     "data": {
      "text/plain": [
       "['1',\n",
       " 'x0',\n",
       " 'x1',\n",
       " 'x2',\n",
       " 'x3',\n",
       " 'x4',\n",
       " 'x5',\n",
       " 'x6',\n",
       " 'x7',\n",
       " 'x8',\n",
       " 'x9',\n",
       " 'x10',\n",
       " 'x0^2',\n",
       " 'x0 x1',\n",
       " 'x0 x2',\n",
       " 'x0 x3',\n",
       " 'x0 x4',\n",
       " 'x0 x5',\n",
       " 'x0 x6',\n",
       " 'x0 x7',\n",
       " 'x0 x8',\n",
       " 'x0 x9',\n",
       " 'x0 x10',\n",
       " 'x1^2',\n",
       " 'x1 x2',\n",
       " 'x1 x3',\n",
       " 'x1 x4',\n",
       " 'x1 x5',\n",
       " 'x1 x6',\n",
       " 'x1 x7',\n",
       " 'x1 x8',\n",
       " 'x1 x9',\n",
       " 'x1 x10',\n",
       " 'x2^2',\n",
       " 'x2 x3',\n",
       " 'x2 x4',\n",
       " 'x2 x5',\n",
       " 'x2 x6',\n",
       " 'x2 x7',\n",
       " 'x2 x8',\n",
       " 'x2 x9',\n",
       " 'x2 x10',\n",
       " 'x3^2',\n",
       " 'x3 x4',\n",
       " 'x3 x5',\n",
       " 'x3 x6',\n",
       " 'x3 x7',\n",
       " 'x3 x8',\n",
       " 'x3 x9',\n",
       " 'x3 x10',\n",
       " 'x4^2',\n",
       " 'x4 x5',\n",
       " 'x4 x6',\n",
       " 'x4 x7',\n",
       " 'x4 x8',\n",
       " 'x4 x9',\n",
       " 'x4 x10',\n",
       " 'x5^2',\n",
       " 'x5 x6',\n",
       " 'x5 x7',\n",
       " 'x5 x8',\n",
       " 'x5 x9',\n",
       " 'x5 x10',\n",
       " 'x6^2',\n",
       " 'x6 x7',\n",
       " 'x6 x8',\n",
       " 'x6 x9',\n",
       " 'x6 x10',\n",
       " 'x7^2',\n",
       " 'x7 x8',\n",
       " 'x7 x9',\n",
       " 'x7 x10',\n",
       " 'x8^2',\n",
       " 'x8 x9',\n",
       " 'x8 x10',\n",
       " 'x9^2',\n",
       " 'x9 x10',\n",
       " 'x10^2']"
      ]
     },
     "execution_count": 58,
     "metadata": {},
     "output_type": "execute_result"
    }
   ],
   "source": [
    "poly.get_feature_names()"
   ]
  },
  {
   "cell_type": "markdown",
   "metadata": {},
   "source": [
    "Observe that -\n",
    "- Some features have `^2` suffix - these are degree $2$ features of the input features. For example - `x0^2` is the square of `x0` (`'fixed acidity'`) feature.\n",
    "- Some features are combination of names of the original feature names. For example `x0 x1` is a combination of $2$ features `'fixel_acidity'` and `'volatile acidity'`."
   ]
  },
  {
   "cell_type": "markdown",
   "metadata": {},
   "source": [
    "## 7. Discretization\n",
    "\n",
    "**Discretization** (otherwise known as **quantization** or **binning**) provides a way to partition continuous features into discrete values.\n",
    "- Certain dataseets with continuous features may benefit from discretization, because discretization can transform the dataset of continuous attributes to one with only nominal attributes.\n",
    "- One-hot encoded discretized features can make a model more expressive, while maintaining interpretability.\n",
    "- For instance, pre-processing with a discretizer can introduce non-linearity into linear models."
   ]
  },
  {
   "cell_type": "code",
   "execution_count": 59,
   "metadata": {},
   "outputs": [],
   "source": [
    "# KBinsDiscretizer discretizes features into 'k' bins\n",
    "from sklearn.preprocessing import KBinsDiscretizer"
   ]
  },
  {
   "cell_type": "markdown",
   "metadata": {},
   "source": [
    "Let's demonstrate `KBinsDiscretizer` using `wine quality` dataset."
   ]
  },
  {
   "cell_type": "code",
   "execution_count": 61,
   "metadata": {},
   "outputs": [
    {
     "data": {
      "text/plain": [
       "<1599x10 sparse matrix of type '<class 'numpy.float64'>'\n",
       "\twith 1599 stored elements in Compressed Sparse Row format>"
      ]
     },
     "execution_count": 61,
     "metadata": {},
     "output_type": "execute_result"
    }
   ],
   "source": [
    "wine_data = wine_data_copy\n",
    "\n",
    "# transform the dataset with KBinsDiscretizer\n",
    "enc = KBinsDiscretizer(n_bins=10, encode='onehot')\n",
    "X = np.array(wine_data['chlorides']).reshape(-1,1)\n",
    "X_binned = enc.fit_transform(X)\n",
    "X_binned"
   ]
  },
  {
   "cell_type": "code",
   "execution_count": 62,
   "metadata": {},
   "outputs": [
    {
     "data": {
      "text/plain": [
       "array([[0., 0., 0., 0., 1., 0., 0., 0., 0., 0.],\n",
       "       [0., 0., 0., 0., 0., 0., 0., 0., 1., 0.],\n",
       "       [0., 0., 0., 0., 0., 0., 0., 1., 0., 0.],\n",
       "       [0., 0., 0., 1., 0., 0., 0., 0., 0., 0.],\n",
       "       [0., 0., 0., 0., 1., 0., 0., 0., 0., 0.]])"
      ]
     },
     "execution_count": 62,
     "metadata": {},
     "output_type": "execute_result"
    }
   ],
   "source": [
    "# Since output is sparse, use toarray() to expand it.\n",
    "X_binned.toarray()[:5]"
   ]
  },
  {
   "cell_type": "markdown",
   "metadata": {},
   "source": [
    "## 8. Handling Categorical Features\n",
    "\n",
    "Categorical features are those that contain categories or groups such as education level, state etc as their data. These are non-numerical features and need to be converted into appropriate form before they are feeding them for training a ML model.\n",
    "\n",
    "We need to convert the categorical features into numeric features.\n",
    "1. Ordinal encoding\n",
    "2. One-hot encoding\n",
    "3. Label encoder\n",
    "4. Multi Label Binarizer\n",
    "5. Using Dummy variables"
   ]
  },
  {
   "cell_type": "markdown",
   "metadata": {},
   "source": [
    "### Ordinal Encoding\n",
    "\n",
    "One intuitive way of handling categorical features could be by assigning them a numerical value. As an example, take state as a feature with `'Punjab'`, `'Rajasthan'` and `'Haryana'` as the possible values. We might consider assigning numbers to these values as follows:\n",
    "`{'Punjab':1, 'Rajasthan':2, 'Haryana':3}`.\n",
    "\n",
    "However, this approach assigns some ordering to the labels, i.e. states, thus representing `'Haryana` as thrice `'Punjab'`, where as these relationships do not exist in the data, thus providing wrong information to the ML model.\n",
    "\n",
    "One of the most common approaches to handle this is: *One-hot encoding*."
   ]
  },
  {
   "cell_type": "markdown",
   "metadata": {},
   "source": [
    "### One-hot Encoding\n",
    "\n",
    "This approach consists of creating an additional feature for each label present in the categorical feature(i.e. the number of different states here) and putting a $1$ or $0$ for these features depending on the categorical feature's value. That is ---\n",
    "`{\n",
    "    'Punjab':       [1,0,0],\n",
    "    'Rajasthan':    [0,1,0],\n",
    "    'Haryana':      [0,0,1]\n",
    "}`\n",
    "\n",
    "It may be implemented using the `OneHotEncoder` class from `sklearn.preprocesing` module. Let's demonstrate this concept with `Iris` dataset."
   ]
  },
  {
   "cell_type": "code",
   "execution_count": 63,
   "metadata": {},
   "outputs": [],
   "source": [
    "from sklearn.preprocessing import OrdinalEncoder\n",
    "from sklearn.preprocessing import OneHotEncoder"
   ]
  },
  {
   "cell_type": "code",
   "execution_count": 64,
   "metadata": {},
   "outputs": [
    {
     "data": {
      "text/html": [
       "<div>\n",
       "<style scoped>\n",
       "    .dataframe tbody tr th:only-of-type {\n",
       "        vertical-align: middle;\n",
       "    }\n",
       "\n",
       "    .dataframe tbody tr th {\n",
       "        vertical-align: top;\n",
       "    }\n",
       "\n",
       "    .dataframe thead th {\n",
       "        text-align: right;\n",
       "    }\n",
       "</style>\n",
       "<table border=\"1\" class=\"dataframe\">\n",
       "  <thead>\n",
       "    <tr style=\"text-align: right;\">\n",
       "      <th></th>\n",
       "      <th>sepal length</th>\n",
       "      <th>sepal width</th>\n",
       "      <th>petal length</th>\n",
       "      <th>petal width</th>\n",
       "      <th>label</th>\n",
       "    </tr>\n",
       "  </thead>\n",
       "  <tbody>\n",
       "    <tr>\n",
       "      <th>0</th>\n",
       "      <td>5.1</td>\n",
       "      <td>3.5</td>\n",
       "      <td>1.4</td>\n",
       "      <td>0.2</td>\n",
       "      <td>Iris-setosa</td>\n",
       "    </tr>\n",
       "    <tr>\n",
       "      <th>1</th>\n",
       "      <td>4.9</td>\n",
       "      <td>3.0</td>\n",
       "      <td>1.4</td>\n",
       "      <td>0.2</td>\n",
       "      <td>Iris-setosa</td>\n",
       "    </tr>\n",
       "    <tr>\n",
       "      <th>2</th>\n",
       "      <td>4.7</td>\n",
       "      <td>3.2</td>\n",
       "      <td>1.3</td>\n",
       "      <td>0.2</td>\n",
       "      <td>Iris-setosa</td>\n",
       "    </tr>\n",
       "    <tr>\n",
       "      <th>3</th>\n",
       "      <td>4.6</td>\n",
       "      <td>3.1</td>\n",
       "      <td>1.5</td>\n",
       "      <td>0.2</td>\n",
       "      <td>Iris-setosa</td>\n",
       "    </tr>\n",
       "    <tr>\n",
       "      <th>4</th>\n",
       "      <td>5.0</td>\n",
       "      <td>3.6</td>\n",
       "      <td>1.4</td>\n",
       "      <td>0.2</td>\n",
       "      <td>Iris-setosa</td>\n",
       "    </tr>\n",
       "  </tbody>\n",
       "</table>\n",
       "</div>"
      ],
      "text/plain": [
       "   sepal length  sepal width  petal length  petal width        label\n",
       "0           5.1          3.5           1.4          0.2  Iris-setosa\n",
       "1           4.9          3.0           1.4          0.2  Iris-setosa\n",
       "2           4.7          3.2           1.3          0.2  Iris-setosa\n",
       "3           4.6          3.1           1.5          0.2  Iris-setosa\n",
       "4           5.0          3.6           1.4          0.2  Iris-setosa"
      ]
     },
     "execution_count": 64,
     "metadata": {},
     "output_type": "execute_result"
    }
   ],
   "source": [
    "cols = ['sepal length', 'sepal width', 'petal length', 'petal width', 'label']\n",
    "iris_data = pd.read_csv('https://archive.ics.uci.edu/ml/machine-learning-databases/iris/iris.data', header=None, names=cols)\n",
    "iris_data.head()"
   ]
  },
  {
   "cell_type": "code",
   "execution_count": 65,
   "metadata": {},
   "outputs": [
    {
     "name": "stdout",
     "output_type": "stream",
     "text": [
      "<class 'pandas.core.frame.DataFrame'>\n",
      "RangeIndex: 150 entries, 0 to 149\n",
      "Data columns (total 5 columns):\n",
      " #   Column        Non-Null Count  Dtype  \n",
      "---  ------        --------------  -----  \n",
      " 0   sepal length  150 non-null    float64\n",
      " 1   sepal width   150 non-null    float64\n",
      " 2   petal length  150 non-null    float64\n",
      " 3   petal width   150 non-null    float64\n",
      " 4   label         150 non-null    object \n",
      "dtypes: float64(4), object(1)\n",
      "memory usage: 6.0+ KB\n"
     ]
    }
   ],
   "source": [
    "iris_data.info()"
   ]
  },
  {
   "cell_type": "markdown",
   "metadata": {},
   "source": [
    "The `label` is a categorical attribute."
   ]
  },
  {
   "cell_type": "code",
   "execution_count": 66,
   "metadata": {},
   "outputs": [
    {
     "data": {
      "text/plain": [
       "array(['Iris-setosa', 'Iris-versicolor', 'Iris-virginica'], dtype=object)"
      ]
     },
     "execution_count": 66,
     "metadata": {},
     "output_type": "execute_result"
    }
   ],
   "source": [
    "iris_data['label'].unique()"
   ]
  },
  {
   "cell_type": "markdown",
   "metadata": {},
   "source": [
    "There are $3$ class labels. Let's convert them into one hot vectors."
   ]
  },
  {
   "cell_type": "code",
   "execution_count": 69,
   "metadata": {},
   "outputs": [
    {
     "name": "stdout",
     "output_type": "stream",
     "text": [
      "Shape of y before encoding:  (150,)\n",
      "Shape of y after encoding:  (150, 3)\n",
      "First 5 labels in onehot format: \n",
      "[[1. 0. 0.]\n",
      " [1. 0. 0.]\n",
      " [1. 0. 0.]\n",
      " [1. 0. 0.]\n",
      " [1. 0. 0.]]\n"
     ]
    }
   ],
   "source": [
    "ohe = OneHotEncoder(categories='auto')\n",
    "print('Shape of y before encoding: ', iris_data['label'].shape)\n",
    "\n",
    "'''\n",
    "Passing 1d arrays as data to ohe is deprecated in version,\n",
    "hence reshape to (-1,1) to have 2 dimensions.\n",
    "Input of ohe.fit_transform must not be a 1-rank array\n",
    "'''\n",
    "\n",
    "iris_labels = ohe.fit_transform(iris_data['label'].values.reshape(-1,1))\n",
    "\n",
    "# y.reshape(-1,1) is a 150x1 sparse matric of type '<class 'numpy.float64'>' with 150 stored elements in Coordinate format.\n",
    "# y is a 150*3 sparse matrix of type '<class 'numpy.float64'>' with 150 stored elements in compresse sparse row format.\n",
    "\n",
    "print('Shape of y after encoding: ', iris_labels.shape)\n",
    "\n",
    "# since output is sparse, use toarray() to expand it.\n",
    "print('First 5 labels in onehot format: ')\n",
    "print(iris_labels.toarray()[:5])"
   ]
  },
  {
   "cell_type": "markdown",
   "metadata": {},
   "source": [
    "Let's observe the difference between one hot encoding and ordinal encoding."
   ]
  },
  {
   "cell_type": "code",
   "execution_count": 70,
   "metadata": {},
   "outputs": [
    {
     "name": "stdout",
     "output_type": "stream",
     "text": [
      "Unique labels [0. 1. 2.]\n",
      "\n",
      "First 5 labels: \n",
      "[[0.]\n",
      " [0.]\n",
      " [0.]\n",
      " [0.]\n",
      " [0.]]\n"
     ]
    }
   ],
   "source": [
    "enc = OrdinalEncoder()\n",
    "\n",
    "# get the class column into a new variable\n",
    "iris_labels = np.array(iris_data['label'])\n",
    "\n",
    "iris_labels_transformed = enc.fit_transform(iris_labels.reshape(-1,1))\n",
    "print('Unique labels', np.unique(iris_labels_transformed))\n",
    "\n",
    "print('\\nFirst 5 labels: ')\n",
    "print(iris_labels_transformed[:5])"
   ]
  },
  {
   "cell_type": "markdown",
   "metadata": {},
   "source": [
    "### Label Encoder\n",
    "\n"
   ]
  },
  {
   "cell_type": "markdown",
   "metadata": {},
   "source": [
    "Another option is to use `LabelEncoder` for transforming categorical features into integer codes."
   ]
  },
  {
   "cell_type": "code",
   "execution_count": 71,
   "metadata": {},
   "outputs": [],
   "source": [
    "from sklearn.preprocessing import LabelEncoder"
   ]
  },
  {
   "cell_type": "code",
   "execution_count": 73,
   "metadata": {},
   "outputs": [
    {
     "data": {
      "text/plain": [
       "array([0, 0, 0, 0, 0, 0, 0, 0, 0, 0, 0, 0, 0, 0, 0, 0, 0, 0, 0, 0, 0, 0,\n",
       "       0, 0, 0, 0, 0, 0, 0, 0, 0, 0, 0, 0, 0, 0, 0, 0, 0, 0, 0, 0, 0, 0,\n",
       "       0, 0, 0, 0, 0, 0, 1, 1, 1, 1, 1, 1, 1, 1, 1, 1, 1, 1, 1, 1, 1, 1,\n",
       "       1, 1, 1, 1, 1, 1, 1, 1, 1, 1, 1, 1, 1, 1, 1, 1, 1, 1, 1, 1, 1, 1,\n",
       "       1, 1, 1, 1, 1, 1, 1, 1, 1, 1, 1, 1, 2, 2, 2, 2, 2, 2, 2, 2, 2, 2,\n",
       "       2, 2, 2, 2, 2, 2, 2, 2, 2, 2, 2, 2, 2, 2, 2, 2, 2, 2, 2, 2, 2, 2,\n",
       "       2, 2, 2, 2, 2, 2, 2, 2, 2, 2, 2, 2, 2, 2, 2, 2, 2, 2])"
      ]
     },
     "execution_count": 73,
     "metadata": {},
     "output_type": "execute_result"
    }
   ],
   "source": [
    "le = LabelEncoder()\n",
    "\n",
    "# get the class column into a new variable\n",
    "iris_labels = np.array(iris_data['label'])\n",
    "\n",
    "# encode the class names to integers\n",
    "label_integer = le.fit_transform(iris_labels)\n",
    "label_integer"
   ]
  },
  {
   "cell_type": "markdown",
   "metadata": {},
   "source": [
    "### Multilabel Binarizer\n",
    "\n",
    "Encodes categorical features with values between $0$ and $k-1$, where $k$ is the number of classes."
   ]
  },
  {
   "cell_type": "code",
   "execution_count": 74,
   "metadata": {},
   "outputs": [],
   "source": [
    "movie_genres = [\n",
    "    {'action','comedy'},\n",
    "    {'comedy'},\n",
    "    {'action','thriller'},\n",
    "    {'science-fiction','action','thriller'}\n",
    "]"
   ]
  },
  {
   "cell_type": "code",
   "execution_count": 75,
   "metadata": {},
   "outputs": [
    {
     "data": {
      "text/plain": [
       "array([[1, 1, 0, 0],\n",
       "       [0, 1, 0, 0],\n",
       "       [1, 0, 0, 1],\n",
       "       [1, 0, 1, 1]])"
      ]
     },
     "execution_count": 75,
     "metadata": {},
     "output_type": "execute_result"
    }
   ],
   "source": [
    "from sklearn.preprocessing import MultiLabelBinarizer\n",
    "mlb = MultiLabelBinarizer()\n",
    "mlb.fit_transform(movie_genres)\n",
    "\n",
    "# This is sort of like one-hot encoder for multiple labels."
   ]
  },
  {
   "cell_type": "markdown",
   "metadata": {},
   "source": [
    "Here, the first column indicates the presence or absence of `'action'`, the second column for `'comedy'`, the third for `'science-fiction'` and fourth for `'thriller'`."
   ]
  },
  {
   "cell_type": "markdown",
   "metadata": {},
   "source": [
    "### Using Dummy variables"
   ]
  },
  {
   "cell_type": "code",
   "execution_count": 77,
   "metadata": {},
   "outputs": [
    {
     "data": {
      "text/html": [
       "<div>\n",
       "<style scoped>\n",
       "    .dataframe tbody tr th:only-of-type {\n",
       "        vertical-align: middle;\n",
       "    }\n",
       "\n",
       "    .dataframe tbody tr th {\n",
       "        vertical-align: top;\n",
       "    }\n",
       "\n",
       "    .dataframe thead th {\n",
       "        text-align: right;\n",
       "    }\n",
       "</style>\n",
       "<table border=\"1\" class=\"dataframe\">\n",
       "  <thead>\n",
       "    <tr style=\"text-align: right;\">\n",
       "      <th></th>\n",
       "      <th>sepal length</th>\n",
       "      <th>sepal width</th>\n",
       "      <th>petal length</th>\n",
       "      <th>petal width</th>\n",
       "      <th>one_hot_Iris-setosa</th>\n",
       "      <th>one_hot_Iris-versicolor</th>\n",
       "      <th>one_hot_Iris-virginica</th>\n",
       "    </tr>\n",
       "  </thead>\n",
       "  <tbody>\n",
       "    <tr>\n",
       "      <th>0</th>\n",
       "      <td>5.1</td>\n",
       "      <td>3.5</td>\n",
       "      <td>1.4</td>\n",
       "      <td>0.2</td>\n",
       "      <td>1</td>\n",
       "      <td>0</td>\n",
       "      <td>0</td>\n",
       "    </tr>\n",
       "    <tr>\n",
       "      <th>1</th>\n",
       "      <td>4.9</td>\n",
       "      <td>3.0</td>\n",
       "      <td>1.4</td>\n",
       "      <td>0.2</td>\n",
       "      <td>1</td>\n",
       "      <td>0</td>\n",
       "      <td>0</td>\n",
       "    </tr>\n",
       "    <tr>\n",
       "      <th>2</th>\n",
       "      <td>4.7</td>\n",
       "      <td>3.2</td>\n",
       "      <td>1.3</td>\n",
       "      <td>0.2</td>\n",
       "      <td>1</td>\n",
       "      <td>0</td>\n",
       "      <td>0</td>\n",
       "    </tr>\n",
       "    <tr>\n",
       "      <th>3</th>\n",
       "      <td>4.6</td>\n",
       "      <td>3.1</td>\n",
       "      <td>1.5</td>\n",
       "      <td>0.2</td>\n",
       "      <td>1</td>\n",
       "      <td>0</td>\n",
       "      <td>0</td>\n",
       "    </tr>\n",
       "    <tr>\n",
       "      <th>4</th>\n",
       "      <td>5.0</td>\n",
       "      <td>3.6</td>\n",
       "      <td>1.4</td>\n",
       "      <td>0.2</td>\n",
       "      <td>1</td>\n",
       "      <td>0</td>\n",
       "      <td>0</td>\n",
       "    </tr>\n",
       "    <tr>\n",
       "      <th>...</th>\n",
       "      <td>...</td>\n",
       "      <td>...</td>\n",
       "      <td>...</td>\n",
       "      <td>...</td>\n",
       "      <td>...</td>\n",
       "      <td>...</td>\n",
       "      <td>...</td>\n",
       "    </tr>\n",
       "    <tr>\n",
       "      <th>145</th>\n",
       "      <td>6.7</td>\n",
       "      <td>3.0</td>\n",
       "      <td>5.2</td>\n",
       "      <td>2.3</td>\n",
       "      <td>0</td>\n",
       "      <td>0</td>\n",
       "      <td>1</td>\n",
       "    </tr>\n",
       "    <tr>\n",
       "      <th>146</th>\n",
       "      <td>6.3</td>\n",
       "      <td>2.5</td>\n",
       "      <td>5.0</td>\n",
       "      <td>1.9</td>\n",
       "      <td>0</td>\n",
       "      <td>0</td>\n",
       "      <td>1</td>\n",
       "    </tr>\n",
       "    <tr>\n",
       "      <th>147</th>\n",
       "      <td>6.5</td>\n",
       "      <td>3.0</td>\n",
       "      <td>5.2</td>\n",
       "      <td>2.0</td>\n",
       "      <td>0</td>\n",
       "      <td>0</td>\n",
       "      <td>1</td>\n",
       "    </tr>\n",
       "    <tr>\n",
       "      <th>148</th>\n",
       "      <td>6.2</td>\n",
       "      <td>3.4</td>\n",
       "      <td>5.4</td>\n",
       "      <td>2.3</td>\n",
       "      <td>0</td>\n",
       "      <td>0</td>\n",
       "      <td>1</td>\n",
       "    </tr>\n",
       "    <tr>\n",
       "      <th>149</th>\n",
       "      <td>5.9</td>\n",
       "      <td>3.0</td>\n",
       "      <td>5.1</td>\n",
       "      <td>1.8</td>\n",
       "      <td>0</td>\n",
       "      <td>0</td>\n",
       "      <td>1</td>\n",
       "    </tr>\n",
       "  </tbody>\n",
       "</table>\n",
       "<p>150 rows × 7 columns</p>\n",
       "</div>"
      ],
      "text/plain": [
       "     sepal length  sepal width  petal length  petal width  \\\n",
       "0             5.1          3.5           1.4          0.2   \n",
       "1             4.9          3.0           1.4          0.2   \n",
       "2             4.7          3.2           1.3          0.2   \n",
       "3             4.6          3.1           1.5          0.2   \n",
       "4             5.0          3.6           1.4          0.2   \n",
       "..            ...          ...           ...          ...   \n",
       "145           6.7          3.0           5.2          2.3   \n",
       "146           6.3          2.5           5.0          1.9   \n",
       "147           6.5          3.0           5.2          2.0   \n",
       "148           6.2          3.4           5.4          2.3   \n",
       "149           5.9          3.0           5.1          1.8   \n",
       "\n",
       "     one_hot_Iris-setosa  one_hot_Iris-versicolor  one_hot_Iris-virginica  \n",
       "0                      1                        0                       0  \n",
       "1                      1                        0                       0  \n",
       "2                      1                        0                       0  \n",
       "3                      1                        0                       0  \n",
       "4                      1                        0                       0  \n",
       "..                   ...                      ...                     ...  \n",
       "145                    0                        0                       1  \n",
       "146                    0                        0                       1  \n",
       "147                    0                        0                       1  \n",
       "148                    0                        0                       1  \n",
       "149                    0                        0                       1  \n",
       "\n",
       "[150 rows x 7 columns]"
      ]
     },
     "execution_count": 77,
     "metadata": {},
     "output_type": "execute_result"
    }
   ],
   "source": [
    "# use get_dummies to create a one-hot encoding for each unique catgorical value in the 'class' column\n",
    "# convert categorical class variable to one-hot encoding:\n",
    "\n",
    "iris_data_onehot = pd.get_dummies(iris_data, columns=['label'], prefix=['one_hot'])\n",
    "iris_data_onehot"
   ]
  },
  {
   "cell_type": "markdown",
   "metadata": {},
   "source": [
    "## 9. Composite Transformers"
   ]
  },
  {
   "cell_type": "markdown",
   "metadata": {},
   "source": [
    "### Column Transformer\n",
    "\n",
    "It applies a set of transformations to columns of an array or `pandas.DataFrame`, concatenates the trnsformed outputs from sifferent transformers into a single matrix.\n",
    "- It is useful for transforming heterogenous data by applying different transformers to separate subset of features.\n",
    "- It combines different feature selection mechanisms and transformation into a single transformer object."
   ]
  },
  {
   "cell_type": "code",
   "execution_count": 78,
   "metadata": {},
   "outputs": [],
   "source": [
    "x = [\n",
    "    [20.0, 'male',],\n",
    "    [11.2, 'female',],\n",
    "    [25.6, 'female',],\n",
    "    [13.0, 'male',],\n",
    "    [18.6, 'male',],\n",
    "    [16.4, 'female',],\n",
    "]\n",
    "x = np.array(x)"
   ]
  },
  {
   "cell_type": "code",
   "execution_count": 82,
   "metadata": {},
   "outputs": [
    {
     "data": {
      "text/plain": [
       "array([['0.78125', '20.0', '0.0', '1.0'],\n",
       "       ['0.43749999999999994', '11.2', '1.0', '0.0'],\n",
       "       ['1.0', '25.6', '1.0', '0.0'],\n",
       "       ['0.5078125', '13.0', '0.0', '1.0'],\n",
       "       ['0.7265625', '18.6', '0.0', '1.0'],\n",
       "       ['0.6406249999999999', '16.4', '1.0', '0.0']], dtype='<U32')"
      ]
     },
     "execution_count": 82,
     "metadata": {},
     "output_type": "execute_result"
    }
   ],
   "source": [
    "from sklearn.compose import ColumnTransformer\n",
    "from sklearn.preprocessing import MaxAbsScaler, OneHotEncoder\n",
    "\n",
    "ct = ColumnTransformer([\n",
    "    ('mascaler', MaxAbsScaler(), [0]),\n",
    "    ('pass', 'passthrough', [0]), # Copies the column 0, without doing anything\n",
    "    ('ohencoder', OneHotEncoder(), [1])\n",
    "])\n",
    "\n",
    "ct.fit_transform(x)"
   ]
  },
  {
   "cell_type": "markdown",
   "metadata": {},
   "source": [
    "### Transformed Target Regressosr\n",
    "\n",
    "Transforms the target variable `y` before fitting a regression model.\n",
    "- The predicted values are mapped back to the original space via an inverse transform.\n",
    "- It takes *regressor* and transformer to be applied to the target variable as arguments."
   ]
  },
  {
   "cell_type": "code",
   "execution_count": 1,
   "metadata": {},
   "outputs": [
    {
     "name": "stdout",
     "output_type": "stream",
     "text": [
      "R2 score of transformed label regression: 0.59\n",
      "R2 score of raw label regression: 0.59\n"
     ]
    }
   ],
   "source": [
    "from sklearn.compose import TransformedTargetRegressor\n",
    "from sklearn.preprocessing import MaxAbsScaler\n",
    "from sklearn.linear_model import LinearRegression\n",
    "from sklearn.model_selection import train_test_split\n",
    "from sklearn.datasets import fetch_california_housing\n",
    "\n",
    "X,y = fetch_california_housing(return_X_y=True)\n",
    "X,y = X[:2000,:], y[:2000] # select a subset of data\n",
    "\n",
    "transformer = MaxAbsScaler()\n",
    "\n",
    "# 2 regressors:\n",
    "# - one based on original label.\n",
    "regressor = LinearRegression()\n",
    "\n",
    "# - second based on the transformed labels.\n",
    "regr = TransformedTargetRegressor(regressor=regressor, transformer=transformer)\n",
    "\n",
    "X_train,X_test,y_train,y_test = train_test_split(X,y, random_state=0)\n",
    "\n",
    "# Training on the transformed data\n",
    "regr.fit(X_train,y_train)\n",
    "print('R2 score of transformed label regression: {0:.2f}'.format(\n",
    "    regr.score(X_test,y_test)\n",
    "))\n",
    "\n",
    "# Training on the raw data\n",
    "raw_target_regr = regressor.fit(X_train,y_train)\n",
    "print('R2 score of raw label regression: {0:.2f}'.format(\n",
    "    raw_target_regr.score(X_test,y_test)\n",
    "))"
   ]
  },
  {
   "cell_type": "markdown",
   "metadata": {},
   "source": [
    "## 10. Feature Selection\n",
    "\n",
    "`sklearn.feature_selection` module has useful APIs to select features/reduce dimensionality, either to improve estimators' accuracy scores or boost their performance on very high-dimensional datasets."
   ]
  },
  {
   "cell_type": "markdown",
   "metadata": {},
   "source": [
    "## 10.1 Filter based methods"
   ]
  },
  {
   "cell_type": "markdown",
   "metadata": {},
   "source": [
    "### Variance Threshold\n",
    "\n",
    "This transformer helps to keep only high variance features by providing a certain threshold.\n",
    "\n",
    "> Features with variance greater than or equal to threshold value are kept and the rest are removied.\n",
    "> By default it removes any features with same value i.e. $0$ variance."
   ]
  },
  {
   "cell_type": "code",
   "execution_count": 84,
   "metadata": {},
   "outputs": [
    {
     "data": {
      "text/plain": [
       "array([ 1.25 , 67.735])"
      ]
     },
     "execution_count": 84,
     "metadata": {},
     "output_type": "execute_result"
    }
   ],
   "source": [
    "data = [\n",
    "    {'age':4, 'height':96.0},\n",
    "    {'age':1, 'height':73.9},\n",
    "    {'age':3, 'height':88.9},\n",
    "    {'age':2, 'height':81.6},\n",
    "]\n",
    "\n",
    "dv = DictVectorizer(sparse=False)\n",
    "data_transformed = dv.fit_transform(data)\n",
    "\n",
    "np.var(data_transformed, axis = 0)"
   ]
  },
  {
   "cell_type": "code",
   "execution_count": 85,
   "metadata": {},
   "outputs": [
    {
     "data": {
      "text/plain": [
       "array([[96. ],\n",
       "       [73.9],\n",
       "       [88.9],\n",
       "       [81.6]])"
      ]
     },
     "execution_count": 85,
     "metadata": {},
     "output_type": "execute_result"
    }
   ],
   "source": [
    "from sklearn.feature_selection import VarianceThreshold\n",
    "\n",
    "vt = VarianceThreshold(threshold=9)\n",
    "# Only those features with variance > 9 will be selected. \n",
    "# In this particular example Column 0 will be dropped, because it only has a variance of 1.25.\n",
    "data_new = vt.fit_transform(data_transformed)\n",
    "data_new"
   ]
  },
  {
   "cell_type": "markdown",
   "metadata": {},
   "source": [
    "### Select K Best\n",
    "\n",
    "It selects `k` highest scoring features based on a function and removes the rest of the features.\n",
    "\n",
    "Let's take an example of the `California Housing` dataset."
   ]
  },
  {
   "cell_type": "code",
   "execution_count": 86,
   "metadata": {},
   "outputs": [
    {
     "name": "stdout",
     "output_type": "stream",
     "text": [
      "Shape of feature matrix before feature selection:(2000, 8)\n"
     ]
    }
   ],
   "source": [
    "from sklearn.datasets import fetch_california_housing\n",
    "from sklearn.model_selection import train_test_split\n",
    "from sklearn.feature_selection import SelectKBest, mutual_info_regression\n",
    "\n",
    "# download the data\n",
    "X_california, y_california = fetch_california_housing(return_X_y=True)\n",
    "\n",
    "# select a subset of data\n",
    "X,y = X_california[:2000,:],y_california[:2000]\n",
    "\n",
    "print(f'Shape of feature matrix before feature selection:{X.shape}')"
   ]
  },
  {
   "cell_type": "markdown",
   "metadata": {},
   "source": [
    "Let's select `3` most important features, since it is a regression problem, we can either use `mutual_info_regression` or `f_regression` scoring functions only."
   ]
  },
  {
   "cell_type": "code",
   "execution_count": 87,
   "metadata": {},
   "outputs": [
    {
     "name": "stdout",
     "output_type": "stream",
     "text": [
      "Shape of feature matrix after feature selection:(2000, 3)\n"
     ]
    }
   ],
   "source": [
    "skb = SelectKBest(mutual_info_regression, k=3)\n",
    "X_new = skb.fit_transform(X,y)\n",
    "print(f'Shape of feature matrix after feature selection:{X_new.shape}')"
   ]
  },
  {
   "cell_type": "markdown",
   "metadata": {},
   "source": [
    "As we can see from the above output, the transformed data now only has the top `3` features."
   ]
  },
  {
   "cell_type": "markdown",
   "metadata": {},
   "source": [
    "### Select Percentile\n",
    "\n",
    "This is very similar to `SelectKBest` from previous section, the only difference being it selects the top `percentile` of all features and drops the rest of the features.\n",
    "\n",
    "Similar to `SelectKBest`, it also uses a scoring function to decide the importance of features.\n",
    "\n",
    "Let's use the `California Housing` dataset for this API."
   ]
  },
  {
   "cell_type": "code",
   "execution_count": 99,
   "metadata": {},
   "outputs": [
    {
     "name": "stdout",
     "output_type": "stream",
     "text": [
      "Shape of feature matrix after feature selection:(2000, 3)\n"
     ]
    }
   ],
   "source": [
    "from sklearn.feature_selection import SelectPercentile\n",
    "\n",
    "sp = SelectPercentile(mutual_info_regression, percentile=30)\n",
    "X_new = sp.fit_transform(X,y)\n",
    "print(f'Shape of feature matrix after feature selection:{X_new.shape}')"
   ]
  },
  {
   "cell_type": "markdown",
   "metadata": {},
   "source": [
    "As we can see from the above output, the transformed data now only has the top `30` percentile of features, i.e. only $3$ out of $8$ features."
   ]
  },
  {
   "cell_type": "markdown",
   "metadata": {},
   "source": [
    "## 10.2 Wrapper based methods"
   ]
  },
  {
   "cell_type": "markdown",
   "metadata": {},
   "source": [
    "### RFE (Recursive Feature Elimination)\n",
    "\n",
    "- **STEP 1:** Fits a model and \n",
    "- **STEP 2:** Ranks the features, afterwards it removes one or more features (depending upon the `step` parameter) - it removes those many features at a time.\n",
    "\n",
    "These $2$ steps are repeated untill the desired no. of features are selected."
   ]
  },
  {
   "cell_type": "code",
   "execution_count": 103,
   "metadata": {},
   "outputs": [
    {
     "name": "stdout",
     "output_type": "stream",
     "text": [
      "[ True False False False False False  True  True]\n",
      "Rank of each feature is : [1 5 4 3 6 2 1 1]\n",
      "Shape of feature matrix after feature selection:(2000, 3)\n"
     ]
    }
   ],
   "source": [
    "from sklearn.feature_selection import RFE\n",
    "from sklearn.linear_model import LinearRegression\n",
    "\n",
    "# select a subset of data from the California dataset\n",
    "X,y = X_california[:2000,:],y_california[:2000]\n",
    "\n",
    "estimator = LinearRegression()\n",
    "selector = RFE(estimator=estimator, n_features_to_select=3, step=1)\n",
    "selector = selector.fit(X,y)\n",
    "X_new = selector.transform(X)\n",
    "\n",
    "# If we are not interested in knowing the rank we can just do the following -\n",
    "'''\n",
    "estimator = LinearRegression()\n",
    "selector = RFE(estimator=estimator, n_features_to_select=3, step=1)\n",
    "X_new = selector.fit_transform(X,y)\n",
    "'''\n",
    "\n",
    "# support_ attribute is a boolean array marking which features are selected\n",
    "print(selector.support_)\n",
    "\n",
    "# ranking of each feature ---\n",
    "# if it's rank is '1', then it is selected\n",
    "# features with rank '2' or more are not selected\n",
    "print(f'Rank of each feature is : {selector.ranking_}')\n",
    "print(f'Shape of feature matrix after feature selection:{X_new.shape}')"
   ]
  },
  {
   "cell_type": "markdown",
   "metadata": {},
   "source": [
    "### RFE-CV (Recursive Feature Elimination - Cross Validation)\n",
    "\n",
    "This is same as `RFE`, but it just adds another layer of cross validation to `RFE`."
   ]
  },
  {
   "cell_type": "markdown",
   "metadata": {},
   "source": [
    "### Select From Model\n",
    "\n",
    "Selects desired no. of important features (as specified with `max_features` parameter) above certain threshold of feature importance as obtained from the trained estimator.\n",
    "- The feature importance is obtained via `coef_`, `feature_importances_` or an `importance_getter` callable from the trained estimator.\n",
    "- The feature importance threshold can be specified either numerically or through string argument based on built-in heuristics such as `mean`, `median` and float multiple of these like `0.1*mean`."
   ]
  },
  {
   "cell_type": "markdown",
   "metadata": {},
   "source": [
    "The following example uses the `California housing` dataset. Using `SelectFromModel` the top $3$ features are selected."
   ]
  },
  {
   "cell_type": "code",
   "execution_count": 112,
   "metadata": {},
   "outputs": [
    {
     "name": "stdout",
     "output_type": "stream",
     "text": [
      "Coefficients of features: [ 3.64048292e-01  5.56221906e-03  5.13591243e-02 -1.64474348e-01\n",
      "  5.90411479e-05 -1.64573915e-01 -2.17724525e-01 -1.85343265e-01]\n",
      "Indices of top 3 features: [1 2 0]\n",
      "Shape of feature matrix after feature selection:(2000, 3)\n"
     ]
    }
   ],
   "source": [
    "from sklearn.feature_selection import SelectFromModel\n",
    "from sklearn.linear_model import LinearRegression\n",
    "\n",
    "# select a subset of data from the California dataset\n",
    "X,y = X_california[:2000,:],y_california[:2000]\n",
    "\n",
    "estimator = LinearRegression()\n",
    "estimator.fit(X, y)\n",
    "\n",
    "print(f'Coefficients of features: {estimator.coef_}')\n",
    "print(f'Indices of top {3} features: {np.argsort(estimator.coef_)[-3:]}')\n",
    "t = np.argsort(np.abs(estimator.coef_))[-3:]\n",
    "model = SelectFromModel(estimator=estimator, max_features=3, prefit=True)\n",
    "X_new = model.transform(X)\n",
    "print(f'Shape of feature matrix after feature selection:{X_new.shape}')"
   ]
  },
  {
   "cell_type": "markdown",
   "metadata": {},
   "source": [
    "### Sequential Featue Selection\n",
    "\n",
    "It performs feature selection by selecting or deselecting features one by one in a greedy manner. These uses one of the $2$ approaches ---\n",
    "- Forward Selection\n",
    "- Backward Selection\n",
    "\n",
    "The `direction` parameter controls whether *forward* or *backward* SFS is used.\n",
    "\n",
    "- In general, forward and backward selection *do not* yield equivalent results.\n",
    "- Select the direction that is efficient for the required number of selected features.\n"
   ]
  },
  {
   "cell_type": "code",
   "execution_count": 115,
   "metadata": {},
   "outputs": [],
   "source": [
    "from sklearn.feature_selection import SequentialFeatureSelector\n",
    "\n",
    "# select a subset of data from the California dataset\n",
    "X,y = X_california[:2000,:],y_california[:2000]\n",
    "\n",
    "estimator = LinearRegression()"
   ]
  },
  {
   "cell_type": "markdown",
   "metadata": {},
   "source": [
    "1. Forward Selection\n",
    "\n",
    "Starting with a zero feature, it finds one feature that obtains the best cross validation score for an estimator when trained on that feature.\n",
    "\n",
    "Repeats the process by adding a new feature to the set of selected features.\n",
    "\n",
    "> Stops when reach the desired number of features."
   ]
  },
  {
   "cell_type": "code",
   "execution_count": 116,
   "metadata": {},
   "outputs": [
    {
     "name": "stdout",
     "output_type": "stream",
     "text": [
      "[ True False False False False  True  True False]\n",
      "Shape of feature matrix after feature selection:(2000, 3)\n",
      "CPU times: user 637 ms, sys: 192 ms, total: 829 ms\n",
      "Wall time: 123 ms\n"
     ]
    }
   ],
   "source": [
    "%%time\n",
    "\n",
    "# By default direction='forward'\n",
    "sfs = SequentialFeatureSelector(estimator=estimator, n_features_to_select=3)\n",
    "X_new = sfs.fit_transform(X,y)\n",
    "print(sfs.get_support())\n",
    "print(f'Shape of feature matrix after feature selection:{X_new.shape}')"
   ]
  },
  {
   "cell_type": "markdown",
   "metadata": {},
   "source": [
    "2. Backward Selection\n",
    "\n",
    "Starting with all features and removes least important features one by one following the idea of forward selection.\n",
    "\n",
    "> Stops when reach the desired number of features."
   ]
  },
  {
   "cell_type": "code",
   "execution_count": 117,
   "metadata": {},
   "outputs": [
    {
     "name": "stdout",
     "output_type": "stream",
     "text": [
      "[ True False False False False  True  True False]\n",
      "Shape of feature matrix after feature selection:(2000, 3)\n",
      "CPU times: user 1.09 s, sys: 301 ms, total: 1.39 s\n",
      "Wall time: 199 ms\n"
     ]
    }
   ],
   "source": [
    "%%time\n",
    "\n",
    "sfs = SequentialFeatureSelector(estimator=estimator, n_features_to_select=3, direction='backward')\n",
    "X_new = sfs.fit_transform(X,y)\n",
    "print(sfs.get_support())\n",
    "print(f'Shape of feature matrix after feature selection:{X_new.shape}')"
   ]
  },
  {
   "cell_type": "markdown",
   "metadata": {},
   "source": [
    "A couple of observations:\n",
    "- Both `forward` and `backward` selection methods select the same features.\n",
    "- The `backward` selection method takes longer than `forward` selection method, because we just had to select $3$ features in `forward` instead of removing $7$ in `backward`.\n",
    "\n",
    "So, depending upon the no. of features, SFS can accomplish feature selection in different periods for backward and forward and we need to select the direction carefully."
   ]
  },
  {
   "cell_type": "markdown",
   "metadata": {},
   "source": [
    "## 11. PCA\n",
    "\n",
    "PCA is used to decompose a multivariate dataset in a set of successive orthogonal components that capture maximum amount of the variance.\n",
    "\n",
    "It helps in reducing dimensions of a dataset, thus computational cost of next steps e.g. training a model, cross validation etc."
   ]
  },
  {
   "cell_type": "markdown",
   "metadata": {},
   "source": [
    "Let's generate some artificial data to better under PCA:"
   ]
  },
  {
   "cell_type": "code",
   "execution_count": 137,
   "metadata": {},
   "outputs": [
    {
     "data": {
      "image/png": "[encoded data removed]",
      "text/plain": [
       "<Figure size 432x288 with 1 Axes>"
      ]
     },
     "metadata": {
      "needs_background": "light"
     },
     "output_type": "display_data"
    }
   ],
   "source": [
    "#@title [Generate synthetic dataset]\n",
    "rand = np.random.RandomState(1)\n",
    "X = np.dot(rand.rand(2, 2), rand.randn(2, 200)).T\n",
    "\n",
    "plt.figure()\n",
    "plt.title('Data points', size = 20)\n",
    "\n",
    "# set x and y labels\n",
    "plt.xlabel('$x_1$', size=20)\n",
    "plt.ylabel('$x_2$', size=20, rotation = 0)\n",
    "\n",
    "# plot the data points\n",
    "plt.scatter(X[:, 0], X[:, 1], alpha=0.5)\n",
    "plt.axis('equal');"
   ]
  },
  {
   "cell_type": "markdown",
   "metadata": {},
   "source": [
    "Let's fit a `PCA` transformer on this data and compute its $2$ principal components:"
   ]
  },
  {
   "cell_type": "code",
   "execution_count": 138,
   "metadata": {},
   "outputs": [
    {
     "data": {
      "text/plain": [
       "PCA(n_components=2)"
      ]
     },
     "execution_count": 138,
     "metadata": {},
     "output_type": "execute_result"
    }
   ],
   "source": [
    "from sklearn.decomposition import PCA\n",
    "pca = PCA(n_components=2)\n",
    "pca.fit(X)"
   ]
  },
  {
   "cell_type": "markdown",
   "metadata": {},
   "source": [
    "Let's print the principal azes, they are two $2D$ vectors for this example. The PCA object returns them in the form of a matrix, where **each column represents a principal component:**"
   ]
  },
  {
   "cell_type": "code",
   "execution_count": 139,
   "metadata": {},
   "outputs": [
    {
     "name": "stdout",
     "output_type": "stream",
     "text": [
      "The 2 principal axes are:\n",
      " [[-0.94446029 -0.32862557]\n",
      " [-0.32862557  0.94446029]]\n"
     ]
    }
   ],
   "source": [
    "print(f'The {pca.n_components_} principal axes are:\\n', pca.components_)"
   ]
  },
  {
   "cell_type": "markdown",
   "metadata": {},
   "source": [
    "Let's also look at the explained variance corresponding to each principal axes."
   ]
  },
  {
   "cell_type": "code",
   "execution_count": 140,
   "metadata": {},
   "outputs": [
    {
     "name": "stdout",
     "output_type": "stream",
     "text": [
      "Explained variance by each component:  [0.7625315 0.0184779]\n"
     ]
    }
   ],
   "source": [
    "print('Explained variance by each component: ', pca.explained_variance_)"
   ]
  },
  {
   "cell_type": "code",
   "execution_count": 141,
   "metadata": {},
   "outputs": [
    {
     "name": "stdout",
     "output_type": "stream",
     "text": [
      "Mean across x1 and x2 dimensions is:  [ 0.03351168 -0.00408072]\n"
     ]
    }
   ],
   "source": [
    "print('Mean across x1 and x2 dimensions is: ', pca.mean_)"
   ]
  },
  {
   "cell_type": "markdown",
   "metadata": {},
   "source": [
    "To better understand PCA, let's visualize these principal axes.\n",
    "- There are $2$ principal axes $C_1$ and $C_2$. They are orthogonal to each other. An additional vector $C_3$ is also mentioned for comparison.\n",
    "- The lengths of $C_1$ and $C_2$ are takenn as the square root of respective explained variance. The length of the vector basically represents how important that vector is."
   ]
  },
  {
   "cell_type": "markdown",
   "metadata": {},
   "source": [
    "Let's the principal components."
   ]
  },
  {
   "cell_type": "code",
   "execution_count": 142,
   "metadata": {},
   "outputs": [
    {
     "data": {
      "image/png": "[encoded data removed]",
      "text/plain": [
       "<Figure size 432x288 with 1 Axes>"
      ]
     },
     "metadata": {
      "needs_background": "light"
     },
     "output_type": "display_data"
    }
   ],
   "source": [
    "#@title [Visualize principal components]\n",
    "# set x and y labels\n",
    "plt.figure()\n",
    "plt.title('Data and candidate vectors', size = 20)\n",
    "plt.xlabel('$x_1$', size=20)\n",
    "plt.ylabel('$x_2$', size=20, rotation = 0)\n",
    "\n",
    "# plot data points\n",
    "plt.scatter(X[:, 0], X[:, 1], alpha=0.3)\n",
    "\n",
    "for length, principal_axis, axis_name, i_color in zip(pca.explained_variance_, \n",
    "                                    pca.components_, \n",
    "                                    ['$\\mathbf{C_1}$','$\\mathbf{C_2}$'],\n",
    "                                    ['r','b']):\n",
    "    v = principal_axis * np.sqrt(length)\n",
    "    v0, v1 = pca.mean_, pca.mean_ + v\n",
    "\n",
    "    # draw principal axis\n",
    "    plt.quiver(*v0,*(v1-v0),scale=0.33, scale_units='xy', color=i_color)\n",
    "\n",
    "    # label the  principal axis\n",
    "    plt.text(*(3.4*v1), axis_name, size = 20)\n",
    "\n",
    "# draw 3rd component\n",
    "lengths = np.eye(2)\n",
    "np.fill_diagonal(lengths, np.sqrt(pca.explained_variance_))\n",
    "\n",
    "c3 = pca.mean_+[-0.5,0.3]\n",
    "\n",
    "plt.quiver(*pca.mean_,\n",
    "           *(1.1*(c3-pca.mean_)),\n",
    "           scale=1,\n",
    "           scale_units='xy',\n",
    "           color='grey')\n",
    "\n",
    "# label the  principal axis\n",
    "plt.text(*(1.4*c3), \n",
    "         '$\\mathbf{C_3}$', \n",
    "         size = 20,\n",
    "         color='grey')\n",
    "\n",
    "plt.axis('equal')\n",
    "plt.show()"
   ]
  },
  {
   "cell_type": "code",
   "execution_count": 143,
   "metadata": {},
   "outputs": [
    {
     "name": "stdout",
     "output_type": "stream",
     "text": [
      "(200, 2)\n",
      "(200,)\n"
     ]
    }
   ],
   "source": [
    "# draw projections of data points on different vectors\n",
    "projections = X @ pca.components_\n",
    "print(projections.shape)\n",
    "\n",
    "arbitrary_projection = X@c3\n",
    "print(arbitrary_projection.shape)"
   ]
  },
  {
   "cell_type": "code",
   "execution_count": 144,
   "metadata": {},
   "outputs": [
    {
     "data": {
      "image/png": "[encoded data removed]",
      "text/plain": [
       "<Figure size 576x432 with 1 Axes>"
      ]
     },
     "metadata": {
      "needs_background": "light"
     },
     "output_type": "display_data"
    }
   ],
   "source": [
    "plt.figure(figsize=(8,6))\n",
    "plt.scatter(projections[:,0], 1+np.zeros((200,1)), alpha=0.3, color='r')\n",
    "plt.scatter(arbitrary_projection, np.zeros((200,)), alpha=0.3, color='grey')\n",
    "plt.scatter(projections[:,1], -1+np.zeros((200,1)), alpha=0.3, color='b')\n",
    "plt.legend(['$C_1$', '$C_3$', '$C_2$'], prop={'size':16})\n",
    "plt.title(\"Variance covered by different vectors\", size = 20)\n",
    "plt.ylim([-1.5,1.5])\n",
    "plt.axis('equal')\n",
    "plt.grid(True)\n",
    "plt.yticks([],[])\n",
    "plt.xlabel('$z$', size = 20)\n",
    "plt.show()"
   ]
  },
  {
   "cell_type": "markdown",
   "metadata": {},
   "source": [
    "### Reducing Dimensions\n",
    "\n",
    "We can use PCA to reduce number of dimensions of a dataset. The components that are least important i.e. their explained variance is low, are removied and only those components that capture high (i.e. desired) amount of variance are kept.\n",
    "\n",
    "> Note: Only the components orthogonal to the kept components are kept, to capture the maximum variance."
   ]
  },
  {
   "cell_type": "markdown",
   "metadata": {},
   "source": [
    "Let's reduce the dimension of our data from $2$ to $1$. You can observe the transformed data only $1$ feature."
   ]
  },
  {
   "cell_type": "code",
   "execution_count": 145,
   "metadata": {},
   "outputs": [
    {
     "name": "stdout",
     "output_type": "stream",
     "text": [
      "Original Shape:  (200, 2)\n",
      "PCA transformed Shape:  (200, 1)\n"
     ]
    }
   ],
   "source": [
    "pca = PCA(n_components=1)\n",
    "pca.fit(X)\n",
    "X_pca = pca.transform(X)\n",
    "print(\"Original Shape: \", X.shape)\n",
    "print(\"PCA transformed Shape: \", X_pca.shape)"
   ]
  },
  {
   "cell_type": "markdown",
   "metadata": {},
   "source": [
    "To better understand what happened to our data, let's visualize our original data and the reduced data.\n",
    "\n",
    "To fo this, we will need to bring the transformed data into the space of the original data, which can be accomplished by `inverse_transform` method of the `PCA` object."
   ]
  },
  {
   "cell_type": "code",
   "execution_count": 146,
   "metadata": {},
   "outputs": [
    {
     "data": {
      "image/png": "[encoded data removed]",
      "text/plain": [
       "<Figure size 432x288 with 1 Axes>"
      ]
     },
     "metadata": {
      "needs_background": "light"
     },
     "output_type": "display_data"
    }
   ],
   "source": [
    "#@title [Visualize data in PC space]\n",
    "# inverse transform the reduced data\n",
    "X_new = pca.inverse_transform(X_pca)\n",
    "\n",
    "plt.figure()\n",
    "plt.title('PCA: Reducing Dimensions', size = 20)\n",
    "plt.xlabel('$x_1$', size=20)\n",
    "plt.ylabel('$x_2$', size=20, rotation = 0)\n",
    "\n",
    "plt.scatter(X[:, 0], X[:, 1], alpha=0.2)\n",
    "plt.scatter(X_new[:, 0], X_new[:, 1], alpha=0.3, c='r')\n",
    "plt.legend(['Original Data', 'Projected Data'], prop={'size' : 16})\n",
    "plt.axis('equal')\n",
    "plt.show()"
   ]
  },
  {
   "cell_type": "markdown",
   "metadata": {},
   "source": [
    "From the above chart it is clear that the new/transformed data points are now projected on $C_1$ vector.\n",
    "\n",
    "These new data points seems to be reasonably capturing the old data points."
   ]
  },
  {
   "cell_type": "markdown",
   "metadata": {},
   "source": [
    "## 12. Chaining Transformers\n",
    "\n",
    "The preprocessing transformations are applied one after another on the input feature matrix.\n",
    "\n",
    "> It is very important to apply exactly the same transformations on training, evaluation and test set in the same order.\n",
    "\n",
    "Failing to do so would lead to incorrect predictions from the model due to distribution shift ans hence incorrect performance evaluation.\n",
    "\n",
    "The `sklearn.pipeline` module provides utilities to build a composite estimator, as a chain of transformers and estimators."
   ]
  },
  {
   "cell_type": "markdown",
   "metadata": {},
   "source": [
    "### Pipeline\n",
    "\n",
    "Sequentially apply a list of transformers and estimators.\n",
    "- Intermediate steps of the pipeline must be `transformers` that is, they must implement `fit` and `transform` methods.\n",
    "- The final final estimator only needs to implement `fit`.\n",
    "\n",
    "The purpose of the pipeline is to assemble several steps that can be cross-validated together while setting different parameters."
   ]
  },
  {
   "cell_type": "markdown",
   "metadata": {},
   "source": [
    "**Creating Pipelines**\n",
    "\n",
    "A pipeline can be creaed with `Pipeline()`. It takes a list of `('estimatorName', estimator(...))` tuples. The pipeline object exposes the iterface of the last step."
   ]
  },
  {
   "cell_type": "code",
   "execution_count": 147,
   "metadata": {},
   "outputs": [],
   "source": [
    "from sklearn.pipeline import Pipeline\n",
    "from sklearn.impute import SimpleImputer\n",
    "from sklearn.preprocessing import StandardScaler\n",
    "\n",
    "estimators = [\n",
    "    ('SimpleImputer', SimpleImputer()),\n",
    "    ('standardScaler', StandardScaler()),\n",
    "]\n",
    "\n",
    "pipe = Pipeline(steps=estimators)"
   ]
  },
  {
   "cell_type": "markdown",
   "metadata": {},
   "source": [
    "The same pipeline can also be created via `make_pipeline()` helper function, which doesn't take names of the steps and assigns them generic names based on their steps."
   ]
  },
  {
   "cell_type": "code",
   "execution_count": 148,
   "metadata": {},
   "outputs": [],
   "source": [
    "from sklearn.pipeline import make_pipeline\n",
    "\n",
    "pipe = make_pipeline(SimpleImputer(), \n",
    "                    StandardScaler())"
   ]
  },
  {
   "cell_type": "markdown",
   "metadata": {},
   "source": [
    "**Accessing individual steps in a pipeline**"
   ]
  },
  {
   "cell_type": "code",
   "execution_count": 149,
   "metadata": {},
   "outputs": [],
   "source": [
    "from sklearn.impute import SimpleImputer\n",
    "from sklearn.decomposition import PCA\n",
    "from sklearn.linear_model import LinearRegression\n",
    "\n",
    "estimators = [\n",
    "    ('SimpleImputer', SimpleImputer()),\n",
    "    ('pca', PCA()),\n",
    "    ('regressor', LinearRegression()),\n",
    "]\n",
    "\n",
    "pipe = Pipeline(steps=estimators)"
   ]
  },
  {
   "cell_type": "markdown",
   "metadata": {},
   "source": [
    "Let's print number of steps in this pipeline:"
   ]
  },
  {
   "cell_type": "code",
   "execution_count": 150,
   "metadata": {},
   "outputs": [
    {
     "name": "stdout",
     "output_type": "stream",
     "text": [
      "3\n"
     ]
    }
   ],
   "source": [
    "print(len(pipe.steps))"
   ]
  },
  {
   "cell_type": "markdown",
   "metadata": {},
   "source": [
    "Let's look at each of the steps:"
   ]
  },
  {
   "cell_type": "code",
   "execution_count": 151,
   "metadata": {},
   "outputs": [
    {
     "name": "stdout",
     "output_type": "stream",
     "text": [
      "[('SimpleImputer', SimpleImputer()), ('pca', PCA()), ('regressor', LinearRegression())]\n"
     ]
    }
   ],
   "source": [
    "print(pipe.steps)"
   ]
  },
  {
   "cell_type": "markdown",
   "metadata": {},
   "source": [
    "The estimators can be accessed in the following $4$ ways.\n",
    "Suppose we want to access the $2nd$ estimator:"
   ]
  },
  {
   "cell_type": "code",
   "execution_count": 152,
   "metadata": {},
   "outputs": [
    {
     "name": "stdout",
     "output_type": "stream",
     "text": [
      "PCA()\n"
     ]
    }
   ],
   "source": [
    "print(pipe.named_steps.pca)"
   ]
  },
  {
   "cell_type": "code",
   "execution_count": 153,
   "metadata": {},
   "outputs": [
    {
     "data": {
      "text/plain": [
       "('pca', PCA())"
      ]
     },
     "execution_count": 153,
     "metadata": {},
     "output_type": "execute_result"
    }
   ],
   "source": [
    "pipe.steps[1]"
   ]
  },
  {
   "cell_type": "code",
   "execution_count": 154,
   "metadata": {},
   "outputs": [
    {
     "data": {
      "text/plain": [
       "PCA()"
      ]
     },
     "execution_count": 154,
     "metadata": {},
     "output_type": "execute_result"
    }
   ],
   "source": [
    "pipe[1]"
   ]
  },
  {
   "cell_type": "code",
   "execution_count": 155,
   "metadata": {},
   "outputs": [
    {
     "data": {
      "text/plain": [
       "PCA()"
      ]
     },
     "execution_count": 155,
     "metadata": {},
     "output_type": "execute_result"
    }
   ],
   "source": [
    "pipe['pca']"
   ]
  },
  {
   "cell_type": "markdown",
   "metadata": {},
   "source": [
    "**Accessing parameters of a step in pipeline**\n",
    "\n",
    "Parameters of the estimators in the pipeline can be accessed using the __syntax (note that there are $2$ underscores between)."
   ]
  },
  {
   "cell_type": "code",
   "execution_count": 156,
   "metadata": {},
   "outputs": [
    {
     "data": {
      "text/plain": [
       "Pipeline(steps=[('SimpleImputer', SimpleImputer()),\n",
       "                ('pca', PCA(n_components=2)),\n",
       "                ('regressor', LinearRegression())])"
      ]
     },
     "execution_count": 156,
     "metadata": {},
     "output_type": "execute_result"
    }
   ],
   "source": [
    "estimators = [\n",
    "    ('SimpleImputer', SimpleImputer()),\n",
    "    ('pca', PCA()),\n",
    "    ('regressor', LinearRegression()),\n",
    "]\n",
    "\n",
    "pipe = Pipeline(steps=estimators)\n",
    "\n",
    "pipe.set_params(pca__n_components = 2)"
   ]
  },
  {
   "cell_type": "markdown",
   "metadata": {},
   "source": [
    "In the above example `n_components` of `PCA()` step is set after the pipeline is created."
   ]
  },
  {
   "cell_type": "markdown",
   "metadata": {},
   "source": [
    "### Grid Search with Pipeline"
   ]
  },
  {
   "cell_type": "markdown",
   "metadata": {},
   "source": [
    "By using the naming convention of nested parameters, grid search can be implemented."
   ]
  },
  {
   "cell_type": "code",
   "execution_count": 159,
   "metadata": {},
   "outputs": [],
   "source": [
    "from sklearn.impute import SimpleImputer, KNNImputer\n",
    "from sklearn.linear_model import LogisticRegression\n",
    "from sklearn.svm import SVC\n",
    "from sklearn.model_selection import GridSearchCV\n",
    "\n",
    "param_grid = dict(\n",
    "    imputer=[\n",
    "        'passthrough',\n",
    "        SimpleImputer(),\n",
    "        KNNImputer(),        \n",
    "    ],\n",
    "    clf=[\n",
    "        SVC(),\n",
    "        LogisticRegression(),\n",
    "    ],\n",
    "    clf_C=[\n",
    "        0.1,\n",
    "        10,\n",
    "        100,\n",
    "    ],    \n",
    ")\n",
    "\n",
    "grid_search = GridSearchCV(pipe, param_grid=param_grid)"
   ]
  },
  {
   "cell_type": "markdown",
   "metadata": {},
   "source": [
    "- `C` is an inverse of regularization, the lower its value, the stronger the regularization is.\n",
    "\n",
    "- In the example above `clf_C` provides a set of values for grid search.\n",
    "\n",
    "More on `GridSearchCV` will be covered later in the course."
   ]
  },
  {
   "cell_type": "markdown",
   "metadata": {},
   "source": [
    "### Caching Transformers\n",
    "\n",
    "Transforming data is a computationally expensive step.\n",
    "- For grid search, transformers need not be applied for every parameter configuration. They can be applied only once, and the transformed data can be reused.\n",
    "\n",
    "This can be achieved by setting `memory` parameter of a `pipeline` object."
   ]
  },
  {
   "cell_type": "code",
   "execution_count": null,
   "metadata": {},
   "outputs": [],
   "source": [
    "import tempfile\n",
    "tempDirPath = tempfile.TemporaryDirectory()\n",
    "\n",
    "# tempDirPath directs to a temporary location, which can be used and deleted after use."
   ]
  },
  {
   "cell_type": "code",
   "execution_count": null,
   "metadata": {},
   "outputs": [],
   "source": [
    "estimators = [\n",
    "    ('SimpleImputer', SimpleImputer()),\n",
    "    ('pca', PCA()),\n",
    "    ('regressor', LinearRegression()),\n",
    "]\n",
    "\n",
    "pipe = Pipeline(steps=estimators, memory= tempDirPath)"
   ]
  },
  {
   "cell_type": "markdown",
   "metadata": {},
   "source": [
    "### Feature Union\n",
    "\n",
    "Concatenates results of multiple transformer objects.\n",
    "- Applies a list of transformer objects in parallel, and their outputs are concatenated side-by-side into a larger matrix.\n",
    "\n",
    "`FeatureUnion` and `Pipeline` can be used to create complex transformers."
   ]
  },
  {
   "cell_type": "markdown",
   "metadata": {},
   "source": [
    "# 13. Visualizing Pipelines"
   ]
  },
  {
   "cell_type": "code",
   "execution_count": 161,
   "metadata": {},
   "outputs": [],
   "source": [
    "from sklearn.preprocessing import StandardScaler, LabelBinarizer\n",
    "from sklearn.pipeline import Pipeline, FeatureUnion\n",
    "from sklearn.compose import ColumnTransformer\n",
    "from sklearn.impute import SimpleImputer\n",
    "\n",
    "# We will create separate Pipelines for numerical and categorical features and combine them using FeatureUnion.\n",
    "\n",
    "# for numerical features\n",
    "# We need to select the numerical features via ColumnTransformer first and then process them.\n",
    "num_pipeline = Pipeline([('selector',ColumnTransformer([('select_first_4',\n",
    "                                                         'passthrough',\n",
    "                                                         slice(0,4))])),\n",
    "                        # This just selects the first 4 and creates their copy without doing anything to them, after which these methods below transform them\n",
    "                         ('imputer', SimpleImputer(strategy=\"median\")),\n",
    "                         ('std_scaler', StandardScaler()),\n",
    "                        ])\n",
    "\n",
    "# for categorical features\n",
    "# Since we have to process just one column, we don't need a whole pipeline, just selecting that column through column transformer and processing it is enough.\n",
    "cat_pipeline = ColumnTransformer([('label_binarizer', LabelBinarizer(),[4]),\n",
    "                                  ])\n",
    "\n",
    "# combining both the pipelines\n",
    "full_pipeline = FeatureUnion(transformer_list=\n",
    "                             [(\"num_pipeline\", num_pipeline),\n",
    "                              (\"cat_pipeline\", cat_pipeline),])"
   ]
  },
  {
   "cell_type": "code",
   "execution_count": 162,
   "metadata": {},
   "outputs": [
    {
     "data": {
      "text/html": [
       "<style>div.sk-top-container {color: black;background-color: white;}div.sk-toggleable {background-color: white;}label.sk-toggleable__label {cursor: pointer;display: block;width: 100%;margin-bottom: 0;padding: 0.2em 0.3em;box-sizing: border-box;text-align: center;}div.sk-toggleable__content {max-height: 0;max-width: 0;overflow: hidden;text-align: left;background-color: #f0f8ff;}div.sk-toggleable__content pre {margin: 0.2em;color: black;border-radius: 0.25em;background-color: #f0f8ff;}input.sk-toggleable__control:checked~div.sk-toggleable__content {max-height: 200px;max-width: 100%;overflow: auto;}div.sk-estimator input.sk-toggleable__control:checked~label.sk-toggleable__label {background-color: #d4ebff;}div.sk-label input.sk-toggleable__control:checked~label.sk-toggleable__label {background-color: #d4ebff;}input.sk-hidden--visually {border: 0;clip: rect(1px 1px 1px 1px);clip: rect(1px, 1px, 1px, 1px);height: 1px;margin: -1px;overflow: hidden;padding: 0;position: absolute;width: 1px;}div.sk-estimator {font-family: monospace;background-color: #f0f8ff;margin: 0.25em 0.25em;border: 1px dotted black;border-radius: 0.25em;box-sizing: border-box;}div.sk-estimator:hover {background-color: #d4ebff;}div.sk-parallel-item::after {content: \"\";width: 100%;border-bottom: 1px solid gray;flex-grow: 1;}div.sk-label:hover label.sk-toggleable__label {background-color: #d4ebff;}div.sk-serial::before {content: \"\";position: absolute;border-left: 1px solid gray;box-sizing: border-box;top: 2em;bottom: 0;left: 50%;}div.sk-serial {display: flex;flex-direction: column;align-items: center;background-color: white;}div.sk-item {z-index: 1;}div.sk-parallel {display: flex;align-items: stretch;justify-content: center;background-color: white;}div.sk-parallel-item {display: flex;flex-direction: column;position: relative;background-color: white;}div.sk-parallel-item:first-child::after {align-self: flex-end;width: 50%;}div.sk-parallel-item:last-child::after {align-self: flex-start;width: 50%;}div.sk-parallel-item:only-child::after {width: 0;}div.sk-dashed-wrapped {border: 1px dashed gray;margin: 0.2em;box-sizing: border-box;padding-bottom: 0.1em;background-color: white;position: relative;}div.sk-label label {font-family: monospace;font-weight: bold;background-color: white;display: inline-block;line-height: 1.2em;}div.sk-label-container {position: relative;z-index: 2;text-align: center;}div.sk-container {display: inline-block;position: relative;}</style><div class=\"sk-top-container\"><div class=\"sk-container\"><div class=\"sk-item sk-dashed-wrapped\"><div class=\"sk-label-container\"><div class=\"sk-label sk-toggleable\"><input class=\"sk-toggleable__control sk-hidden--visually\" id=\"3e830e15-9bc8-40a0-8425-e42e064697a7\" type=\"checkbox\" ><label class=\"sk-toggleable__label\" for=\"3e830e15-9bc8-40a0-8425-e42e064697a7\">FeatureUnion</label><div class=\"sk-toggleable__content\"><pre>FeatureUnion(transformer_list=[('num_pipeline',\n",
       "                                Pipeline(steps=[('selector',\n",
       "                                                 ColumnTransformer(transformers=[('select_first_4',\n",
       "                                                                                  'passthrough',\n",
       "                                                                                  slice(0, 4, None))])),\n",
       "                                                ('imputer',\n",
       "                                                 SimpleImputer(strategy='median')),\n",
       "                                                ('std_scaler',\n",
       "                                                 StandardScaler())])),\n",
       "                               ('cat_pipeline',\n",
       "                                ColumnTransformer(transformers=[('label_binarizer',\n",
       "                                                                 LabelBinarizer(),\n",
       "                                                                 [4])]))])</pre></div></div></div><div class=\"sk-parallel\"><div class=\"sk-parallel-item\"><div class=\"sk-item\"><div class=\"sk-label-container\"><div class=\"sk-label sk-toggleable\"><label>num_pipeline</label></div></div><div class=\"sk-serial\"><div class=\"sk-item\"><div class=\"sk-serial\"><div class=\"sk-item sk-dashed-wrapped\"><div class=\"sk-label-container\"><div class=\"sk-label sk-toggleable\"><input class=\"sk-toggleable__control sk-hidden--visually\" id=\"fee8b12a-66b8-421f-a1dd-80c9a0762afe\" type=\"checkbox\" ><label class=\"sk-toggleable__label\" for=\"fee8b12a-66b8-421f-a1dd-80c9a0762afe\">selector: ColumnTransformer</label><div class=\"sk-toggleable__content\"><pre>ColumnTransformer(transformers=[('select_first_4', 'passthrough',\n",
       "                                 slice(0, 4, None))])</pre></div></div></div><div class=\"sk-parallel\"><div class=\"sk-parallel-item\"><div class=\"sk-item\"><div class=\"sk-label-container\"><div class=\"sk-label sk-toggleable\"><input class=\"sk-toggleable__control sk-hidden--visually\" id=\"40fbae1f-e224-49a2-bdab-6fbe1d844952\" type=\"checkbox\" ><label class=\"sk-toggleable__label\" for=\"40fbae1f-e224-49a2-bdab-6fbe1d844952\">select_first_4</label><div class=\"sk-toggleable__content\"><pre>slice(0, 4, None)</pre></div></div></div><div class=\"sk-serial\"><div class=\"sk-item\"><div class=\"sk-estimator sk-toggleable\"><input class=\"sk-toggleable__control sk-hidden--visually\" id=\"5d56ee11-f707-427c-9ea0-ef6d55f60de5\" type=\"checkbox\" ><label class=\"sk-toggleable__label\" for=\"5d56ee11-f707-427c-9ea0-ef6d55f60de5\">passthrough</label><div class=\"sk-toggleable__content\"><pre>passthrough</pre></div></div></div></div></div></div></div></div><div class=\"sk-item\"><div class=\"sk-estimator sk-toggleable\"><input class=\"sk-toggleable__control sk-hidden--visually\" id=\"a3589173-d323-414b-ad3f-ca5a979cf456\" type=\"checkbox\" ><label class=\"sk-toggleable__label\" for=\"a3589173-d323-414b-ad3f-ca5a979cf456\">SimpleImputer</label><div class=\"sk-toggleable__content\"><pre>SimpleImputer(strategy='median')</pre></div></div></div><div class=\"sk-item\"><div class=\"sk-estimator sk-toggleable\"><input class=\"sk-toggleable__control sk-hidden--visually\" id=\"7b496231-6dc1-4e2e-95af-4c8033bec43f\" type=\"checkbox\" ><label class=\"sk-toggleable__label\" for=\"7b496231-6dc1-4e2e-95af-4c8033bec43f\">StandardScaler</label><div class=\"sk-toggleable__content\"><pre>StandardScaler()</pre></div></div></div></div></div></div></div></div><div class=\"sk-parallel-item\"><div class=\"sk-item\"><div class=\"sk-label-container\"><div class=\"sk-label sk-toggleable\"><label>cat_pipeline</label></div></div><div class=\"sk-serial\"><div class=\"sk-item sk-dashed-wrapped\"><div class=\"sk-parallel\"><div class=\"sk-parallel-item\"><div class=\"sk-item\"><div class=\"sk-label-container\"><div class=\"sk-label sk-toggleable\"><input class=\"sk-toggleable__control sk-hidden--visually\" id=\"7f7a4a45-ec02-4ce1-9094-a8b44fd9b369\" type=\"checkbox\" ><label class=\"sk-toggleable__label\" for=\"7f7a4a45-ec02-4ce1-9094-a8b44fd9b369\">label_binarizer</label><div class=\"sk-toggleable__content\"><pre>[4]</pre></div></div></div><div class=\"sk-serial\"><div class=\"sk-item\"><div class=\"sk-estimator sk-toggleable\"><input class=\"sk-toggleable__control sk-hidden--visually\" id=\"ad15f50c-d311-45cb-8986-512fc1d68fee\" type=\"checkbox\" ><label class=\"sk-toggleable__label\" for=\"ad15f50c-d311-45cb-8986-512fc1d68fee\">LabelBinarizer</label><div class=\"sk-toggleable__content\"><pre>LabelBinarizer()</pre></div></div></div></div></div></div></div></div></div></div></div></div></div></div></div>"
      ],
      "text/plain": [
       "FeatureUnion(transformer_list=[('num_pipeline',\n",
       "                                Pipeline(steps=[('selector',\n",
       "                                                 ColumnTransformer(transformers=[('select_first_4',\n",
       "                                                                                  'passthrough',\n",
       "                                                                                  slice(0, 4, None))])),\n",
       "                                                ('imputer',\n",
       "                                                 SimpleImputer(strategy='median')),\n",
       "                                                ('std_scaler',\n",
       "                                                 StandardScaler())])),\n",
       "                               ('cat_pipeline',\n",
       "                                ColumnTransformer(transformers=[('label_binarizer',\n",
       "                                                                 LabelBinarizer(),\n",
       "                                                                 [4])]))])"
      ]
     },
     "execution_count": 162,
     "metadata": {},
     "output_type": "execute_result"
    }
   ],
   "source": [
    "from sklearn import set_config\n",
    "set_config(display='diagram')\n",
    "# displays HTML representation in a jupyter context\n",
    "full_pipeline"
   ]
  },
  {
   "cell_type": "code",
   "execution_count": 2,
   "metadata": {},
   "outputs": [],
   "source": [
    "# Another example of the same -- (from WEEK 2 - GA - 1)\n",
    "# For complete description check MLP_SWI_Week_2.ipynb\n",
    "from sklearn.impute import SimpleImputer\n",
    "from sklearn.preprocessing import StandardScaler, OrdinalEncoder\n",
    "from sklearn.pipeline import Pipeline, FeatureUnion\n",
    "from sklearn.compose import ColumnTransformer\n",
    "\n",
    "si = SimpleImputer(strategy='mean')\n",
    "ss = StandardScaler()\n",
    "oe = OrdinalEncoder()\n",
    "\n",
    "# Suppose this data has 5 features, first 4 being numerical and last being categorical.\n",
    "\n",
    "# for numerical features\n",
    "ct_si = ColumnTransformer([\n",
    "    ('simpleImpute_01', si, [0,1]),\n",
    "    ('pass_23', 'passthrough', [2,3]),\n",
    "])\n",
    "\n",
    "num_pipe = Pipeline([\n",
    "    ('selected_SI', ct_si),\n",
    "    ('standardScaler', ss),\n",
    "])\n",
    "\n",
    "# for categorical features\n",
    "# Since we have to process just one column, we don't need a whole pipeline, just selecting that column through column transformer and processing it is enough.\n",
    "cat_pipe = ColumnTransformer([\n",
    "    ('ordinalEncoder', oe, [4]),\n",
    "])\n",
    "\n",
    "# Combining these 2 pipelines\n",
    "combined_pipe = FeatureUnion([\n",
    "    ('numPipeline', num_pipe),\n",
    "    ('catPipeline', cat_pipe),\n",
    "])"
   ]
  },
  {
   "cell_type": "code",
   "execution_count": 3,
   "metadata": {},
   "outputs": [
    {
     "data": {
      "text/html": [
       "<style>div.sk-top-container {color: black;background-color: white;}div.sk-toggleable {background-color: white;}label.sk-toggleable__label {cursor: pointer;display: block;width: 100%;margin-bottom: 0;padding: 0.2em 0.3em;box-sizing: border-box;text-align: center;}div.sk-toggleable__content {max-height: 0;max-width: 0;overflow: hidden;text-align: left;background-color: #f0f8ff;}div.sk-toggleable__content pre {margin: 0.2em;color: black;border-radius: 0.25em;background-color: #f0f8ff;}input.sk-toggleable__control:checked~div.sk-toggleable__content {max-height: 200px;max-width: 100%;overflow: auto;}div.sk-estimator input.sk-toggleable__control:checked~label.sk-toggleable__label {background-color: #d4ebff;}div.sk-label input.sk-toggleable__control:checked~label.sk-toggleable__label {background-color: #d4ebff;}input.sk-hidden--visually {border: 0;clip: rect(1px 1px 1px 1px);clip: rect(1px, 1px, 1px, 1px);height: 1px;margin: -1px;overflow: hidden;padding: 0;position: absolute;width: 1px;}div.sk-estimator {font-family: monospace;background-color: #f0f8ff;margin: 0.25em 0.25em;border: 1px dotted black;border-radius: 0.25em;box-sizing: border-box;}div.sk-estimator:hover {background-color: #d4ebff;}div.sk-parallel-item::after {content: \"\";width: 100%;border-bottom: 1px solid gray;flex-grow: 1;}div.sk-label:hover label.sk-toggleable__label {background-color: #d4ebff;}div.sk-serial::before {content: \"\";position: absolute;border-left: 1px solid gray;box-sizing: border-box;top: 2em;bottom: 0;left: 50%;}div.sk-serial {display: flex;flex-direction: column;align-items: center;background-color: white;}div.sk-item {z-index: 1;}div.sk-parallel {display: flex;align-items: stretch;justify-content: center;background-color: white;}div.sk-parallel-item {display: flex;flex-direction: column;position: relative;background-color: white;}div.sk-parallel-item:first-child::after {align-self: flex-end;width: 50%;}div.sk-parallel-item:last-child::after {align-self: flex-start;width: 50%;}div.sk-parallel-item:only-child::after {width: 0;}div.sk-dashed-wrapped {border: 1px dashed gray;margin: 0.2em;box-sizing: border-box;padding-bottom: 0.1em;background-color: white;position: relative;}div.sk-label label {font-family: monospace;font-weight: bold;background-color: white;display: inline-block;line-height: 1.2em;}div.sk-label-container {position: relative;z-index: 2;text-align: center;}div.sk-container {display: inline-block;position: relative;}</style><div class=\"sk-top-container\"><div class=\"sk-container\"><div class=\"sk-item sk-dashed-wrapped\"><div class=\"sk-label-container\"><div class=\"sk-label sk-toggleable\"><input class=\"sk-toggleable__control sk-hidden--visually\" id=\"dc7e27c4-554b-4571-97ab-c7f6cf7b35fa\" type=\"checkbox\" ><label class=\"sk-toggleable__label\" for=\"dc7e27c4-554b-4571-97ab-c7f6cf7b35fa\">FeatureUnion</label><div class=\"sk-toggleable__content\"><pre>FeatureUnion(transformer_list=[('numPipeline',\n",
       "                                Pipeline(steps=[('selected_SI',\n",
       "                                                 ColumnTransformer(transformers=[('simpleImpute_01',\n",
       "                                                                                  SimpleImputer(),\n",
       "                                                                                  [0,\n",
       "                                                                                   1]),\n",
       "                                                                                 ('pass_23',\n",
       "                                                                                  'passthrough',\n",
       "                                                                                  [2,\n",
       "                                                                                   3])])),\n",
       "                                                ('standardScaler',\n",
       "                                                 StandardScaler())])),\n",
       "                               ('catPipeline',\n",
       "                                ColumnTransformer(transformers=[('ordinalEncoder',\n",
       "                                                                 OrdinalEncoder(),\n",
       "                                                                 [4])]))])</pre></div></div></div><div class=\"sk-parallel\"><div class=\"sk-parallel-item\"><div class=\"sk-item\"><div class=\"sk-label-container\"><div class=\"sk-label sk-toggleable\"><label>numPipeline</label></div></div><div class=\"sk-serial\"><div class=\"sk-item\"><div class=\"sk-serial\"><div class=\"sk-item sk-dashed-wrapped\"><div class=\"sk-label-container\"><div class=\"sk-label sk-toggleable\"><input class=\"sk-toggleable__control sk-hidden--visually\" id=\"40ae2dea-f461-4778-9d33-7e4ac4b5e97e\" type=\"checkbox\" ><label class=\"sk-toggleable__label\" for=\"40ae2dea-f461-4778-9d33-7e4ac4b5e97e\">selected_SI: ColumnTransformer</label><div class=\"sk-toggleable__content\"><pre>ColumnTransformer(transformers=[('simpleImpute_01', SimpleImputer(), [0, 1]),\n",
       "                                ('pass_23', 'passthrough', [2, 3])])</pre></div></div></div><div class=\"sk-parallel\"><div class=\"sk-parallel-item\"><div class=\"sk-item\"><div class=\"sk-label-container\"><div class=\"sk-label sk-toggleable\"><input class=\"sk-toggleable__control sk-hidden--visually\" id=\"7ace99a3-9af7-4af9-819b-d0890b5cb2ec\" type=\"checkbox\" ><label class=\"sk-toggleable__label\" for=\"7ace99a3-9af7-4af9-819b-d0890b5cb2ec\">simpleImpute_01</label><div class=\"sk-toggleable__content\"><pre>[0, 1]</pre></div></div></div><div class=\"sk-serial\"><div class=\"sk-item\"><div class=\"sk-estimator sk-toggleable\"><input class=\"sk-toggleable__control sk-hidden--visually\" id=\"d8088b4b-6036-4f50-9ff7-697c954c9be3\" type=\"checkbox\" ><label class=\"sk-toggleable__label\" for=\"d8088b4b-6036-4f50-9ff7-697c954c9be3\">SimpleImputer</label><div class=\"sk-toggleable__content\"><pre>SimpleImputer()</pre></div></div></div></div></div></div><div class=\"sk-parallel-item\"><div class=\"sk-item\"><div class=\"sk-label-container\"><div class=\"sk-label sk-toggleable\"><input class=\"sk-toggleable__control sk-hidden--visually\" id=\"c3c51bc8-9d78-4e2b-b522-ee192ff9f795\" type=\"checkbox\" ><label class=\"sk-toggleable__label\" for=\"c3c51bc8-9d78-4e2b-b522-ee192ff9f795\">pass_23</label><div class=\"sk-toggleable__content\"><pre>[2, 3]</pre></div></div></div><div class=\"sk-serial\"><div class=\"sk-item\"><div class=\"sk-estimator sk-toggleable\"><input class=\"sk-toggleable__control sk-hidden--visually\" id=\"f91525e8-c615-4cda-880c-425895f333af\" type=\"checkbox\" ><label class=\"sk-toggleable__label\" for=\"f91525e8-c615-4cda-880c-425895f333af\">passthrough</label><div class=\"sk-toggleable__content\"><pre>passthrough</pre></div></div></div></div></div></div></div></div><div class=\"sk-item\"><div class=\"sk-estimator sk-toggleable\"><input class=\"sk-toggleable__control sk-hidden--visually\" id=\"2a6b7218-b210-4377-850e-965b854d51d2\" type=\"checkbox\" ><label class=\"sk-toggleable__label\" for=\"2a6b7218-b210-4377-850e-965b854d51d2\">StandardScaler</label><div class=\"sk-toggleable__content\"><pre>StandardScaler()</pre></div></div></div></div></div></div></div></div><div class=\"sk-parallel-item\"><div class=\"sk-item\"><div class=\"sk-label-container\"><div class=\"sk-label sk-toggleable\"><label>catPipeline</label></div></div><div class=\"sk-serial\"><div class=\"sk-item sk-dashed-wrapped\"><div class=\"sk-parallel\"><div class=\"sk-parallel-item\"><div class=\"sk-item\"><div class=\"sk-label-container\"><div class=\"sk-label sk-toggleable\"><input class=\"sk-toggleable__control sk-hidden--visually\" id=\"8733185c-8c8a-4b16-aa57-7f67920e046f\" type=\"checkbox\" ><label class=\"sk-toggleable__label\" for=\"8733185c-8c8a-4b16-aa57-7f67920e046f\">ordinalEncoder</label><div class=\"sk-toggleable__content\"><pre>[4]</pre></div></div></div><div class=\"sk-serial\"><div class=\"sk-item\"><div class=\"sk-estimator sk-toggleable\"><input class=\"sk-toggleable__control sk-hidden--visually\" id=\"d8ec6aa8-0d43-4f35-8d89-01a39a51a695\" type=\"checkbox\" ><label class=\"sk-toggleable__label\" for=\"d8ec6aa8-0d43-4f35-8d89-01a39a51a695\">OrdinalEncoder</label><div class=\"sk-toggleable__content\"><pre>OrdinalEncoder()</pre></div></div></div></div></div></div></div></div></div></div></div></div></div></div></div>"
      ],
      "text/plain": [
       "FeatureUnion(transformer_list=[('numPipeline',\n",
       "                                Pipeline(steps=[('selected_SI',\n",
       "                                                 ColumnTransformer(transformers=[('simpleImpute_01',\n",
       "                                                                                  SimpleImputer(),\n",
       "                                                                                  [0,\n",
       "                                                                                   1]),\n",
       "                                                                                 ('pass_23',\n",
       "                                                                                  'passthrough',\n",
       "                                                                                  [2,\n",
       "                                                                                   3])])),\n",
       "                                                ('standardScaler',\n",
       "                                                 StandardScaler())])),\n",
       "                               ('catPipeline',\n",
       "                                ColumnTransformer(transformers=[('ordinalEncoder',\n",
       "                                                                 OrdinalEncoder(),\n",
       "                                                                 [4])]))])"
      ]
     },
     "execution_count": 3,
     "metadata": {},
     "output_type": "execute_result"
    }
   ],
   "source": [
    "from sklearn import set_config\n",
    "set_config(display='diagram')\n",
    "# displays HTML representation in a jupyter context\n",
    "combined_pipe"
   ]
  },
  {
   "cell_type": "markdown",
   "metadata": {},
   "source": [
    "# 14. Handling Imbalanced Data\n",
    "\n",
    "Imbalanced datasets are those where one class is very less represented than the other class. This kind of data results in less effiecient ML algorithms.\n",
    "\n",
    "There are $2$ main approaches to handle imbalanced data:\n",
    "- Undersampling\n",
    "- Oversampling\n",
    "\n",
    "![undersampling oversampling screenshot](Data_Imbalance_Handling.jpeg)"
   ]
  },
  {
   "cell_type": "markdown",
   "metadata": {},
   "source": [
    "We will demonstrate how to handle imbalance with the help of `wine quality` dataset that we have used earlier in this notebook.\n",
    "\n",
    "We will reload this dataset once more before using it for demonstration."
   ]
  },
  {
   "cell_type": "code",
   "execution_count": 165,
   "metadata": {},
   "outputs": [
    {
     "data": {
      "image/png": "[encoded data removed]",
      "text/plain": [
       "<Figure size 432x288 with 1 Axes>"
      ]
     },
     "metadata": {
      "needs_background": "light"
     },
     "output_type": "display_data"
    }
   ],
   "source": [
    "wine_data = pd.read_csv('https://archive.ics.uci.edu/ml/machine-learning-databases/wine-quality/winequality-red.csv', sep=\";\")\n",
    "\n",
    "# display the histogram of the target variable 'quality'\n",
    "plt.figure()\n",
    "wine_data['quality'].hist()\n",
    "plt.xlabel('Quality')\n",
    "plt.ylabel('Number of samples')\n",
    "plt.show()"
   ]
  },
  {
   "cell_type": "code",
   "execution_count": 171,
   "metadata": {},
   "outputs": [
    {
     "data": {
      "text/plain": [
       "5    681\n",
       "6    638\n",
       "7    199\n",
       "4     53\n",
       "8     18\n",
       "3     10\n",
       "Name: quality, dtype: int64"
      ]
     },
     "execution_count": 171,
     "metadata": {},
     "output_type": "execute_result"
    }
   ],
   "source": [
    "wine_data['quality'].value_counts()"
   ]
  },
  {
   "cell_type": "markdown",
   "metadata": {},
   "source": [
    "We can easily notice that wines of quality $5$ and $6$ are occuring much more frequently than others."
   ]
  },
  {
   "cell_type": "code",
   "execution_count": 172,
   "metadata": {},
   "outputs": [
    {
     "data": {
      "text/plain": [
       "(1599, 12)"
      ]
     },
     "execution_count": 172,
     "metadata": {},
     "output_type": "execute_result"
    }
   ],
   "source": [
    "wine_data.shape"
   ]
  },
  {
   "cell_type": "markdown",
   "metadata": {},
   "source": [
    "## Undersampling"
   ]
  },
  {
   "cell_type": "markdown",
   "metadata": {},
   "source": [
    "Undersampling refers to sampling from the majority class in order to keep only a part of these data points.\n",
    "\n",
    "It may be carried out using `RandomUnderSampler` class from the `imblearn` library."
   ]
  },
  {
   "cell_type": "code",
   "execution_count": 180,
   "metadata": {},
   "outputs": [],
   "source": [
    "from imblearn.under_sampling import RandomUnderSampler"
   ]
  },
  {
   "cell_type": "code",
   "execution_count": 177,
   "metadata": {},
   "outputs": [
    {
     "name": "stdout",
     "output_type": "stream",
     "text": [
      "class 3: (10, 12)\n",
      "class 4: (53, 12)\n",
      "class 5: (681, 12)\n",
      "class 6: (638, 12)\n",
      "class 7: (199, 12)\n",
      "class 8: (18, 12)\n"
     ]
    }
   ],
   "source": [
    "# class count\n",
    "class_count_3, class_count_4, class_count_5, class_count_6, class_count_7, class_count_8 = wine_data['quality'].value_counts()\n",
    "\n",
    "# separate class\n",
    "class_3 = wine_data[wine_data['quality'] == 3]\n",
    "class_4 = wine_data[wine_data['quality'] == 4]\n",
    "class_5 = wine_data[wine_data['quality'] == 5]\n",
    "class_6 = wine_data[wine_data['quality'] == 6]\n",
    "class_7 = wine_data[wine_data['quality'] == 7]\n",
    "class_8 = wine_data[wine_data['quality'] == 8]\n",
    "\n",
    "# print the shape of the class\n",
    "print('class 3:', class_3.shape)\n",
    "print('class 4:', class_4.shape)\n",
    "print('class 5:', class_5.shape)\n",
    "print('class 6:', class_6.shape)\n",
    "print('class 7:', class_7.shape)\n",
    "print('class 8:', class_8.shape)"
   ]
  },
  {
   "cell_type": "code",
   "execution_count": 178,
   "metadata": {},
   "outputs": [
    {
     "name": "stdout",
     "output_type": "stream",
     "text": [
      "Original dataset shape:  Counter({5: 681, 6: 638, 7: 199, 4: 53, 8: 18, 3: 10})\n",
      "Resampled dataset shape Counter({3: 10, 4: 10, 5: 10, 6: 10, 7: 10, 8: 10})\n"
     ]
    }
   ],
   "source": [
    "from collections import Counter\n",
    "# It allows you to count the items in an iterable list.\n",
    "\n",
    "X = wine_data.drop(['quality'], axis=1)\n",
    "y = wine_data['quality']\n",
    "\n",
    "undersample = RandomUnderSampler(random_state=0)\n",
    "X_rus, y_rus = undersample.fit_resample(X,y)\n",
    "\n",
    "print('Original dataset shape: ', Counter(y))\n",
    "print('Resampled dataset shape', Counter(y_rus))"
   ]
  },
  {
   "cell_type": "markdown",
   "metadata": {},
   "source": [
    "The class with the least no. of samples is '3'. Hence all the other class samples are reduced to the number of samples in the least class."
   ]
  },
  {
   "cell_type": "markdown",
   "metadata": {},
   "source": [
    "## Oversampling\n",
    "\n",
    "Oversampling refers to replicating some points from the minority class to increase the cardinality of the minority class. This might consist of either replicating or generating synthetic data for minority class.\n",
    "\n",
    "It may be carried out using `RandomOverSampler` class from `imblearn` library."
   ]
  },
  {
   "cell_type": "code",
   "execution_count": 179,
   "metadata": {},
   "outputs": [],
   "source": [
    "from imblearn.over_sampling import RandomOverSampler"
   ]
  },
  {
   "cell_type": "code",
   "execution_count": 181,
   "metadata": {},
   "outputs": [
    {
     "name": "stdout",
     "output_type": "stream",
     "text": [
      "Original dataset shape:  Counter({5: 681, 6: 638, 7: 199, 4: 53, 8: 18, 3: 10})\n",
      "Resampled dataset shape Counter({5: 681, 6: 681, 7: 681, 4: 681, 8: 681, 3: 681})\n"
     ]
    }
   ],
   "source": [
    "ros = RandomOverSampler()\n",
    "X_ros, y_ros = ros.fit_resample(X,y)\n",
    "\n",
    "print('Original dataset shape: ', Counter(y))\n",
    "print('Resampled dataset shape', Counter(y_ros))"
   ]
  },
  {
   "cell_type": "code",
   "execution_count": 182,
   "metadata": {},
   "outputs": [
    {
     "name": "stdout",
     "output_type": "stream",
     "text": [
      "2487 New random points generated with RandomOverSampler\n"
     ]
    }
   ],
   "source": [
    "print(X_ros.shape[0] - X.shape[0], 'New random points generated with RandomOverSampler')"
   ]
  },
  {
   "cell_type": "markdown",
   "metadata": {},
   "source": [
    "The class with majority number of samples is '5'. Hence all other class samples that are lesser than this class count are newly sampled to the number of samples in the majority class."
   ]
  },
  {
   "cell_type": "markdown",
   "metadata": {},
   "source": [
    "### Oversampling using `SMOTE`\n",
    "\n",
    "`SMOTE` (Synthetic Minority Oversampling Technique) is a popular for oversampling. It is available under `imblearn` library."
   ]
  },
  {
   "cell_type": "code",
   "execution_count": 184,
   "metadata": {},
   "outputs": [
    {
     "data": {
      "text/plain": [
       "Counter({5: 681, 6: 681, 7: 681, 4: 681, 8: 681, 3: 681})"
      ]
     },
     "execution_count": 184,
     "metadata": {},
     "output_type": "execute_result"
    }
   ],
   "source": [
    "from imblearn.over_sampling import SMOTE\n",
    "\n",
    "oversample = SMOTE()\n",
    "X_sm,y_sm = oversample.fit_resample(X,y)\n",
    "counter = Counter(y_sm)\n",
    "counter"
   ]
  },
  {
   "cell_type": "code",
   "execution_count": 185,
   "metadata": {},
   "outputs": [
    {
     "name": "stdout",
     "output_type": "stream",
     "text": [
      "2487 New random points generated with SMOTE\n"
     ]
    }
   ],
   "source": [
    "print(X_sm.shape[0] - X.shape[0], 'New random points generated with SMOTE')"
   ]
  },
  {
   "cell_type": "markdown",
   "metadata": {},
   "source": [
    "**Types of SMOTE:**\n",
    "- Borderline SMOTE\n",
    "- Borderline-SMOTE SVM\n",
    "- Adaptive Synthetic Sampling (ADASYN)"
   ]
  }
 ],
 "metadata": {
  "interpreter": {
   "hash": "c0b4aa3dbf26008a2f5bdb6f96959d9b12aab8bbe92ce96b5c8a3811effcf69d"
  },
  "kernelspec": {
   "display_name": "Python 3.8.8 64-bit ('skk-mlp-env': conda)",
   "language": "python",
   "name": "python3"
  },
  "language_info": {
   "codemirror_mode": {
    "name": "ipython",
    "version": 3
   },
   "file_extension": ".py",
   "mimetype": "text/x-python",
   "name": "python",
   "nbconvert_exporter": "python",
   "pygments_lexer": "ipython3",
   "version": "3.8.8"
  },
  "orig_nbformat": 4
 },
 "nbformat": 4,
 "nbformat_minor": 2
}
