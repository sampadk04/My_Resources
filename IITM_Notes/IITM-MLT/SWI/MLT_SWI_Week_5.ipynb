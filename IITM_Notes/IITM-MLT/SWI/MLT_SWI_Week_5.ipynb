{
 "cells": [
  {
   "cell_type": "code",
   "execution_count": 1,
   "metadata": {},
   "outputs": [],
   "source": [
    "# This is imported for proper rendering of Latex in Notebook\n",
    "from IPython.display import display, Math, Latex\n",
    "\n",
    "# Imports\n",
    "import numpy as np\n",
    "import pandas as pd\n",
    "import matplotlib.pyplot as plt\n",
    "import seaborn as sns\n",
    "\n",
    "%matplotlib inline\n",
    "\n",
    "np.random.seed(69)\n",
    "plt.style.use('seaborn')"
   ]
  },
  {
   "cell_type": "markdown",
   "metadata": {},
   "source": [
    "# Practice Programming Assignment"
   ]
  },
  {
   "cell_type": "code",
   "execution_count": 2,
   "metadata": {},
   "outputs": [],
   "source": [
    "def cross_entropy(y, sigmoid_vector, w, reg_type='l2', reg_rate=0):\n",
    "    if reg_type == 'l2':\n",
    "        return (\n",
    "            -1 * (np.sum(y*np.log(sigmoid_vector) + (1-y) * np.log(1 - sigmoid_vector)))\n",
    "            + reg_rate * np.dot(np.transpose(w), w)\n",
    "        )\n",
    "    else:\n",
    "        return (\n",
    "            -1 * (np.sum(y*np.log(sigmoid_vector) + (1-y) * np.log(1 - sigmoid_vector)))\n",
    "            + reg_rate * np.sum(np.abs(w))\n",
    "        )"
   ]
  },
  {
   "cell_type": "code",
   "execution_count": 4,
   "metadata": {},
   "outputs": [],
   "source": [
    "def sigmoid(x):\n",
    "    return 1/(1 + np.exp(-x))"
   ]
  },
  {
   "cell_type": "markdown",
   "metadata": {},
   "source": [
    "# Graded Programming Assignment"
   ]
  },
  {
   "cell_type": "code",
   "execution_count": 5,
   "metadata": {},
   "outputs": [],
   "source": [
    "def sigmoid(x):\n",
    "    return 1/(1 + np.exp(-x))\n",
    "\n",
    "def predict_label(X,w):\n",
    "    sigmoid_vector = sigmoid(X@w)\n",
    "    return np.where(sigmoid_vector >= 0.75, 1, 0)"
   ]
  },
  {
   "cell_type": "code",
   "execution_count": 6,
   "metadata": {},
   "outputs": [],
   "source": [
    "def sigmoid(x):\n",
    "    return 1/(1 + np.exp(-x))\n",
    "\n",
    "def gradient(X, y, w, reg_rate=0):\n",
    "    return np.transpose(X) @ (sigmoid(X@w) - y) + reg_rate * w"
   ]
  },
  {
   "cell_type": "code",
   "execution_count": 8,
   "metadata": {},
   "outputs": [],
   "source": [
    "def sigmoid(x):\n",
    "    return 1/(1 + np.exp(-x))\n",
    "\n",
    "def gradient(X, y, w, reg_rate=0):\n",
    "    return np.transpose(X) @ (sigmoid(X@w) - y) + reg_rate * w\n",
    "\n",
    "def update_w(X, y, w, reg_rate, lr):\n",
    "    grad = gradient(X, y, w, reg_rate)\n",
    "    w -= lr * grad\n",
    "    return w"
   ]
  },
  {
   "cell_type": "code",
   "execution_count": 11,
   "metadata": {},
   "outputs": [
    {
     "name": "stdout",
     "output_type": "stream",
     "text": [
      "[0.2906471  1.24948198]\n"
     ]
    }
   ],
   "source": [
    "X = np.array([\n",
    "    [1,2],\n",
    "    [1,3]\n",
    "])\n",
    "y = np.array([1, 0])\n",
    "w = np.array([0.1, 0.2])\n",
    "\n",
    "print(gradient(X,y,w))"
   ]
  },
  {
   "cell_type": "code",
   "execution_count": 12,
   "metadata": {},
   "outputs": [
    {
     "name": "stdout",
     "output_type": "stream",
     "text": [
      "2.397605254857639\n"
     ]
    }
   ],
   "source": [
    "y_prob = np.array([0.9,0.3,0.25,0.88,0.1,0.1,0.6,0.9,0.75])\n",
    "y_true = np.array([1,0,0,1,0,0,0,1,1])\n",
    "\n",
    "print(-1 * (np.sum(y_true*np.log(y_prob) + (1-y_true) * np.log(1 - y_prob))))"
   ]
  }
 ],
 "metadata": {
  "interpreter": {
   "hash": "ee0777041ec98f607d7fd5b29a894c71a8ff0325c3258b55f9f8e1ee2f7fef34"
  },
  "kernelspec": {
   "display_name": "Python 3.9.7 64-bit ('skk-mlp-env': conda)",
   "language": "python",
   "name": "python3"
  },
  "language_info": {
   "codemirror_mode": {
    "name": "ipython",
    "version": 3
   },
   "file_extension": ".py",
   "mimetype": "text/x-python",
   "name": "python",
   "nbconvert_exporter": "python",
   "pygments_lexer": "ipython3",
   "version": "3.9.7"
  },
  "orig_nbformat": 4
 },
 "nbformat": 4,
 "nbformat_minor": 2
}
