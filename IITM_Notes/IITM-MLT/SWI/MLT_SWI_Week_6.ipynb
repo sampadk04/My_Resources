{
 "cells": [
  {
   "cell_type": "code",
   "execution_count": 1,
   "metadata": {},
   "outputs": [],
   "source": [
    "#@title [Import Libraries]\n",
    "# Imported for proper rendering of Latex in notebook\n",
    "from IPython.display import display, Math, Latex\n",
    "\n",
    "import numpy as np\n",
    "\n",
    "# Import for generating plots\n",
    "import matplotlib.pyplot as plt\n",
    "import seaborn as sns\n",
    "\n",
    "%matplotlib inline"
   ]
  },
  {
   "cell_type": "code",
   "execution_count": 2,
   "metadata": {},
   "outputs": [],
   "source": [
    "np.random.seed(69)"
   ]
  },
  {
   "cell_type": "markdown",
   "metadata": {},
   "source": [
    "# Practice Programming Assignments"
   ]
  },
  {
   "cell_type": "code",
   "execution_count": 3,
   "metadata": {},
   "outputs": [],
   "source": [
    "class BernoulliNB(object):\n",
    "    '''\n",
    "    Class Conditional Density following Bernoulli Distribution\n",
    "    '''\n",
    "\n",
    "    def __init__(self, alpha=1.0):\n",
    "        self.alpha = alpha\n",
    "    \n",
    "    def fit(self, X, y):\n",
    "        '''\n",
    "        Parameter estimation for Bernoulli distribution\n",
    "        '''\n",
    "        n_samples, n_features = X.shape\n",
    "        class_count = np.unique(y)\n",
    "        n_classes = len(class_count)\n",
    "\n",
    "        # initialize the weight vectors.\n",
    "        self.w = np.zeros((n_classes, n_features), dtype=np.float64)\n",
    "        self.w_prior = np.zeros(n_classes, dtype=np.float64)\n",
    "\n",
    "        for c in range(n_classes): # processing examples from each class separately\n",
    "            # extract examples with labels c\n",
    "            X_c = X[y==c]\n",
    "\n",
    "            # estimation of w[c,j]: The parameter of Bernoulli distribution\n",
    "            # p(x_j | y_c) ~ Bernoulli(w[c,j])\n",
    "            # we have vectorized this operation and we obtain the vector w[c,:] that contains w[c,j] for each j \\in [m]\n",
    "            self.w[c, :] = (np.sum(X_c, axis=0) + self.alpha)/(X_c.shape[0] + 2*self.alpha)\n",
    "\n",
    "            # estimation of prior probability: w_prior[c]\n",
    "            self.w_prior[c] = (X_c.shape[0] + self.alpha)/(float(n_samples) + n_classes*self.alpha)\n",
    "    \n",
    "    def log_likelihood_prior_prod(self, X):\n",
    "        '''\n",
    "        Calculates the product of likelihood and prior in the log space\n",
    "        '''\n",
    "        return X @ (np.log(self.w).T) + (1 - X) @ np.log(1 - self.w).T + np.log(self.w_prior)\n",
    "    \n",
    "    def predict_prob(self, X):\n",
    "        '''\n",
    "        Calculates probabilities of each example belonging to different classes.\n",
    "        '''\n",
    "        q = self.log_likelihood_prior_prod(X)\n",
    "        return np.exp(q)/(np.expand_dims(np.sum(np.exp(q), axis=1), axis=1))\n",
    "    \n",
    "    def predict(self,X):\n",
    "        '''\n",
    "        Predicts class label for each example.\n",
    "        '''\n",
    "        return np.argmax(self.log_likelihood_prior_prod(X), axis=1)"
   ]
  },
  {
   "cell_type": "code",
   "execution_count": 5,
   "metadata": {},
   "outputs": [],
   "source": [
    "def bernoulli_naive_bayes(X,y):\n",
    "    bernoulli_nb = BernoulliNB(alpha=0)\n",
    "    bernoulli_nb.fit(X,y)\n",
    "    P = bernoulli_nb.w.T\n",
    "    return P"
   ]
  },
  {
   "cell_type": "code",
   "execution_count": 9,
   "metadata": {},
   "outputs": [
    {
     "name": "stdout",
     "output_type": "stream",
     "text": [
      "[[0.46 0.56]\n",
      " [0.58 0.48]]\n",
      "[[ nan 0.46]\n",
      " [ nan 0.58]]\n"
     ]
    }
   ],
   "source": [
    "d = {\"EOP:\": \"[[0.46 0.56]\\n [0.58 0.48]]\", \"SOP:\": \"[[ nan 0.46]\\n [ nan 0.58]]\"}\n",
    "print(d[\"EOP:\"], d[\"SOP:\"], sep = '\\n')"
   ]
  },
  {
   "cell_type": "code",
   "execution_count": 10,
   "metadata": {},
   "outputs": [
    {
     "name": "stdout",
     "output_type": "stream",
     "text": [
      "[[0.53333333 0.50909091]\n",
      " [0.44444444 0.52727273]]\n",
      "[[       nan 0.53333333]\n",
      " [       nan 0.44444444]]\n"
     ]
    }
   ],
   "source": [
    "d = {\"EOP:\": \"[[0.53333333 0.50909091]\\n [0.44444444 0.52727273]]\", \"SOP:\": \"[[       nan 0.53333333]\\n [       nan 0.44444444]]\"}\n",
    "print(d[\"EOP:\"], d[\"SOP:\"], sep = '\\n')"
   ]
  }
 ],
 "metadata": {
  "interpreter": {
   "hash": "ee0777041ec98f607d7fd5b29a894c71a8ff0325c3258b55f9f8e1ee2f7fef34"
  },
  "kernelspec": {
   "display_name": "Python 3.9.7 ('skk-mlp-env')",
   "language": "python",
   "name": "python3"
  },
  "language_info": {
   "codemirror_mode": {
    "name": "ipython",
    "version": 3
   },
   "file_extension": ".py",
   "mimetype": "text/x-python",
   "name": "python",
   "nbconvert_exporter": "python",
   "pygments_lexer": "ipython3",
   "version": "3.9.7"
  },
  "orig_nbformat": 4
 },
 "nbformat": 4,
 "nbformat_minor": 2
}
