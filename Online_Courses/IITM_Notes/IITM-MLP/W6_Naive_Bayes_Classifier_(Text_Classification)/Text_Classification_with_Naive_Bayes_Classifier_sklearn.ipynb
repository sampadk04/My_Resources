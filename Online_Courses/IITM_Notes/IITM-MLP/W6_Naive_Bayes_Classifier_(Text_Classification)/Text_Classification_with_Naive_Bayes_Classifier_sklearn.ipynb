{
 "cells": [
  {
   "cell_type": "markdown",
   "metadata": {},
   "source": [
    "# Text Classification with Naive Bayes Classifier"
   ]
  },
  {
   "cell_type": "markdown",
   "metadata": {},
   "source": [
    "In this notebook, we will use Naive Bayes classifier for classifying text.\n",
    "\n",
    "Naive Bayes classifier is used for text classification and spam detection tasks.\n",
    "\n",
    "Here is an example as how to perform text classification with Naive Bayes Classifier."
   ]
  },
  {
   "cell_type": "code",
   "execution_count": 1,
   "metadata": {},
   "outputs": [],
   "source": [
    "# Common imports\n",
    "import numpy as np\n",
    "\n",
    "# plotting functions\n",
    "import matplotlib.pyplot as plt\n",
    "import seaborn as sns"
   ]
  },
  {
   "cell_type": "code",
   "execution_count": 2,
   "metadata": {},
   "outputs": [],
   "source": [
    "# Data loading\n",
    "from sklearn.datasets import fetch_20newsgroups\n",
    "\n",
    "# Preprocessing\n",
    "from sklearn.feature_extraction.text import TfidfVectorizer\n",
    "\n",
    "# Model/estimator\n",
    "from sklearn.naive_bayes import MultinomialNB\n",
    "\n",
    "# Pipeline Utility\n",
    "from sklearn.pipeline import make_pipeline"
   ]
  },
  {
   "cell_type": "markdown",
   "metadata": {},
   "source": [
    "For some background on `TfidVectorizer` refer to this [link](https://scikit-learn.org/stable/modules/feature_extraction.html#text-feature-extraction)."
   ]
  },
  {
   "cell_type": "markdown",
   "metadata": {},
   "source": [
    "# Dataset\n",
    "\n",
    "We will be using the $20$ newsgroup dataset for classification.\n",
    "\n",
    "As a first step, let's download the dataset with `fetch_20newsgroups` API."
   ]
  },
  {
   "cell_type": "code",
   "execution_count": 3,
   "metadata": {},
   "outputs": [],
   "source": [
    "data = fetch_20newsgroups()"
   ]
  },
  {
   "cell_type": "markdown",
   "metadata": {},
   "source": [
    "Let's look at the names of the classes."
   ]
  },
  {
   "cell_type": "code",
   "execution_count": 4,
   "metadata": {},
   "outputs": [
    {
     "data": {
      "text/plain": [
       "['alt.atheism',\n",
       " 'comp.graphics',\n",
       " 'comp.os.ms-windows.misc',\n",
       " 'comp.sys.ibm.pc.hardware',\n",
       " 'comp.sys.mac.hardware',\n",
       " 'comp.windows.x',\n",
       " 'misc.forsale',\n",
       " 'rec.autos',\n",
       " 'rec.motorcycles',\n",
       " 'rec.sport.baseball',\n",
       " 'rec.sport.hockey',\n",
       " 'sci.crypt',\n",
       " 'sci.electronics',\n",
       " 'sci.med',\n",
       " 'sci.space',\n",
       " 'soc.religion.christian',\n",
       " 'talk.politics.guns',\n",
       " 'talk.politics.mideast',\n",
       " 'talk.politics.misc',\n",
       " 'talk.religion.misc']"
      ]
     },
     "execution_count": 4,
     "metadata": {},
     "output_type": "execute_result"
    }
   ],
   "source": [
    "data.target_names"
   ]
  },
  {
   "cell_type": "markdown",
   "metadata": {},
   "source": [
    "# Classifying $4$ categories"
   ]
  },
  {
   "cell_type": "markdown",
   "metadata": {},
   "source": [
    "As we can see, this dataset has **20 categories** in the dataset. For simplicity, we will select $4$ of these categories and classify."
   ]
  },
  {
   "cell_type": "code",
   "execution_count": 5,
   "metadata": {},
   "outputs": [],
   "source": [
    "categories = ['talk.religion.misc', 'soc.religion.christian', 'sci.space', 'comp.graphics']\n",
    "train = fetch_20newsgroups(subset='train', categories=categories)\n",
    "test = fetch_20newsgroups(subset='train', categories=categories)"
   ]
  },
  {
   "cell_type": "markdown",
   "metadata": {},
   "source": [
    "Let's look at a sample training document:"
   ]
  },
  {
   "cell_type": "code",
   "execution_count": 11,
   "metadata": {},
   "outputs": [
    {
     "name": "stdout",
     "output_type": "stream",
     "text": [
      "From: mussack@austin.ibm.com (Christopher Mussack)\n",
      "Subject: Re: Questioning Authority\n",
      "Lines: 60\n",
      "\n",
      "Despite my trendy, liberal, feminist tendencies and the fact\n",
      "that I basically agree with what you are saying I will rebut:\n",
      "\n",
      "(Dr Nancy's Sweetie) writes:\n",
      "> (Chris Mussack) writes:\n",
      "> > For all those people who insist I question authority: Why?\n",
      "> ...\n",
      "> Authorities sometimes tell people to do evil things.  People who \"just\n",
      "> follow orders\" have tortured and killed others in very large numbers,\n",
      "> and protest their innocence afterwards.\n",
      " \n",
      "The basic question here is \"how do I know what I am supposed to do?\"\n",
      "This is true in every situation that comes up. Some people do not\n",
      "think about it at all and merely follow their impulses. I claim\n",
      "that is just as dangerous as \"following authority\". I could site\n",
      "sexually transmitted diseases, drug abuse, all manner of criminal\n",
      "activity, the savings and loan scandal, car accidents, eggs thrown\n",
      "at my house, all are examples of people not \"following authority\".\n",
      "I could easily argue that in the evil examples you gave the \n",
      "problem was a leader not following _his_ authority and doing what \n",
      "he wanted. Of course, where is the top of the chain? Therein lies \n",
      "our search.\n",
      " \n",
      "> When your authority starts telling you to do things, you should ask\n",
      "> questions.  Except for situations of pressing need (\"I said shut the\n",
      "> hatch because the submarine is filling with water!\"), any reasonable\n",
      "> authority should be able to give at least some justification that you\n",
      "> can understand.\n",
      "\n",
      "I don't think it's as simple as you are claiming. \"Pressing need\" is\n",
      "ambiguous. Should I recycle or not? \n",
      " \n",
      "Realize that I have four kids who, despite being very precocious \n",
      "of course, are very tiring with their constant lack of understanding\n",
      "the tremendous knowledge I wish to impart to them.\n",
      "\n",
      "> Just be sure to listen when authority answers.\n",
      "\n",
      "Ahh! An ironic ending.\n",
      " \n",
      "The irony I was implying in my initial pithy retort to the bumper \n",
      "sticker cliche \"Question Authority\" was that I was questioning \n",
      "the authority of the person telling me to question authority.\n",
      "It seems there is a certain segment of society that finds meaning\n",
      "only in being different, only in rebelling, forsaking everything\n",
      "for the sake of freedom. I question their integrity and fortitude. \n",
      "There is another freedom that comes from doing a task correctly.\n",
      "Different people are at different levels of development in different\n",
      "areas. Part of the challenge of life is to find the right authorities\n",
      "to follow, we can't know everything about everything. Often \n",
      "when learning a new skill or subject I will follow the teacher,\n",
      "perhaps blindly. Only when I have learned enough to ask appropriate\n",
      "questions should I question him, only when I have developed\n",
      "my skills enough should I challenge him. Once again, how do I know\n",
      "when I get to those stages?\n",
      "\n",
      "If you have to be told to question authority, perhaps you shouldn't.\n",
      "\n",
      "Chris Mussack\n",
      "(A good comedian should never have to explain his jokes.)\n",
      "\n"
     ]
    }
   ],
   "source": [
    "print(train.data[10])"
   ]
  },
  {
   "cell_type": "code",
   "execution_count": 12,
   "metadata": {},
   "outputs": [
    {
     "data": {
      "text/plain": [
       "['comp.graphics', 'sci.space', 'soc.religion.christian', 'talk.religion.misc']"
      ]
     },
     "execution_count": 12,
     "metadata": {},
     "output_type": "execute_result"
    }
   ],
   "source": [
    "train.target_names"
   ]
  },
  {
   "cell_type": "markdown",
   "metadata": {},
   "source": [
    "The data is different from the usual in the sense that it is not represented by no.s but by strings. Here the training data contains document in text form."
   ]
  },
  {
   "cell_type": "markdown",
   "metadata": {},
   "source": [
    "# Data Preprocessing and Modelling\n",
    "\n",
    "Firstly, we need to convert this data into numeric form.\n",
    "\n",
    "`TfidVectorizer` is one such API that converts text inputs into a vector of numeric values.\n",
    "\n",
    "We will use `TfidVectorizer` as a preprocessing step to obtain featyre vector corresponding to the text document. We will be using multinomial Naive Bayes' classifier for categorizing documents from `20newsgroup` corpus."
   ]
  },
  {
   "cell_type": "code",
   "execution_count": 13,
   "metadata": {},
   "outputs": [],
   "source": [
    "from sklearn.pipeline import make_pipeline\n",
    "from sklearn.feature_extraction.text import TfidfVectorizer\n",
    "from sklearn.naive_bayes import MultinomialNB\n",
    "\n",
    "model = make_pipeline(\n",
    "    TfidfVectorizer(),\n",
    "    MultinomialNB()\n",
    ")"
   ]
  },
  {
   "cell_type": "markdown",
   "metadata": {},
   "source": [
    "Let's train the model."
   ]
  },
  {
   "cell_type": "code",
   "execution_count": 14,
   "metadata": {},
   "outputs": [
    {
     "data": {
      "text/plain": [
       "Pipeline(steps=[('tfidfvectorizer', TfidfVectorizer()),\n",
       "                ('multinomialnb', MultinomialNB())])"
      ]
     },
     "execution_count": 14,
     "metadata": {},
     "output_type": "execute_result"
    }
   ],
   "source": [
    "model.fit(train.data, train.target)"
   ]
  },
  {
   "cell_type": "markdown",
   "metadata": {},
   "source": [
    "# Model Evaluation\n",
    "\n",
    "Let's first predict the labels for the test set and then calculate the confusion matrix for the test data."
   ]
  },
  {
   "cell_type": "code",
   "execution_count": 16,
   "metadata": {},
   "outputs": [
    {
     "data": {
      "image/png": "[encoded data removed]",
      "text/plain": [
       "<Figure size 432x288 with 2 Axes>"
      ]
     },
     "metadata": {
      "needs_background": "light"
     },
     "output_type": "display_data"
    }
   ],
   "source": [
    "from sklearn.metrics import ConfusionMatrixDisplay\n",
    "\n",
    "cmat = ConfusionMatrixDisplay.from_estimator(\n",
    "    model,\n",
    "    test.data,\n",
    "    test.target,\n",
    "    display_labels=test.target_names,\n",
    "    xticks_rotation='vertical'\n",
    ")\n",
    "plt.show()"
   ]
  },
  {
   "cell_type": "markdown",
   "metadata": {},
   "source": [
    "Observe that:\n",
    "- There is a confusion between documents of class `soc.religion.christian` and `talk.religion.misc` which is along the expected lines.\n",
    "- The classes `comp.graphics` and `sci.space` are well separated by such a simple classifier.\n",
    "\n",
    "Now, we have a tool to classify statements into one of these $4$ classes.\n",
    "> Make use of `predict` function on pipeline for predicting category of a test string."
   ]
  },
  {
   "cell_type": "code",
   "execution_count": 17,
   "metadata": {},
   "outputs": [],
   "source": [
    "def predict_category(s, train=train, model=model):\n",
    "    pred = model.predict([s])\n",
    "    return train.target_names[pred[0]]"
   ]
  },
  {
   "cell_type": "markdown",
   "metadata": {},
   "source": [
    "Now, we use the above function for prediction:"
   ]
  },
  {
   "cell_type": "code",
   "execution_count": 18,
   "metadata": {},
   "outputs": [
    {
     "data": {
      "text/plain": [
       "'sci.space'"
      ]
     },
     "execution_count": 18,
     "metadata": {},
     "output_type": "execute_result"
    }
   ],
   "source": [
    "predict_category('sending a payload to the ISS')"
   ]
  },
  {
   "cell_type": "code",
   "execution_count": 19,
   "metadata": {},
   "outputs": [
    {
     "data": {
      "text/plain": [
       "'soc.religion.christian'"
      ]
     },
     "execution_count": 19,
     "metadata": {},
     "output_type": "execute_result"
    }
   ],
   "source": [
    "predict_category('discussing islam vs atheism')"
   ]
  },
  {
   "cell_type": "code",
   "execution_count": 20,
   "metadata": {},
   "outputs": [
    {
     "data": {
      "text/plain": [
       "'comp.graphics'"
      ]
     },
     "execution_count": 20,
     "metadata": {},
     "output_type": "execute_result"
    }
   ],
   "source": [
    "predict_category('determining screen resolution')"
   ]
  },
  {
   "cell_type": "markdown",
   "metadata": {},
   "source": [
    "As we can see, this is predicting well for this $4$ class classification.\n",
    "\n",
    "We can also try to employ a full fledged prediction for all the $20$ classes as well."
   ]
  },
  {
   "cell_type": "markdown",
   "metadata": {},
   "source": [
    "# Classifying all $20$ categories"
   ]
  },
  {
   "cell_type": "code",
   "execution_count": 21,
   "metadata": {},
   "outputs": [],
   "source": [
    "data = fetch_20newsgroups()"
   ]
  },
  {
   "cell_type": "code",
   "execution_count": 23,
   "metadata": {},
   "outputs": [],
   "source": [
    "# We are not using any test data.\n",
    "X,y = data.data, data.target"
   ]
  },
  {
   "cell_type": "code",
   "execution_count": 27,
   "metadata": {},
   "outputs": [
    {
     "data": {
      "text/plain": [
       "['alt.atheism',\n",
       " 'comp.graphics',\n",
       " 'comp.os.ms-windows.misc',\n",
       " 'comp.sys.ibm.pc.hardware',\n",
       " 'comp.sys.mac.hardware',\n",
       " 'comp.windows.x',\n",
       " 'misc.forsale',\n",
       " 'rec.autos',\n",
       " 'rec.motorcycles',\n",
       " 'rec.sport.baseball',\n",
       " 'rec.sport.hockey',\n",
       " 'sci.crypt',\n",
       " 'sci.electronics',\n",
       " 'sci.med',\n",
       " 'sci.space',\n",
       " 'soc.religion.christian',\n",
       " 'talk.politics.guns',\n",
       " 'talk.politics.mideast',\n",
       " 'talk.politics.misc',\n",
       " 'talk.religion.misc']"
      ]
     },
     "execution_count": 27,
     "metadata": {},
     "output_type": "execute_result"
    }
   ],
   "source": [
    "data.target_names"
   ]
  },
  {
   "cell_type": "code",
   "execution_count": 28,
   "metadata": {},
   "outputs": [],
   "source": [
    "from sklearn.pipeline import make_pipeline\n",
    "from sklearn.feature_extraction.text import TfidfVectorizer\n",
    "from sklearn.naive_bayes import MultinomialNB\n",
    "\n",
    "model = make_pipeline(\n",
    "    TfidfVectorizer(),\n",
    "    MultinomialNB()\n",
    ")"
   ]
  },
  {
   "cell_type": "code",
   "execution_count": 29,
   "metadata": {},
   "outputs": [
    {
     "data": {
      "text/plain": [
       "Pipeline(steps=[('tfidfvectorizer', TfidfVectorizer()),\n",
       "                ('multinomialnb', MultinomialNB())])"
      ]
     },
     "execution_count": 29,
     "metadata": {},
     "output_type": "execute_result"
    }
   ],
   "source": [
    "model.fit(X,y)"
   ]
  },
  {
   "cell_type": "code",
   "execution_count": 36,
   "metadata": {},
   "outputs": [
    {
     "data": {
      "image/png": "[encoded data removed]",
      "text/plain": [
       "<Figure size 432x288 with 2 Axes>"
      ]
     },
     "metadata": {
      "needs_background": "light"
     },
     "output_type": "display_data"
    }
   ],
   "source": [
    "from sklearn.metrics import ConfusionMatrixDisplay\n",
    "\n",
    "cmat = ConfusionMatrixDisplay.from_estimator(\n",
    "    model,\n",
    "    X,\n",
    "    y,\n",
    "    display_labels=data.target_names,\n",
    "    xticks_rotation='vertical',\n",
    ")\n",
    "plt.show()"
   ]
  },
  {
   "cell_type": "code",
   "execution_count": 39,
   "metadata": {},
   "outputs": [],
   "source": [
    "target_names = data.target_names\n",
    "\n",
    "def predict_category(s, model=model):\n",
    "    pred = model.predict([s])\n",
    "    return target_names[pred[0]]"
   ]
  },
  {
   "cell_type": "markdown",
   "metadata": {},
   "source": [
    "Now, we use this model to predict the topic relevant to some test phrases."
   ]
  },
  {
   "cell_type": "code",
   "execution_count": 45,
   "metadata": {},
   "outputs": [
    {
     "data": {
      "text/plain": [
       "'sci.space'"
      ]
     },
     "execution_count": 45,
     "metadata": {},
     "output_type": "execute_result"
    }
   ],
   "source": [
    "predict_category('Water was discovered on Moon')"
   ]
  },
  {
   "cell_type": "code",
   "execution_count": 46,
   "metadata": {},
   "outputs": [
    {
     "data": {
      "text/plain": [
       "'sci.space'"
      ]
     },
     "execution_count": 46,
     "metadata": {},
     "output_type": "execute_result"
    }
   ],
   "source": [
    "predict_category('We can live in mars in a few years')"
   ]
  },
  {
   "cell_type": "code",
   "execution_count": 48,
   "metadata": {},
   "outputs": [
    {
     "data": {
      "text/plain": [
       "'comp.sys.mac.hardware'"
      ]
     },
     "execution_count": 48,
     "metadata": {},
     "output_type": "execute_result"
    }
   ],
   "source": [
    "predict_category('The latest macbook by Apple is the best')"
   ]
  },
  {
   "cell_type": "code",
   "execution_count": null,
   "metadata": {},
   "outputs": [],
   "source": [
    "%%time"
   ]
  }
 ],
 "metadata": {
  "interpreter": {
   "hash": "ee0777041ec98f607d7fd5b29a894c71a8ff0325c3258b55f9f8e1ee2f7fef34"
  },
  "kernelspec": {
   "display_name": "Python 3.9.7 ('skk-mlp-env')",
   "language": "python",
   "name": "python3"
  },
  "language_info": {
   "codemirror_mode": {
    "name": "ipython",
    "version": 3
   },
   "file_extension": ".py",
   "mimetype": "text/x-python",
   "name": "python",
   "nbconvert_exporter": "python",
   "pygments_lexer": "ipython3",
   "version": "3.9.7"
  },
  "orig_nbformat": 4
 },
 "nbformat": 4,
 "nbformat_minor": 2
}
