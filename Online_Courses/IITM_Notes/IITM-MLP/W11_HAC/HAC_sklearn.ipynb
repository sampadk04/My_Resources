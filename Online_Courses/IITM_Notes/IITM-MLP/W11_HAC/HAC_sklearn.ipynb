{
 "cells": [
  {
   "cell_type": "markdown",
   "metadata": {},
   "source": [
    "# Hierarchial Agglomerative Clustering"
   ]
  },
  {
   "cell_type": "markdown",
   "metadata": {},
   "source": [
    "Clustering is concerned with grouping objects with similar *attributes* or *characteristics*. The objects in the same cluster are closer to one another than the objects from other clusters.\n",
    "\n",
    "<img src=\"./HAC_1.jpeg\" style=\"width:250px;height:250px\"/>\n",
    "\n",
    "In the image above, the clusters with the same colour share similar properties (feature values represented on axis). For instance, if the x-axis represents weight and y-axis represents height, then the red cluster represents people with low BMI. Similar interpretations can be drawn for the remaining clusters."
   ]
  },
  {
   "cell_type": "markdown",
   "metadata": {},
   "source": [
    "# Algorithm\n",
    "\n",
    "- Heirarchial Clustering starts by considering each data as a cluster and then combines closest clusters to form larger clusters. This is a bottom up approach.\n",
    "- There is an alternative approach, which is a top down approach, where the entire data is considered as a single cluster, which is then further divided to form smaller cluster in each step.\n",
    "\n",
    "The merging and splitting decisions are influenced by certain conditions that are explained below."
   ]
  },
  {
   "cell_type": "markdown",
   "metadata": {},
   "source": [
    "# Metrics"
   ]
  },
  {
   "cell_type": "markdown",
   "metadata": {},
   "source": [
    "Certain metrics are used for calculating the similarility between clusters. Note that a metric is a generalization of the concept of distance. The metrics follow certain properties like:\n",
    "- non-negativity\n",
    "- symetricity\n",
    "- triangle inequality\n",
    "\n",
    "Some popular metrics are:\n",
    "\n",
    "1. **Euclidean**\n",
    ">$d(x^{(i)}, x^{(j)}) = \\sqrt{\\sum_{l = 1}^{m} (x^{(i)}_l - x^{(j)}_l)^2}$\n",
    "\n",
    "2. **Manhattan**\n",
    ">$d(x^{(i)}, x^{(j)}) = \\sum_{l = 1}^{m} |x^{(i)}_l - x^{(j)}_l|$\n",
    "\n",
    "3. **Cosine Distance**\n",
    ">$d(x^{(i)}, x^{(j)}) = 1 - \\frac{x^{(i)} \\cdot x^{(j)}}{\\|x^{(i)}\\| \\|x^{(j)}\\|}$"
   ]
  },
  {
   "cell_type": "markdown",
   "metadata": {},
   "source": [
    "# Linkage"
   ]
  },
  {
   "cell_type": "markdown",
   "metadata": {},
   "source": [
    "Linkage is a strategy for aggregating clusters.\n",
    "\n",
    "There are $4$ linkages that we encounter:\n",
    "- Single linkage : The **Single linkage** criterion merges clusters based on the shortest distance over all possible pairs.\n",
    "- Complete linkage : The **Complete linkage** merges clusters to minimize the maximum distance between the clusters (in ther words, the distance of the furthest elements).\n",
    "- Average linkage : The **Average linkage** criterion uses average distance over all possibe pairs between the groups for merging clusters.\n",
    "- Ward's linkage : This computes the sum of squared distances within the clusters."
   ]
  },
  {
   "cell_type": "markdown",
   "metadata": {},
   "source": [
    "# HAC Algorithm\n",
    "\n",
    "1. Calculate the distance matrix between the pairs of clusters.\n",
    "2. While all the objects are not clustered into one:\n",
    "    - Detect the two closest group (clusters) and merge them into one (based on any of the Linkage criterion)."
   ]
  },
  {
   "cell_type": "markdown",
   "metadata": {},
   "source": [
    "# Dendogram"
   ]
  },
  {
   "cell_type": "markdown",
   "metadata": {},
   "source": [
    "Dendograms are graphical representation of the Agglomerative process which show how the aggregation happens at each level. Let's take example using a toy dataset to understand this."
   ]
  },
  {
   "cell_type": "markdown",
   "metadata": {},
   "source": [
    "## Using a toy-dataset to demonstrate HAC\n",
    "\n",
    "Example:\n",
    "\n",
    "| $x_1$ | $x_2$ |\n",
    "| ----- | ----- |\n",
    "| 8     | 3     |\n",
    "| 5     | 3     |\n",
    "| 6     | 4     |\n",
    "| 1     | 6     |\n",
    "| 2     | 8     |"
   ]
  },
  {
   "cell_type": "markdown",
   "metadata": {},
   "source": [
    "## Imports"
   ]
  },
  {
   "cell_type": "code",
   "execution_count": 1,
   "metadata": {},
   "outputs": [],
   "source": [
    "import numpy as np\n",
    "import pandas as pd\n",
    "\n",
    "import matplotlib.pyplot as plt\n",
    "\n",
    "%matplotlib inline"
   ]
  },
  {
   "cell_type": "code",
   "execution_count": 2,
   "metadata": {},
   "outputs": [],
   "source": [
    "from sklearn.preprocessing import normalize"
   ]
  },
  {
   "cell_type": "code",
   "execution_count": 3,
   "metadata": {},
   "outputs": [],
   "source": [
    "X = np.array([\n",
    "    (8,3),\n",
    "    (5,3),\n",
    "    (6,4),\n",
    "    (1,6),\n",
    "    (2,8)\n",
    "])"
   ]
  },
  {
   "cell_type": "code",
   "execution_count": 4,
   "metadata": {},
   "outputs": [],
   "source": [
    "X_scaled = normalize(X)"
   ]
  },
  {
   "cell_type": "code",
   "execution_count": 5,
   "metadata": {},
   "outputs": [
    {
     "data": {
      "image/png": "[encoded data removed]",
      "text/plain": [
       "<Figure size 432x288 with 1 Axes>"
      ]
     },
     "metadata": {
      "needs_background": "light"
     },
     "output_type": "display_data"
    }
   ],
   "source": [
    "plt.figure()\n",
    "plt.scatter(X[:,0],X[:,1])\n",
    "plt.show()"
   ]
  },
  {
   "cell_type": "markdown",
   "metadata": {},
   "source": [
    "Let's plot the dendogram with `scipy.cluster.hierarchy` library."
   ]
  },
  {
   "cell_type": "code",
   "execution_count": 6,
   "metadata": {},
   "outputs": [
    {
     "data": {
      "image/png": "[encoded data removed]",
      "text/plain": [
       "<Figure size 432x288 with 1 Axes>"
      ]
     },
     "metadata": {
      "needs_background": "light"
     },
     "output_type": "display_data"
    }
   ],
   "source": [
    "import scipy.cluster.hierarchy as shc\n",
    "\n",
    "plt.figure()\n",
    "plt.title(\"Dendogram\")\n",
    "dend = shc.dendrogram(shc.linkage(X_scaled, method='ward'))"
   ]
  },
  {
   "cell_type": "markdown",
   "metadata": {},
   "source": [
    "HAC is implemented in `sklearn.cluster` module as `AgglomerativeClustering` class."
   ]
  },
  {
   "cell_type": "code",
   "execution_count": null,
   "metadata": {},
   "outputs": [],
   "source": [
    "%%time"
   ]
  }
 ],
 "metadata": {
  "interpreter": {
   "hash": "ee0777041ec98f607d7fd5b29a894c71a8ff0325c3258b55f9f8e1ee2f7fef34"
  },
  "kernelspec": {
   "display_name": "Python 3.9.7 ('skk-mlp-env')",
   "language": "python",
   "name": "python3"
  },
  "language_info": {
   "codemirror_mode": {
    "name": "ipython",
    "version": 3
   },
   "file_extension": ".py",
   "mimetype": "text/x-python",
   "name": "python",
   "nbconvert_exporter": "python",
   "pygments_lexer": "ipython3",
   "version": "3.9.7"
  },
  "orig_nbformat": 4
 },
 "nbformat": 4,
 "nbformat_minor": 2
}
