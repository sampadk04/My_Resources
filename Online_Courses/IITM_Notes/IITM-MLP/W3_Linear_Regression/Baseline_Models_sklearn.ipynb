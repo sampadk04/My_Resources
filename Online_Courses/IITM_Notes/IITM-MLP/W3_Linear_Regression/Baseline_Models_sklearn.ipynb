{
 "cells": [
  {
   "cell_type": "code",
   "execution_count": 1,
   "metadata": {},
   "outputs": [],
   "source": [
    "from IPython.display import display, Math, Latex\n",
    "# This is imported for proper rendering of Latex in Notebook."
   ]
  },
  {
   "cell_type": "code",
   "execution_count": 2,
   "metadata": {},
   "outputs": [],
   "source": [
    "# Imports\n",
    "import numpy as np\n",
    "import pandas as pd\n",
    "import matplotlib.pyplot as plt\n",
    "import seaborn as sns\n",
    "\n",
    "%matplotlib inline\n",
    "\n",
    "np.random.seed(306)\n",
    "plt.style.use('seaborn')"
   ]
  },
  {
   "cell_type": "markdown",
   "metadata": {},
   "source": [
    "# Baseline Models\n",
    "\n",
    "In this notebook, we will build a couple of baseline models using `DummyRegression` and `permutation_test_score`. We will compare performance of our linear regression model with these two baselines."
   ]
  },
  {
   "cell_type": "markdown",
   "metadata": {},
   "source": [
    "We will use `ShuffleSplit` as a cross validation strategy."
   ]
  },
  {
   "cell_type": "code",
   "execution_count": 3,
   "metadata": {},
   "outputs": [],
   "source": [
    "from sklearn.model_selection import ShuffleSplit\n",
    "shuffle_split_cv = ShuffleSplit(n_splits=10, test_size=0.2, random_state=0)"
   ]
  },
  {
   "cell_type": "markdown",
   "metadata": {},
   "source": [
    "Let's load the data and split it into training and test."
   ]
  },
  {
   "cell_type": "code",
   "execution_count": 4,
   "metadata": {},
   "outputs": [],
   "source": [
    "from sklearn.datasets import fetch_california_housing\n",
    "from sklearn.model_selection import train_test_split\n",
    "\n",
    "features, labels = fetch_california_housing(as_frame=True, return_X_y=True)\n",
    "train_features, test_features, train_labels, test_labels = train_test_split(features, labels, test_size=0.25, random_state=42)"
   ]
  },
  {
   "cell_type": "markdown",
   "metadata": {},
   "source": [
    "## `LinearRegression`\n",
    "\n",
    "We first build the model, whose performance we want to compare against the baseline models. \n",
    "\n",
    "- In this case we build a linear regression model with feature scaling as a part of the pipeline.\n",
    "- Train the model with a $10$-fold cross validation via `ShuffleSplit`.\n",
    "- Capture errors on different folds."
   ]
  },
  {
   "cell_type": "code",
   "execution_count": 5,
   "metadata": {},
   "outputs": [],
   "source": [
    "from sklearn.pipeline import Pipeline\n",
    "from sklearn.preprocessing import StandardScaler\n",
    "from sklearn.linear_model import LinearRegression\n",
    "from sklearn.model_selection import cross_validate\n",
    "\n",
    "lin_reg_pipeline = Pipeline([\n",
    "    ('feature_scaling', StandardScaler()),\n",
    "    ('lin_reg', LinearRegression()),\n",
    "])\n",
    "\n",
    "lin_reg_cv_results = cross_validate(\n",
    "    lin_reg_pipeline,\n",
    "    train_features,\n",
    "    train_labels,\n",
    "    scoring='neg_mean_absolute_error',\n",
    "    cv=shuffle_split_cv,\n",
    "    n_jobs=2\n",
    "    # We don't want training scores, so we have allowed it to remain default 'False'\n",
    ")"
   ]
  },
  {
   "cell_type": "code",
   "execution_count": 20,
   "metadata": {},
   "outputs": [
    {
     "data": {
      "text/plain": [
       "{'fit_time': array([0.01666093, 0.01663733, 0.00627494, 0.00697803, 0.005867  ,\n",
       "        0.00660515, 0.00607419, 0.00683093, 0.00640821, 0.00553989]),\n",
       " 'score_time': array([0.00339198, 0.00370574, 0.00156021, 0.00167513, 0.00157881,\n",
       "        0.00158691, 0.00270796, 0.00158119, 0.00213599, 0.00141501]),\n",
       " 'test_score': array([-0.51591748, -0.53167776, -0.5409238 , -0.52867599, -0.54905644,\n",
       "        -0.52552564, -0.52893409, -0.53502143, -0.51971413, -0.54272157])}"
      ]
     },
     "execution_count": 20,
     "metadata": {},
     "output_type": "execute_result"
    }
   ],
   "source": [
    "lin_reg_cv_results"
   ]
  },
  {
   "cell_type": "code",
   "execution_count": 21,
   "metadata": {},
   "outputs": [
    {
     "name": "stdout",
     "output_type": "stream",
     "text": [
      "0    0.515917\n",
      "1    0.531678\n",
      "2    0.540924\n",
      "3    0.528676\n",
      "4    0.549056\n",
      "5    0.525526\n",
      "6    0.528934\n",
      "7    0.535021\n",
      "8    0.519714\n",
      "9    0.542722\n",
      "Name: Linear Regression Errors, dtype: float64\n"
     ]
    }
   ],
   "source": [
    "lin_reg_scores = lin_reg_cv_results['test_score']\n",
    "lin_reg_errors = pd.Series(-lin_reg_scores, name=\"Linear Regression Errors\")\n",
    "print(lin_reg_errors)"
   ]
  },
  {
   "cell_type": "markdown",
   "metadata": {},
   "source": [
    "## `DummyRegressor`\n",
    "\n",
    "When doing supervised learning, a simple sanity check consists of comparing one’s estimator against simple rules of thumb. \n",
    "\n",
    "`DummyRegressor` implements four simple rules of thumb for regression:\n",
    "\n",
    "- `mean` always predicts the mean of the training targets.\n",
    "- `median` always predicts the median of the training targets.\n",
    "- `quantile` always predicts a user provided quantile of the training targets.\n",
    "- `constant` always predicts a constant value that is provided by the user.\n",
    "\n",
    "In all these strategies, the `predict` method completely ignores the input data.\n",
    "\n",
    "We compare the performance of our model against these strategies, to check whether we are gaining any meaningful information or not. If `DummyRegressor` scores better than our model, we need to re-think our model strategy."
   ]
  },
  {
   "cell_type": "code",
   "execution_count": 23,
   "metadata": {},
   "outputs": [],
   "source": [
    "from sklearn.dummy import DummyRegressor\n",
    "from sklearn.model_selection import cross_validate\n",
    "\n",
    "def dummy_regressor_baseline(strategy, constant_val=None, quatile_val=None):\n",
    "    # The DummyRegressor model\n",
    "    baseline_model_median = DummyRegressor(\n",
    "        strategy=strategy,\n",
    "        constant=constant_val,\n",
    "        quantile=quatile_val,\n",
    "    )\n",
    "\n",
    "    # Cross-validating the dummy model to obtain its score\n",
    "    baseline_median_cv_results = cross_validate(\n",
    "        baseline_model_median,\n",
    "        train_features,\n",
    "        train_labels,\n",
    "        scoring='neg_mean_absolute_error',\n",
    "        cv=shuffle_split_cv,\n",
    "        n_jobs=2,\n",
    "    )\n",
    "\n",
    "    # This returns the tests score of the dummy regressor for each fold\n",
    "    return pd.Series(-baseline_median_cv_results['test_score'], name=\"Dummy Regressor Errors, strategy = \" + str(strategy))"
   ]
  },
  {
   "cell_type": "markdown",
   "metadata": {},
   "source": [
    "We now extract the errors obtained by employing different strategies for `DummyRegressor`."
   ]
  },
  {
   "cell_type": "code",
   "execution_count": 24,
   "metadata": {},
   "outputs": [],
   "source": [
    "baseline_median_cv_results_errors = dummy_regressor_baseline(strategy='median')\n",
    "\n",
    "baseline_mean_cv_results_errors = dummy_regressor_baseline(strategy='mean')\n",
    "\n",
    "baseline_constant_cv_results_errors = dummy_regressor_baseline(strategy='constant', constant_val=2)\n",
    "\n",
    "baseline_quantile_cv_results_errors = dummy_regressor_baseline(strategy='quantile', quatile_val=0.55)\n",
    "#55% quantile (close to median)"
   ]
  },
  {
   "cell_type": "markdown",
   "metadata": {},
   "source": [
    "Let's compare the performance of these dummy regressors:"
   ]
  },
  {
   "cell_type": "code",
   "execution_count": 25,
   "metadata": {},
   "outputs": [],
   "source": [
    "dummy_error_df = pd.concat([baseline_median_cv_results_errors, baseline_mean_cv_results_errors, baseline_constant_cv_results_errors, baseline_quantile_cv_results_errors], axis=1)\n",
    "\n",
    "dummy_error_df.columns = ['Median CV', 'Mean CV', 'Constant CV', 'Quantile CV']"
   ]
  },
  {
   "cell_type": "code",
   "execution_count": 26,
   "metadata": {},
   "outputs": [
    {
     "data": {
      "text/plain": [
       "<Figure size 576x396 with 0 Axes>"
      ]
     },
     "metadata": {},
     "output_type": "display_data"
    },
    {
     "data": {
      "image/png": "[encoded data removed]",
      "text/plain": [
       "<Figure size 576x396 with 1 Axes>"
      ]
     },
     "metadata": {},
     "output_type": "display_data"
    }
   ],
   "source": [
    "plt.figure()\n",
    "dummy_error_df.plot.hist(bins=50, density=True, edgecolor='black')\n",
    "plt.legend()\n",
    "plt.xlabel(\"Mean Absolute Errors\")\n",
    "plt.title(\"Distribution of testing errors\")\n",
    "plt.show()"
   ]
  },
  {
   "cell_type": "markdown",
   "metadata": {},
   "source": [
    "We can observe from this plot that the `median` strategy provides the lowest values of errors, where as the `mean` stratedy provides the highest errors."
   ]
  },
  {
   "cell_type": "code",
   "execution_count": 27,
   "metadata": {},
   "outputs": [
    {
     "name": "stdout",
     "output_type": "stream",
     "text": [
      "0    0.881187\n",
      "1    0.873773\n",
      "2    0.876366\n",
      "3    0.892083\n",
      "4    0.876835\n",
      "5    0.874685\n",
      "6    0.864097\n",
      "7    0.888523\n",
      "8    0.890963\n",
      "9    0.886765\n",
      "Name: Dummy Regressor Errors, strategy = median, dtype: float64\n"
     ]
    }
   ],
   "source": [
    "print(baseline_median_cv_results_errors)"
   ]
  },
  {
   "cell_type": "markdown",
   "metadata": {},
   "source": [
    "## `permutation_test_score`\n",
    "\n",
    "It permutes the target to generate randomized data and computes the empirical p-value against the null hypothesis, that features and targets are independent.\n",
    "\n",
    "Here, we are interested in `permutation_score` returned by this API, which indicates score of the model on different permutations"
   ]
  },
  {
   "cell_type": "code",
   "execution_count": 33,
   "metadata": {},
   "outputs": [],
   "source": [
    "from sklearn.model_selection import permutation_test_score\n",
    "\n",
    "score, permutation_scores, pvalue = permutation_test_score(\n",
    "    lin_reg_pipeline,\n",
    "    train_features,\n",
    "    train_labels,\n",
    "    cv=shuffle_split_cv,\n",
    "    scoring='neg_mean_absolute_error',\n",
    "    n_permutations=30,\n",
    "    n_jobs=2,\n",
    ")\n",
    "\n",
    "permutation_errors = pd.Series(-permutation_scores, name=\"Permutation Errors\")"
   ]
  },
  {
   "cell_type": "code",
   "execution_count": 34,
   "metadata": {},
   "outputs": [
    {
     "name": "stdout",
     "output_type": "stream",
     "text": [
      "[-0.91446539 -0.91608713 -0.91501122 -0.91112203 -0.91326112 -0.91428719\n",
      " -0.91694297 -0.90660687 -0.90873595 -0.91546138 -0.9084695  -0.91174023\n",
      " -0.91857102 -0.91467076 -0.90396709 -0.91239289 -0.91095499 -0.91729623\n",
      " -0.90529415 -0.91436609 -0.91993036 -0.91661883 -0.91104746 -0.91563156\n",
      " -0.91014294 -0.91526135 -0.90680247 -0.90796435 -0.91032999 -0.91545574]\n",
      "0     0.914465\n",
      "1     0.916087\n",
      "2     0.915011\n",
      "3     0.911122\n",
      "4     0.913261\n",
      "5     0.914287\n",
      "6     0.916943\n",
      "7     0.906607\n",
      "8     0.908736\n",
      "9     0.915461\n",
      "10    0.908469\n",
      "11    0.911740\n",
      "12    0.918571\n",
      "13    0.914671\n",
      "14    0.903967\n",
      "15    0.912393\n",
      "16    0.910955\n",
      "17    0.917296\n",
      "18    0.905294\n",
      "19    0.914366\n",
      "20    0.919930\n",
      "21    0.916619\n",
      "22    0.911047\n",
      "23    0.915632\n",
      "24    0.910143\n",
      "25    0.915261\n",
      "26    0.906802\n",
      "27    0.907964\n",
      "28    0.910330\n",
      "29    0.915456\n",
      "Name: Permutation Errors, dtype: float64\n"
     ]
    }
   ],
   "source": [
    "print(permutation_scores)\n",
    "print(permutation_errors)"
   ]
  },
  {
   "cell_type": "markdown",
   "metadata": {},
   "source": [
    "## Model Comparison\n",
    "\n",
    "We finally compare the errors of each of these models and check whether our proposed model out performs the dummy models."
   ]
  },
  {
   "cell_type": "code",
   "execution_count": 35,
   "metadata": {},
   "outputs": [],
   "source": [
    "error_df = pd.concat([lin_reg_errors, baseline_median_cv_results_errors, permutation_errors], axis=1)"
   ]
  },
  {
   "cell_type": "code",
   "execution_count": 36,
   "metadata": {},
   "outputs": [
    {
     "data": {
      "text/plain": [
       "<Figure size 576x396 with 0 Axes>"
      ]
     },
     "metadata": {},
     "output_type": "display_data"
    },
    {
     "data": {
      "image/png": "[encoded data removed]",
      "text/plain": [
       "<Figure size 576x396 with 1 Axes>"
      ]
     },
     "metadata": {},
     "output_type": "display_data"
    }
   ],
   "source": [
    "plt.figure()\n",
    "error_df.plot.hist(bins=50, density=True, edgecolor='black')\n",
    "plt.legend(loc='best')\n",
    "plt.xlabel(\"Mean Absolute Errors\")\n",
    "plt.title(\"Distribution of the testing errors\")\n",
    "plt.show()"
   ]
  },
  {
   "cell_type": "markdown",
   "metadata": {},
   "source": [
    "From this plot, it is clear that our model has better performance than the two baseline models."
   ]
  },
  {
   "cell_type": "markdown",
   "metadata": {},
   "source": [
    "### Summary\n",
    "\n",
    "We implemented a couple of baselines - based on `DummyRegressor` and `permutation_test_score`.\n",
    "\n",
    "Although we used all strategies for `DummyRegressor`, we need to use only one of these strategies depending on the dataset."
   ]
  }
 ],
 "metadata": {
  "interpreter": {
   "hash": "c0b4aa3dbf26008a2f5bdb6f96959d9b12aab8bbe92ce96b5c8a3811effcf69d"
  },
  "kernelspec": {
   "display_name": "Python 3.8.8 64-bit ('skk-mlp-env': conda)",
   "language": "python",
   "name": "python3"
  },
  "language_info": {
   "codemirror_mode": {
    "name": "ipython",
    "version": 3
   },
   "file_extension": ".py",
   "mimetype": "text/x-python",
   "name": "python",
   "nbconvert_exporter": "python",
   "pygments_lexer": "ipython3",
   "version": "3.8.8"
  },
  "orig_nbformat": 4
 },
 "nbformat": 4,
 "nbformat_minor": 2
}
