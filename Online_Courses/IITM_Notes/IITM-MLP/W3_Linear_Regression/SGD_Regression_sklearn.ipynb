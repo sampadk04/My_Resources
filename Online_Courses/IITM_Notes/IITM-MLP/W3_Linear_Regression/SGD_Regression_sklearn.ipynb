{
 "cells": [
  {
   "cell_type": "code",
   "execution_count": 1,
   "metadata": {},
   "outputs": [],
   "source": [
    "from IPython.display import display, Math, Latex\n",
    "# This is imported for proper rendering of Latex in Notebook."
   ]
  },
  {
   "cell_type": "code",
   "execution_count": 2,
   "metadata": {},
   "outputs": [],
   "source": [
    "# Imports\n",
    "import numpy as np\n",
    "import pandas as pd\n",
    "import matplotlib.pyplot as plt\n",
    "import seaborn as sns\n",
    "\n",
    "%matplotlib inline\n",
    "\n",
    "np.random.seed(306)\n",
    "plt.style.use('seaborn')"
   ]
  },
  {
   "cell_type": "markdown",
   "metadata": {},
   "source": [
    "# Linear Regression with iterative optimization: `SGDRegressor`\n",
    "\n",
    "In this notebook, we will build linear regression model with `SGDRegressor`. SGD offers a lot of control over optimization procedure through a number of hyperparameters. However, we need to set them to right values in order to make it work properly for training the model, which makes model selection a very important step."
   ]
  },
  {
   "cell_type": "markdown",
   "metadata": {},
   "source": [
    "We use `ShuffleSplit` as cross validation strategy."
   ]
  },
  {
   "cell_type": "code",
   "execution_count": 3,
   "metadata": {},
   "outputs": [],
   "source": [
    "from sklearn.model_selection import ShuffleSplit\n",
    "shuffle_split_cv = ShuffleSplit(n_splits=10, test_size=0.2, random_state=0)"
   ]
  },
  {
   "cell_type": "markdown",
   "metadata": {},
   "source": [
    "Let's load the data and split it into training and test."
   ]
  },
  {
   "cell_type": "code",
   "execution_count": 4,
   "metadata": {},
   "outputs": [],
   "source": [
    "from sklearn.datasets import fetch_california_housing\n",
    "from sklearn.model_selection import train_test_split\n",
    "\n",
    "features, labels = fetch_california_housing(as_frame=True, return_X_y=True)\n",
    "com_train_features, test_features, com_train_labels, test_labels = train_test_split(features, labels, test_size=0.25, random_state=42)"
   ]
  },
  {
   "cell_type": "markdown",
   "metadata": {},
   "source": [
    "Divide the data into train and dev (validation) sets."
   ]
  },
  {
   "cell_type": "code",
   "execution_count": 5,
   "metadata": {},
   "outputs": [],
   "source": [
    "train_features, dev_features, train_labels, dev_labels = train_test_split(com_train_features, com_train_labels, test_size=0.25, random_state=42)"
   ]
  },
  {
   "cell_type": "markdown",
   "metadata": {},
   "source": [
    "## Baseline `SGDRegressor`\n",
    "\n",
    "- **STEP 1:** To begin with, we instantiate a baseline `SGDRegressor` with default parameters.\n",
    "- **STEP 2:** Train the models with training feature matrix and labels.\n",
    "- **STEP 3:** Obtain the socre on the training and dev data."
   ]
  },
  {
   "cell_type": "code",
   "execution_count": 7,
   "metadata": {},
   "outputs": [
    {
     "name": "stdout",
     "output_type": "stream",
     "text": [
      "Mean Absolute Error on Training Set:  335010457582554.3\n",
      "Mean Absolute Error on Development Set:  338216494599083.8\n"
     ]
    }
   ],
   "source": [
    "from sklearn.linear_model import SGDRegressor\n",
    "from sklearn.metrics import mean_absolute_error\n",
    "\n",
    "# We instantiate the baseline model with no parameters, to run it on default settings.\n",
    "sgd = SGDRegressor(random_state=42)\n",
    "sgd.fit(train_features,train_labels)\n",
    "\n",
    "train_mae = mean_absolute_error(train_labels, sgd.predict(train_features))\n",
    "dev_mae = mean_absolute_error(dev_labels, sgd.predict(dev_features))\n",
    "\n",
    "print(\"Mean Absolute Error on Training Set: \", train_mae)\n",
    "print(\"Mean Absolute Error on Development Set: \", dev_mae)"
   ]
  },
  {
   "cell_type": "markdown",
   "metadata": {},
   "source": [
    "We can observe that the MAE is too high. The baseline model doesn't train well. This may happen due to large learning rate or due to the lack of data pre-processing.\n",
    "\n",
    "Let's investigate this issue by training the model step by step and recording the training loss at each step."
   ]
  },
  {
   "cell_type": "markdown",
   "metadata": {},
   "source": [
    "## Adding a feature scaling step\n",
    "\n",
    "SGD is sensitive to feature scaling. Let's add a feature scaling step and check if we get better MAE."
   ]
  },
  {
   "cell_type": "code",
   "execution_count": 10,
   "metadata": {},
   "outputs": [
    {
     "name": "stdout",
     "output_type": "stream",
     "text": [
      "Mean Absolute Error on Training Set:  0.7263733471565367\n",
      "Mean Absolute Error on Development Set:  0.7191122240865042\n"
     ]
    }
   ],
   "source": [
    "from sklearn.pipeline import Pipeline\n",
    "from sklearn.preprocessing import StandardScaler\n",
    "from sklearn.linear_model import SGDRegressor\n",
    "from sklearn.metrics import mean_absolute_error\n",
    "\n",
    "sgd_pipeline = Pipeline([\n",
    "    ('feature_scaling', StandardScaler()),\n",
    "    ('sgd', SGDRegressor(random_state=42)),\n",
    "])\n",
    "\n",
    "sgd_pipeline.fit(train_features, train_labels)\n",
    "\n",
    "train_mae = mean_absolute_error(train_labels, sgd_pipeline.predict(train_features))\n",
    "dev_mae = mean_absolute_error(test_labels, sgd_pipeline.predict(test_features))\n",
    "\n",
    "print(\"Mean Absolute Error on Training Set: \", train_mae)\n",
    "print(\"Mean Absolute Error on Development Set: \", dev_mae)"
   ]
  },
  {
   "cell_type": "markdown",
   "metadata": {},
   "source": [
    "Although the magnitude of the MAE has reduces, the error is still high.\n",
    "\n",
    "Let's run the `SGDRegressor` step by step and investigate the issue with training."
   ]
  },
  {
   "cell_type": "markdown",
   "metadata": {},
   "source": [
    "## Step-wise training of `SGDRegressor`\n",
    "\n",
    "- **STEP 1:** Instantiate `SGDRegressor` with `warm_start=True` and `tol=-np.infty` (we allow infinite tolerance).\n",
    "- **STEP 2:** Train SGD step by step and record regression loss (MSE loss) in each step.\n",
    "- **STEP 3:** Plot learning curves and see if there is any issues in training."
   ]
  },
  {
   "cell_type": "code",
   "execution_count": 24,
   "metadata": {},
   "outputs": [
    {
     "data": {
      "image/png": "[encoded data removed]",
      "text/plain": [
       "<Figure size 576x396 with 1 Axes>"
      ]
     },
     "metadata": {},
     "output_type": "display_data"
    },
    {
     "name": "stdout",
     "output_type": "stream",
     "text": [
      "CPU times: user 5.65 s, sys: 1.66 s, total: 7.31 s\n",
      "Wall time: 1.19 s\n"
     ]
    }
   ],
   "source": [
    "%%time\n",
    "\n",
    "from sklearn.pipeline import Pipeline\n",
    "from sklearn.preprocessing import StandardScaler\n",
    "from sklearn.linear_model import SGDRegressor\n",
    "from sklearn.metrics import mean_squared_error\n",
    "\n",
    "eta0 = 1e-2\n",
    "n_iterations = 100\n",
    "\n",
    "sgd_pipeline = Pipeline([\n",
    "    ('feature_scaling', StandardScaler()),\n",
    "    ('SGD', SGDRegressor(\n",
    "        max_iter=1, # To analyse loss after iteration\n",
    "        tol = -np.infty,\n",
    "        warm_start=True,\n",
    "        eta0=eta0,\n",
    "        random_state=42,\n",
    "    )),\n",
    "])\n",
    "\n",
    "# Now, we run a loop to check the loss after each epoch/iteration\n",
    "loss = []\n",
    "for epoch in range(n_iterations):\n",
    "    sgd_pipeline.fit(train_features, train_labels) \n",
    "    # continues where it left off because warm_start=True\n",
    "    loss.append(mean_squared_error(train_labels,sgd_pipeline.predict(train_features)))\n",
    "\n",
    "plt.figure()\n",
    "plt.plot(np.arange(len(loss)), loss, 'b-')\n",
    "plt.xlabel(\"No. of iterations\")\n",
    "plt.ylabel(\"MSE\")\n",
    "plt.title(\"Learning curve: eta0=\" + str(eta0))\n",
    "plt.show()"
   ]
  },
  {
   "cell_type": "markdown",
   "metadata": {},
   "source": [
    "The loss is initially reduced and then increased. This could be due to large learning rates. We will reduce the learning rate by a factor of 10 and retry the training."
   ]
  },
  {
   "cell_type": "code",
   "execution_count": 25,
   "metadata": {},
   "outputs": [
    {
     "data": {
      "image/png": "[encoded data removed]",
      "text/plain": [
       "<Figure size 576x396 with 1 Axes>"
      ]
     },
     "metadata": {},
     "output_type": "display_data"
    },
    {
     "name": "stdout",
     "output_type": "stream",
     "text": [
      "CPU times: user 5.91 s, sys: 1.46 s, total: 7.36 s\n",
      "Wall time: 1.02 s\n"
     ]
    }
   ],
   "source": [
    "%%time\n",
    "\n",
    "eta0 = 1e-3\n",
    "n_iterations = 100\n",
    "\n",
    "sgd_pipeline = Pipeline([\n",
    "    ('feature_scaling', StandardScaler()),\n",
    "    ('SGD', SGDRegressor(\n",
    "        max_iter=1, # To analyse loss after iteration\n",
    "        tol = -np.infty,\n",
    "        warm_start=True,\n",
    "        eta0=eta0,\n",
    "        random_state=42,\n",
    "    )),\n",
    "])\n",
    "\n",
    "# Now, we run a loop to check the loss after each epoch/iteration\n",
    "loss = []\n",
    "for epoch in range(n_iterations):\n",
    "    sgd_pipeline.fit(train_features, train_labels) \n",
    "    # continues where it left off because warm_start=True\n",
    "    loss.append(mean_squared_error(train_labels,sgd_pipeline.predict(train_features)))\n",
    "\n",
    "plt.figure()\n",
    "plt.plot(np.arange(len(loss)), loss, 'b-')\n",
    "plt.xlabel(\"No. of iterations\")\n",
    "plt.ylabel(\"MSE\")\n",
    "plt.title(\"Learning curve: eta0=\" + str(eta0))\n",
    "plt.show()"
   ]
  },
  {
   "cell_type": "markdown",
   "metadata": {},
   "source": [
    "This is an ideal learning curve, where the training loss reduces monotonically as the training progresses.\n",
    "\n",
    "We can also check the no. of iterations it took for the loss to converge."
   ]
  },
  {
   "cell_type": "code",
   "execution_count": 26,
   "metadata": {},
   "outputs": [
    {
     "name": "stdout",
     "output_type": "stream",
     "text": [
      "No. of iterations before reaching convergence criterion:  1\n",
      "No. of weight updates:  11611.0\n"
     ]
    }
   ],
   "source": [
    "print(\"No. of iterations before reaching convergence criterion: \", sgd_pipeline[-1].n_iter_)\n",
    "print(\"No. of weight updates: \", sgd_pipeline[-1].t_)\n",
    "\n",
    "# #weight_updates = train_features.shape[0] * #iterations"
   ]
  },
  {
   "cell_type": "markdown",
   "metadata": {},
   "source": [
    "## Fixing learning rate through validation curves\n",
    "\n",
    "- **STEP 1:** Provide the list of values to be tried for a hyperparameter.\n",
    "- **STEP 2:** Instantiate an object of `validation_curve` with estimator, training features and label. Set `scoring` parameter to relevant score.\n",
    "- **STEP 3:** Convert scores to error.\n",
    "- **STEP 4:** Plot validation curve with the value of hyper-parameter on *x*-axis and error on the *y*-axis.\n",
    "- **STEP 5:** Fix the hyper-parameter value where test error is the least.\n",
    "\n",
    "**NOTE:** THESE STEPS CAN BE FOLLOWED FOR TUNING ANY HYPER-PARAMETER OF A MODEL. (not just the learning rate)"
   ]
  },
  {
   "cell_type": "code",
   "execution_count": 27,
   "metadata": {},
   "outputs": [
    {
     "name": "stdout",
     "output_type": "stream",
     "text": [
      "CPU times: user 116 ms, sys: 69 ms, total: 185 ms\n",
      "Wall time: 2.59 s\n"
     ]
    }
   ],
   "source": [
    "%%time\n",
    "from sklearn.pipeline import Pipeline\n",
    "from sklearn.model_selection import validation_curve\n",
    "\n",
    "eta0 = [1e-5, 1e-4, 1e-3, 1e-2]\n",
    "\n",
    "train_scores, test_scores = validation_curve(\n",
    "    sgd_pipeline,\n",
    "    com_train_features,\n",
    "    com_train_labels,\n",
    "    param_name=\"SGD__eta0\", # We are testing for the parameter eta0\n",
    "    param_range=eta0,\n",
    "    cv=shuffle_split_cv,\n",
    "    scoring='neg_mean_squared_error',\n",
    "    n_jobs=2,\n",
    ")\n",
    "\n",
    "train_errors, test_errors = -train_scores, -test_scores"
   ]
  },
  {
   "cell_type": "code",
   "execution_count": 29,
   "metadata": {},
   "outputs": [
    {
     "data": {
      "text/plain": [
       "array([[5.4970157 , 5.47418537, 5.45561725, 5.45897979, 5.47585689,\n",
       "        5.49191576, 5.50467408, 5.46853424, 5.45976827, 5.47144762],\n",
       "       [4.30425385, 4.28546385, 4.26459393, 4.27506337, 4.28259875,\n",
       "        4.29616127, 4.31118851, 4.27922324, 4.27646987, 4.2809932 ],\n",
       "       [0.85589893, 0.85018122, 0.83657382, 0.84864292, 0.83959774,\n",
       "        0.84994956, 0.85071409, 0.84445808, 0.85800914, 0.84362491],\n",
       "       [0.66889017, 5.28976551, 0.83655736, 0.94020426, 1.54525895,\n",
       "        0.99049287, 0.55470573, 0.85670068, 7.67925582, 0.95559332]])"
      ]
     },
     "execution_count": 29,
     "metadata": {},
     "output_type": "execute_result"
    }
   ],
   "source": [
    "train_errors\n",
    "#  each row corresponds to the error across 10 folds for a fixed eta0"
   ]
  },
  {
   "cell_type": "code",
   "execution_count": 34,
   "metadata": {},
   "outputs": [
    {
     "data": {
      "image/png": "[encoded data removed]",
      "text/plain": [
       "<Figure size 576x396 with 1 Axes>"
      ]
     },
     "metadata": {},
     "output_type": "display_data"
    }
   ],
   "source": [
    "plt.figure()\n",
    "plt.plot(eta0, train_errors.mean(axis=1), 'b-o', label=\"training_error\")\n",
    "plt.plot(eta0, test_errors.mean(axis=1), 'r-o', label=\"test_error\")\n",
    "plt.legend()\n",
    "plt.xlabel(\"eta0\")\n",
    "plt.ylabel(\"Mean MSE across folds\")\n",
    "plt.title(\"Validation Curve for SGD for different learning rates\")\n",
    "plt.show()"
   ]
  },
  {
   "cell_type": "markdown",
   "metadata": {},
   "source": [
    "As we can see here, for `eta0 = 1e-3`, the test error is the least and hence we fix that value as the value for `eta0`.\n",
    "\n",
    "Next, we also plot the standard deviation of errors."
   ]
  },
  {
   "cell_type": "code",
   "execution_count": 35,
   "metadata": {},
   "outputs": [
    {
     "data": {
      "image/png": "[encoded data removed]",
      "text/plain": [
       "<Figure size 576x396 with 1 Axes>"
      ]
     },
     "metadata": {},
     "output_type": "display_data"
    }
   ],
   "source": [
    "plt.figure()\n",
    "plt.errorbar(eta0, train_errors.mean(axis=1), yerr=train_errors.std(axis=1), label=\"training_error\")\n",
    "plt.errorbar(eta0, test_errors.mean(axis=1), yerr=test_errors.std(axis=1), label=\"test_error\")\n",
    "plt.legend()\n",
    "plt.xlabel(\"eta0\")\n",
    "plt.ylabel(\"Mean MSE across folds\")\n",
    "plt.title(\"Validation Curve for SGD for different learning rates\")\n",
    "plt.show()"
   ]
  },
  {
   "cell_type": "markdown",
   "metadata": {},
   "source": [
    "## Final `SGDRegressor`"
   ]
  },
  {
   "cell_type": "code",
   "execution_count": 40,
   "metadata": {},
   "outputs": [
    {
     "name": "stdout",
     "output_type": "stream",
     "text": [
      "Mean absolute error on Training set:  0.579376454514559\n",
      "Mean absolute error on Development set:  0.5689180241137523\n",
      "CPU times: user 97.2 ms, sys: 35.9 ms, total: 133 ms\n",
      "Wall time: 35.8 ms\n"
     ]
    }
   ],
   "source": [
    "%%time\n",
    "from sklearn.pipeline import Pipeline\n",
    "from sklearn.preprocessing import StandardScaler\n",
    "from sklearn.linear_model import SGDRegressor\n",
    "from sklearn.metrics import mean_absolute_error\n",
    "\n",
    "# Default learning strategy\n",
    "sgd_pipeline = Pipeline([\n",
    "    ('feature_scaling', StandardScaler()),\n",
    "    ('SGD', SGDRegressor(\n",
    "        max_iter=500,\n",
    "        early_stopping=True,\n",
    "        eta0=1e-3,\n",
    "        tol=1e-3,\n",
    "        validation_fraction=0.2,\n",
    "        n_iter_no_change=5,\n",
    "        average=10,\n",
    "        random_state=42,\n",
    "    )),\n",
    "])\n",
    "\n",
    "sgd_pipeline.fit(train_features, train_labels)\n",
    "\n",
    "train_mae = mean_absolute_error(train_labels, sgd_pipeline.predict(train_features))\n",
    "dev_mae = mean_absolute_error(dev_labels, sgd_pipeline.predict(dev_features))\n",
    "\n",
    "print(\"Mean absolute error on Training set: \", train_mae)\n",
    "print(\"Mean absolute error on Development set: \", dev_mae)"
   ]
  },
  {
   "cell_type": "code",
   "execution_count": 39,
   "metadata": {},
   "outputs": [
    {
     "name": "stdout",
     "output_type": "stream",
     "text": [
      "Number of SGD iterations:  7\n",
      "Number of weight updates:  81271.0\n"
     ]
    }
   ],
   "source": [
    "print(\"Number of SGD iterations: \", sgd_pipeline[-1].n_iter_)\n",
    "print(\"Number of weight updates: \", sgd_pipeline[-1].t_)"
   ]
  },
  {
   "cell_type": "code",
   "execution_count": 41,
   "metadata": {},
   "outputs": [
    {
     "name": "stdout",
     "output_type": "stream",
     "text": [
      "Mean absolute error on Training set:  0.5359339681114987\n",
      "Mean absolute error on Development set:  0.5151099728924144\n",
      "Number of SGD iterations:  8\n",
      "Number of weight updates:  92881.0\n",
      "CPU times: user 75.3 ms, sys: 25 ms, total: 100 ms\n",
      "Wall time: 22.8 ms\n"
     ]
    }
   ],
   "source": [
    "%%time\n",
    "from sklearn.pipeline import Pipeline\n",
    "from sklearn.preprocessing import StandardScaler\n",
    "from sklearn.linear_model import SGDRegressor\n",
    "from sklearn.metrics import mean_absolute_error\n",
    "\n",
    "# Constant learning strategy\n",
    "sgd_pipeline = Pipeline([\n",
    "    ('feature_scaling', StandardScaler()),\n",
    "    ('SGD', SGDRegressor(\n",
    "        max_iter=500,\n",
    "        early_stopping=True,\n",
    "        eta0=1e-3,\n",
    "        tol=1e-3,\n",
    "        learning_rate='constant',\n",
    "        validation_fraction=0.2,\n",
    "        n_iter_no_change=5,\n",
    "        average=10,\n",
    "        random_state=42,\n",
    "    )),\n",
    "])\n",
    "\n",
    "sgd_pipeline.fit(train_features, train_labels)\n",
    "\n",
    "train_mae = mean_absolute_error(train_labels, sgd_pipeline.predict(train_features))\n",
    "dev_mae = mean_absolute_error(dev_labels, sgd_pipeline.predict(dev_features))\n",
    "\n",
    "print(\"Mean absolute error on Training set: \", train_mae)\n",
    "print(\"Mean absolute error on Development set: \", dev_mae)\n",
    "\n",
    "print(\"Number of SGD iterations: \", sgd_pipeline[-1].n_iter_)\n",
    "print(\"Number of weight updates: \", sgd_pipeline[-1].t_)"
   ]
  },
  {
   "cell_type": "code",
   "execution_count": 42,
   "metadata": {},
   "outputs": [
    {
     "name": "stdout",
     "output_type": "stream",
     "text": [
      "Mean absolute error on Training set:  0.5340193046836148\n",
      "Mean absolute error on Development set:  0.5198356196858102\n",
      "Number of SGD iterations:  33\n",
      "Number of weight updates:  383131.0\n",
      "CPU times: user 233 ms, sys: 73.5 ms, total: 306 ms\n",
      "Wall time: 56 ms\n"
     ]
    }
   ],
   "source": [
    "%%time\n",
    "from sklearn.pipeline import Pipeline\n",
    "from sklearn.preprocessing import StandardScaler\n",
    "from sklearn.linear_model import SGDRegressor\n",
    "from sklearn.metrics import mean_absolute_error\n",
    "\n",
    "# Adaptive learning strategy\n",
    "sgd_pipeline = Pipeline([\n",
    "    ('feature_scaling', StandardScaler()),\n",
    "    ('SGD', SGDRegressor(\n",
    "        max_iter=500,\n",
    "        early_stopping=True,\n",
    "        eta0=1e-3,\n",
    "        tol=1e-3,\n",
    "        learning_rate='adaptive',\n",
    "        validation_fraction=0.2,\n",
    "        n_iter_no_change=5,\n",
    "        average=10,\n",
    "        random_state=42,\n",
    "    )),\n",
    "])\n",
    "\n",
    "sgd_pipeline.fit(train_features, train_labels)\n",
    "\n",
    "train_mae = mean_absolute_error(train_labels, sgd_pipeline.predict(train_features))\n",
    "dev_mae = mean_absolute_error(dev_labels, sgd_pipeline.predict(dev_features))\n",
    "\n",
    "print(\"Mean absolute error on Training set: \", train_mae)\n",
    "print(\"Mean absolute error on Development set: \", dev_mae)\n",
    "\n",
    "print(\"Number of SGD iterations: \", sgd_pipeline[-1].n_iter_)\n",
    "print(\"Number of weight updates: \", sgd_pipeline[-1].t_)"
   ]
  },
  {
   "cell_type": "markdown",
   "metadata": {},
   "source": [
    "## Setting `max_iters`\n",
    "\n",
    "Ideally `SGDRegressor` requires around `1e6` weight updates to converge rpoperly. So, we can cap the maximum no. of iterations."
   ]
  },
  {
   "cell_type": "code",
   "execution_count": 43,
   "metadata": {},
   "outputs": [
    {
     "data": {
      "text/plain": [
       "65.0"
      ]
     },
     "execution_count": 43,
     "metadata": {},
     "output_type": "execute_result"
    }
   ],
   "source": [
    "max_iter = np.ceil(1e6/com_train_features.shape[0])\n",
    "max_iter"
   ]
  },
  {
   "cell_type": "code",
   "execution_count": 44,
   "metadata": {},
   "outputs": [
    {
     "name": "stdout",
     "output_type": "stream",
     "text": [
      "Mean absolute error on Training set:  0.5359339681114987\n",
      "Mean absolute error on Development set:  0.5151099728924144\n",
      "Number of SGD iterations:  8\n",
      "Number of weight updates:  92881.0\n",
      "CPU times: user 30.8 ms, sys: 61.5 ms, total: 92.3 ms\n",
      "Wall time: 26.1 ms\n"
     ]
    }
   ],
   "source": [
    "%%time\n",
    "from sklearn.pipeline import Pipeline\n",
    "from sklearn.preprocessing import StandardScaler\n",
    "from sklearn.linear_model import SGDRegressor\n",
    "from sklearn.metrics import mean_absolute_error\n",
    "\n",
    "# constant learning rate - because of best accuracy\n",
    "sgd_pipeline = Pipeline([\n",
    "    ('feature_scaling', StandardScaler()),\n",
    "    ('SGD', SGDRegressor(\n",
    "        max_iter=max_iter,\n",
    "        early_stopping=True,\n",
    "        eta0=1e-3,\n",
    "        tol=1e-3,\n",
    "        learning_rate='constant',\n",
    "        validation_fraction=0.2,\n",
    "        n_iter_no_change=5,\n",
    "        average=10,\n",
    "        random_state=42,\n",
    "    )),\n",
    "])\n",
    "\n",
    "sgd_pipeline.fit(train_features, train_labels)\n",
    "\n",
    "train_mae = mean_absolute_error(train_labels, sgd_pipeline.predict(train_features))\n",
    "dev_mae = mean_absolute_error(dev_labels, sgd_pipeline.predict(dev_features))\n",
    "\n",
    "print(\"Mean absolute error on Training set: \", train_mae)\n",
    "print(\"Mean absolute error on Development set: \", dev_mae)\n",
    "\n",
    "print(\"Number of SGD iterations: \", sgd_pipeline[-1].n_iter_)\n",
    "print(\"Number of weight updates: \", sgd_pipeline[-1].t_)"
   ]
  },
  {
   "cell_type": "markdown",
   "metadata": {},
   "source": [
    "## Summary\n",
    "\n",
    "In this notebook, we saw:\n",
    "- how to build `SGDRegressor` model.\n",
    "- how to tune the learning rate.\n",
    "- how to use different `learning_rate` and their impact on convergence.\n",
    "- how to use early stopping and averaged SGD.\n",
    "- how to tune hyperparameters with validation curves."
   ]
  }
 ],
 "metadata": {
  "interpreter": {
   "hash": "c0b4aa3dbf26008a2f5bdb6f96959d9b12aab8bbe92ce96b5c8a3811effcf69d"
  },
  "kernelspec": {
   "display_name": "Python 3.8.8 64-bit ('skk-mlp-env': conda)",
   "language": "python",
   "name": "python3"
  },
  "language_info": {
   "codemirror_mode": {
    "name": "ipython",
    "version": 3
   },
   "file_extension": ".py",
   "mimetype": "text/x-python",
   "name": "python",
   "nbconvert_exporter": "python",
   "pygments_lexer": "ipython3",
   "version": "3.8.8"
  },
  "orig_nbformat": 4
 },
 "nbformat": 4,
 "nbformat_minor": 2
}
