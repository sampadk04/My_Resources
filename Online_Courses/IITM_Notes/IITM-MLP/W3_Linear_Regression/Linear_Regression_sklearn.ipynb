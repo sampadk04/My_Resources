{
 "cells": [
  {
   "cell_type": "code",
   "execution_count": 1,
   "metadata": {},
   "outputs": [],
   "source": [
    "from IPython.display import display, Math, Latex\n",
    "# This is imported for proper rendering of Latex in Notebook."
   ]
  },
  {
   "cell_type": "code",
   "execution_count": 2,
   "metadata": {},
   "outputs": [],
   "source": [
    "# Imports\n",
    "import numpy as np\n",
    "import pandas as pd\n",
    "import matplotlib.pyplot as plt\n",
    "import seaborn as sns\n",
    "\n",
    "%matplotlib inline\n",
    "\n",
    "np.random.seed(306)\n",
    "plt.style.use('seaborn')"
   ]
  },
  {
   "cell_type": "markdown",
   "metadata": {},
   "source": [
    "# Linear Regression with sklearn API\n",
    "\n",
    "We will build a linear regression model with `sklearn`. We will be using the following set up:\n",
    "1. Dataset: California housing\n",
    "2. Linear Regression API: `LinearRegression`\n",
    "3. Training: `fit` (normal equation) and `cross_validate` (normal equation with cross validation)\n",
    "4. Evaluation: `score` (r2 score) and `cross_val_score` with different scoring parameters.\n",
    "\n",
    "We will study the model diagnosis with `LearningCurve` and learn how to examine the learned model or weight vector."
   ]
  },
  {
   "cell_type": "markdown",
   "metadata": {},
   "source": [
    "### Cross Validation\n",
    "\n",
    "We will use the `ShuffleSplit` cross validation with:\n",
    "- $10$ folds (`n_splits`) and\n",
    "- set aside $20\\%$ examples as test examples (`test_size`)."
   ]
  },
  {
   "cell_type": "code",
   "execution_count": 3,
   "metadata": {},
   "outputs": [],
   "source": [
    "from sklearn.model_selection import ShuffleSplit\n",
    "\n",
    "shuffle_split_cv = ShuffleSplit(n_splits=10, test_size=0.2, random_state=0)"
   ]
  },
  {
   "cell_type": "markdown",
   "metadata": {},
   "source": [
    "This creates 10 folds through shuffle split by keeping aside 20% examples as test in each fold."
   ]
  },
  {
   "cell_type": "markdown",
   "metadata": {},
   "source": [
    "## **STEP 1:** Load the dataset\n",
    "\n",
    "The first step is to load the dataset. We will use `California Housing` dataset for demonstration."
   ]
  },
  {
   "cell_type": "code",
   "execution_count": 4,
   "metadata": {},
   "outputs": [],
   "source": [
    "from sklearn.datasets import fetch_california_housing\n",
    "\n",
    "features, labels = fetch_california_housing(as_frame=True, return_X_y=True)"
   ]
  },
  {
   "cell_type": "markdown",
   "metadata": {},
   "source": [
    "The feature matrix is loaded in the `features` DataFrame and the labels in `labels` Series. Let's examine both."
   ]
  },
  {
   "cell_type": "code",
   "execution_count": 5,
   "metadata": {},
   "outputs": [
    {
     "name": "stdout",
     "output_type": "stream",
     "text": [
      "(20640, 8) (20640,)\n"
     ]
    }
   ],
   "source": [
    "print(features.shape, labels.shape)"
   ]
  },
  {
   "cell_type": "markdown",
   "metadata": {},
   "source": [
    "As a sanity check, make sure that the no. of rows in feature matrix and labels match."
   ]
  },
  {
   "cell_type": "code",
   "execution_count": 6,
   "metadata": {},
   "outputs": [],
   "source": [
    "assert(features.shape[0] == labels.shape[0])"
   ]
  },
  {
   "cell_type": "markdown",
   "metadata": {},
   "source": [
    "## **STEP 2:** Data exploration"
   ]
  },
  {
   "cell_type": "code",
   "execution_count": 7,
   "metadata": {},
   "outputs": [
    {
     "data": {
      "text/html": [
       "<div>\n",
       "<style scoped>\n",
       "    .dataframe tbody tr th:only-of-type {\n",
       "        vertical-align: middle;\n",
       "    }\n",
       "\n",
       "    .dataframe tbody tr th {\n",
       "        vertical-align: top;\n",
       "    }\n",
       "\n",
       "    .dataframe thead th {\n",
       "        text-align: right;\n",
       "    }\n",
       "</style>\n",
       "<table border=\"1\" class=\"dataframe\">\n",
       "  <thead>\n",
       "    <tr style=\"text-align: right;\">\n",
       "      <th></th>\n",
       "      <th>MedInc</th>\n",
       "      <th>HouseAge</th>\n",
       "      <th>AveRooms</th>\n",
       "      <th>AveBedrms</th>\n",
       "      <th>Population</th>\n",
       "      <th>AveOccup</th>\n",
       "      <th>Latitude</th>\n",
       "      <th>Longitude</th>\n",
       "    </tr>\n",
       "  </thead>\n",
       "  <tbody>\n",
       "    <tr>\n",
       "      <th>0</th>\n",
       "      <td>8.3252</td>\n",
       "      <td>41.0</td>\n",
       "      <td>6.984127</td>\n",
       "      <td>1.023810</td>\n",
       "      <td>322.0</td>\n",
       "      <td>2.555556</td>\n",
       "      <td>37.88</td>\n",
       "      <td>-122.23</td>\n",
       "    </tr>\n",
       "    <tr>\n",
       "      <th>1</th>\n",
       "      <td>8.3014</td>\n",
       "      <td>21.0</td>\n",
       "      <td>6.238137</td>\n",
       "      <td>0.971880</td>\n",
       "      <td>2401.0</td>\n",
       "      <td>2.109842</td>\n",
       "      <td>37.86</td>\n",
       "      <td>-122.22</td>\n",
       "    </tr>\n",
       "    <tr>\n",
       "      <th>2</th>\n",
       "      <td>7.2574</td>\n",
       "      <td>52.0</td>\n",
       "      <td>8.288136</td>\n",
       "      <td>1.073446</td>\n",
       "      <td>496.0</td>\n",
       "      <td>2.802260</td>\n",
       "      <td>37.85</td>\n",
       "      <td>-122.24</td>\n",
       "    </tr>\n",
       "    <tr>\n",
       "      <th>3</th>\n",
       "      <td>5.6431</td>\n",
       "      <td>52.0</td>\n",
       "      <td>5.817352</td>\n",
       "      <td>1.073059</td>\n",
       "      <td>558.0</td>\n",
       "      <td>2.547945</td>\n",
       "      <td>37.85</td>\n",
       "      <td>-122.25</td>\n",
       "    </tr>\n",
       "    <tr>\n",
       "      <th>4</th>\n",
       "      <td>3.8462</td>\n",
       "      <td>52.0</td>\n",
       "      <td>6.281853</td>\n",
       "      <td>1.081081</td>\n",
       "      <td>565.0</td>\n",
       "      <td>2.181467</td>\n",
       "      <td>37.85</td>\n",
       "      <td>-122.25</td>\n",
       "    </tr>\n",
       "  </tbody>\n",
       "</table>\n",
       "</div>"
      ],
      "text/plain": [
       "   MedInc  HouseAge  AveRooms  AveBedrms  Population  AveOccup  Latitude  \\\n",
       "0  8.3252      41.0  6.984127   1.023810       322.0  2.555556     37.88   \n",
       "1  8.3014      21.0  6.238137   0.971880      2401.0  2.109842     37.86   \n",
       "2  7.2574      52.0  8.288136   1.073446       496.0  2.802260     37.85   \n",
       "3  5.6431      52.0  5.817352   1.073059       558.0  2.547945     37.85   \n",
       "4  3.8462      52.0  6.281853   1.081081       565.0  2.181467     37.85   \n",
       "\n",
       "   Longitude  \n",
       "0    -122.23  \n",
       "1    -122.22  \n",
       "2    -122.24  \n",
       "3    -122.25  \n",
       "4    -122.25  "
      ]
     },
     "execution_count": 7,
     "metadata": {},
     "output_type": "execute_result"
    }
   ],
   "source": [
    "features.head()"
   ]
  },
  {
   "cell_type": "code",
   "execution_count": 8,
   "metadata": {},
   "outputs": [
    {
     "data": {
      "text/plain": [
       "Index(['MedInc', 'HouseAge', 'AveRooms', 'AveBedrms', 'Population', 'AveOccup',\n",
       "       'Latitude', 'Longitude'],\n",
       "      dtype='object')"
      ]
     },
     "execution_count": 8,
     "metadata": {},
     "output_type": "execute_result"
    }
   ],
   "source": [
    "features.columns"
   ]
  },
  {
   "cell_type": "code",
   "execution_count": 9,
   "metadata": {},
   "outputs": [
    {
     "name": "stdout",
     "output_type": "stream",
     "text": [
      "<class 'pandas.core.frame.DataFrame'>\n",
      "RangeIndex: 20640 entries, 0 to 20639\n",
      "Data columns (total 8 columns):\n",
      " #   Column      Non-Null Count  Dtype  \n",
      "---  ------      --------------  -----  \n",
      " 0   MedInc      20640 non-null  float64\n",
      " 1   HouseAge    20640 non-null  float64\n",
      " 2   AveRooms    20640 non-null  float64\n",
      " 3   AveBedrms   20640 non-null  float64\n",
      " 4   Population  20640 non-null  float64\n",
      " 5   AveOccup    20640 non-null  float64\n",
      " 6   Latitude    20640 non-null  float64\n",
      " 7   Longitude   20640 non-null  float64\n",
      "dtypes: float64(8)\n",
      "memory usage: 1.3 MB\n"
     ]
    }
   ],
   "source": [
    "features.info()"
   ]
  },
  {
   "cell_type": "code",
   "execution_count": 10,
   "metadata": {},
   "outputs": [
    {
     "data": {
      "text/html": [
       "<div>\n",
       "<style scoped>\n",
       "    .dataframe tbody tr th:only-of-type {\n",
       "        vertical-align: middle;\n",
       "    }\n",
       "\n",
       "    .dataframe tbody tr th {\n",
       "        vertical-align: top;\n",
       "    }\n",
       "\n",
       "    .dataframe thead th {\n",
       "        text-align: right;\n",
       "    }\n",
       "</style>\n",
       "<table border=\"1\" class=\"dataframe\">\n",
       "  <thead>\n",
       "    <tr style=\"text-align: right;\">\n",
       "      <th></th>\n",
       "      <th>count</th>\n",
       "      <th>mean</th>\n",
       "      <th>std</th>\n",
       "      <th>min</th>\n",
       "      <th>25%</th>\n",
       "      <th>50%</th>\n",
       "      <th>75%</th>\n",
       "      <th>max</th>\n",
       "    </tr>\n",
       "  </thead>\n",
       "  <tbody>\n",
       "    <tr>\n",
       "      <th>MedInc</th>\n",
       "      <td>20640.0</td>\n",
       "      <td>3.870671</td>\n",
       "      <td>1.899822</td>\n",
       "      <td>0.499900</td>\n",
       "      <td>2.563400</td>\n",
       "      <td>3.534800</td>\n",
       "      <td>4.743250</td>\n",
       "      <td>15.000100</td>\n",
       "    </tr>\n",
       "    <tr>\n",
       "      <th>HouseAge</th>\n",
       "      <td>20640.0</td>\n",
       "      <td>28.639486</td>\n",
       "      <td>12.585558</td>\n",
       "      <td>1.000000</td>\n",
       "      <td>18.000000</td>\n",
       "      <td>29.000000</td>\n",
       "      <td>37.000000</td>\n",
       "      <td>52.000000</td>\n",
       "    </tr>\n",
       "    <tr>\n",
       "      <th>AveRooms</th>\n",
       "      <td>20640.0</td>\n",
       "      <td>5.429000</td>\n",
       "      <td>2.474173</td>\n",
       "      <td>0.846154</td>\n",
       "      <td>4.440716</td>\n",
       "      <td>5.229129</td>\n",
       "      <td>6.052381</td>\n",
       "      <td>141.909091</td>\n",
       "    </tr>\n",
       "    <tr>\n",
       "      <th>AveBedrms</th>\n",
       "      <td>20640.0</td>\n",
       "      <td>1.096675</td>\n",
       "      <td>0.473911</td>\n",
       "      <td>0.333333</td>\n",
       "      <td>1.006079</td>\n",
       "      <td>1.048780</td>\n",
       "      <td>1.099526</td>\n",
       "      <td>34.066667</td>\n",
       "    </tr>\n",
       "    <tr>\n",
       "      <th>Population</th>\n",
       "      <td>20640.0</td>\n",
       "      <td>1425.476744</td>\n",
       "      <td>1132.462122</td>\n",
       "      <td>3.000000</td>\n",
       "      <td>787.000000</td>\n",
       "      <td>1166.000000</td>\n",
       "      <td>1725.000000</td>\n",
       "      <td>35682.000000</td>\n",
       "    </tr>\n",
       "    <tr>\n",
       "      <th>AveOccup</th>\n",
       "      <td>20640.0</td>\n",
       "      <td>3.070655</td>\n",
       "      <td>10.386050</td>\n",
       "      <td>0.692308</td>\n",
       "      <td>2.429741</td>\n",
       "      <td>2.818116</td>\n",
       "      <td>3.282261</td>\n",
       "      <td>1243.333333</td>\n",
       "    </tr>\n",
       "    <tr>\n",
       "      <th>Latitude</th>\n",
       "      <td>20640.0</td>\n",
       "      <td>35.631861</td>\n",
       "      <td>2.135952</td>\n",
       "      <td>32.540000</td>\n",
       "      <td>33.930000</td>\n",
       "      <td>34.260000</td>\n",
       "      <td>37.710000</td>\n",
       "      <td>41.950000</td>\n",
       "    </tr>\n",
       "    <tr>\n",
       "      <th>Longitude</th>\n",
       "      <td>20640.0</td>\n",
       "      <td>-119.569704</td>\n",
       "      <td>2.003532</td>\n",
       "      <td>-124.350000</td>\n",
       "      <td>-121.800000</td>\n",
       "      <td>-118.490000</td>\n",
       "      <td>-118.010000</td>\n",
       "      <td>-114.310000</td>\n",
       "    </tr>\n",
       "  </tbody>\n",
       "</table>\n",
       "</div>"
      ],
      "text/plain": [
       "              count         mean          std         min         25%  \\\n",
       "MedInc      20640.0     3.870671     1.899822    0.499900    2.563400   \n",
       "HouseAge    20640.0    28.639486    12.585558    1.000000   18.000000   \n",
       "AveRooms    20640.0     5.429000     2.474173    0.846154    4.440716   \n",
       "AveBedrms   20640.0     1.096675     0.473911    0.333333    1.006079   \n",
       "Population  20640.0  1425.476744  1132.462122    3.000000  787.000000   \n",
       "AveOccup    20640.0     3.070655    10.386050    0.692308    2.429741   \n",
       "Latitude    20640.0    35.631861     2.135952   32.540000   33.930000   \n",
       "Longitude   20640.0  -119.569704     2.003532 -124.350000 -121.800000   \n",
       "\n",
       "                    50%          75%           max  \n",
       "MedInc         3.534800     4.743250     15.000100  \n",
       "HouseAge      29.000000    37.000000     52.000000  \n",
       "AveRooms       5.229129     6.052381    141.909091  \n",
       "AveBedrms      1.048780     1.099526     34.066667  \n",
       "Population  1166.000000  1725.000000  35682.000000  \n",
       "AveOccup       2.818116     3.282261   1243.333333  \n",
       "Latitude      34.260000    37.710000     41.950000  \n",
       "Longitude   -118.490000  -118.010000   -114.310000  "
      ]
     },
     "execution_count": 10,
     "metadata": {},
     "output_type": "execute_result"
    }
   ],
   "source": [
    "features.describe().T"
   ]
  },
  {
   "cell_type": "code",
   "execution_count": 11,
   "metadata": {},
   "outputs": [
    {
     "data": {
      "text/plain": [
       "0    4.526\n",
       "1    3.585\n",
       "2    3.521\n",
       "3    3.413\n",
       "4    3.422\n",
       "Name: MedHouseVal, dtype: float64"
      ]
     },
     "execution_count": 11,
     "metadata": {},
     "output_type": "execute_result"
    }
   ],
   "source": [
    "labels.head()"
   ]
  },
  {
   "cell_type": "markdown",
   "metadata": {},
   "source": [
    "## **STEP 3:** Preprocessing and model building"
   ]
  },
  {
   "cell_type": "markdown",
   "metadata": {},
   "source": [
    "### 3.1 Train test split\n",
    "\n",
    "The first step is to split the training data into training and test data. We do not access the test data till the end. All the data exploration and tuning is performed on the training set and by setting aside a small portion of training as dev or validation set.\n",
    "\n",
    "The following code snippet divides the data into training and test sets."
   ]
  },
  {
   "cell_type": "code",
   "execution_count": 12,
   "metadata": {},
   "outputs": [],
   "source": [
    "from sklearn.model_selection import train_test_split\n",
    "\n",
    "train_features, test_features, train_labels, test_labels = train_test_split(features, labels, test_size=0.25, random_state=42)"
   ]
  },
  {
   "cell_type": "markdown",
   "metadata": {},
   "source": [
    "Let's examine the shaped of training and test sets."
   ]
  },
  {
   "cell_type": "code",
   "execution_count": 13,
   "metadata": {},
   "outputs": [
    {
     "name": "stdout",
     "output_type": "stream",
     "text": [
      "(15480, 8) (5160, 8)\n",
      "(15480,) (5160,)\n"
     ]
    }
   ],
   "source": [
    "print(train_features.shape, test_features.shape)\n",
    "print(train_labels.shape, test_labels.shape)"
   ]
  },
  {
   "cell_type": "markdown",
   "metadata": {},
   "source": [
    "## **STEP 4:** Pipeline: Preprocessing + Model\n",
    "\n",
    "As a first step, we build linear regression models with default parametre setting of Linear Regression APIs.\n",
    "\n",
    "> We will make use of `Pipeline` API for combining data preprocessing and model building.\n",
    "\n",
    "We will use `StandardScaler` feture scaling to bring all features on the same scale followed by a `LinearRegression` model.\n",
    "\n",
    "The `pipeline` object has $2$ components:\n",
    "1. `StandardScaler` as step 1.\n",
    "2. `LinearRegression` as step 2.\n",
    "\n",
    "After constructing the pipeline object, let's train it with training set."
   ]
  },
  {
   "cell_type": "code",
   "execution_count": 14,
   "metadata": {},
   "outputs": [
    {
     "data": {
      "text/plain": [
       "Pipeline(steps=[('feature_scaling', StandardScaler()),\n",
       "                ('lin_reg', LinearRegression())])"
      ]
     },
     "execution_count": 14,
     "metadata": {},
     "output_type": "execute_result"
    }
   ],
   "source": [
    "from sklearn.preprocessing import StandardScaler\n",
    "from sklearn.linear_model import LinearRegression\n",
    "from sklearn.pipeline import Pipeline\n",
    "\n",
    "# Set up linear regression model.\n",
    "lin_reg_pipeline = Pipeline([\n",
    "    ('feature_scaling', StandardScaler()),\n",
    "    ('lin_reg', LinearRegression()),\n",
    "])\n",
    "\n",
    "# Train linear regression model with Normal Equation\n",
    "lin_reg_pipeline.fit(train_features,train_labels)"
   ]
  },
  {
   "cell_type": "markdown",
   "metadata": {},
   "source": [
    "Now, that we have trained the model, let's check the learnt/estimated weight vectors (`intercept_` and `coef_`)."
   ]
  },
  {
   "cell_type": "code",
   "execution_count": 15,
   "metadata": {},
   "outputs": [
    {
     "name": "stdout",
     "output_type": "stream",
     "text": [
      "Incercept (w_0):\n",
      " 2.0703489205426377\n",
      "Weight vector (w_1, w_2,...,w_m):\n",
      " [ 0.85210815  0.12065533 -0.30210555  0.34860575 -0.00164465 -0.04116356\n",
      " -0.89314697 -0.86784046]\n"
     ]
    }
   ],
   "source": [
    "print(\"Incercept (w_0):\\n\", lin_reg_pipeline[-1].intercept_)\n",
    "print(\"Weight vector (w_1, w_2,...,w_m):\\n\", lin_reg_pipeline[-1].coef_)"
   ]
  },
  {
   "cell_type": "markdown",
   "metadata": {},
   "source": [
    "A couple of things to notice:\n",
    "- We accesses the `LinearRegression` object as `lin_reg_pipeline[-1]` which is the last step in the pipeline.\n",
    "- The intercept can be written via `intercept_` member variable and\n",
    "- The weight vector corresponding to features via `coef_`."
   ]
  },
  {
   "cell_type": "markdown",
   "metadata": {},
   "source": [
    "## **STEP 4:** Model Evaluation"
   ]
  },
  {
   "cell_type": "markdown",
   "metadata": {},
   "source": [
    "### `score`\n",
    "\n",
    "Let's use `score` method to obtain train and test errors with the following objectives -\n",
    "> - Estimation of model performance as provided by test error.\n",
    "> - Comparison of errors for model diagnostic purpose (under/over/right fit)."
   ]
  },
  {
   "cell_type": "code",
   "execution_count": 16,
   "metadata": {},
   "outputs": [
    {
     "name": "stdout",
     "output_type": "stream",
     "text": [
      "Model performance on test set:  0.609873031052925\n",
      "Model performance on test set:  0.591050979549135\n"
     ]
    }
   ],
   "source": [
    "# evaluate model performance on the training set\n",
    "training_score = lin_reg_pipeline.score(train_features, train_labels)\n",
    "print(\"Model performance on test set: \", training_score)\n",
    "\n",
    "# evaluate model performance on the test set\n",
    "test_score = lin_reg_pipeline.score(test_features, test_labels)\n",
    "print(\"Model performance on test set: \", test_score)"
   ]
  },
  {
   "cell_type": "markdown",
   "metadata": {},
   "source": [
    "The `score` method returns `r2` socre whose best value is $1$. \n",
    "\n",
    "The `r2` scores on training and test are comparile but they are not that high. It points to possible underfitting issue in the model."
   ]
  },
  {
   "cell_type": "markdown",
   "metadata": {},
   "source": [
    "### Cross Validated Scores (`cross_val_score`)\n",
    "\n",
    "Since, the `score` was computed on one fold that was selected as a test set, it may not be all that robust. In order to obtain rbust estimate of the performance, we use `cross_val_score` that calculate `score` on different test folds through cross validation."
   ]
  },
  {
   "cell_type": "code",
   "execution_count": 17,
   "metadata": {},
   "outputs": [
    {
     "name": "stdout",
     "output_type": "stream",
     "text": [
      "Score of linear regression model on the test set \n",
      " (kept aside from the training set itself during `shuffle_split_cv`):\n",
      " [-0.50009976 -0.52183352 -0.55931218 -0.52110499 -0.56059203 -0.50510767\n",
      " -0.52386194 -0.54775518 -0.5007161  -0.54713448]\n",
      "Mean score of linear regression model on the test set \n",
      " (kept aside from the training set itself during `shuffle_split_cv`):\n",
      "-0.529 +/-  0.022\n"
     ]
    }
   ],
   "source": [
    "from sklearn.model_selection import cross_val_score\n",
    "\n",
    "# We will be using 'shuffle_split_cv' which is a SplitShuffle instance as a cross validation type.\n",
    "# Reminder: shuffle_split_cv = ShuffleSplit(n_splits=10, test_size=0.2, random_state=0)\n",
    "# So, we will be checking on 10 folds, so we will get 10 scores as output, one for each fold.\n",
    "lin_reg_cv_score = cross_val_score(\n",
    "    lin_reg_pipeline, \n",
    "    train_features, \n",
    "    train_labels, \n",
    "    scoring='neg_mean_squared_error', \n",
    "    cv=shuffle_split_cv)\n",
    "\n",
    "# The scores across the folds:\n",
    "print(\"Score of linear regression model on the test set \\n (kept aside from the training set itself during `shuffle_split_cv`):\\n\",lin_reg_cv_score)\n",
    "# We can take the mean and standard deviations of the score and report it as well\n",
    "print(f\"Mean score of linear regression model on the test set \\n (kept aside from the training set itself during `shuffle_split_cv`):\\n\"\n",
    "f\"{lin_reg_cv_score.mean(): .3f} +/- {lin_reg_cv_score.std(): .3f}\")"
   ]
  },
  {
   "cell_type": "markdown",
   "metadata": {},
   "source": [
    "Here we got the negative mean squared error as a score. We can convert that to error as follows:"
   ]
  },
  {
   "cell_type": "code",
   "execution_count": 18,
   "metadata": {},
   "outputs": [
    {
     "name": "stdout",
     "output_type": "stream",
     "text": [
      "Mean MSE of linear regression model on the test set \n",
      " (kept aside from the training set itself during `shuffle_split_cv`):\n",
      " 0.529 +/-  0.022\n"
     ]
    }
   ],
   "source": [
    "lin_reg_cv_mse = -1*lin_reg_cv_score\n",
    "print(f\"Mean MSE of linear regression model on the test set \\n (kept aside from the training set itself during `shuffle_split_cv`):\\n\"\n",
    "f\"{lin_reg_cv_mse.mean(): .3f} +/- {lin_reg_cv_mse.std(): .3f}\")"
   ]
  },
  {
   "cell_type": "markdown",
   "metadata": {},
   "source": [
    "We can use other `scoring` parameters and obtain cross validated scores based on that parameter. The following choices are made available for `scoring`:\n",
    "- `explained_variance`\n",
    "- `max_error`\n",
    "- `neg_mean_absolute_error`\n",
    "- `neg_root_mean_squared_error`\n",
    "- `neg_mean_squared_log_error`\n",
    "- `neg_median_absolute_error`\n",
    "- `neg_mean_absolute_percentage_error`\n",
    "- `r2`"
   ]
  },
  {
   "cell_type": "markdown",
   "metadata": {},
   "source": [
    "### Better Cross Validation (`cross_validate`)\n",
    "\n",
    "We just calculated the cross validation scores across $10$ folds using `cross_val_score`.\n",
    "\n",
    "It however returns only scores for each fold. We may also need to access the models trained in each fold along with some other statistics like the training error for each fold. We go on to use `cross_validate` method for that."
   ]
  },
  {
   "cell_type": "code",
   "execution_count": 19,
   "metadata": {},
   "outputs": [],
   "source": [
    "from sklearn.model_selection import cross_validate\n",
    "\n",
    "lin_reg_cv_results = cross_validate(\n",
    "    lin_reg_pipeline, \n",
    "    train_features, \n",
    "    train_labels, \n",
    "    cv=shuffle_split_cv, \n",
    "    scoring=\"neg_mean_squared_error\", \n",
    "    return_train_score=True, \n",
    "    return_estimator=True)"
   ]
  },
  {
   "cell_type": "markdown",
   "metadata": {},
   "source": [
    "The `lin_reg_cv_results` is a dictionary with the following contents:\n",
    "- trained `estimators`,\n",
    "- time taken for fitting (`fit_time`) and scoring (`score_time`) the models in cross validation,\n",
    "- training score (`train_score`) and\n",
    "- test scores (`test_score`)"
   ]
  },
  {
   "cell_type": "markdown",
   "metadata": {},
   "source": [
    "Let's print the contents of the dictionary to examine."
   ]
  },
  {
   "cell_type": "code",
   "execution_count": 20,
   "metadata": {},
   "outputs": [
    {
     "data": {
      "text/plain": [
       "{'fit_time': array([0.01499128, 0.00761199, 0.00651288, 0.00725079, 0.00716281,\n",
       "        0.00681615, 0.00582004, 0.00598216, 0.00556517, 0.00567508]),\n",
       " 'score_time': array([0.00210381, 0.00205588, 0.00142097, 0.00161314, 0.00193501,\n",
       "        0.00335503, 0.00153089, 0.00159407, 0.00149989, 0.00151396]),\n",
       " 'estimator': [Pipeline(steps=[('feature_scaling', StandardScaler()),\n",
       "                  ('lin_reg', LinearRegression())]),\n",
       "  Pipeline(steps=[('feature_scaling', StandardScaler()),\n",
       "                  ('lin_reg', LinearRegression())]),\n",
       "  Pipeline(steps=[('feature_scaling', StandardScaler()),\n",
       "                  ('lin_reg', LinearRegression())]),\n",
       "  Pipeline(steps=[('feature_scaling', StandardScaler()),\n",
       "                  ('lin_reg', LinearRegression())]),\n",
       "  Pipeline(steps=[('feature_scaling', StandardScaler()),\n",
       "                  ('lin_reg', LinearRegression())]),\n",
       "  Pipeline(steps=[('feature_scaling', StandardScaler()),\n",
       "                  ('lin_reg', LinearRegression())]),\n",
       "  Pipeline(steps=[('feature_scaling', StandardScaler()),\n",
       "                  ('lin_reg', LinearRegression())]),\n",
       "  Pipeline(steps=[('feature_scaling', StandardScaler()),\n",
       "                  ('lin_reg', LinearRegression())]),\n",
       "  Pipeline(steps=[('feature_scaling', StandardScaler()),\n",
       "                  ('lin_reg', LinearRegression())]),\n",
       "  Pipeline(steps=[('feature_scaling', StandardScaler()),\n",
       "                  ('lin_reg', LinearRegression())])],\n",
       " 'test_score': array([-0.50009976, -0.52183352, -0.55931218, -0.52110499, -0.56059203,\n",
       "        -0.50510767, -0.52386194, -0.54775518, -0.5007161 , -0.54713448]),\n",
       " 'train_score': array([-0.52578695, -0.52035137, -0.51095597, -0.52049611, -0.51060835,\n",
       "        -0.52453922, -0.51994311, -0.5144039 , -0.52578473, -0.51397105])}"
      ]
     },
     "execution_count": 20,
     "metadata": {},
     "output_type": "execute_result"
    }
   ],
   "source": [
    "lin_reg_cv_results"
   ]
  },
  {
   "cell_type": "markdown",
   "metadata": {},
   "source": [
    "There are $10$ values in each dictionary key. That is because of $cv = shuffle_split_cv$, which is splitting the training set into $10$ folds.\n",
    "\n",
    "We compare training and test errors to access generalization performance of the model. However we have training and test scores in the `train_score` and `test_score` keys.\n",
    "> Multiply these scores by $-1$ and convert them to errors."
   ]
  },
  {
   "cell_type": "code",
   "execution_count": 21,
   "metadata": {},
   "outputs": [
    {
     "name": "stdout",
     "output_type": "stream",
     "text": [
      "Mean MSE of linear regression model on the training set \n",
      " (kept aside from the training set itself during `shuffle_split_cv`):\n",
      " 0.519 +/-  0.006\n",
      "Mean MSE of linear regression model on the test set \n",
      " (kept aside from the training set itself during `shuffle_split_cv`):\n",
      " 0.529 +/-  0.022\n"
     ]
    }
   ],
   "source": [
    "train_error = -1 * lin_reg_cv_results['train_score']\n",
    "test_error = -1 * lin_reg_cv_results['test_score']\n",
    "\n",
    "print(f\"Mean MSE of linear regression model on the training set \\n (kept aside from the training set itself during `shuffle_split_cv`):\\n\"\n",
    "f\"{train_error.mean(): .3f} +/- {train_error.std(): .3f}\")\n",
    "\n",
    "print(f\"Mean MSE of linear regression model on the test set \\n (kept aside from the training set itself during `shuffle_split_cv`):\\n\"\n",
    "f\"{test_error.mean(): .3f} +/- {test_error.std(): .3f}\")"
   ]
  },
  {
   "cell_type": "markdown",
   "metadata": {},
   "source": [
    "- The training and test errors are high, which is an indication of underfitting, which we will confirm by plotting the learning curves.\n",
    "\n",
    "- Test error has higher variability across different flds compared to the train error."
   ]
  },
  {
   "cell_type": "markdown",
   "metadata": {},
   "source": [
    "### Effect of training set size on error\n",
    "\n",
    "Let's understand how training set size or no. of samples affect the error. We can use `learning_curve` API that calculates cross validation scores for different no. of samples as specified in its argument `train_sizes`."
   ]
  },
  {
   "cell_type": "code",
   "execution_count": 22,
   "metadata": {},
   "outputs": [],
   "source": [
    "# Helper function for plotting the learning curves\n",
    "\n",
    "def plot_learning_curve(train_sizes, train_scores, test_scores, fit_times):\n",
    "\n",
    "    train_scores_mean = np.mean(-train_scores, axis=1)\n",
    "    train_scores_std = np.std(-train_scores, axis=1)\n",
    "    test_scores_mean = np.mean(-test_scores, axis=1)\n",
    "    test_scores_std = np.std(-test_scores, axis=1)\n",
    "    fit_times_mean = np.mean(fit_times, axis=1)\n",
    "    fit_times_std = np.std(fit_times, axis=1)\n",
    "\n",
    "    plt.fill_between(\n",
    "        train_sizes,\n",
    "        train_scores_mean - train_scores_std,\n",
    "        train_scores_mean + train_scores_std,\n",
    "        alpha = 0.1,\n",
    "        color = 'r',\n",
    "    )\n",
    "\n",
    "    plt.fill_between(\n",
    "        train_sizes,\n",
    "        test_scores_mean - test_scores_std,\n",
    "        test_scores_mean + test_scores_std,\n",
    "        alpha = 0.1,\n",
    "        color = 'g',\n",
    "    )\n",
    "\n",
    "    plt.plot(train_sizes, train_scores_mean, 'o-', color='r', label='training')\n",
    "    plt.plot(train_sizes, test_scores_mean, 'o-', color='g', label='test')\n",
    "    plt.xlabel('# of training examples')\n",
    "    plt.ylabel('MSE')\n",
    "    plt.legend(loc='best')\n",
    "    plt.show()\n"
   ]
  },
  {
   "cell_type": "markdown",
   "metadata": {},
   "source": [
    "Based on the scores calculated by `learning_curve` API, we plot the error and its standard deviation for different no. of samples."
   ]
  },
  {
   "cell_type": "code",
   "execution_count": 23,
   "metadata": {},
   "outputs": [
    {
     "data": {
      "image/png": "[encoded data removed]",
      "text/plain": [
       "<Figure size 576x396 with 1 Axes>"
      ]
     },
     "metadata": {},
     "output_type": "display_data"
    }
   ],
   "source": [
    "from sklearn.model_selection import learning_curve\n",
    "\n",
    "(train_sizes, train_scores, test_scores, fit_times, score_times) = learning_curve(\n",
    "    lin_reg_pipeline,\n",
    "    train_features,\n",
    "    train_labels,\n",
    "    cv=shuffle_split_cv,\n",
    "    scoring='neg_mean_squared_error',\n",
    "    n_jobs=-1, # Number of jobs to run in parallel\n",
    "    return_times=True, # Whether to return fit and score times\n",
    "    train_sizes=np.linspace(0.2,1.0, 10) # Number of training examples\n",
    ")\n",
    "\n",
    "plot_learning_curve(train_sizes, train_scores, test_scores, fit_times)"
   ]
  },
  {
   "cell_type": "markdown",
   "metadata": {},
   "source": [
    "Observe that\n",
    "- Both curves have reached a plateu; they are close and fairly high.\n",
    "- Few instances in the training set means the model can fit them perfectly. But as more instances are added to the training set, it becomes impossible for the model to fit the training data pefectly.\n",
    "- When the model is trained on very few training instances, it is not able to generalize properly, which is why the validation error is initially quite high. Then as the model learns on more training examples, the training and validation errors reduce slowly.\n",
    "\n",
    "These learning curves are typical of an underfitting model."
   ]
  },
  {
   "cell_type": "markdown",
   "metadata": {},
   "source": [
    "### Model Examination\n",
    "\n",
    "Let's examine the weight vectors and how much variability exists between them across different cross-validated models."
   ]
  },
  {
   "cell_type": "code",
   "execution_count": 24,
   "metadata": {},
   "outputs": [
    {
     "data": {
      "text/plain": [
       "Index(['MedInc', 'HouseAge', 'AveRooms', 'AveBedrms', 'Population', 'AveOccup',\n",
       "       'Latitude', 'Longitude'],\n",
       "      dtype='object')"
      ]
     },
     "execution_count": 24,
     "metadata": {},
     "output_type": "execute_result"
    }
   ],
   "source": [
    "feature_names = train_features.columns\n",
    "feature_names"
   ]
  },
  {
   "cell_type": "markdown",
   "metadata": {},
   "source": [
    "For this, we will first construct a DataFrame of weight vectors and then plot them using `box` plot."
   ]
  },
  {
   "cell_type": "code",
   "execution_count": 25,
   "metadata": {},
   "outputs": [
    {
     "data": {
      "text/plain": [
       "<Figure size 1152x432 with 0 Axes>"
      ]
     },
     "metadata": {},
     "output_type": "display_data"
    },
    {
     "data": {
      "image/png": "[encoded data removed]",
      "text/plain": [
       "<Figure size 576x396 with 1 Axes>"
      ]
     },
     "metadata": {},
     "output_type": "display_data"
    }
   ],
   "source": [
    "coefs = [est[-1].coef_ for est in lin_reg_cv_results['estimator']]\n",
    "weights_df = pd.DataFrame(coefs, columns=feature_names)\n",
    "\n",
    "plt.figure(figsize=(16,6))\n",
    "weights_df.plot.box()\n",
    "plt.title(\"Linear Regression Coeficients\")\n",
    "plt.show()"
   ]
  },
  {
   "cell_type": "code",
   "execution_count": 27,
   "metadata": {},
   "outputs": [
    {
     "data": {
      "text/html": [
       "<div>\n",
       "<style scoped>\n",
       "    .dataframe tbody tr th:only-of-type {\n",
       "        vertical-align: middle;\n",
       "    }\n",
       "\n",
       "    .dataframe tbody tr th {\n",
       "        vertical-align: top;\n",
       "    }\n",
       "\n",
       "    .dataframe thead th {\n",
       "        text-align: right;\n",
       "    }\n",
       "</style>\n",
       "<table border=\"1\" class=\"dataframe\">\n",
       "  <thead>\n",
       "    <tr style=\"text-align: right;\">\n",
       "      <th></th>\n",
       "      <th>count</th>\n",
       "      <th>mean</th>\n",
       "      <th>std</th>\n",
       "      <th>min</th>\n",
       "      <th>25%</th>\n",
       "      <th>50%</th>\n",
       "      <th>75%</th>\n",
       "      <th>max</th>\n",
       "    </tr>\n",
       "  </thead>\n",
       "  <tbody>\n",
       "    <tr>\n",
       "      <th>MedInc</th>\n",
       "      <td>10.0</td>\n",
       "      <td>0.852153</td>\n",
       "      <td>0.005763</td>\n",
       "      <td>0.843517</td>\n",
       "      <td>0.848871</td>\n",
       "      <td>0.852711</td>\n",
       "      <td>0.854743</td>\n",
       "      <td>0.861659</td>\n",
       "    </tr>\n",
       "    <tr>\n",
       "      <th>HouseAge</th>\n",
       "      <td>10.0</td>\n",
       "      <td>0.122770</td>\n",
       "      <td>0.004312</td>\n",
       "      <td>0.117394</td>\n",
       "      <td>0.119895</td>\n",
       "      <td>0.121592</td>\n",
       "      <td>0.125520</td>\n",
       "      <td>0.130560</td>\n",
       "    </tr>\n",
       "    <tr>\n",
       "      <th>AveRooms</th>\n",
       "      <td>10.0</td>\n",
       "      <td>-0.304384</td>\n",
       "      <td>0.010998</td>\n",
       "      <td>-0.318971</td>\n",
       "      <td>-0.310778</td>\n",
       "      <td>-0.305795</td>\n",
       "      <td>-0.302980</td>\n",
       "      <td>-0.278426</td>\n",
       "    </tr>\n",
       "    <tr>\n",
       "      <th>AveBedrms</th>\n",
       "      <td>10.0</td>\n",
       "      <td>0.353528</td>\n",
       "      <td>0.018044</td>\n",
       "      <td>0.307474</td>\n",
       "      <td>0.349715</td>\n",
       "      <td>0.360139</td>\n",
       "      <td>0.364646</td>\n",
       "      <td>0.367952</td>\n",
       "    </tr>\n",
       "    <tr>\n",
       "      <th>Population</th>\n",
       "      <td>10.0</td>\n",
       "      <td>-0.001576</td>\n",
       "      <td>0.003254</td>\n",
       "      <td>-0.005787</td>\n",
       "      <td>-0.002688</td>\n",
       "      <td>-0.002063</td>\n",
       "      <td>-0.000350</td>\n",
       "      <td>0.005297</td>\n",
       "    </tr>\n",
       "    <tr>\n",
       "      <th>AveOccup</th>\n",
       "      <td>10.0</td>\n",
       "      <td>-0.037059</td>\n",
       "      <td>0.008582</td>\n",
       "      <td>-0.047584</td>\n",
       "      <td>-0.042486</td>\n",
       "      <td>-0.042325</td>\n",
       "      <td>-0.027562</td>\n",
       "      <td>-0.026331</td>\n",
       "    </tr>\n",
       "    <tr>\n",
       "      <th>Latitude</th>\n",
       "      <td>10.0</td>\n",
       "      <td>-0.894011</td>\n",
       "      <td>0.009975</td>\n",
       "      <td>-0.908058</td>\n",
       "      <td>-0.901411</td>\n",
       "      <td>-0.895370</td>\n",
       "      <td>-0.883967</td>\n",
       "      <td>-0.881884</td>\n",
       "    </tr>\n",
       "    <tr>\n",
       "      <th>Longitude</th>\n",
       "      <td>10.0</td>\n",
       "      <td>-0.869753</td>\n",
       "      <td>0.009097</td>\n",
       "      <td>-0.884206</td>\n",
       "      <td>-0.876542</td>\n",
       "      <td>-0.869631</td>\n",
       "      <td>-0.862110</td>\n",
       "      <td>-0.857844</td>\n",
       "    </tr>\n",
       "  </tbody>\n",
       "</table>\n",
       "</div>"
      ],
      "text/plain": [
       "            count      mean       std       min       25%       50%       75%  \\\n",
       "MedInc       10.0  0.852153  0.005763  0.843517  0.848871  0.852711  0.854743   \n",
       "HouseAge     10.0  0.122770  0.004312  0.117394  0.119895  0.121592  0.125520   \n",
       "AveRooms     10.0 -0.304384  0.010998 -0.318971 -0.310778 -0.305795 -0.302980   \n",
       "AveBedrms    10.0  0.353528  0.018044  0.307474  0.349715  0.360139  0.364646   \n",
       "Population   10.0 -0.001576  0.003254 -0.005787 -0.002688 -0.002063 -0.000350   \n",
       "AveOccup     10.0 -0.037059  0.008582 -0.047584 -0.042486 -0.042325 -0.027562   \n",
       "Latitude     10.0 -0.894011  0.009975 -0.908058 -0.901411 -0.895370 -0.883967   \n",
       "Longitude    10.0 -0.869753  0.009097 -0.884206 -0.876542 -0.869631 -0.862110   \n",
       "\n",
       "                 max  \n",
       "MedInc      0.861659  \n",
       "HouseAge    0.130560  \n",
       "AveRooms   -0.278426  \n",
       "AveBedrms   0.367952  \n",
       "Population  0.005297  \n",
       "AveOccup   -0.026331  \n",
       "Latitude   -0.881884  \n",
       "Longitude  -0.857844  "
      ]
     },
     "execution_count": 27,
     "metadata": {},
     "output_type": "execute_result"
    }
   ],
   "source": [
    "weights_df.describe().T"
   ]
  },
  {
   "cell_type": "markdown",
   "metadata": {},
   "source": [
    "There is not much variability in weights learned by different models. It can also be seen by the standard deviation of weights as seen in the `std` column above."
   ]
  },
  {
   "cell_type": "markdown",
   "metadata": {},
   "source": [
    "### Selecting best model\n",
    "\n",
    "Let's select the model with the lowest cross validated test error as the best performing model."
   ]
  },
  {
   "cell_type": "code",
   "execution_count": 29,
   "metadata": {},
   "outputs": [
    {
     "name": "stdout",
     "output_type": "stream",
     "text": [
      "Pipeline(steps=[('feature_scaling', StandardScaler()),\n",
      "                ('lin_reg', LinearRegression())])\n"
     ]
    }
   ],
   "source": [
    "# Let's find out the best model that resulted in the least test error.\n",
    "best_model_index = np.argmin(test_error)\n",
    "selected_model = lin_reg_cv_results['estimator'][best_model_index]\n",
    "print(selected_model)"
   ]
  },
  {
   "cell_type": "markdown",
   "metadata": {},
   "source": [
    "Let's examine the `selected_model` coefficients."
   ]
  },
  {
   "cell_type": "code",
   "execution_count": 30,
   "metadata": {},
   "outputs": [
    {
     "name": "stdout",
     "output_type": "stream",
     "text": [
      "Incercept (w_0):\n",
      " 2.0779898917958657\n",
      "Weight vector (w_1, w_2,...,w_m):\n",
      " [ 8.44324888e-01  1.18463901e-01 -3.04619574e-01  3.56620503e-01\n",
      "  1.74458509e-04 -4.23964612e-02 -8.96045642e-01 -8.68906479e-01]\n"
     ]
    }
   ],
   "source": [
    "print(\"Incercept (w_0):\\n\", selected_model[-1].intercept_)\n",
    "print(\"Weight vector (w_1, w_2,...,w_m):\\n\", selected_model[-1].coef_)\n",
    "\n",
    "# This also works ---\n",
    "# print(\"Incercept (w_0):\\n\", selected_model['lin_reg'].intercept_)"
   ]
  },
  {
   "cell_type": "markdown",
   "metadata": {},
   "source": [
    "### Model performance\n",
    "\n",
    "Towards this, let's first obtain the predictions for test points in cross validation."
   ]
  },
  {
   "cell_type": "code",
   "execution_count": 33,
   "metadata": {},
   "outputs": [],
   "source": [
    "from sklearn.model_selection import cross_val_predict\n",
    "cv_predictions = cross_val_predict(\n",
    "    lin_reg_pipeline,\n",
    "    train_features,\n",
    "    train_labels,\n",
    ")"
   ]
  },
  {
   "cell_type": "code",
   "execution_count": 36,
   "metadata": {},
   "outputs": [
    {
     "data": {
      "image/png": "[encoded data removed]",
      "text/plain": [
       "<Figure size 864x576 with 1 Axes>"
      ]
     },
     "metadata": {},
     "output_type": "display_data"
    }
   ],
   "source": [
    "from sklearn.metrics import mean_squared_error\n",
    "mse_cv = mean_squared_error(train_labels, cv_predictions)\n",
    "\n",
    "plt.figure(figsize=(12,8))\n",
    "plt.scatter(train_labels, cv_predictions, color='blue')\n",
    "plt.plot(train_labels,train_labels, 'r-')\n",
    "plt.title(f'MSE = {mse_cv}')\n",
    "plt.xlabel('Actual Median House Value')\n",
    "plt.ylabel('Predicted Median House Value')\n",
    "plt.show()"
   ]
  },
  {
   "cell_type": "markdown",
   "metadata": {},
   "source": [
    "**Observations:**\n",
    "- The model seems to be all over the place in its predictions for examples with label $5$.\n",
    "- There are some negative predictions. We can fix this by adding a constraint on the weights to be positive.\n",
    "\n",
    "At this stage, we should perform error analysis and check where the predictions are going wrong. We an revisit feature construction, preprocessing or model stages and make the necessary corrections to obtain better performance."
   ]
  },
  {
   "cell_type": "markdown",
   "metadata": {},
   "source": [
    "## **STEP 5:** Predictions"
   ]
  },
  {
   "cell_type": "markdown",
   "metadata": {},
   "source": [
    "We can use the best performing model from the cross validation for getting predictions on the test set."
   ]
  },
  {
   "cell_type": "code",
   "execution_count": 37,
   "metadata": {},
   "outputs": [
    {
     "data": {
      "text/plain": [
       "array([0.73548515, 1.7725621 , 2.70011199, 2.83716602, 2.60743151])"
      ]
     },
     "execution_count": 37,
     "metadata": {},
     "output_type": "execute_result"
    }
   ],
   "source": [
    "test_predictions_cv = selected_model.predict(test_features)\n",
    "test_predictions_cv[:5]"
   ]
  },
  {
   "cell_type": "markdown",
   "metadata": {},
   "source": [
    "We can also obtain predictions using the initial model that we built without cross validaiton."
   ]
  },
  {
   "cell_type": "code",
   "execution_count": 38,
   "metadata": {},
   "outputs": [
    {
     "data": {
      "text/plain": [
       "array([0.72412832, 1.76677807, 2.71151581, 2.83601179, 2.603755  ])"
      ]
     },
     "execution_count": 38,
     "metadata": {},
     "output_type": "execute_result"
    }
   ],
   "source": [
    "test_predictions_without_cv = lin_reg_pipeline.predict(test_features)\n",
    "test_predictions_without_cv[:5]"
   ]
  },
  {
   "cell_type": "markdown",
   "metadata": {},
   "source": [
    "## **STEP 6:** Report model performance\n",
    "\n",
    "We report model performance on the test set."
   ]
  },
  {
   "cell_type": "code",
   "execution_count": 39,
   "metadata": {},
   "outputs": [
    {
     "name": "stdout",
     "output_type": "stream",
     "text": [
      "R2 score for the best model obtained via cross validation:  0.5923577635319088\n",
      "R2 score for model without cross validation:  0.591050979549135\n"
     ]
    }
   ],
   "source": [
    "score_cv = selected_model.score(test_features, test_labels)\n",
    "score_without_cv = lin_reg_pipeline.score(test_features, test_labels)\n",
    "\n",
    "print(\"R2 score for the best model obtained via cross validation: \", score_cv)\n",
    "print(\"R2 score for model without cross validation: \", score_without_cv)\n"
   ]
  },
  {
   "cell_type": "markdown",
   "metadata": {},
   "source": [
    "As we can see the the score for the model without cross-validation is slightly lower than that of with cross-validation.\n",
    "\n",
    "Alternatively, we can use any other metric of interest and report performance based on that. For example, we can use the `mean_squared_error` as follows:"
   ]
  },
  {
   "cell_type": "code",
   "execution_count": 40,
   "metadata": {},
   "outputs": [
    {
     "name": "stdout",
     "output_type": "stream",
     "text": [
      "MSE for the best model obtained via cross validation:  0.5393995876218521\n",
      "MSE for model without cross validation:  0.541128747847069\n"
     ]
    }
   ],
   "source": [
    "from sklearn.metrics import mean_squared_error\n",
    "\n",
    "mse_cv = mean_squared_error(test_labels, test_predictions_cv)\n",
    "mse_without_cv = mean_squared_error(test_labels, test_predictions_without_cv)\n",
    "\n",
    "print(\"MSE for the best model obtained via cross validation: \", mse_cv)\n",
    "print(\"MSE for model without cross validation: \", mse_without_cv)"
   ]
  },
  {
   "cell_type": "markdown",
   "metadata": {},
   "source": [
    "We can confirm that the cross validation based model has slightly better MSE than the one without."
   ]
  },
  {
   "cell_type": "markdown",
   "metadata": {},
   "source": [
    "**To Do:**\n",
    "- Repeat the modeling steps with `SGDRegressor`."
   ]
  }
 ],
 "metadata": {
  "interpreter": {
   "hash": "c0b4aa3dbf26008a2f5bdb6f96959d9b12aab8bbe92ce96b5c8a3811effcf69d"
  },
  "kernelspec": {
   "display_name": "Python 3.8.8 64-bit ('skk-mlp-env': conda)",
   "language": "python",
   "name": "python3"
  },
  "language_info": {
   "codemirror_mode": {
    "name": "ipython",
    "version": 3
   },
   "file_extension": ".py",
   "mimetype": "text/x-python",
   "name": "python",
   "nbconvert_exporter": "python",
   "pygments_lexer": "ipython3",
   "version": "3.8.8"
  },
  "orig_nbformat": 4
 },
 "nbformat": 4,
 "nbformat_minor": 2
}
