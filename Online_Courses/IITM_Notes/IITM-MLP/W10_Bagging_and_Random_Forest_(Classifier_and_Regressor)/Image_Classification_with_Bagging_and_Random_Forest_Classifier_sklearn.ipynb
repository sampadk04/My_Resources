{
 "cells": [
  {
   "cell_type": "markdown",
   "metadata": {},
   "source": [
    "# Bagging and Random Forest Classifier"
   ]
  },
  {
   "cell_type": "markdown",
   "metadata": {},
   "source": [
    "In this notebook, we will implement **multiclass MNIST digit recognition classifier** with **decision tree** and **ensemble techniques**."
   ]
  },
  {
   "cell_type": "markdown",
   "metadata": {},
   "source": [
    "# Imports"
   ]
  },
  {
   "cell_type": "code",
   "execution_count": 1,
   "metadata": {},
   "outputs": [],
   "source": [
    "# plotting utility\n",
    "import matplotlib.pyplot as plt\n",
    "import seaborn as sns\n",
    "\n",
    "%matplotlib inline\n",
    "\n",
    "# dataset loading through mnist.\n",
    "from keras.datasets import mnist\n",
    "\n",
    "# training three classifiers: decision tree, bagging and random forest.\n",
    "from sklearn.ensemble import BaggingClassifier\n",
    "from sklearn.ensemble import RandomForestClassifier\n",
    "from sklearn.tree import DecisionTreeClassifier\n",
    "\n",
    "# model selection utilities for training and test splot and cross validation\n",
    "from sklearn.model_selection import train_test_split\n",
    "from sklearn.model_selection import cross_val_score, cross_validate\n",
    "\n",
    "# use shuffle-split cross validation for this exercise\n",
    "from sklearn.model_selection import ShuffleSplit\n",
    "\n",
    "# make use of metrics like confusion matrix and classification report to evaluate the performance on the test set\n",
    "from sklearn.metrics import confusion_matrix, ConfusionMatrixDisplay, classification_report\n",
    "\n",
    "# the model is defined through pipeline utility\n",
    "from sklearn.pipeline import Pipeline\n",
    "\n",
    "# preprocessing for scaling the input\n",
    "from sklearn.preprocessing import StandardScaler"
   ]
  },
  {
   "cell_type": "markdown",
   "metadata": {},
   "source": [
    "# Loading MNIST dataset"
   ]
  },
  {
   "cell_type": "markdown",
   "metadata": {},
   "source": [
    "We begin by loading MNIST dataset with `load_data` function in `mnist` class.\n",
    "\n",
    "We obtain:\n",
    "- Training feature matrix and labels\n",
    "- Test feature matrix and labels"
   ]
  },
  {
   "cell_type": "code",
   "execution_count": 2,
   "metadata": {},
   "outputs": [],
   "source": [
    "# Load dataset\n",
    "(X_train, y_train),(X_test, y_test) = mnist.load_data()"
   ]
  },
  {
   "cell_type": "markdown",
   "metadata": {},
   "source": [
    "There are $60000$ examples in training set and $10000$ examples in the test set.\n",
    "\n",
    "Each example is a grey scale image of $28 \\times 28$. There are $10$ different labels - one for each digit - $0$ to $9$."
   ]
  },
  {
   "cell_type": "code",
   "execution_count": 3,
   "metadata": {},
   "outputs": [
    {
     "name": "stdout",
     "output_type": "stream",
     "text": [
      "(60000, 28, 28) (60000,)\n",
      "(10000, 28, 28) (10000,)\n"
     ]
    }
   ],
   "source": [
    "print(X_train.shape, y_train.shape)\n",
    "print(X_test.shape, y_test.shape)"
   ]
  },
  {
   "cell_type": "markdown",
   "metadata": {},
   "source": [
    "Before using the dataset for training and evaluation, we need to flatten it into a vector. After flattening, we have training and test examples represented with a vector of $784$ features. Each feature records pixrl intensity in each of $28 \\times 28$ pixel.\n",
    "\n",
    "We normalize the pixel intensity by dividing it with the maximum value i.e. $255$. In that sense we have each feature value in the range of $0$ to $1$."
   ]
  },
  {
   "cell_type": "code",
   "execution_count": 4,
   "metadata": {},
   "outputs": [],
   "source": [
    "# Flatten each input image into a vector of length 784\n",
    "X_train = X_train.reshape(X_train.shape[0], 28*28)\n",
    "X_test = X_test.reshape(X_test.shape[0], 28*28)\n",
    "\n",
    "# Normalizing\n",
    "X_train = X_train/255\n",
    "X_test = X_test/255"
   ]
  },
  {
   "cell_type": "code",
   "execution_count": 5,
   "metadata": {},
   "outputs": [
    {
     "name": "stdout",
     "output_type": "stream",
     "text": [
      "(60000, 784) (60000,)\n",
      "(10000, 784) (10000,)\n"
     ]
    }
   ],
   "source": [
    "print(X_train.shape, y_train.shape)\n",
    "print(X_test.shape, y_test.shape)"
   ]
  },
  {
   "cell_type": "markdown",
   "metadata": {},
   "source": [
    "We use `ShuffleSplit` cross validation with $10$ splits and $20\\%$ of the data set aside for model evaluation as a test data."
   ]
  },
  {
   "cell_type": "code",
   "execution_count": 6,
   "metadata": {},
   "outputs": [],
   "source": [
    "shufflesplit_cv = ShuffleSplit(\n",
    "    n_splits=10,\n",
    "    test_size=0.2,\n",
    "    random_state=69\n",
    ")"
   ]
  },
  {
   "cell_type": "markdown",
   "metadata": {},
   "source": [
    "We define $2$ functions:\n",
    "\n",
    "1. `train_classifiers` contains a common code for training MNIST multiclass classification problem.\n",
    "    - It takes `estimator`, feature matrix, labels, cross validation strategy and name of the classifier as input.\n",
    "    - It first fits the estimator with feature matrix and labels.\n",
    "    - It obtains cross validated `f1_macro` score for training set with `10`-fold `ShuffleSplit` cross validation and prints it."
   ]
  },
  {
   "cell_type": "code",
   "execution_count": 7,
   "metadata": {},
   "outputs": [],
   "source": [
    "def train_classifiers(estimator, X_train, y_train, cv, name):\n",
    "    estimator.fit(X_train, y_train)\n",
    "    cv_train_score = cross_val_score(\n",
    "        estimator,\n",
    "        X_train,\n",
    "        y_train,\n",
    "        cv=cv,\n",
    "        scoring='f1_macro'\n",
    "    )\n",
    "\n",
    "    print(f\"On an average, {name} model has f1 score of \" f\"{cv_train_score.mean():.3f} +/- {cv_train_score.std():.3f} on the training set.\")"
   ]
  },
  {
   "cell_type": "markdown",
   "metadata": {},
   "source": [
    "2. The `eval` function takes estimator, test feature matrix and labels as input and produce classification report and confusion matrix.\n",
    "    - It first predicts labels for the test set.\n",
    "    - The n it uses these predicted reports for calculating various evaluation metrics like precision, recall, f1 score and accuracy for each of the $10$ classes.\n",
    "    - It also obtains a confusion matrix by comparing these predictions with the actual labels and displays it with `ConfusionMatrixDisplay` utility."
   ]
  },
  {
   "cell_type": "code",
   "execution_count": 8,
   "metadata": {},
   "outputs": [],
   "source": [
    "def eval(estimator, X_test, y_test):\n",
    "    y_test_hat = estimator.predict(X_test)\n",
    "\n",
    "    print(\"# Classification report: \")\n",
    "    print(classification_report(y_test, y_test_hat))\n",
    "\n",
    "    print(\"# Confusion matrix: \")\n",
    "    disp = ConfusionMatrixDisplay(\n",
    "        confusion_matrix=confusion_matrix(y_test, y_test_hat)\n",
    "    )\n",
    "    disp.plot()\n",
    "    plt.show()"
   ]
  },
  {
   "cell_type": "markdown",
   "metadata": {},
   "source": [
    "Let's train three classifiers with default parameters.\n",
    "- **Decision Tree**\n",
    "- **Bagging Classifier** - which uses decision tree as default classifier and trains multiple decision tree classifiers on different bags obtained through bootstrap sampling on the training set.\n",
    "- **Random Forest Classifer** - which is also a bagging technique, which trains different decision tree classifiers by randomly selecting attributes for splitting on bags of bootstrap sample of training data."
   ]
  },
  {
   "cell_type": "markdown",
   "metadata": {},
   "source": [
    "# Decision Tree"
   ]
  },
  {
   "cell_type": "markdown",
   "metadata": {},
   "source": [
    "We instantiate a decision tree classifier with default parameters and train it. The `train_classifier` function prints mean of cross validated accuracy and standard deviation of the trained classifier on the traing set."
   ]
  },
  {
   "cell_type": "code",
   "execution_count": 9,
   "metadata": {},
   "outputs": [
    {
     "name": "stdout",
     "output_type": "stream",
     "text": [
      "On an average, Decision Tree model has f1 score of 0.867 +/- 0.003 on the training set.\n"
     ]
    }
   ],
   "source": [
    "decision_tree_pipeline = Pipeline([\n",
    "    ('classifier', DecisionTreeClassifier(random_state=69))\n",
    "])\n",
    "train_classifiers(\n",
    "    decision_tree_pipeline,\n",
    "    X_train,\n",
    "    y_train,\n",
    "    cv=shufflesplit_cv,\n",
    "    name=\"Decision Tree\"\n",
    ")"
   ]
  },
  {
   "cell_type": "markdown",
   "metadata": {},
   "source": [
    "Let's evaluate the trained classifier on the test set."
   ]
  },
  {
   "cell_type": "code",
   "execution_count": 10,
   "metadata": {},
   "outputs": [
    {
     "name": "stdout",
     "output_type": "stream",
     "text": [
      "# Classification report: \n",
      "              precision    recall  f1-score   support\n",
      "\n",
      "           0       0.92      0.94      0.93       980\n",
      "           1       0.95      0.96      0.95      1135\n",
      "           2       0.87      0.85      0.86      1032\n",
      "           3       0.83      0.86      0.84      1010\n",
      "           4       0.87      0.88      0.87       982\n",
      "           5       0.83      0.83      0.83       892\n",
      "           6       0.90      0.89      0.89       958\n",
      "           7       0.92      0.90      0.91      1028\n",
      "           8       0.83      0.80      0.82       974\n",
      "           9       0.85      0.86      0.85      1009\n",
      "\n",
      "    accuracy                           0.88     10000\n",
      "   macro avg       0.88      0.88      0.88     10000\n",
      "weighted avg       0.88      0.88      0.88     10000\n",
      "\n",
      "# Confusion matrix: \n"
     ]
    },
    {
     "data": {
      "image/png": "[encoded data removed]",
      "text/plain": [
       "<Figure size 432x288 with 2 Axes>"
      ]
     },
     "metadata": {
      "needs_background": "light"
     },
     "output_type": "display_data"
    }
   ],
   "source": [
    "eval(\n",
    "    decision_tree_pipeline,\n",
    "    X_test,\n",
    "    y_test\n",
    ")"
   ]
  },
  {
   "cell_type": "markdown",
   "metadata": {},
   "source": [
    "# Bagging Classifier"
   ]
  },
  {
   "cell_type": "markdown",
   "metadata": {},
   "source": [
    "We instantiate a bagging classifier object with default parameters and train it.\n",
    "\n",
    "Observe the mean `f1_score` and its standard deviation obtained by the classifier based on $10$-fold cross validation on the training set."
   ]
  },
  {
   "cell_type": "code",
   "execution_count": 11,
   "metadata": {},
   "outputs": [
    {
     "name": "stdout",
     "output_type": "stream",
     "text": [
      "On an average, Bagging Classifier model has f1 score of 0.939 +/- 0.003 on the training set.\n"
     ]
    }
   ],
   "source": [
    "bagging_pipeline = Pipeline([\n",
    "    ('classifier', BaggingClassifier(random_state=69))\n",
    "])\n",
    "train_classifiers(\n",
    "    bagging_pipeline,\n",
    "    X_train,\n",
    "    y_train.ravel(),\n",
    "    cv=shufflesplit_cv,\n",
    "    name=\"Bagging Classifier\"\n",
    ")"
   ]
  },
  {
   "cell_type": "markdown",
   "metadata": {},
   "source": [
    "Let's evaluate the trained classifer on the test set."
   ]
  },
  {
   "cell_type": "code",
   "execution_count": 12,
   "metadata": {},
   "outputs": [
    {
     "name": "stdout",
     "output_type": "stream",
     "text": [
      "# Classification report: \n",
      "              precision    recall  f1-score   support\n",
      "\n",
      "           0       0.93      0.98      0.96       980\n",
      "           1       0.97      0.98      0.98      1135\n",
      "           2       0.93      0.95      0.94      1032\n",
      "           3       0.93      0.93      0.93      1010\n",
      "           4       0.95      0.94      0.94       982\n",
      "           5       0.93      0.92      0.93       892\n",
      "           6       0.96      0.95      0.96       958\n",
      "           7       0.96      0.95      0.95      1028\n",
      "           8       0.92      0.90      0.91       974\n",
      "           9       0.95      0.92      0.94      1009\n",
      "\n",
      "    accuracy                           0.94     10000\n",
      "   macro avg       0.94      0.94      0.94     10000\n",
      "weighted avg       0.94      0.94      0.94     10000\n",
      "\n",
      "# Confusion matrix: \n"
     ]
    },
    {
     "data": {
      "image/png": "[encoded data removed]",
      "text/plain": [
       "<Figure size 432x288 with 2 Axes>"
      ]
     },
     "metadata": {
      "needs_background": "light"
     },
     "output_type": "display_data"
    }
   ],
   "source": [
    "eval(\n",
    "    bagging_pipeline,\n",
    "    X_test,\n",
    "    y_test\n",
    ")"
   ]
  },
  {
   "cell_type": "markdown",
   "metadata": {},
   "source": [
    "# Random Forest"
   ]
  },
  {
   "cell_type": "markdown",
   "metadata": {},
   "source": [
    "We instantiate a Random Forest classifier object with default parameters and train it.\n",
    "\n",
    "Observe the mean `f1_score` and its standard deviation obtained by the classifier based on $10$-fold cross validation on the training set."
   ]
  },
  {
   "cell_type": "code",
   "execution_count": 13,
   "metadata": {},
   "outputs": [
    {
     "name": "stdout",
     "output_type": "stream",
     "text": [
      "On an average, Random Forest Classifier model has f1 score of 0.967 +/- 0.002 on the training set.\n"
     ]
    }
   ],
   "source": [
    "random_forest_pipeline = Pipeline([\n",
    "    ('classifier', RandomForestClassifier(random_state=69))\n",
    "])\n",
    "train_classifiers(\n",
    "    random_forest_pipeline,\n",
    "    X_train,\n",
    "    y_train.ravel(),\n",
    "    cv=shufflesplit_cv,\n",
    "    name=\"Random Forest Classifier\"\n",
    ")"
   ]
  },
  {
   "cell_type": "markdown",
   "metadata": {},
   "source": [
    "Let's evaluate this Random Forest classifier on the test set and obtain classification report containing prediction, recall, f1-score and accuracy for each class. It also calculates confusion matrix and displays it with `ConfusionMatrixDisplay` utility."
   ]
  },
  {
   "cell_type": "code",
   "execution_count": 14,
   "metadata": {},
   "outputs": [
    {
     "name": "stdout",
     "output_type": "stream",
     "text": [
      "# Classification report: \n",
      "              precision    recall  f1-score   support\n",
      "\n",
      "           0       0.97      0.99      0.98       980\n",
      "           1       0.99      0.99      0.99      1135\n",
      "           2       0.96      0.97      0.97      1032\n",
      "           3       0.96      0.96      0.96      1010\n",
      "           4       0.97      0.97      0.97       982\n",
      "           5       0.97      0.97      0.97       892\n",
      "           6       0.97      0.98      0.97       958\n",
      "           7       0.97      0.96      0.97      1028\n",
      "           8       0.96      0.95      0.96       974\n",
      "           9       0.95      0.95      0.95      1009\n",
      "\n",
      "    accuracy                           0.97     10000\n",
      "   macro avg       0.97      0.97      0.97     10000\n",
      "weighted avg       0.97      0.97      0.97     10000\n",
      "\n",
      "# Confusion matrix: \n"
     ]
    },
    {
     "data": {
      "image/png": "[encoded data removed]",
      "text/plain": [
       "<Figure size 432x288 with 2 Axes>"
      ]
     },
     "metadata": {
      "needs_background": "light"
     },
     "output_type": "display_data"
    }
   ],
   "source": [
    "eval(\n",
    "    random_forest_pipeline,\n",
    "    X_test,\n",
    "    y_test\n",
    ")"
   ]
  },
  {
   "cell_type": "markdown",
   "metadata": {},
   "source": [
    "# Summary\n",
    "\n",
    "- We trained three multi-class classifiers for handwritten digit recognition.\n",
    "- The decision tree classifier is a baseline classifier, which obtained an accuracy of $88\\%$ on the test set.\n",
    "- Usinf bagging and training on the same decision tree classifier gave us an increase of $6\\%$ in accuracy, which translates to $94\\%$ accuracy on the test set.\n",
    "- Finally random forest pushed that further to a $97\\%$ accuracy.\n",
    "- We can see that how ensemble techniques give better results on the classification task compared to a single classifier."
   ]
  }
 ],
 "metadata": {
  "interpreter": {
   "hash": "ee0777041ec98f607d7fd5b29a894c71a8ff0325c3258b55f9f8e1ee2f7fef34"
  },
  "kernelspec": {
   "display_name": "Python 3.9.7 ('skk-mlp-env')",
   "language": "python",
   "name": "python3"
  },
  "language_info": {
   "codemirror_mode": {
    "name": "ipython",
    "version": 3
   },
   "file_extension": ".py",
   "mimetype": "text/x-python",
   "name": "python",
   "nbconvert_exporter": "python",
   "pygments_lexer": "ipython3",
   "version": "3.9.10"
  },
  "orig_nbformat": 4
 },
 "nbformat": 4,
 "nbformat_minor": 2
}
