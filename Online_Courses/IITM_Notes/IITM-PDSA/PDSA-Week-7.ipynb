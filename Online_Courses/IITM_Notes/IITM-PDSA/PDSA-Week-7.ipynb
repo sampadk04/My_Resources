{
 "cells": [
  {
   "cell_type": "markdown",
   "metadata": {},
   "source": [
    "# Week 7"
   ]
  },
  {
   "cell_type": "markdown",
   "metadata": {},
   "source": [
    "### PPA"
   ]
  },
  {
   "cell_type": "code",
   "execution_count": null,
   "metadata": {},
   "outputs": [],
   "source": [
    "# This is an implementation of the Huffman Coding\n",
    "# This is using the Huffman tree structure based on the frequency of occurence\n",
    "\n",
    "# Here, the alphabet has only 6 characters = {a,b,c,d,e,f}, and we need to find the code for each.\n",
    "\n",
    "class Node: # This is the node for the tree structure\n",
    "    def __init__(self, frequency, symbol = None, left = None, right = None):\n",
    "        self.frequency = frequency\n",
    "        self.symbol = symbol\n",
    "        self.left = left\n",
    "        self.right = right\n",
    "\n"
   ]
  },
  {
   "cell_type": "markdown",
   "metadata": {},
   "source": [
    "### GRPA"
   ]
  },
  {
   "cell_type": "markdown",
   "metadata": {},
   "source": []
  }
 ],
 "metadata": {
  "language_info": {
   "name": "python"
  },
  "orig_nbformat": 4
 },
 "nbformat": 4,
 "nbformat_minor": 2
}
