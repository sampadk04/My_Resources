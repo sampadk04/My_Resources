{
 "cells": [
  {
   "cell_type": "markdown",
   "metadata": {},
   "source": [
    "# Week 2"
   ]
  },
  {
   "cell_type": "markdown",
   "metadata": {},
   "source": [
    "# PPAs"
   ]
  },
  {
   "cell_type": "markdown",
   "metadata": {},
   "source": [
    "[Question Paper](https://drive.google.com/file/d/1yA6Eilo_ugCjBroaPpqHGW90mRYL7BXJ/view)"
   ]
  },
  {
   "cell_type": "markdown",
   "metadata": {},
   "source": [
    "**FLIS** Database\n",
    "\n",
    "### 1\n",
    "\n",
    "```sql\n",
    "select m.name\n",
    "from managers m, teams t\n",
    "where m.team_id = t.team_id and t.name = 'All Stars';\n",
    "```\n",
    "\n",
    "### 2\n",
    "\n",
    "```sql\n",
    "select distinct name\n",
    "from teams;\n",
    "```\n",
    "\n",
    "**LIS** Database\n",
    "\n",
    "### 3\n",
    "\n",
    "```sql\n",
    "select b.title\n",
    "from book_catalogue b, book_authors a\n",
    "where b.ISBN_no = a.ISBN_no and a.author_fname = 'Joh Paul' and a.author_lname = 'Mueller';\n",
    "```\n",
    "\n",
    "\n",
    "### 4\n",
    "\n",
    "```sql\n",
    "select distinct title\n",
    "from book_catalogue\n",
    "where publisher = 'McGraw Hill Education';\n",
    "```\n",
    "\n",
    "### 5\n",
    "\n",
    "```sql\n",
    "select distinct s.student_fname, s.student_lname\n",
    "from students s, members m\n",
    "where s.roll_no = m.roll_no and m.member_type = 'PG';\n",
    "```"
   ]
  }
 ],
 "metadata": {
  "language_info": {
   "name": "python"
  },
  "orig_nbformat": 4
 },
 "nbformat": 4,
 "nbformat_minor": 2
}
