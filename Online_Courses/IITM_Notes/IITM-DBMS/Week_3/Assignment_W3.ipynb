{
 "cells": [
  {
   "cell_type": "markdown",
   "metadata": {},
   "source": [
    "# Week 3"
   ]
  },
  {
   "cell_type": "markdown",
   "metadata": {},
   "source": [
    "# PPAs"
   ]
  },
  {
   "cell_type": "markdown",
   "metadata": {},
   "source": [
    "[Question Paper](https://drive.google.com/file/d/1ja2g7HUxEEd5_s7VW7EDndFEHYSYsUGf/view)"
   ]
  },
  {
   "cell_type": "markdown",
   "metadata": {},
   "source": [
    "**FLIS** Database\n",
    "\n",
    "### 1\n",
    "\n",
    "```sql\n",
    "\n",
    "```\n",
    "\n",
    "**LIS** Database\n",
    "\n",
    "### 2\n",
    "\n",
    "```sql\n",
    "\n",
    "```\n",
    "\n",
    "### 3\n",
    "\n",
    "```sql\n",
    "\n",
    "```\n",
    "\n",
    "### 4\n",
    "\n",
    "```sql\n",
    "\n",
    "```\n",
    "\n",
    "### 5\n",
    "\n",
    "```sql\n",
    "\n",
    "```"
   ]
  },
  {
   "cell_type": "markdown",
   "metadata": {},
   "source": [
    "# GRPAs"
   ]
  },
  {
   "cell_type": "markdown",
   "metadata": {},
   "source": [
    "**FLIS** Database\n",
    "\n",
    "### 1\n",
    "\n",
    "```sql\n",
    "select mr.match_num, r.name\n",
    "from match_referees mr, referees r\n",
    "where mr.assistant_referee_1 = r.referee_id and\n",
    "mr.match_num = (select match_num\n",
    "               from matches\n",
    "              where match_date = '2020-05-15');\n",
    "```\n",
    "\n",
    "### 2\n",
    "\n",
    "```sql\n",
    "select p.name, p.dob\n",
    "from teams t, players p\n",
    "where t.name = 'Arawali' and t.team_id = p.team_id\n",
    "order by p.dob desc limit 1;\n",
    "```\n",
    "\n",
    "### 3\n",
    "\n",
    "```sql\n",
    "select distinct t.name\n",
    "from teams t\n",
    "where not exists (select * \n",
    "                 from players p\n",
    "                 where p.team_id = t.team_id and p.jersey_no = 74)\n",
    "```\n",
    "\n",
    "**LIS** Database\n",
    "\n",
    "### 4\n",
    "\n",
    "```sql\n",
    "select s.student_fname, s.student_lname\n",
    "from students s, members m\n",
    "where m.roll_no = s.roll_no and \n",
    "m.member_no not in (select distinct member_no \n",
    "                    from book_issue);\n",
    "```\n",
    "\n",
    "### 5\n",
    "\n",
    "```sql\n",
    "select title, count(bc_isbn_no) as total\n",
    "from\n",
    "(select title,bc_isbn_no\n",
    "from\n",
    "(select *\n",
    "from (select isbn_no as bc_isbn_no,title from book_catalogue) as A full \n",
    "join (select isbn_no as bcopy_isbn_no from book_copies ) as B\n",
    "on A.bc_isbn_no = B.bcopy_isbn_no) as XX\n",
    "where XX.title like '%Advanced%') as abc\n",
    "group by abc.title;\n",
    "```"
   ]
  }
 ],
 "metadata": {
  "language_info": {
   "name": "python"
  },
  "orig_nbformat": 4
 },
 "nbformat": 4,
 "nbformat_minor": 2
}
