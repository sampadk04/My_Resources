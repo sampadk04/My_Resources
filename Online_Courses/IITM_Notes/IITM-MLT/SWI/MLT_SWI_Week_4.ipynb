{
 "cells": [
  {
   "cell_type": "code",
   "execution_count": 1,
   "metadata": {},
   "outputs": [],
   "source": [
    "# This is imported for proper rendering of Latex in Notebook\n",
    "from IPython.display import display, Math, Latex"
   ]
  },
  {
   "cell_type": "code",
   "execution_count": 2,
   "metadata": {},
   "outputs": [],
   "source": [
    "# Imports\n",
    "import numpy as np\n",
    "import pandas as pd\n",
    "import matplotlib.pyplot as plt\n",
    "import seaborn as sns\n",
    "\n",
    "%matplotlib inline\n",
    "\n",
    "np.random.seed(69)\n",
    "plt.style.use('seaborn')"
   ]
  },
  {
   "cell_type": "markdown",
   "metadata": {},
   "source": [
    "# Practice Programming Assignments"
   ]
  },
  {
   "cell_type": "code",
   "execution_count": 3,
   "metadata": {},
   "outputs": [],
   "source": [
    "def ConfusionMatrix(y, y_hat):\n",
    "    '''\n",
    "    Returns:\n",
    "        [\n",
    "            [TP, FP],\n",
    "            [FN, TN]\n",
    "        ]\n",
    "    '''\n",
    "    # True positive - True label +, Predicted label +\n",
    "    tp = np.where((y == 1) & (y_hat == 1), 1, 0).sum()\n",
    "    # True negative - True label -, Predicted label -\n",
    "    tn = np.where((y == 0) & (y_hat == 0), 1, 0).sum()\n",
    "    # False positive - True label -, Predicted label +\n",
    "    fp = np.where((y == 0) & (y_hat == 1), 1, 0).sum()\n",
    "    # False negative - True label +, Predicted label -\n",
    "    fn = np.where((y == 1) & (y_hat == 0), 1, 0).sum()\n",
    "\n",
    "    return np.array([\n",
    "        [tp, fp],\n",
    "        [fn, tn]\n",
    "    ])"
   ]
  },
  {
   "cell_type": "code",
   "execution_count": 4,
   "metadata": {},
   "outputs": [],
   "source": [
    "def is_binary(y):\n",
    "    return np.unique(y).shape[0] == 2"
   ]
  },
  {
   "cell_type": "code",
   "execution_count": 9,
   "metadata": {},
   "outputs": [],
   "source": [
    "def predict(X,w):\n",
    "    z = X@w\n",
    "    return np.where(z>=0, 1, -1)\n",
    "\n",
    "def percep_loss(X,w,y):\n",
    "    y_pred = predict(X,w)\n",
    "    sample_wise_loss = np.maximum(\n",
    "        np.zeros(y.shape[0]),\n",
    "        -1*y_pred*y\n",
    "    )\n",
    "    return sample_wise_loss"
   ]
  },
  {
   "cell_type": "markdown",
   "metadata": {},
   "source": [
    "# Graded Programming Assignments"
   ]
  },
  {
   "cell_type": "code",
   "execution_count": 6,
   "metadata": {},
   "outputs": [],
   "source": [
    "def OneHotEncode(y):\n",
    "    I = np.eye(np.max(y)+1)\n",
    "    return I[y]"
   ]
  },
  {
   "cell_type": "code",
   "execution_count": 7,
   "metadata": {},
   "outputs": [
    {
     "data": {
      "text/plain": [
       "array([[1., 0., 0.],\n",
       "       [0., 1., 0.],\n",
       "       [0., 0., 1.],\n",
       "       [1., 0., 0.],\n",
       "       [0., 1., 0.]])"
      ]
     },
     "execution_count": 7,
     "metadata": {},
     "output_type": "execute_result"
    }
   ],
   "source": [
    "y = np.array([0,1,2,0,1])\n",
    "OneHotEncode(y)"
   ]
  },
  {
   "cell_type": "code",
   "execution_count": 8,
   "metadata": {},
   "outputs": [],
   "source": [
    "def predict(X,w):\n",
    "    z = X@w\n",
    "    return np.where(z>=0, 1, -1)\n",
    "\n",
    "def update(X,w,y,epoch):\n",
    "    # The perceptron update rule\n",
    "    # lr = 1\n",
    "    lr = 1\n",
    "    w_all = []\n",
    "\n",
    "    for _ in range(epoch):\n",
    "        w_all.append(w)\n",
    "        for xi, label in zip(X,y):\n",
    "            w += lr * (label - predict(xi,w)) * label\n",
    "    \n",
    "    return w_all"
   ]
  },
  {
   "cell_type": "code",
   "execution_count": 11,
   "metadata": {},
   "outputs": [],
   "source": [
    "def predict(X,w):\n",
    "    z = X@w\n",
    "    return np.where(z>=0, 1, -1)\n",
    "\n",
    "def percep_loss(X,w,y):\n",
    "    y_pred = predict(X,w)\n",
    "    sample_wise_loss = np.maximum(\n",
    "        np.zeros(y.shape[0]),\n",
    "        -1*y_pred*y\n",
    "    )\n",
    "    return np.sum(sample_wise_loss)\n",
    "\n",
    "def update(X,w,y,epoch):\n",
    "    # The perceptron update rule\n",
    "    # lr = 1\n",
    "    lr = 1\n",
    "    w_all = []\n",
    "    loss_all = []\n",
    "\n",
    "    for _ in range(epoch):\n",
    "        w_all.append(w)\n",
    "        loss_all.append(percep_loss(X,w,y))\n",
    "        for xi, label in zip(X,y):\n",
    "            w += lr * (label - predict(xi,w)) * label\n",
    "    \n",
    "    return loss_all\n",
    "\n",
    "def is_linearly_separable(X,y):\n",
    "    w = np.zeros((X.shape[1],y.shape[1]))\n",
    "    loss_all = update(X,w,y, epoch=10)\n",
    "    return loss_all[-1] == 0"
   ]
  }
 ],
 "metadata": {
  "interpreter": {
   "hash": "c0b4aa3dbf26008a2f5bdb6f96959d9b12aab8bbe92ce96b5c8a3811effcf69d"
  },
  "kernelspec": {
   "display_name": "Python 3.8.8 64-bit ('skk-mlp-env': conda)",
   "language": "python",
   "name": "python3"
  },
  "language_info": {
   "codemirror_mode": {
    "name": "ipython",
    "version": 3
   },
   "file_extension": ".py",
   "mimetype": "text/x-python",
   "name": "python",
   "nbconvert_exporter": "python",
   "pygments_lexer": "ipython3",
   "version": "3.9.7"
  },
  "orig_nbformat": 4
 },
 "nbformat": 4,
 "nbformat_minor": 2
}
