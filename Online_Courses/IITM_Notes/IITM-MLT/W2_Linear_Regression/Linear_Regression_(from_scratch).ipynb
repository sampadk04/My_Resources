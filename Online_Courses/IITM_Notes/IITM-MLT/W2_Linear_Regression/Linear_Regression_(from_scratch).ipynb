{
 "cells": [
  {
   "cell_type": "markdown",
   "metadata": {},
   "source": [
    "The objective of this notebook is\n",
    "- Demonstrate training data and model components of linear regression model.\n",
    "- Demonstrate how simple it is to implement ML components and algorithm."
   ]
  },
  {
   "cell_type": "markdown",
   "metadata": {},
   "source": [
    "> Note: We won't be using the `sklearn` library to train the model, those demonstrations are reserved for the MLP course. The focus is implementing these algorithms from scratch to realize what exactly is happening under the hood. "
   ]
  },
  {
   "cell_type": "markdown",
   "metadata": {},
   "source": [
    "Importing necessary libraries."
   ]
  },
  {
   "cell_type": "code",
   "execution_count": 1,
   "metadata": {},
   "outputs": [],
   "source": [
    "from IPython.display import display, Math, Latex\n",
    "# This is imported for proper rendering of Latex in Notebook.\n",
    "\n",
    "import numpy as np\n",
    "\n",
    "# import for generating plots\n",
    "import matplotlib.pyplot as plt\n",
    "import seaborn as sns\n",
    "\n",
    "%matplotlib inline"
   ]
  },
  {
   "cell_type": "markdown",
   "metadata": {},
   "source": [
    "### Quick Recap\n",
    "\n",
    "1. Training data contains features and label that is real number.\n",
    "2. Model or inference: $y = Xw$."
   ]
  },
  {
   "cell_type": "markdown",
   "metadata": {},
   "source": [
    "# Training Data"
   ]
  },
  {
   "cell_type": "code",
   "execution_count": 2,
   "metadata": {},
   "outputs": [],
   "source": [
    "# Create a synthetic dataset of 100 examples with single feature and a label.\n",
    "# For this construction use the following 3 parametres.\n",
    "w0 = 4\n",
    "w1 = 3\n",
    "n = 100\n",
    "\n",
    "X = 10 * np.random.rand(n,)\n",
    "\n",
    "# Obtain y = 4 + 3*x + noise. Noise is randomly sampled.\n",
    "y = w0 + w1 * X + np.random.randn(n,)"
   ]
  },
  {
   "cell_type": "code",
   "execution_count": 3,
   "metadata": {},
   "outputs": [
    {
     "name": "stdout",
     "output_type": "stream",
     "text": [
      "(100,) (100,)\n"
     ]
    }
   ],
   "source": [
    "# (X,y) is the synthetic generated examples.\n",
    "print(X.shape,y.shape)"
   ]
  },
  {
   "cell_type": "markdown",
   "metadata": {},
   "source": [
    "Let's divide the data into training and test set. We will set aside $20\\%$ examples for testing."
   ]
  },
  {
   "cell_type": "code",
   "execution_count": 4,
   "metadata": {},
   "outputs": [],
   "source": [
    "from sklearn.model_selection import train_test_split\n",
    "\n",
    "X_train, X_test, y_train, y_test = train_test_split(X,y, test_size=0.20, random_state=42)"
   ]
  },
  {
   "cell_type": "code",
   "execution_count": 5,
   "metadata": {},
   "outputs": [
    {
     "name": "stdout",
     "output_type": "stream",
     "text": [
      "(80,) (80,)\n",
      "(20,) (20,)\n"
     ]
    }
   ],
   "source": [
    "print(X_train.shape,y_train.shape)\n",
    "print(X_test.shape,y_test.shape)"
   ]
  },
  {
   "cell_type": "markdown",
   "metadata": {},
   "source": [
    "Let's check the first few examples and labels."
   ]
  },
  {
   "cell_type": "code",
   "execution_count": 6,
   "metadata": {},
   "outputs": [
    {
     "data": {
      "text/plain": [
       "array([2.25036503, 7.79520706, 5.49711861, 7.64820999, 8.60712206])"
      ]
     },
     "execution_count": 6,
     "metadata": {},
     "output_type": "execute_result"
    }
   ],
   "source": [
    "X_train[:5]"
   ]
  },
  {
   "cell_type": "code",
   "execution_count": 7,
   "metadata": {},
   "outputs": [
    {
     "data": {
      "text/plain": [
       "array([10.28073098, 27.3092987 , 20.27737581, 28.54830868, 29.63095566])"
      ]
     },
     "execution_count": 7,
     "metadata": {},
     "output_type": "execute_result"
    }
   ],
   "source": [
    "y_train[:5]"
   ]
  },
  {
   "cell_type": "markdown",
   "metadata": {},
   "source": [
    "Let's visualize the training set."
   ]
  },
  {
   "cell_type": "code",
   "execution_count": 8,
   "metadata": {},
   "outputs": [
    {
     "data": {
      "image/png": "[encoded data removed]",
      "text/plain": [
       "<Figure size 576x576 with 1 Axes>"
      ]
     },
     "metadata": {
      "needs_background": "light"
     },
     "output_type": "display_data"
    }
   ],
   "source": [
    "f = plt.figure(figsize=(8,8))\n",
    "\n",
    "plt.scatter(X_train, y_train, marker = '+')\n",
    "plt.title(\"Data Points\")\n",
    "plt.grid = True\n",
    "plt.xlabel(\"$x_1$\")\n",
    "plt.ylabel(\"$y$\")\n",
    "\n",
    "plt.show()"
   ]
  },
  {
   "cell_type": "markdown",
   "metadata": {},
   "source": [
    "We have a training set consisting a single feature. So, we will fit a simple linear regression model with one feature. It's of the form: $$y = w_0 + w_1 x_1$$"
   ]
  },
  {
   "cell_type": "markdown",
   "metadata": {},
   "source": [
    "We add a special dummy feature $x_0$ and set it to $1$. We create a helper function to do that."
   ]
  },
  {
   "cell_type": "code",
   "execution_count": 72,
   "metadata": {},
   "outputs": [],
   "source": [
    "def add_dummy_feature(X):\n",
    "    ''' Adds a dummy feature to the dataset.\n",
    "    \n",
    "    Args:\n",
    "        X: Training dataset.\n",
    "    \n",
    "    Returns:\n",
    "        Training dataset with the addition of dummy feature.\n",
    "    '''\n",
    "    return np.column_stack((np.ones(X.shape[0]), X))"
   ]
  },
  {
   "cell_type": "markdown",
   "metadata": {},
   "source": [
    "Let's write a test case to test this function."
   ]
  },
  {
   "cell_type": "code",
   "execution_count": 10,
   "metadata": {},
   "outputs": [
    {
     "name": "stderr",
     "output_type": "stream",
     "text": [
      "test_add_dummy_feature (__main__.TestAddDummyFeature)\n",
      "Test case function for add_dummy_feature ... "
     ]
    },
    {
     "name": "stdout",
     "output_type": "stream",
     "text": [
      "[[3 2 5]\n",
      " [9 4 7]]\n",
      "[[1. 3. 2. 5.]\n",
      " [1. 9. 4. 7.]]\n"
     ]
    },
    {
     "name": "stderr",
     "output_type": "stream",
     "text": [
      "ok\n",
      "\n",
      "----------------------------------------------------------------------\n",
      "Ran 1 test in 0.002s\n",
      "\n",
      "OK\n"
     ]
    },
    {
     "data": {
      "text/plain": [
       "<unittest.main.TestProgram at 0x7f80006d1a60>"
      ]
     },
     "execution_count": 10,
     "metadata": {},
     "output_type": "execute_result"
    }
   ],
   "source": [
    "import unittest\n",
    "\n",
    "class TestAddDummyFeature(unittest.TestCase):\n",
    "\n",
    "    def test_add_dummy_feature(self):\n",
    "        '''Test case function for add_dummy_feature'''\n",
    "        train_matrix = np.array([[3,2,5],[9,4,7]])\n",
    "        train_matrix_with_dummy_feature = add_dummy_feature(train_matrix)\n",
    "\n",
    "        print(train_matrix,train_matrix_with_dummy_feature, sep = '\\n')\n",
    "\n",
    "        # test the shape\n",
    "        self.assertEqual(train_matrix_with_dummy_feature.shape, (2,4))\n",
    "\n",
    "        # and contents\n",
    "        np.testing.assert_array_equal(\n",
    "            train_matrix_with_dummy_feature,\n",
    "            np.array([[1,3,2,5],[1,9,4,7]])\n",
    "        )\n",
    "\n",
    "unittest.main(argv=[''], defaultTest='TestAddDummyFeature', verbosity=2, exit=False)"
   ]
  },
  {
   "cell_type": "code",
   "execution_count": 11,
   "metadata": {},
   "outputs": [
    {
     "data": {
      "text/plain": [
       "array([[1., 2., 3.],\n",
       "       [1., 5., 4.]])"
      ]
     },
     "execution_count": 11,
     "metadata": {},
     "output_type": "execute_result"
    }
   ],
   "source": [
    "add_dummy_feature(np.array([[2,3],[5,4]]))"
   ]
  },
  {
   "cell_type": "markdown",
   "metadata": {},
   "source": [
    "Let's process the synthetic training set to add the dummy feature."
   ]
  },
  {
   "cell_type": "code",
   "execution_count": 12,
   "metadata": {},
   "outputs": [
    {
     "name": "stdout",
     "output_type": "stream",
     "text": [
      "Before adding the dummy feature:\n",
      " [2.25036503 7.79520706 5.49711861 7.64820999 8.60712206]\n",
      "\n",
      "\n",
      "Before adding the dummy feature:\n",
      " [[1.         2.25036503]\n",
      " [1.         7.79520706]\n",
      " [1.         5.49711861]\n",
      " [1.         7.64820999]\n",
      " [1.         8.60712206]]\n"
     ]
    }
   ],
   "source": [
    "print(\"Before adding the dummy feature:\\n\", X_train[:5])\n",
    "print(\"\\n\")\n",
    "\n",
    "X_train_with_dummy = add_dummy_feature(X_train)\n",
    "\n",
    "print(\"Before adding the dummy feature:\\n\", X_train_with_dummy[:5,:])"
   ]
  },
  {
   "cell_type": "markdown",
   "metadata": {},
   "source": [
    "# Model Inference"
   ]
  },
  {
   "cell_type": "markdown",
   "metadata": {},
   "source": [
    "The objective of this section is to implement model and inference component from linear regression model."
   ]
  },
  {
   "cell_type": "markdown",
   "metadata": {},
   "source": [
    "**Note**\n",
    "\n",
    "- Model is parametrized by its weight vector.\n",
    "- It is described by its mathematical form and weight vector."
   ]
  },
  {
   "cell_type": "markdown",
   "metadata": {},
   "source": [
    "### Implementation\n",
    "\n",
    "The general vectorized form is as follows:\n",
    "$$ y_{n \\times (m+1)} = X_{n \\times (m+1)} w_{(m+1) \\times 1} $$\n",
    "\n",
    "where\n",
    "\n",
    "- $n$ is the number of examples in the dataset (train/validation/test)\n",
    "- $m$ is the number of features\n",
    "- $X$ is a feature matrix containing $(m+1)$ features (including the dummy feature) for $n$ samples along its rows\n",
    "- $w$ is a weight vector containing $(m+1)$ weights, one for each feature\n",
    "- $y$ is a label matrix containing labels for $n$ examples in a vector of shape $(n,)$"
   ]
  },
  {
   "cell_type": "code",
   "execution_count": 13,
   "metadata": {},
   "outputs": [],
   "source": [
    "def predict(X, w):\n",
    "    '''Prediction of output label for a given input.\n",
    "    \n",
    "    Args:\n",
    "        X: Feature matrix of shape (n, m+1)\n",
    "        w: Weight vector of shape (m+1, n)\n",
    "    \n",
    "    Returns:\n",
    "        y: Predicted label vector of shape (n,)\n",
    "    '''\n",
    "\n",
    "    # Check to make sure that feature matrix and weight vectors are of compatible shapes.\n",
    "    assert X.shape[-1]==w.shape[0], \"X and w don't have compatible dimensions\"\n",
    "    return X @ w\n",
    "\n",
    "# X @ w denotes the matrix multiplication operation for numpy arrays."
   ]
  },
  {
   "cell_type": "markdown",
   "metadata": {},
   "source": [
    "Let's test this function."
   ]
  },
  {
   "cell_type": "code",
   "execution_count": 15,
   "metadata": {},
   "outputs": [
    {
     "name": "stderr",
     "output_type": "stream",
     "text": [
      "test_predict (__main__.TestPredict)\n",
      "Test case predict function of linear regression ... "
     ]
    },
    {
     "name": "stdout",
     "output_type": "stream",
     "text": [
      "[11 21]\n",
      "[11 21]\n"
     ]
    },
    {
     "name": "stderr",
     "output_type": "stream",
     "text": [
      "ok\n",
      "\n",
      "----------------------------------------------------------------------\n",
      "Ran 1 test in 0.002s\n",
      "\n",
      "OK\n"
     ]
    },
    {
     "data": {
      "text/plain": [
       "<unittest.main.TestProgram at 0x7f8033463c70>"
      ]
     },
     "execution_count": 15,
     "metadata": {},
     "output_type": "execute_result"
    }
   ],
   "source": [
    "import unittest\n",
    "\n",
    "class TestPredict(unittest.TestCase):\n",
    "\n",
    "    def test_predict(self):\n",
    "        '''Test case predict function of linear regression'''\n",
    "\n",
    "        # set up\n",
    "        train_matrix = np.array([[1,3,2,5],[1,9,4,7]]) # The dummy variable is already added\n",
    "        weight_vector = np.array([1,1,1,1])\n",
    "        expected_label_vector = np.array([11,21])\n",
    "\n",
    "        # call\n",
    "        predicted_label_vector = predict(train_matrix, weight_vector)\n",
    "\n",
    "        print(expected_label_vector,predicted_label_vector, sep = '\\n')\n",
    "        \n",
    "        # asserts\n",
    "        \n",
    "        # test the shape\n",
    "        self.assertEqual(predicted_label_vector.shape, (2,))\n",
    "\n",
    "        # and contents\n",
    "        np.testing.assert_array_equal(\n",
    "            expected_label_vector, predicted_label_vector)\n",
    "\n",
    "unittest.main(argv=[''], defaultTest='TestPredict', verbosity=2, exit=False)"
   ]
  },
  {
   "cell_type": "markdown",
   "metadata": {},
   "source": [
    "Since, we have not yet trained our model, let's use a random weight vector to get predictions from our model for a given dataset:"
   ]
  },
  {
   "cell_type": "code",
   "execution_count": 16,
   "metadata": {},
   "outputs": [
    {
     "data": {
      "text/plain": [
       "array([0.33231069, 0.15178252])"
      ]
     },
     "execution_count": 16,
     "metadata": {},
     "output_type": "execute_result"
    }
   ],
   "source": [
    "w = np.random.rand(2,)\n",
    "w"
   ]
  },
  {
   "cell_type": "code",
   "execution_count": 17,
   "metadata": {},
   "outputs": [],
   "source": [
    "y_hat = predict(X_train_with_dummy,w)"
   ]
  },
  {
   "cell_type": "markdown",
   "metadata": {},
   "source": [
    "Let's compare the predicted values with the actual values:"
   ]
  },
  {
   "cell_type": "code",
   "execution_count": 18,
   "metadata": {},
   "outputs": [
    {
     "name": "stdout",
     "output_type": "stream",
     "text": [
      "[0.67387678 1.5154869  1.16667723 1.49317531 1.63872141]\n",
      "[10.28073098 27.3092987  20.27737581 28.54830868 29.63095566]\n"
     ]
    }
   ],
   "source": [
    "print(y_hat[:5])\n",
    "print(y_train[:5])"
   ]
  },
  {
   "cell_type": "markdown",
   "metadata": {},
   "source": [
    "Since we used a random weight vector $w$ here, most of the predicted labels do not match the actual labels."
   ]
  },
  {
   "cell_type": "markdown",
   "metadata": {},
   "source": [
    "# Loss function implementation"
   ]
  },
  {
   "cell_type": "markdown",
   "metadata": {},
   "source": [
    "The objective of this section is to implement the loss function of linear regression model from scratch."
   ]
  },
  {
   "cell_type": "markdown",
   "metadata": {},
   "source": [
    "### Quick Recap\n",
    "\n",
    "1. Training data contains features and label that is real number.\n",
    "2. Model or inference: $y = Xw$.\n",
    "3. Loss function $J(w) = \\frac{1}{2}(Xw - y)^T (Xw - y)$."
   ]
  },
  {
   "cell_type": "markdown",
   "metadata": {},
   "source": [
    "### Implementation\n",
    "\n",
    "The loss function can be calculated as follows:\n",
    "$$J(w) = \\frac{1}{2}(Xw - y)^T (Xw - y)$$\n",
    "where\n",
    "\n",
    "- $X$ is a feature matrix containing $(m+1)$ features (including the dummy feature) for $n$ samples along its rows\n",
    "- $w$ is a weight vector containing $(m+1)$ weights, one for each feature\n",
    "- $y$ is a label matrix containing labels for $n$ examples in a vector of shape $(n,)$"
   ]
  },
  {
   "cell_type": "code",
   "execution_count": 29,
   "metadata": {},
   "outputs": [],
   "source": [
    "def loss(X,y, w):\n",
    "    '''Calculate loss for a model based on known labels.\n",
    "    \n",
    "    Args:\n",
    "        X: Feature matrix of shape (n, m+1)\n",
    "        y: Output label vector of shape (n,)\n",
    "        w: Weight vector of shape (m+1,)\n",
    "    \n",
    "    Returns:\n",
    "        y: Loss\n",
    "    '''\n",
    "    e = predict(X,w) - y\n",
    "    return (1/2)*(np.transpose(e)@e)"
   ]
  },
  {
   "cell_type": "markdown",
   "metadata": {},
   "source": [
    "Let's test this function."
   ]
  },
  {
   "cell_type": "code",
   "execution_count": 20,
   "metadata": {},
   "outputs": [
    {
     "name": "stderr",
     "output_type": "stream",
     "text": [
      "test_loss_function (__main__.TestLossFunction)\n",
      "Test loss function of linear regression ... "
     ]
    },
    {
     "name": "stdout",
     "output_type": "stream",
     "text": [
      "[62.5]\n",
      "62.5\n"
     ]
    },
    {
     "name": "stderr",
     "output_type": "stream",
     "text": [
      "ok\n",
      "\n",
      "----------------------------------------------------------------------\n",
      "Ran 1 test in 0.006s\n",
      "\n",
      "OK\n"
     ]
    },
    {
     "data": {
      "text/plain": [
       "<unittest.main.TestProgram at 0x7f80335a2730>"
      ]
     },
     "execution_count": 20,
     "metadata": {},
     "output_type": "execute_result"
    }
   ],
   "source": [
    "import unittest\n",
    "\n",
    "class TestLossFunction(unittest.TestCase):\n",
    "\n",
    "    def test_loss_function(self):\n",
    "        '''Test loss function of linear regression'''\n",
    "\n",
    "        # set up\n",
    "        feature_matrix = np.array([[1,3,2,5],[1,9,4,7]]) # The dummy variable is already added\n",
    "        weight_vector = np.array([1,1,1,1])\n",
    "        label_vector = np.array([6,11])\n",
    "        expected_loss = np.array([62.5])\n",
    "\n",
    "        # call\n",
    "        loss_value = loss(feature_matrix, label_vector, weight_vector)\n",
    "\n",
    "        print(expected_loss,loss_value, sep = '\\n')\n",
    "        \n",
    "        # asserts\n",
    "        \n",
    "        # test the shape\n",
    "        self.assertEqual(loss_value.shape, ())\n",
    "\n",
    "        # and contents\n",
    "        np.testing.assert_array_equal(\n",
    "            expected_loss, loss_value)\n",
    "\n",
    "unittest.main(argv=[''], defaultTest='TestLossFunction', verbosity=2, exit=False)"
   ]
  },
  {
   "cell_type": "markdown",
   "metadata": {},
   "source": [
    "Since we have not yet trained our model, let's use a random weight vector to calculate loss for linear regression model with single feature on the synthetic dataset."
   ]
  },
  {
   "cell_type": "code",
   "execution_count": 22,
   "metadata": {},
   "outputs": [
    {
     "data": {
      "text/plain": [
       "array([0.90870339, 0.48206579])"
      ]
     },
     "execution_count": 22,
     "metadata": {},
     "output_type": "execute_result"
    }
   ],
   "source": [
    "w = np.random.rand(2,)\n",
    "w"
   ]
  },
  {
   "cell_type": "code",
   "execution_count": 23,
   "metadata": {},
   "outputs": [
    {
     "name": "stdout",
     "output_type": "stream",
     "text": [
      "12590.270030235946\n"
     ]
    }
   ],
   "source": [
    "print(loss(X_train_with_dummy,y_train,w))"
   ]
  },
  {
   "cell_type": "markdown",
   "metadata": {},
   "source": [
    "As we can see, because the weights were chosen, randomly, the loss is huge."
   ]
  },
  {
   "cell_type": "markdown",
   "metadata": {},
   "source": [
    "# Optimization"
   ]
  },
  {
   "cell_type": "markdown",
   "metadata": {},
   "source": [
    "The objective of this section is to implement the optimization component of the linear regression model.\n"
   ]
  },
  {
   "cell_type": "markdown",
   "metadata": {},
   "source": [
    "It is implemented with one of the following $2$ methods:\n",
    "\n",
    "- **Normal Equation method**, that sets the partial derivatives of the loss function w.r.t. the weight vector to $0$ and solves the resulting equation to obtain the weight vector.\n",
    "- **Gradient Descent method**, that iteratively adjusts the weight vector based on the learning rate and the gradient of the loss function at the current weight."
   ]
  },
  {
   "cell_type": "markdown",
   "metadata": {},
   "source": [
    "## 1. Normal Equation"
   ]
  },
  {
   "cell_type": "markdown",
   "metadata": {},
   "source": [
    "The weight vector is estimated by matrix multiplication of *pseudo-inverse* of feature matrix and label vector.\n",
    "\n",
    "The vectorized implementation is fairly straight forward.\n",
    "- We make use of `np.linalg.pinv` for calculating pseudoinverse of the feature matrix."
   ]
  },
  {
   "cell_type": "code",
   "execution_count": 28,
   "metadata": {},
   "outputs": [],
   "source": [
    "def normal_equation(X, y):\n",
    "    '''Estimate parameters of the linear regression model with normal equation.\n",
    "    \n",
    "    Args:\n",
    "        X: Feature matrix of shape (n, m+1)\n",
    "        y: Output label vector of shape (n,)\n",
    "    \n",
    "    Returns:\n",
    "        Optimal weight vector\n",
    "    '''\n",
    "    return np.linalg.pinv(X)@y"
   ]
  },
  {
   "cell_type": "markdown",
   "metadata": {},
   "source": [
    "## 2. Gradient Descent (GD)"
   ]
  },
  {
   "cell_type": "markdown",
   "metadata": {},
   "source": [
    "GD is implemented as follows:\n",
    "- Randomly initialize $w$ to $0$.\n",
    "- Iterate until convergence:\n",
    "    - Calculate partial derivative of loss w.r.t. weight vector.\n",
    "    - Calculate new values of weights,.\n",
    "    - Update weights to new values *simultaneously*\n",
    "\n",
    "We use no. of epochs as a convergence criterion in this implementation."
   ]
  },
  {
   "cell_type": "markdown",
   "metadata": {},
   "source": [
    "### Partial derivative of loss function\n",
    "\n",
    "Let's first implement a function to calculate partial derivative of loss function which is obtained by the following equation:\n",
    "$$\\frac{\\partial}{\\partial w} J(w) = X^T (Xw - y)$$\n",
    "\n",
    "aka, the multiplication of transpose of feature matrix with the difference of predicted and actual label vectors."
   ]
  },
  {
   "cell_type": "code",
   "execution_count": 30,
   "metadata": {},
   "outputs": [],
   "source": [
    "def calculate_gradient(X, y, w):\n",
    "    '''Calculate gradients of loss function w.r.t. weight vector on training set.\n",
    "    \n",
    "    Args:\n",
    "        X: Feature matrix of shape (n, m+1)\n",
    "        y: Output label vector of shape (n,)\n",
    "        w: Weight vector of shape (m+1,)\n",
    "    \n",
    "    Returns:\n",
    "        A gradient vector of shape (m+1,)\n",
    "    '''\n",
    "    return np.transpose(X)@(predict(X,w)-y)"
   ]
  },
  {
   "cell_type": "markdown",
   "metadata": {},
   "source": [
    "### Weight updates\n",
    "\n",
    "Let's implement the weight update part:\n",
    "- We obtain the new weight from the old one by subtracting gradient weighted by the learning rate."
   ]
  },
  {
   "cell_type": "code",
   "execution_count": 32,
   "metadata": {},
   "outputs": [],
   "source": [
    "def update_weights(w, grad, lr):\n",
    "    '''Update the weights based on the gradient of the loss function.\n",
    "\n",
    "    Weight updates are carried out with the following formula:\n",
    "        w_new := w_old - lr * grad\n",
    "    \n",
    "    Args:\n",
    "        w: Weight vector of shape (m+1,)\n",
    "        grad: Gradient of loss w.r.t w of shape (m+1,)\n",
    "        lr: Learning rate\n",
    "    \n",
    "    Returns:\n",
    "        Updated weight vector of shape (m+1,)\n",
    "    '''\n",
    "    return (w - lr*grad)"
   ]
  },
  {
   "cell_type": "markdown",
   "metadata": {},
   "source": [
    "### Implementing GD\n",
    "\n",
    "With these building blocks in place, let's implement Gradient Descent procedure:"
   ]
  },
  {
   "cell_type": "code",
   "execution_count": 36,
   "metadata": {},
   "outputs": [],
   "source": [
    "def gradient_descent(X:np.ndarray, y:np.ndarray, lr:float, num_epochs:int):\n",
    "    '''Estimates parameters of linar regression model through gradient descent.\n",
    "    \n",
    "    Args:\n",
    "        X: Feature matrix for training data of shape (n, m+1)\n",
    "        y: Output label for training data vector of shape (n,)\n",
    "        lr: Learning rate\n",
    "        num_epochs: Number of training steps\n",
    "    \n",
    "    Returns:\n",
    "        Weight vector: Final weight vector\n",
    "        Error vector across different iterations\n",
    "        Weight vectors across different iterations\n",
    "    '''\n",
    "    w_all = [] # all parameters across iterations.\n",
    "    err_all = [] # all errors across iterations.\n",
    "\n",
    "    # Parameter vector (weight vector) initialized to [0,0]\n",
    "    w = np.zeros((X.shape[1]))\n",
    "\n",
    "    # Gradient descent loop\n",
    "    print ()\n",
    "    for i in np.arange(0, num_epochs):\n",
    "        w_all.append(w)\n",
    "\n",
    "        # Calculate error due to the current weight vector: Note that here we use loss function to calculate the loss.\n",
    "        err_all.append(loss(X,y,w))\n",
    "\n",
    "        # Gradient calculation\n",
    "        dJdW = calculate_gradient(X,y,w)\n",
    "\n",
    "        # Print stats every 100 iterations\n",
    "        if (i%100) == 0:\n",
    "            print('Iteration #: %d, loss: %4.2f'%(i, err_all[-1]))\n",
    "        \n",
    "        # Weight vector update.\n",
    "        w = update_weights(w, dJdW, lr)\n",
    "\n",
    "    return w, err_all, w_all"
   ]
  },
  {
   "cell_type": "markdown",
   "metadata": {},
   "source": [
    "## Learning Curves\n",
    "\n",
    "Let's plot the learning curves."
   ]
  },
  {
   "cell_type": "code",
   "execution_count": 34,
   "metadata": {},
   "outputs": [],
   "source": [
    "def plot_learning_curves(err_all):\n",
    "    plt.plot(err_all)\n",
    "    plt.xlabel('iteration #')\n",
    "    plt.ylabel('Loss: $J(w)$')"
   ]
  },
  {
   "cell_type": "code",
   "execution_count": 39,
   "metadata": {},
   "outputs": [
    {
     "name": "stdout",
     "output_type": "stream",
     "text": [
      "\n",
      "Iteration #: 0, loss: 18395.39\n",
      "Iteration #: 100, loss: 132.63\n",
      "Iteration #: 200, loss: 108.64\n",
      "Iteration #: 300, loss: 91.47\n",
      "Iteration #: 400, loss: 79.17\n",
      "Iteration #: 500, loss: 70.36\n",
      "Iteration #: 600, loss: 64.06\n",
      "Iteration #: 700, loss: 59.55\n",
      "Iteration #: 800, loss: 56.31\n",
      "Iteration #: 900, loss: 54.00\n",
      "Iteration #: 1000, loss: 52.34\n",
      "Iteration #: 1100, loss: 51.16\n",
      "Iteration #: 1200, loss: 50.31\n",
      "Iteration #: 1300, loss: 49.70\n",
      "Iteration #: 1400, loss: 49.26\n",
      "Iteration #: 1500, loss: 48.95\n",
      "Iteration #: 1600, loss: 48.73\n",
      "Iteration #: 1700, loss: 48.57\n",
      "Iteration #: 1800, loss: 48.45\n",
      "Iteration #: 1900, loss: 48.37\n"
     ]
    },
    {
     "data": {
      "image/png": "[encoded data removed]",
      "text/plain": [
       "<Figure size 432x288 with 1 Axes>"
      ]
     },
     "metadata": {
      "needs_background": "light"
     },
     "output_type": "display_data"
    }
   ],
   "source": [
    "w, err_all, w_all = gradient_descent(X_train_with_dummy, y_train, lr = 0.0001, num_epochs=2000)\n",
    "plot_learning_curves(err_all)"
   ]
  },
  {
   "cell_type": "markdown",
   "metadata": {},
   "source": [
    "## Learning rate and convergence"
   ]
  },
  {
   "cell_type": "markdown",
   "metadata": {},
   "source": [
    "### Varying the learning rate:\n",
    "\n",
    "Let's vary the learning rate and observe the change in convergence characteristics of GD.\n",
    "\n",
    "We will use:\n",
    "- $\\alpha \\in \\{1e-6, 1e-4, 1e-1\\}$ to run GD for $2000$ epochs each.\n",
    "- Compare the convergence characteristics."
   ]
  },
  {
   "cell_type": "code",
   "execution_count": 40,
   "metadata": {},
   "outputs": [
    {
     "name": "stdout",
     "output_type": "stream",
     "text": [
      "\n",
      "Iteration #: 0, loss: 18395.39\n",
      "Iteration #: 100, loss: 10322.89\n",
      "Iteration #: 200, loss: 5824.80\n",
      "Iteration #: 300, loss: 3318.34\n",
      "Iteration #: 400, loss: 1921.60\n",
      "Iteration #: 500, loss: 1143.18\n",
      "Iteration #: 600, loss: 709.28\n",
      "Iteration #: 700, loss: 467.34\n",
      "Iteration #: 800, loss: 332.37\n",
      "Iteration #: 900, loss: 257.00\n",
      "Iteration #: 1000, loss: 214.83\n",
      "Iteration #: 1100, loss: 191.17\n",
      "Iteration #: 1200, loss: 177.82\n",
      "Iteration #: 1300, loss: 170.21\n",
      "Iteration #: 1400, loss: 165.81\n",
      "Iteration #: 1500, loss: 163.19\n",
      "Iteration #: 1600, loss: 161.57\n",
      "Iteration #: 1700, loss: 160.50\n",
      "Iteration #: 1800, loss: 159.74\n",
      "Iteration #: 1900, loss: 159.15\n"
     ]
    },
    {
     "data": {
      "text/plain": [
       "Text(0.5, 1.0, 'lr = 1e-6')"
      ]
     },
     "execution_count": 40,
     "metadata": {},
     "output_type": "execute_result"
    },
    {
     "data": {
      "image/png": "[encoded data removed]",
      "text/plain": [
       "<Figure size 432x288 with 1 Axes>"
      ]
     },
     "metadata": {
      "needs_background": "light"
     },
     "output_type": "display_data"
    }
   ],
   "source": [
    "w, err_all, w_all = gradient_descent(X_train_with_dummy, y_train, lr = 1e-6, num_epochs=2000)\n",
    "plot_learning_curves(err_all)\n",
    "plt.title('lr = 1e-6')"
   ]
  },
  {
   "cell_type": "code",
   "execution_count": 41,
   "metadata": {},
   "outputs": [
    {
     "name": "stdout",
     "output_type": "stream",
     "text": [
      "\n",
      "Iteration #: 0, loss: 18395.39\n",
      "Iteration #: 100, loss: 132.63\n",
      "Iteration #: 200, loss: 108.64\n",
      "Iteration #: 300, loss: 91.47\n",
      "Iteration #: 400, loss: 79.17\n",
      "Iteration #: 500, loss: 70.36\n",
      "Iteration #: 600, loss: 64.06\n",
      "Iteration #: 700, loss: 59.55\n",
      "Iteration #: 800, loss: 56.31\n",
      "Iteration #: 900, loss: 54.00\n",
      "Iteration #: 1000, loss: 52.34\n",
      "Iteration #: 1100, loss: 51.16\n",
      "Iteration #: 1200, loss: 50.31\n",
      "Iteration #: 1300, loss: 49.70\n",
      "Iteration #: 1400, loss: 49.26\n",
      "Iteration #: 1500, loss: 48.95\n",
      "Iteration #: 1600, loss: 48.73\n",
      "Iteration #: 1700, loss: 48.57\n",
      "Iteration #: 1800, loss: 48.45\n",
      "Iteration #: 1900, loss: 48.37\n"
     ]
    },
    {
     "data": {
      "text/plain": [
       "Text(0.5, 1.0, 'lr = 1e-4')"
      ]
     },
     "execution_count": 41,
     "metadata": {},
     "output_type": "execute_result"
    },
    {
     "data": {
      "image/png": "[encoded data removed]",
      "text/plain": [
       "<Figure size 432x288 with 1 Axes>"
      ]
     },
     "metadata": {
      "needs_background": "light"
     },
     "output_type": "display_data"
    }
   ],
   "source": [
    "w, err_all, w_all = gradient_descent(X_train_with_dummy, y_train, lr = 1e-4, num_epochs=2000)\n",
    "plot_learning_curves(err_all)\n",
    "plt.title('lr = 1e-4')"
   ]
  },
  {
   "cell_type": "code",
   "execution_count": 42,
   "metadata": {},
   "outputs": [
    {
     "name": "stdout",
     "output_type": "stream",
     "text": [
      "\n",
      "Iteration #: 0, loss: 18395.39\n",
      "Iteration #: 100, loss:  inf\n",
      "Iteration #: 200, loss:  nan\n",
      "Iteration #: 300, loss:  nan\n",
      "Iteration #: 400, loss:  nan\n",
      "Iteration #: 500, loss:  nan\n",
      "Iteration #: 600, loss:  nan\n",
      "Iteration #: 700, loss:  nan\n",
      "Iteration #: 800, loss:  nan\n",
      "Iteration #: 900, loss:  nan\n",
      "Iteration #: 1000, loss:  nan\n",
      "Iteration #: 1100, loss:  nan\n",
      "Iteration #: 1200, loss:  nan\n",
      "Iteration #: 1300, loss:  nan\n",
      "Iteration #: 1400, loss:  nan\n",
      "Iteration #: 1500, loss:  nan\n",
      "Iteration #: 1600, loss:  nan\n",
      "Iteration #: 1700, loss:  nan\n",
      "Iteration #: 1800, loss:  nan\n",
      "Iteration #: 1900, loss:  nan\n"
     ]
    },
    {
     "name": "stderr",
     "output_type": "stream",
     "text": [
      "<ipython-input-29-2d648cb62e04>:13: RuntimeWarning: overflow encountered in matmul\n",
      "  return (1/2)*(np.transpose(e)@e)\n",
      "<ipython-input-30-8b51e59d7870>:12: RuntimeWarning: overflow encountered in matmul\n",
      "  return np.transpose(X)@(predict(X,w)-y)\n",
      "<ipython-input-32-adba0fd1677f>:15: RuntimeWarning: invalid value encountered in subtract\n",
      "  return (w - lr*grad)\n"
     ]
    },
    {
     "data": {
      "text/plain": [
       "Text(0.5, 1.0, 'lr = 1e-1')"
      ]
     },
     "execution_count": 42,
     "metadata": {},
     "output_type": "execute_result"
    },
    {
     "data": {
      "image/png": "[encoded data removed]",
      "text/plain": [
       "<Figure size 432x288 with 1 Axes>"
      ]
     },
     "metadata": {
      "needs_background": "light"
     },
     "output_type": "display_data"
    }
   ],
   "source": [
    "w, err_all, w_all = gradient_descent(X_train_with_dummy, y_train, lr = 1e-1, num_epochs=2000)\n",
    "plot_learning_curves(err_all)\n",
    "plt.title('lr = 1e-1')"
   ]
  },
  {
   "cell_type": "markdown",
   "metadata": {},
   "source": [
    "### Varying the no. of epochs:\n",
    "\n",
    "Let's vary the no. of epochs and observe the change in convergence characteristics of GD.\n",
    "\n",
    "We will use:\n",
    "- We will use epochs $\\in \\{1e+1, 1e+2, 1e+3, 1e+5\\}$ to run GD for a fixed learning rate $1e-5$.\n",
    "- Compare the convergence characteristics."
   ]
  },
  {
   "cell_type": "code",
   "execution_count": 44,
   "metadata": {},
   "outputs": [
    {
     "name": "stdout",
     "output_type": "stream",
     "text": [
      "\n",
      "Iteration #: 0, loss: 18395.39\n"
     ]
    },
    {
     "data": {
      "text/plain": [
       "Text(0.5, 1.0, '# iterations = 1e+1')"
      ]
     },
     "execution_count": 44,
     "metadata": {},
     "output_type": "execute_result"
    },
    {
     "data": {
      "image/png": "[encoded data removed]",
      "text/plain": [
       "<Figure size 432x288 with 1 Axes>"
      ]
     },
     "metadata": {
      "needs_background": "light"
     },
     "output_type": "display_data"
    }
   ],
   "source": [
    "w, err_all, w_all = gradient_descent(X_train_with_dummy, y_train, lr = 1e-6, num_epochs=1e+1)\n",
    "plot_learning_curves(err_all)\n",
    "plt.title('# iterations = 1e+1')"
   ]
  },
  {
   "cell_type": "code",
   "execution_count": 45,
   "metadata": {},
   "outputs": [
    {
     "name": "stdout",
     "output_type": "stream",
     "text": [
      "\n",
      "Iteration #: 0, loss: 18395.39\n"
     ]
    },
    {
     "data": {
      "text/plain": [
       "Text(0.5, 1.0, '# iterations = 1e+2')"
      ]
     },
     "execution_count": 45,
     "metadata": {},
     "output_type": "execute_result"
    },
    {
     "data": {
      "image/png": "[encoded data removed]",
      "text/plain": [
       "<Figure size 432x288 with 1 Axes>"
      ]
     },
     "metadata": {
      "needs_background": "light"
     },
     "output_type": "display_data"
    }
   ],
   "source": [
    "w, err_all, w_all = gradient_descent(X_train_with_dummy, y_train, lr = 1e-6, num_epochs=1e+2)\n",
    "plot_learning_curves(err_all)\n",
    "plt.title('# iterations = 1e+2')"
   ]
  },
  {
   "cell_type": "code",
   "execution_count": 46,
   "metadata": {},
   "outputs": [
    {
     "name": "stdout",
     "output_type": "stream",
     "text": [
      "\n",
      "Iteration #: 0, loss: 18395.39\n",
      "Iteration #: 100, loss: 10322.89\n",
      "Iteration #: 200, loss: 5824.80\n",
      "Iteration #: 300, loss: 3318.34\n",
      "Iteration #: 400, loss: 1921.60\n",
      "Iteration #: 500, loss: 1143.18\n",
      "Iteration #: 600, loss: 709.28\n",
      "Iteration #: 700, loss: 467.34\n",
      "Iteration #: 800, loss: 332.37\n",
      "Iteration #: 900, loss: 257.00\n"
     ]
    },
    {
     "data": {
      "text/plain": [
       "Text(0.5, 1.0, '# iterations = 1e+3')"
      ]
     },
     "execution_count": 46,
     "metadata": {},
     "output_type": "execute_result"
    },
    {
     "data": {
      "image/png": "[encoded data removed]",
      "text/plain": [
       "<Figure size 432x288 with 1 Axes>"
      ]
     },
     "metadata": {
      "needs_background": "light"
     },
     "output_type": "display_data"
    }
   ],
   "source": [
    "w, err_all, w_all = gradient_descent(X_train_with_dummy, y_train, lr = 1e-6, num_epochs=1e+3)\n",
    "plot_learning_curves(err_all)\n",
    "plt.title('# iterations = 1e+3')"
   ]
  },
  {
   "cell_type": "code",
   "execution_count": 47,
   "metadata": {},
   "outputs": [
    {
     "name": "stdout",
     "output_type": "stream",
     "text": [
      "\n",
      "Iteration #: 0, loss: 18395.39\n",
      "Iteration #: 100, loss: 10322.89\n",
      "Iteration #: 200, loss: 5824.80\n",
      "Iteration #: 300, loss: 3318.34\n",
      "Iteration #: 400, loss: 1921.60\n",
      "Iteration #: 500, loss: 1143.18\n",
      "Iteration #: 600, loss: 709.28\n",
      "Iteration #: 700, loss: 467.34\n",
      "Iteration #: 800, loss: 332.37\n",
      "Iteration #: 900, loss: 257.00\n",
      "Iteration #: 1000, loss: 214.83\n",
      "Iteration #: 1100, loss: 191.17\n",
      "Iteration #: 1200, loss: 177.82\n",
      "Iteration #: 1300, loss: 170.21\n",
      "Iteration #: 1400, loss: 165.81\n",
      "Iteration #: 1500, loss: 163.19\n",
      "Iteration #: 1600, loss: 161.57\n",
      "Iteration #: 1700, loss: 160.50\n",
      "Iteration #: 1800, loss: 159.74\n",
      "Iteration #: 1900, loss: 159.15\n",
      "Iteration #: 2000, loss: 158.66\n",
      "Iteration #: 2100, loss: 158.23\n",
      "Iteration #: 2200, loss: 157.82\n",
      "Iteration #: 2300, loss: 157.44\n",
      "Iteration #: 2400, loss: 157.06\n",
      "Iteration #: 2500, loss: 156.69\n",
      "Iteration #: 2600, loss: 156.33\n",
      "Iteration #: 2700, loss: 155.96\n",
      "Iteration #: 2800, loss: 155.60\n",
      "Iteration #: 2900, loss: 155.24\n",
      "Iteration #: 3000, loss: 154.89\n",
      "Iteration #: 3100, loss: 154.53\n",
      "Iteration #: 3200, loss: 154.18\n",
      "Iteration #: 3300, loss: 153.82\n",
      "Iteration #: 3400, loss: 153.47\n",
      "Iteration #: 3500, loss: 153.12\n",
      "Iteration #: 3600, loss: 152.77\n",
      "Iteration #: 3700, loss: 152.42\n",
      "Iteration #: 3800, loss: 152.07\n",
      "Iteration #: 3900, loss: 151.73\n",
      "Iteration #: 4000, loss: 151.38\n",
      "Iteration #: 4100, loss: 151.04\n",
      "Iteration #: 4200, loss: 150.70\n",
      "Iteration #: 4300, loss: 150.36\n",
      "Iteration #: 4400, loss: 150.01\n",
      "Iteration #: 4500, loss: 149.68\n",
      "Iteration #: 4600, loss: 149.34\n",
      "Iteration #: 4700, loss: 149.00\n",
      "Iteration #: 4800, loss: 148.66\n",
      "Iteration #: 4900, loss: 148.33\n",
      "Iteration #: 5000, loss: 148.00\n",
      "Iteration #: 5100, loss: 147.66\n",
      "Iteration #: 5200, loss: 147.33\n",
      "Iteration #: 5300, loss: 147.00\n",
      "Iteration #: 5400, loss: 146.67\n",
      "Iteration #: 5500, loss: 146.34\n",
      "Iteration #: 5600, loss: 146.02\n",
      "Iteration #: 5700, loss: 145.69\n",
      "Iteration #: 5800, loss: 145.36\n",
      "Iteration #: 5900, loss: 145.04\n",
      "Iteration #: 6000, loss: 144.72\n",
      "Iteration #: 6100, loss: 144.40\n",
      "Iteration #: 6200, loss: 144.08\n",
      "Iteration #: 6300, loss: 143.76\n",
      "Iteration #: 6400, loss: 143.44\n",
      "Iteration #: 6500, loss: 143.12\n",
      "Iteration #: 6600, loss: 142.80\n",
      "Iteration #: 6700, loss: 142.49\n",
      "Iteration #: 6800, loss: 142.17\n",
      "Iteration #: 6900, loss: 141.86\n",
      "Iteration #: 7000, loss: 141.55\n",
      "Iteration #: 7100, loss: 141.24\n",
      "Iteration #: 7200, loss: 140.93\n",
      "Iteration #: 7300, loss: 140.62\n",
      "Iteration #: 7400, loss: 140.31\n",
      "Iteration #: 7500, loss: 140.00\n",
      "Iteration #: 7600, loss: 139.70\n",
      "Iteration #: 7700, loss: 139.39\n",
      "Iteration #: 7800, loss: 139.09\n",
      "Iteration #: 7900, loss: 138.78\n",
      "Iteration #: 8000, loss: 138.48\n",
      "Iteration #: 8100, loss: 138.18\n",
      "Iteration #: 8200, loss: 137.88\n",
      "Iteration #: 8300, loss: 137.58\n",
      "Iteration #: 8400, loss: 137.28\n",
      "Iteration #: 8500, loss: 136.99\n",
      "Iteration #: 8600, loss: 136.69\n",
      "Iteration #: 8700, loss: 136.40\n",
      "Iteration #: 8800, loss: 136.10\n",
      "Iteration #: 8900, loss: 135.81\n",
      "Iteration #: 9000, loss: 135.52\n",
      "Iteration #: 9100, loss: 135.23\n",
      "Iteration #: 9200, loss: 134.94\n",
      "Iteration #: 9300, loss: 134.65\n",
      "Iteration #: 9400, loss: 134.36\n",
      "Iteration #: 9500, loss: 134.07\n",
      "Iteration #: 9600, loss: 133.79\n",
      "Iteration #: 9700, loss: 133.50\n",
      "Iteration #: 9800, loss: 133.22\n",
      "Iteration #: 9900, loss: 132.93\n",
      "Iteration #: 10000, loss: 132.65\n",
      "Iteration #: 10100, loss: 132.37\n",
      "Iteration #: 10200, loss: 132.09\n",
      "Iteration #: 10300, loss: 131.81\n",
      "Iteration #: 10400, loss: 131.53\n",
      "Iteration #: 10500, loss: 131.25\n",
      "Iteration #: 10600, loss: 130.98\n",
      "Iteration #: 10700, loss: 130.70\n",
      "Iteration #: 10800, loss: 130.42\n",
      "Iteration #: 10900, loss: 130.15\n",
      "Iteration #: 11000, loss: 129.88\n",
      "Iteration #: 11100, loss: 129.60\n",
      "Iteration #: 11200, loss: 129.33\n",
      "Iteration #: 11300, loss: 129.06\n",
      "Iteration #: 11400, loss: 128.79\n",
      "Iteration #: 11500, loss: 128.52\n",
      "Iteration #: 11600, loss: 128.26\n",
      "Iteration #: 11700, loss: 127.99\n",
      "Iteration #: 11800, loss: 127.72\n",
      "Iteration #: 11900, loss: 127.46\n",
      "Iteration #: 12000, loss: 127.19\n",
      "Iteration #: 12100, loss: 126.93\n",
      "Iteration #: 12200, loss: 126.67\n",
      "Iteration #: 12300, loss: 126.41\n",
      "Iteration #: 12400, loss: 126.15\n",
      "Iteration #: 12500, loss: 125.89\n",
      "Iteration #: 12600, loss: 125.63\n",
      "Iteration #: 12700, loss: 125.37\n",
      "Iteration #: 12800, loss: 125.11\n",
      "Iteration #: 12900, loss: 124.86\n",
      "Iteration #: 13000, loss: 124.60\n",
      "Iteration #: 13100, loss: 124.35\n",
      "Iteration #: 13200, loss: 124.09\n",
      "Iteration #: 13300, loss: 123.84\n",
      "Iteration #: 13400, loss: 123.59\n",
      "Iteration #: 13500, loss: 123.33\n",
      "Iteration #: 13600, loss: 123.08\n",
      "Iteration #: 13700, loss: 122.83\n",
      "Iteration #: 13800, loss: 122.59\n",
      "Iteration #: 13900, loss: 122.34\n",
      "Iteration #: 14000, loss: 122.09\n",
      "Iteration #: 14100, loss: 121.84\n",
      "Iteration #: 14200, loss: 121.60\n",
      "Iteration #: 14300, loss: 121.35\n",
      "Iteration #: 14400, loss: 121.11\n",
      "Iteration #: 14500, loss: 120.87\n",
      "Iteration #: 14600, loss: 120.62\n",
      "Iteration #: 14700, loss: 120.38\n",
      "Iteration #: 14800, loss: 120.14\n",
      "Iteration #: 14900, loss: 119.90\n",
      "Iteration #: 15000, loss: 119.66\n",
      "Iteration #: 15100, loss: 119.43\n",
      "Iteration #: 15200, loss: 119.19\n",
      "Iteration #: 15300, loss: 118.95\n",
      "Iteration #: 15400, loss: 118.72\n",
      "Iteration #: 15500, loss: 118.48\n",
      "Iteration #: 15600, loss: 118.25\n",
      "Iteration #: 15700, loss: 118.01\n",
      "Iteration #: 15800, loss: 117.78\n",
      "Iteration #: 15900, loss: 117.55\n",
      "Iteration #: 16000, loss: 117.32\n",
      "Iteration #: 16100, loss: 117.09\n",
      "Iteration #: 16200, loss: 116.86\n",
      "Iteration #: 16300, loss: 116.63\n",
      "Iteration #: 16400, loss: 116.40\n",
      "Iteration #: 16500, loss: 116.17\n",
      "Iteration #: 16600, loss: 115.95\n",
      "Iteration #: 16700, loss: 115.72\n",
      "Iteration #: 16800, loss: 115.49\n",
      "Iteration #: 16900, loss: 115.27\n",
      "Iteration #: 17000, loss: 115.05\n",
      "Iteration #: 17100, loss: 114.82\n",
      "Iteration #: 17200, loss: 114.60\n",
      "Iteration #: 17300, loss: 114.38\n",
      "Iteration #: 17400, loss: 114.16\n",
      "Iteration #: 17500, loss: 113.94\n",
      "Iteration #: 17600, loss: 113.72\n",
      "Iteration #: 17700, loss: 113.50\n",
      "Iteration #: 17800, loss: 113.28\n",
      "Iteration #: 17900, loss: 113.07\n",
      "Iteration #: 18000, loss: 112.85\n",
      "Iteration #: 18100, loss: 112.64\n",
      "Iteration #: 18200, loss: 112.42\n",
      "Iteration #: 18300, loss: 112.21\n",
      "Iteration #: 18400, loss: 111.99\n",
      "Iteration #: 18500, loss: 111.78\n",
      "Iteration #: 18600, loss: 111.57\n",
      "Iteration #: 18700, loss: 111.36\n",
      "Iteration #: 18800, loss: 111.15\n",
      "Iteration #: 18900, loss: 110.94\n",
      "Iteration #: 19000, loss: 110.73\n",
      "Iteration #: 19100, loss: 110.52\n",
      "Iteration #: 19200, loss: 110.31\n",
      "Iteration #: 19300, loss: 110.10\n",
      "Iteration #: 19400, loss: 109.90\n",
      "Iteration #: 19500, loss: 109.69\n",
      "Iteration #: 19600, loss: 109.49\n",
      "Iteration #: 19700, loss: 109.28\n",
      "Iteration #: 19800, loss: 109.08\n",
      "Iteration #: 19900, loss: 108.88\n",
      "Iteration #: 20000, loss: 108.67\n",
      "Iteration #: 20100, loss: 108.47\n",
      "Iteration #: 20200, loss: 108.27\n",
      "Iteration #: 20300, loss: 108.07\n",
      "Iteration #: 20400, loss: 107.87\n",
      "Iteration #: 20500, loss: 107.67\n",
      "Iteration #: 20600, loss: 107.47\n",
      "Iteration #: 20700, loss: 107.28\n",
      "Iteration #: 20800, loss: 107.08\n",
      "Iteration #: 20900, loss: 106.88\n",
      "Iteration #: 21000, loss: 106.69\n",
      "Iteration #: 21100, loss: 106.49\n",
      "Iteration #: 21200, loss: 106.30\n",
      "Iteration #: 21300, loss: 106.10\n",
      "Iteration #: 21400, loss: 105.91\n",
      "Iteration #: 21500, loss: 105.72\n",
      "Iteration #: 21600, loss: 105.53\n",
      "Iteration #: 21700, loss: 105.34\n",
      "Iteration #: 21800, loss: 105.15\n",
      "Iteration #: 21900, loss: 104.96\n",
      "Iteration #: 22000, loss: 104.77\n",
      "Iteration #: 22100, loss: 104.58\n",
      "Iteration #: 22200, loss: 104.39\n",
      "Iteration #: 22300, loss: 104.20\n",
      "Iteration #: 22400, loss: 104.02\n",
      "Iteration #: 22500, loss: 103.83\n",
      "Iteration #: 22600, loss: 103.64\n",
      "Iteration #: 22700, loss: 103.46\n",
      "Iteration #: 22800, loss: 103.27\n",
      "Iteration #: 22900, loss: 103.09\n",
      "Iteration #: 23000, loss: 102.91\n",
      "Iteration #: 23100, loss: 102.73\n",
      "Iteration #: 23200, loss: 102.54\n",
      "Iteration #: 23300, loss: 102.36\n",
      "Iteration #: 23400, loss: 102.18\n",
      "Iteration #: 23500, loss: 102.00\n",
      "Iteration #: 23600, loss: 101.82\n",
      "Iteration #: 23700, loss: 101.64\n",
      "Iteration #: 23800, loss: 101.47\n",
      "Iteration #: 23900, loss: 101.29\n",
      "Iteration #: 24000, loss: 101.11\n",
      "Iteration #: 24100, loss: 100.93\n",
      "Iteration #: 24200, loss: 100.76\n",
      "Iteration #: 24300, loss: 100.58\n",
      "Iteration #: 24400, loss: 100.41\n",
      "Iteration #: 24500, loss: 100.23\n",
      "Iteration #: 24600, loss: 100.06\n",
      "Iteration #: 24700, loss: 99.89\n",
      "Iteration #: 24800, loss: 99.72\n",
      "Iteration #: 24900, loss: 99.54\n",
      "Iteration #: 25000, loss: 99.37\n",
      "Iteration #: 25100, loss: 99.20\n",
      "Iteration #: 25200, loss: 99.03\n",
      "Iteration #: 25300, loss: 98.86\n",
      "Iteration #: 25400, loss: 98.69\n",
      "Iteration #: 25500, loss: 98.53\n",
      "Iteration #: 25600, loss: 98.36\n",
      "Iteration #: 25700, loss: 98.19\n",
      "Iteration #: 25800, loss: 98.02\n",
      "Iteration #: 25900, loss: 97.86\n",
      "Iteration #: 26000, loss: 97.69\n",
      "Iteration #: 26100, loss: 97.53\n",
      "Iteration #: 26200, loss: 97.36\n",
      "Iteration #: 26300, loss: 97.20\n",
      "Iteration #: 26400, loss: 97.03\n",
      "Iteration #: 26500, loss: 96.87\n",
      "Iteration #: 26600, loss: 96.71\n",
      "Iteration #: 26700, loss: 96.55\n",
      "Iteration #: 26800, loss: 96.39\n",
      "Iteration #: 26900, loss: 96.23\n",
      "Iteration #: 27000, loss: 96.07\n",
      "Iteration #: 27100, loss: 95.91\n",
      "Iteration #: 27200, loss: 95.75\n",
      "Iteration #: 27300, loss: 95.59\n",
      "Iteration #: 27400, loss: 95.43\n",
      "Iteration #: 27500, loss: 95.27\n",
      "Iteration #: 27600, loss: 95.12\n",
      "Iteration #: 27700, loss: 94.96\n",
      "Iteration #: 27800, loss: 94.80\n",
      "Iteration #: 27900, loss: 94.65\n",
      "Iteration #: 28000, loss: 94.49\n",
      "Iteration #: 28100, loss: 94.34\n",
      "Iteration #: 28200, loss: 94.19\n",
      "Iteration #: 28300, loss: 94.03\n",
      "Iteration #: 28400, loss: 93.88\n",
      "Iteration #: 28500, loss: 93.73\n",
      "Iteration #: 28600, loss: 93.57\n",
      "Iteration #: 28700, loss: 93.42\n",
      "Iteration #: 28800, loss: 93.27\n",
      "Iteration #: 28900, loss: 93.12\n",
      "Iteration #: 29000, loss: 92.97\n",
      "Iteration #: 29100, loss: 92.82\n",
      "Iteration #: 29200, loss: 92.67\n",
      "Iteration #: 29300, loss: 92.53\n",
      "Iteration #: 29400, loss: 92.38\n",
      "Iteration #: 29500, loss: 92.23\n",
      "Iteration #: 29600, loss: 92.08\n",
      "Iteration #: 29700, loss: 91.94\n",
      "Iteration #: 29800, loss: 91.79\n",
      "Iteration #: 29900, loss: 91.65\n",
      "Iteration #: 30000, loss: 91.50\n",
      "Iteration #: 30100, loss: 91.36\n",
      "Iteration #: 30200, loss: 91.21\n",
      "Iteration #: 30300, loss: 91.07\n",
      "Iteration #: 30400, loss: 90.93\n",
      "Iteration #: 30500, loss: 90.78\n",
      "Iteration #: 30600, loss: 90.64\n",
      "Iteration #: 30700, loss: 90.50\n",
      "Iteration #: 30800, loss: 90.36\n",
      "Iteration #: 30900, loss: 90.22\n",
      "Iteration #: 31000, loss: 90.08\n",
      "Iteration #: 31100, loss: 89.94\n",
      "Iteration #: 31200, loss: 89.80\n",
      "Iteration #: 31300, loss: 89.66\n",
      "Iteration #: 31400, loss: 89.52\n",
      "Iteration #: 31500, loss: 89.39\n",
      "Iteration #: 31600, loss: 89.25\n",
      "Iteration #: 31700, loss: 89.11\n",
      "Iteration #: 31800, loss: 88.97\n",
      "Iteration #: 31900, loss: 88.84\n",
      "Iteration #: 32000, loss: 88.70\n",
      "Iteration #: 32100, loss: 88.57\n",
      "Iteration #: 32200, loss: 88.43\n",
      "Iteration #: 32300, loss: 88.30\n",
      "Iteration #: 32400, loss: 88.17\n",
      "Iteration #: 32500, loss: 88.03\n",
      "Iteration #: 32600, loss: 87.90\n",
      "Iteration #: 32700, loss: 87.77\n",
      "Iteration #: 32800, loss: 87.63\n",
      "Iteration #: 32900, loss: 87.50\n",
      "Iteration #: 33000, loss: 87.37\n",
      "Iteration #: 33100, loss: 87.24\n",
      "Iteration #: 33200, loss: 87.11\n",
      "Iteration #: 33300, loss: 86.98\n",
      "Iteration #: 33400, loss: 86.85\n",
      "Iteration #: 33500, loss: 86.72\n",
      "Iteration #: 33600, loss: 86.59\n",
      "Iteration #: 33700, loss: 86.47\n",
      "Iteration #: 33800, loss: 86.34\n",
      "Iteration #: 33900, loss: 86.21\n",
      "Iteration #: 34000, loss: 86.09\n",
      "Iteration #: 34100, loss: 85.96\n",
      "Iteration #: 34200, loss: 85.83\n",
      "Iteration #: 34300, loss: 85.71\n",
      "Iteration #: 34400, loss: 85.58\n",
      "Iteration #: 34500, loss: 85.46\n",
      "Iteration #: 34600, loss: 85.33\n",
      "Iteration #: 34700, loss: 85.21\n",
      "Iteration #: 34800, loss: 85.09\n",
      "Iteration #: 34900, loss: 84.96\n",
      "Iteration #: 35000, loss: 84.84\n",
      "Iteration #: 35100, loss: 84.72\n",
      "Iteration #: 35200, loss: 84.60\n",
      "Iteration #: 35300, loss: 84.47\n",
      "Iteration #: 35400, loss: 84.35\n",
      "Iteration #: 35500, loss: 84.23\n",
      "Iteration #: 35600, loss: 84.11\n",
      "Iteration #: 35700, loss: 83.99\n",
      "Iteration #: 35800, loss: 83.87\n",
      "Iteration #: 35900, loss: 83.75\n",
      "Iteration #: 36000, loss: 83.64\n",
      "Iteration #: 36100, loss: 83.52\n",
      "Iteration #: 36200, loss: 83.40\n",
      "Iteration #: 36300, loss: 83.28\n",
      "Iteration #: 36400, loss: 83.17\n",
      "Iteration #: 36500, loss: 83.05\n",
      "Iteration #: 36600, loss: 82.93\n",
      "Iteration #: 36700, loss: 82.82\n",
      "Iteration #: 36800, loss: 82.70\n",
      "Iteration #: 36900, loss: 82.59\n",
      "Iteration #: 37000, loss: 82.47\n",
      "Iteration #: 37100, loss: 82.36\n",
      "Iteration #: 37200, loss: 82.24\n",
      "Iteration #: 37300, loss: 82.13\n",
      "Iteration #: 37400, loss: 82.02\n",
      "Iteration #: 37500, loss: 81.90\n",
      "Iteration #: 37600, loss: 81.79\n",
      "Iteration #: 37700, loss: 81.68\n",
      "Iteration #: 37800, loss: 81.57\n",
      "Iteration #: 37900, loss: 81.46\n",
      "Iteration #: 38000, loss: 81.35\n",
      "Iteration #: 38100, loss: 81.23\n",
      "Iteration #: 38200, loss: 81.12\n",
      "Iteration #: 38300, loss: 81.01\n",
      "Iteration #: 38400, loss: 80.91\n",
      "Iteration #: 38500, loss: 80.80\n",
      "Iteration #: 38600, loss: 80.69\n",
      "Iteration #: 38700, loss: 80.58\n",
      "Iteration #: 38800, loss: 80.47\n",
      "Iteration #: 38900, loss: 80.36\n",
      "Iteration #: 39000, loss: 80.26\n",
      "Iteration #: 39100, loss: 80.15\n",
      "Iteration #: 39200, loss: 80.04\n",
      "Iteration #: 39300, loss: 79.94\n",
      "Iteration #: 39400, loss: 79.83\n",
      "Iteration #: 39500, loss: 79.73\n",
      "Iteration #: 39600, loss: 79.62\n",
      "Iteration #: 39700, loss: 79.52\n",
      "Iteration #: 39800, loss: 79.41\n",
      "Iteration #: 39900, loss: 79.31\n",
      "Iteration #: 40000, loss: 79.20\n",
      "Iteration #: 40100, loss: 79.10\n",
      "Iteration #: 40200, loss: 79.00\n",
      "Iteration #: 40300, loss: 78.89\n",
      "Iteration #: 40400, loss: 78.79\n",
      "Iteration #: 40500, loss: 78.69\n",
      "Iteration #: 40600, loss: 78.59\n",
      "Iteration #: 40700, loss: 78.49\n",
      "Iteration #: 40800, loss: 78.38\n",
      "Iteration #: 40900, loss: 78.28\n",
      "Iteration #: 41000, loss: 78.18\n",
      "Iteration #: 41100, loss: 78.08\n",
      "Iteration #: 41200, loss: 77.98\n",
      "Iteration #: 41300, loss: 77.88\n",
      "Iteration #: 41400, loss: 77.79\n",
      "Iteration #: 41500, loss: 77.69\n",
      "Iteration #: 41600, loss: 77.59\n",
      "Iteration #: 41700, loss: 77.49\n",
      "Iteration #: 41800, loss: 77.39\n",
      "Iteration #: 41900, loss: 77.30\n",
      "Iteration #: 42000, loss: 77.20\n",
      "Iteration #: 42100, loss: 77.10\n",
      "Iteration #: 42200, loss: 77.01\n",
      "Iteration #: 42300, loss: 76.91\n",
      "Iteration #: 42400, loss: 76.81\n",
      "Iteration #: 42500, loss: 76.72\n",
      "Iteration #: 42600, loss: 76.62\n",
      "Iteration #: 42700, loss: 76.53\n",
      "Iteration #: 42800, loss: 76.43\n",
      "Iteration #: 42900, loss: 76.34\n",
      "Iteration #: 43000, loss: 76.25\n",
      "Iteration #: 43100, loss: 76.15\n",
      "Iteration #: 43200, loss: 76.06\n",
      "Iteration #: 43300, loss: 75.97\n",
      "Iteration #: 43400, loss: 75.87\n",
      "Iteration #: 43500, loss: 75.78\n",
      "Iteration #: 43600, loss: 75.69\n",
      "Iteration #: 43700, loss: 75.60\n",
      "Iteration #: 43800, loss: 75.51\n",
      "Iteration #: 43900, loss: 75.41\n",
      "Iteration #: 44000, loss: 75.32\n",
      "Iteration #: 44100, loss: 75.23\n",
      "Iteration #: 44200, loss: 75.14\n",
      "Iteration #: 44300, loss: 75.05\n",
      "Iteration #: 44400, loss: 74.96\n",
      "Iteration #: 44500, loss: 74.87\n",
      "Iteration #: 44600, loss: 74.78\n",
      "Iteration #: 44700, loss: 74.70\n",
      "Iteration #: 44800, loss: 74.61\n",
      "Iteration #: 44900, loss: 74.52\n",
      "Iteration #: 45000, loss: 74.43\n",
      "Iteration #: 45100, loss: 74.34\n",
      "Iteration #: 45200, loss: 74.26\n",
      "Iteration #: 45300, loss: 74.17\n",
      "Iteration #: 45400, loss: 74.08\n",
      "Iteration #: 45500, loss: 74.00\n",
      "Iteration #: 45600, loss: 73.91\n",
      "Iteration #: 45700, loss: 73.83\n",
      "Iteration #: 45800, loss: 73.74\n",
      "Iteration #: 45900, loss: 73.65\n",
      "Iteration #: 46000, loss: 73.57\n",
      "Iteration #: 46100, loss: 73.48\n",
      "Iteration #: 46200, loss: 73.40\n",
      "Iteration #: 46300, loss: 73.32\n",
      "Iteration #: 46400, loss: 73.23\n",
      "Iteration #: 46500, loss: 73.15\n",
      "Iteration #: 46600, loss: 73.07\n",
      "Iteration #: 46700, loss: 72.98\n",
      "Iteration #: 46800, loss: 72.90\n",
      "Iteration #: 46900, loss: 72.82\n",
      "Iteration #: 47000, loss: 72.74\n",
      "Iteration #: 47100, loss: 72.65\n",
      "Iteration #: 47200, loss: 72.57\n",
      "Iteration #: 47300, loss: 72.49\n",
      "Iteration #: 47400, loss: 72.41\n",
      "Iteration #: 47500, loss: 72.33\n",
      "Iteration #: 47600, loss: 72.25\n",
      "Iteration #: 47700, loss: 72.17\n",
      "Iteration #: 47800, loss: 72.09\n",
      "Iteration #: 47900, loss: 72.01\n",
      "Iteration #: 48000, loss: 71.93\n",
      "Iteration #: 48100, loss: 71.85\n",
      "Iteration #: 48200, loss: 71.77\n",
      "Iteration #: 48300, loss: 71.69\n",
      "Iteration #: 48400, loss: 71.61\n",
      "Iteration #: 48500, loss: 71.54\n",
      "Iteration #: 48600, loss: 71.46\n",
      "Iteration #: 48700, loss: 71.38\n",
      "Iteration #: 48800, loss: 71.30\n",
      "Iteration #: 48900, loss: 71.23\n",
      "Iteration #: 49000, loss: 71.15\n",
      "Iteration #: 49100, loss: 71.07\n",
      "Iteration #: 49200, loss: 71.00\n",
      "Iteration #: 49300, loss: 70.92\n",
      "Iteration #: 49400, loss: 70.84\n",
      "Iteration #: 49500, loss: 70.77\n",
      "Iteration #: 49600, loss: 70.69\n",
      "Iteration #: 49700, loss: 70.62\n",
      "Iteration #: 49800, loss: 70.54\n",
      "Iteration #: 49900, loss: 70.47\n",
      "Iteration #: 50000, loss: 70.39\n",
      "Iteration #: 50100, loss: 70.32\n",
      "Iteration #: 50200, loss: 70.25\n",
      "Iteration #: 50300, loss: 70.17\n",
      "Iteration #: 50400, loss: 70.10\n",
      "Iteration #: 50500, loss: 70.03\n",
      "Iteration #: 50600, loss: 69.95\n",
      "Iteration #: 50700, loss: 69.88\n",
      "Iteration #: 50800, loss: 69.81\n",
      "Iteration #: 50900, loss: 69.74\n",
      "Iteration #: 51000, loss: 69.66\n",
      "Iteration #: 51100, loss: 69.59\n",
      "Iteration #: 51200, loss: 69.52\n",
      "Iteration #: 51300, loss: 69.45\n",
      "Iteration #: 51400, loss: 69.38\n",
      "Iteration #: 51500, loss: 69.31\n",
      "Iteration #: 51600, loss: 69.24\n",
      "Iteration #: 51700, loss: 69.17\n",
      "Iteration #: 51800, loss: 69.10\n",
      "Iteration #: 51900, loss: 69.03\n",
      "Iteration #: 52000, loss: 68.96\n",
      "Iteration #: 52100, loss: 68.89\n",
      "Iteration #: 52200, loss: 68.82\n",
      "Iteration #: 52300, loss: 68.75\n",
      "Iteration #: 52400, loss: 68.68\n",
      "Iteration #: 52500, loss: 68.61\n",
      "Iteration #: 52600, loss: 68.55\n",
      "Iteration #: 52700, loss: 68.48\n",
      "Iteration #: 52800, loss: 68.41\n",
      "Iteration #: 52900, loss: 68.34\n",
      "Iteration #: 53000, loss: 68.28\n",
      "Iteration #: 53100, loss: 68.21\n",
      "Iteration #: 53200, loss: 68.14\n",
      "Iteration #: 53300, loss: 68.08\n",
      "Iteration #: 53400, loss: 68.01\n",
      "Iteration #: 53500, loss: 67.94\n",
      "Iteration #: 53600, loss: 67.88\n",
      "Iteration #: 53700, loss: 67.81\n",
      "Iteration #: 53800, loss: 67.75\n",
      "Iteration #: 53900, loss: 67.68\n",
      "Iteration #: 54000, loss: 67.62\n",
      "Iteration #: 54100, loss: 67.55\n",
      "Iteration #: 54200, loss: 67.49\n",
      "Iteration #: 54300, loss: 67.42\n",
      "Iteration #: 54400, loss: 67.36\n",
      "Iteration #: 54500, loss: 67.29\n",
      "Iteration #: 54600, loss: 67.23\n",
      "Iteration #: 54700, loss: 67.17\n",
      "Iteration #: 54800, loss: 67.10\n",
      "Iteration #: 54900, loss: 67.04\n",
      "Iteration #: 55000, loss: 66.98\n",
      "Iteration #: 55100, loss: 66.91\n",
      "Iteration #: 55200, loss: 66.85\n",
      "Iteration #: 55300, loss: 66.79\n",
      "Iteration #: 55400, loss: 66.73\n",
      "Iteration #: 55500, loss: 66.67\n",
      "Iteration #: 55600, loss: 66.60\n",
      "Iteration #: 55700, loss: 66.54\n",
      "Iteration #: 55800, loss: 66.48\n",
      "Iteration #: 55900, loss: 66.42\n",
      "Iteration #: 56000, loss: 66.36\n",
      "Iteration #: 56100, loss: 66.30\n",
      "Iteration #: 56200, loss: 66.24\n",
      "Iteration #: 56300, loss: 66.18\n",
      "Iteration #: 56400, loss: 66.12\n",
      "Iteration #: 56500, loss: 66.06\n",
      "Iteration #: 56600, loss: 66.00\n",
      "Iteration #: 56700, loss: 65.94\n",
      "Iteration #: 56800, loss: 65.88\n",
      "Iteration #: 56900, loss: 65.82\n",
      "Iteration #: 57000, loss: 65.76\n",
      "Iteration #: 57100, loss: 65.70\n",
      "Iteration #: 57200, loss: 65.65\n",
      "Iteration #: 57300, loss: 65.59\n",
      "Iteration #: 57400, loss: 65.53\n",
      "Iteration #: 57500, loss: 65.47\n",
      "Iteration #: 57600, loss: 65.41\n",
      "Iteration #: 57700, loss: 65.36\n",
      "Iteration #: 57800, loss: 65.30\n",
      "Iteration #: 57900, loss: 65.24\n",
      "Iteration #: 58000, loss: 65.18\n",
      "Iteration #: 58100, loss: 65.13\n",
      "Iteration #: 58200, loss: 65.07\n",
      "Iteration #: 58300, loss: 65.02\n",
      "Iteration #: 58400, loss: 64.96\n",
      "Iteration #: 58500, loss: 64.90\n",
      "Iteration #: 58600, loss: 64.85\n",
      "Iteration #: 58700, loss: 64.79\n",
      "Iteration #: 58800, loss: 64.74\n",
      "Iteration #: 58900, loss: 64.68\n",
      "Iteration #: 59000, loss: 64.63\n",
      "Iteration #: 59100, loss: 64.57\n",
      "Iteration #: 59200, loss: 64.52\n",
      "Iteration #: 59300, loss: 64.46\n",
      "Iteration #: 59400, loss: 64.41\n",
      "Iteration #: 59500, loss: 64.35\n",
      "Iteration #: 59600, loss: 64.30\n",
      "Iteration #: 59700, loss: 64.25\n",
      "Iteration #: 59800, loss: 64.19\n",
      "Iteration #: 59900, loss: 64.14\n",
      "Iteration #: 60000, loss: 64.09\n",
      "Iteration #: 60100, loss: 64.03\n",
      "Iteration #: 60200, loss: 63.98\n",
      "Iteration #: 60300, loss: 63.93\n",
      "Iteration #: 60400, loss: 63.87\n",
      "Iteration #: 60500, loss: 63.82\n",
      "Iteration #: 60600, loss: 63.77\n",
      "Iteration #: 60700, loss: 63.72\n",
      "Iteration #: 60800, loss: 63.67\n",
      "Iteration #: 60900, loss: 63.61\n",
      "Iteration #: 61000, loss: 63.56\n",
      "Iteration #: 61100, loss: 63.51\n",
      "Iteration #: 61200, loss: 63.46\n",
      "Iteration #: 61300, loss: 63.41\n",
      "Iteration #: 61400, loss: 63.36\n",
      "Iteration #: 61500, loss: 63.31\n",
      "Iteration #: 61600, loss: 63.26\n",
      "Iteration #: 61700, loss: 63.21\n",
      "Iteration #: 61800, loss: 63.16\n",
      "Iteration #: 61900, loss: 63.11\n",
      "Iteration #: 62000, loss: 63.06\n",
      "Iteration #: 62100, loss: 63.01\n",
      "Iteration #: 62200, loss: 62.96\n",
      "Iteration #: 62300, loss: 62.91\n",
      "Iteration #: 62400, loss: 62.86\n",
      "Iteration #: 62500, loss: 62.81\n",
      "Iteration #: 62600, loss: 62.76\n",
      "Iteration #: 62700, loss: 62.71\n",
      "Iteration #: 62800, loss: 62.66\n",
      "Iteration #: 62900, loss: 62.62\n",
      "Iteration #: 63000, loss: 62.57\n",
      "Iteration #: 63100, loss: 62.52\n",
      "Iteration #: 63200, loss: 62.47\n",
      "Iteration #: 63300, loss: 62.42\n",
      "Iteration #: 63400, loss: 62.38\n",
      "Iteration #: 63500, loss: 62.33\n",
      "Iteration #: 63600, loss: 62.28\n",
      "Iteration #: 63700, loss: 62.24\n",
      "Iteration #: 63800, loss: 62.19\n",
      "Iteration #: 63900, loss: 62.14\n",
      "Iteration #: 64000, loss: 62.10\n",
      "Iteration #: 64100, loss: 62.05\n",
      "Iteration #: 64200, loss: 62.00\n",
      "Iteration #: 64300, loss: 61.96\n",
      "Iteration #: 64400, loss: 61.91\n",
      "Iteration #: 64500, loss: 61.86\n",
      "Iteration #: 64600, loss: 61.82\n",
      "Iteration #: 64700, loss: 61.77\n",
      "Iteration #: 64800, loss: 61.73\n",
      "Iteration #: 64900, loss: 61.68\n",
      "Iteration #: 65000, loss: 61.64\n",
      "Iteration #: 65100, loss: 61.59\n",
      "Iteration #: 65200, loss: 61.55\n",
      "Iteration #: 65300, loss: 61.50\n",
      "Iteration #: 65400, loss: 61.46\n",
      "Iteration #: 65500, loss: 61.42\n",
      "Iteration #: 65600, loss: 61.37\n",
      "Iteration #: 65700, loss: 61.33\n",
      "Iteration #: 65800, loss: 61.28\n",
      "Iteration #: 65900, loss: 61.24\n",
      "Iteration #: 66000, loss: 61.20\n",
      "Iteration #: 66100, loss: 61.15\n",
      "Iteration #: 66200, loss: 61.11\n",
      "Iteration #: 66300, loss: 61.07\n",
      "Iteration #: 66400, loss: 61.02\n",
      "Iteration #: 66500, loss: 60.98\n",
      "Iteration #: 66600, loss: 60.94\n",
      "Iteration #: 66700, loss: 60.89\n",
      "Iteration #: 66800, loss: 60.85\n",
      "Iteration #: 66900, loss: 60.81\n",
      "Iteration #: 67000, loss: 60.77\n",
      "Iteration #: 67100, loss: 60.73\n",
      "Iteration #: 67200, loss: 60.68\n",
      "Iteration #: 67300, loss: 60.64\n",
      "Iteration #: 67400, loss: 60.60\n",
      "Iteration #: 67500, loss: 60.56\n",
      "Iteration #: 67600, loss: 60.52\n",
      "Iteration #: 67700, loss: 60.48\n",
      "Iteration #: 67800, loss: 60.44\n",
      "Iteration #: 67900, loss: 60.40\n",
      "Iteration #: 68000, loss: 60.35\n",
      "Iteration #: 68100, loss: 60.31\n",
      "Iteration #: 68200, loss: 60.27\n",
      "Iteration #: 68300, loss: 60.23\n",
      "Iteration #: 68400, loss: 60.19\n",
      "Iteration #: 68500, loss: 60.15\n",
      "Iteration #: 68600, loss: 60.11\n",
      "Iteration #: 68700, loss: 60.07\n",
      "Iteration #: 68800, loss: 60.03\n",
      "Iteration #: 68900, loss: 59.99\n",
      "Iteration #: 69000, loss: 59.95\n",
      "Iteration #: 69100, loss: 59.91\n",
      "Iteration #: 69200, loss: 59.88\n",
      "Iteration #: 69300, loss: 59.84\n",
      "Iteration #: 69400, loss: 59.80\n",
      "Iteration #: 69500, loss: 59.76\n",
      "Iteration #: 69600, loss: 59.72\n",
      "Iteration #: 69700, loss: 59.68\n",
      "Iteration #: 69800, loss: 59.64\n",
      "Iteration #: 69900, loss: 59.61\n",
      "Iteration #: 70000, loss: 59.57\n",
      "Iteration #: 70100, loss: 59.53\n",
      "Iteration #: 70200, loss: 59.49\n",
      "Iteration #: 70300, loss: 59.45\n",
      "Iteration #: 70400, loss: 59.42\n",
      "Iteration #: 70500, loss: 59.38\n",
      "Iteration #: 70600, loss: 59.34\n",
      "Iteration #: 70700, loss: 59.30\n",
      "Iteration #: 70800, loss: 59.27\n",
      "Iteration #: 70900, loss: 59.23\n",
      "Iteration #: 71000, loss: 59.19\n",
      "Iteration #: 71100, loss: 59.16\n",
      "Iteration #: 71200, loss: 59.12\n",
      "Iteration #: 71300, loss: 59.08\n",
      "Iteration #: 71400, loss: 59.05\n",
      "Iteration #: 71500, loss: 59.01\n",
      "Iteration #: 71600, loss: 58.97\n",
      "Iteration #: 71700, loss: 58.94\n",
      "Iteration #: 71800, loss: 58.90\n",
      "Iteration #: 71900, loss: 58.87\n",
      "Iteration #: 72000, loss: 58.83\n",
      "Iteration #: 72100, loss: 58.80\n",
      "Iteration #: 72200, loss: 58.76\n",
      "Iteration #: 72300, loss: 58.72\n",
      "Iteration #: 72400, loss: 58.69\n",
      "Iteration #: 72500, loss: 58.65\n",
      "Iteration #: 72600, loss: 58.62\n",
      "Iteration #: 72700, loss: 58.58\n",
      "Iteration #: 72800, loss: 58.55\n",
      "Iteration #: 72900, loss: 58.52\n",
      "Iteration #: 73000, loss: 58.48\n",
      "Iteration #: 73100, loss: 58.45\n",
      "Iteration #: 73200, loss: 58.41\n",
      "Iteration #: 73300, loss: 58.38\n",
      "Iteration #: 73400, loss: 58.34\n",
      "Iteration #: 73500, loss: 58.31\n",
      "Iteration #: 73600, loss: 58.28\n",
      "Iteration #: 73700, loss: 58.24\n",
      "Iteration #: 73800, loss: 58.21\n",
      "Iteration #: 73900, loss: 58.18\n",
      "Iteration #: 74000, loss: 58.14\n",
      "Iteration #: 74100, loss: 58.11\n",
      "Iteration #: 74200, loss: 58.08\n",
      "Iteration #: 74300, loss: 58.04\n",
      "Iteration #: 74400, loss: 58.01\n",
      "Iteration #: 74500, loss: 57.98\n",
      "Iteration #: 74600, loss: 57.94\n",
      "Iteration #: 74700, loss: 57.91\n",
      "Iteration #: 74800, loss: 57.88\n",
      "Iteration #: 74900, loss: 57.85\n",
      "Iteration #: 75000, loss: 57.81\n",
      "Iteration #: 75100, loss: 57.78\n",
      "Iteration #: 75200, loss: 57.75\n",
      "Iteration #: 75300, loss: 57.72\n",
      "Iteration #: 75400, loss: 57.69\n",
      "Iteration #: 75500, loss: 57.65\n",
      "Iteration #: 75600, loss: 57.62\n",
      "Iteration #: 75700, loss: 57.59\n",
      "Iteration #: 75800, loss: 57.56\n",
      "Iteration #: 75900, loss: 57.53\n",
      "Iteration #: 76000, loss: 57.50\n",
      "Iteration #: 76100, loss: 57.47\n",
      "Iteration #: 76200, loss: 57.44\n",
      "Iteration #: 76300, loss: 57.40\n",
      "Iteration #: 76400, loss: 57.37\n",
      "Iteration #: 76500, loss: 57.34\n",
      "Iteration #: 76600, loss: 57.31\n",
      "Iteration #: 76700, loss: 57.28\n",
      "Iteration #: 76800, loss: 57.25\n",
      "Iteration #: 76900, loss: 57.22\n",
      "Iteration #: 77000, loss: 57.19\n",
      "Iteration #: 77100, loss: 57.16\n",
      "Iteration #: 77200, loss: 57.13\n",
      "Iteration #: 77300, loss: 57.10\n",
      "Iteration #: 77400, loss: 57.07\n",
      "Iteration #: 77500, loss: 57.04\n",
      "Iteration #: 77600, loss: 57.01\n",
      "Iteration #: 77700, loss: 56.98\n",
      "Iteration #: 77800, loss: 56.95\n",
      "Iteration #: 77900, loss: 56.92\n",
      "Iteration #: 78000, loss: 56.89\n",
      "Iteration #: 78100, loss: 56.87\n",
      "Iteration #: 78200, loss: 56.84\n",
      "Iteration #: 78300, loss: 56.81\n",
      "Iteration #: 78400, loss: 56.78\n",
      "Iteration #: 78500, loss: 56.75\n",
      "Iteration #: 78600, loss: 56.72\n",
      "Iteration #: 78700, loss: 56.69\n",
      "Iteration #: 78800, loss: 56.66\n",
      "Iteration #: 78900, loss: 56.64\n",
      "Iteration #: 79000, loss: 56.61\n",
      "Iteration #: 79100, loss: 56.58\n",
      "Iteration #: 79200, loss: 56.55\n",
      "Iteration #: 79300, loss: 56.52\n",
      "Iteration #: 79400, loss: 56.50\n",
      "Iteration #: 79500, loss: 56.47\n",
      "Iteration #: 79600, loss: 56.44\n",
      "Iteration #: 79700, loss: 56.41\n",
      "Iteration #: 79800, loss: 56.39\n",
      "Iteration #: 79900, loss: 56.36\n",
      "Iteration #: 80000, loss: 56.33\n",
      "Iteration #: 80100, loss: 56.30\n",
      "Iteration #: 80200, loss: 56.28\n",
      "Iteration #: 80300, loss: 56.25\n",
      "Iteration #: 80400, loss: 56.22\n",
      "Iteration #: 80500, loss: 56.20\n",
      "Iteration #: 80600, loss: 56.17\n",
      "Iteration #: 80700, loss: 56.14\n",
      "Iteration #: 80800, loss: 56.12\n",
      "Iteration #: 80900, loss: 56.09\n",
      "Iteration #: 81000, loss: 56.06\n",
      "Iteration #: 81100, loss: 56.04\n",
      "Iteration #: 81200, loss: 56.01\n",
      "Iteration #: 81300, loss: 55.98\n",
      "Iteration #: 81400, loss: 55.96\n",
      "Iteration #: 81500, loss: 55.93\n",
      "Iteration #: 81600, loss: 55.91\n",
      "Iteration #: 81700, loss: 55.88\n",
      "Iteration #: 81800, loss: 55.85\n",
      "Iteration #: 81900, loss: 55.83\n",
      "Iteration #: 82000, loss: 55.80\n",
      "Iteration #: 82100, loss: 55.78\n",
      "Iteration #: 82200, loss: 55.75\n",
      "Iteration #: 82300, loss: 55.73\n",
      "Iteration #: 82400, loss: 55.70\n",
      "Iteration #: 82500, loss: 55.68\n",
      "Iteration #: 82600, loss: 55.65\n",
      "Iteration #: 82700, loss: 55.63\n",
      "Iteration #: 82800, loss: 55.60\n",
      "Iteration #: 82900, loss: 55.58\n",
      "Iteration #: 83000, loss: 55.55\n",
      "Iteration #: 83100, loss: 55.53\n",
      "Iteration #: 83200, loss: 55.50\n",
      "Iteration #: 83300, loss: 55.48\n",
      "Iteration #: 83400, loss: 55.45\n",
      "Iteration #: 83500, loss: 55.43\n",
      "Iteration #: 83600, loss: 55.41\n",
      "Iteration #: 83700, loss: 55.38\n",
      "Iteration #: 83800, loss: 55.36\n",
      "Iteration #: 83900, loss: 55.33\n",
      "Iteration #: 84000, loss: 55.31\n",
      "Iteration #: 84100, loss: 55.29\n",
      "Iteration #: 84200, loss: 55.26\n",
      "Iteration #: 84300, loss: 55.24\n",
      "Iteration #: 84400, loss: 55.22\n",
      "Iteration #: 84500, loss: 55.19\n",
      "Iteration #: 84600, loss: 55.17\n",
      "Iteration #: 84700, loss: 55.15\n",
      "Iteration #: 84800, loss: 55.12\n",
      "Iteration #: 84900, loss: 55.10\n",
      "Iteration #: 85000, loss: 55.08\n",
      "Iteration #: 85100, loss: 55.05\n",
      "Iteration #: 85200, loss: 55.03\n",
      "Iteration #: 85300, loss: 55.01\n",
      "Iteration #: 85400, loss: 54.98\n",
      "Iteration #: 85500, loss: 54.96\n",
      "Iteration #: 85600, loss: 54.94\n",
      "Iteration #: 85700, loss: 54.92\n",
      "Iteration #: 85800, loss: 54.89\n",
      "Iteration #: 85900, loss: 54.87\n",
      "Iteration #: 86000, loss: 54.85\n",
      "Iteration #: 86100, loss: 54.83\n",
      "Iteration #: 86200, loss: 54.80\n",
      "Iteration #: 86300, loss: 54.78\n",
      "Iteration #: 86400, loss: 54.76\n",
      "Iteration #: 86500, loss: 54.74\n",
      "Iteration #: 86600, loss: 54.72\n",
      "Iteration #: 86700, loss: 54.69\n",
      "Iteration #: 86800, loss: 54.67\n",
      "Iteration #: 86900, loss: 54.65\n",
      "Iteration #: 87000, loss: 54.63\n",
      "Iteration #: 87100, loss: 54.61\n",
      "Iteration #: 87200, loss: 54.59\n",
      "Iteration #: 87300, loss: 54.56\n",
      "Iteration #: 87400, loss: 54.54\n",
      "Iteration #: 87500, loss: 54.52\n",
      "Iteration #: 87600, loss: 54.50\n",
      "Iteration #: 87700, loss: 54.48\n",
      "Iteration #: 87800, loss: 54.46\n",
      "Iteration #: 87900, loss: 54.44\n",
      "Iteration #: 88000, loss: 54.42\n",
      "Iteration #: 88100, loss: 54.40\n",
      "Iteration #: 88200, loss: 54.38\n",
      "Iteration #: 88300, loss: 54.35\n",
      "Iteration #: 88400, loss: 54.33\n",
      "Iteration #: 88500, loss: 54.31\n",
      "Iteration #: 88600, loss: 54.29\n",
      "Iteration #: 88700, loss: 54.27\n",
      "Iteration #: 88800, loss: 54.25\n",
      "Iteration #: 88900, loss: 54.23\n",
      "Iteration #: 89000, loss: 54.21\n",
      "Iteration #: 89100, loss: 54.19\n",
      "Iteration #: 89200, loss: 54.17\n",
      "Iteration #: 89300, loss: 54.15\n",
      "Iteration #: 89400, loss: 54.13\n",
      "Iteration #: 89500, loss: 54.11\n",
      "Iteration #: 89600, loss: 54.09\n",
      "Iteration #: 89700, loss: 54.07\n",
      "Iteration #: 89800, loss: 54.05\n",
      "Iteration #: 89900, loss: 54.03\n",
      "Iteration #: 90000, loss: 54.01\n",
      "Iteration #: 90100, loss: 53.99\n",
      "Iteration #: 90200, loss: 53.97\n",
      "Iteration #: 90300, loss: 53.96\n",
      "Iteration #: 90400, loss: 53.94\n",
      "Iteration #: 90500, loss: 53.92\n",
      "Iteration #: 90600, loss: 53.90\n",
      "Iteration #: 90700, loss: 53.88\n",
      "Iteration #: 90800, loss: 53.86\n",
      "Iteration #: 90900, loss: 53.84\n",
      "Iteration #: 91000, loss: 53.82\n",
      "Iteration #: 91100, loss: 53.80\n",
      "Iteration #: 91200, loss: 53.78\n",
      "Iteration #: 91300, loss: 53.76\n",
      "Iteration #: 91400, loss: 53.75\n",
      "Iteration #: 91500, loss: 53.73\n",
      "Iteration #: 91600, loss: 53.71\n",
      "Iteration #: 91700, loss: 53.69\n",
      "Iteration #: 91800, loss: 53.67\n",
      "Iteration #: 91900, loss: 53.65\n",
      "Iteration #: 92000, loss: 53.64\n",
      "Iteration #: 92100, loss: 53.62\n",
      "Iteration #: 92200, loss: 53.60\n",
      "Iteration #: 92300, loss: 53.58\n",
      "Iteration #: 92400, loss: 53.56\n",
      "Iteration #: 92500, loss: 53.54\n",
      "Iteration #: 92600, loss: 53.53\n",
      "Iteration #: 92700, loss: 53.51\n",
      "Iteration #: 92800, loss: 53.49\n",
      "Iteration #: 92900, loss: 53.47\n",
      "Iteration #: 93000, loss: 53.46\n",
      "Iteration #: 93100, loss: 53.44\n",
      "Iteration #: 93200, loss: 53.42\n",
      "Iteration #: 93300, loss: 53.40\n",
      "Iteration #: 93400, loss: 53.39\n",
      "Iteration #: 93500, loss: 53.37\n",
      "Iteration #: 93600, loss: 53.35\n",
      "Iteration #: 93700, loss: 53.33\n",
      "Iteration #: 93800, loss: 53.32\n",
      "Iteration #: 93900, loss: 53.30\n",
      "Iteration #: 94000, loss: 53.28\n",
      "Iteration #: 94100, loss: 53.27\n",
      "Iteration #: 94200, loss: 53.25\n",
      "Iteration #: 94300, loss: 53.23\n",
      "Iteration #: 94400, loss: 53.21\n",
      "Iteration #: 94500, loss: 53.20\n",
      "Iteration #: 94600, loss: 53.18\n",
      "Iteration #: 94700, loss: 53.16\n",
      "Iteration #: 94800, loss: 53.15\n",
      "Iteration #: 94900, loss: 53.13\n",
      "Iteration #: 95000, loss: 53.11\n",
      "Iteration #: 95100, loss: 53.10\n",
      "Iteration #: 95200, loss: 53.08\n",
      "Iteration #: 95300, loss: 53.06\n",
      "Iteration #: 95400, loss: 53.05\n",
      "Iteration #: 95500, loss: 53.03\n",
      "Iteration #: 95600, loss: 53.02\n",
      "Iteration #: 95700, loss: 53.00\n",
      "Iteration #: 95800, loss: 52.98\n",
      "Iteration #: 95900, loss: 52.97\n",
      "Iteration #: 96000, loss: 52.95\n",
      "Iteration #: 96100, loss: 52.94\n",
      "Iteration #: 96200, loss: 52.92\n",
      "Iteration #: 96300, loss: 52.90\n",
      "Iteration #: 96400, loss: 52.89\n",
      "Iteration #: 96500, loss: 52.87\n",
      "Iteration #: 96600, loss: 52.86\n",
      "Iteration #: 96700, loss: 52.84\n",
      "Iteration #: 96800, loss: 52.83\n",
      "Iteration #: 96900, loss: 52.81\n",
      "Iteration #: 97000, loss: 52.79\n",
      "Iteration #: 97100, loss: 52.78\n",
      "Iteration #: 97200, loss: 52.76\n",
      "Iteration #: 97300, loss: 52.75\n",
      "Iteration #: 97400, loss: 52.73\n",
      "Iteration #: 97500, loss: 52.72\n",
      "Iteration #: 97600, loss: 52.70\n",
      "Iteration #: 97700, loss: 52.69\n",
      "Iteration #: 97800, loss: 52.67\n",
      "Iteration #: 97900, loss: 52.66\n",
      "Iteration #: 98000, loss: 52.64\n",
      "Iteration #: 98100, loss: 52.63\n",
      "Iteration #: 98200, loss: 52.61\n",
      "Iteration #: 98300, loss: 52.60\n",
      "Iteration #: 98400, loss: 52.58\n",
      "Iteration #: 98500, loss: 52.57\n",
      "Iteration #: 98600, loss: 52.55\n",
      "Iteration #: 98700, loss: 52.54\n",
      "Iteration #: 98800, loss: 52.52\n",
      "Iteration #: 98900, loss: 52.51\n",
      "Iteration #: 99000, loss: 52.50\n",
      "Iteration #: 99100, loss: 52.48\n",
      "Iteration #: 99200, loss: 52.47\n",
      "Iteration #: 99300, loss: 52.45\n",
      "Iteration #: 99400, loss: 52.44\n",
      "Iteration #: 99500, loss: 52.42\n",
      "Iteration #: 99600, loss: 52.41\n",
      "Iteration #: 99700, loss: 52.40\n",
      "Iteration #: 99800, loss: 52.38\n",
      "Iteration #: 99900, loss: 52.37\n"
     ]
    },
    {
     "data": {
      "text/plain": [
       "Text(0.5, 1.0, '# iterations = 1e+5')"
      ]
     },
     "execution_count": 47,
     "metadata": {},
     "output_type": "execute_result"
    },
    {
     "data": {
      "image/png": "[encoded data removed]",
      "text/plain": [
       "<Figure size 432x288 with 1 Axes>"
      ]
     },
     "metadata": {
      "needs_background": "light"
     },
     "output_type": "display_data"
    }
   ],
   "source": [
    "w, err_all, w_all = gradient_descent(X_train_with_dummy, y_train, lr = 1e-6, num_epochs=1e+5)\n",
    "plot_learning_curves(err_all)\n",
    "plt.title('# iterations = 1e+5')"
   ]
  },
  {
   "cell_type": "markdown",
   "metadata": {},
   "source": [
    "## Weight convergence criterion\n",
    "\n",
    "We can also implement weight convergence criterion to stop gradient descent procedure in the following way:\n",
    "\n",
    "- Store weight vectors of past $r$ iterations.\n",
    "- Check if there is a change in the weight vector $\\ge \\epsilon$, else terminate the gradient descent procedure."
   ]
  },
  {
   "cell_type": "markdown",
   "metadata": {},
   "source": [
    "Infact, implementing *Weight convergence criterion* and *limiting # of iterations* together helps attain convergence faster."
   ]
  },
  {
   "cell_type": "markdown",
   "metadata": {},
   "source": [
    "# Optimization - Variations of GD (mini-batch and stochastic)"
   ]
  },
  {
   "cell_type": "markdown",
   "metadata": {},
   "source": [
    "The objective of this section is to implement minibatch and stochastic gradient descent."
   ]
  },
  {
   "cell_type": "markdown",
   "metadata": {},
   "source": [
    "## Mini-batch Gradient Descent (MBGD)\n",
    "\n",
    "The key idea here is to perform weight updates by computing gradient on batches of small number of examples."
   ]
  },
  {
   "cell_type": "markdown",
   "metadata": {},
   "source": [
    "For MBGD and SGD, we need a function for defining a learning schedule. The learning schedule gradually decreases the learning rate of both these variations. We initially start with a larger learning rate, which the learning schedule gradually decreases as we make iterations through these procedures."
   ]
  },
  {
   "cell_type": "code",
   "execution_count": 48,
   "metadata": {},
   "outputs": [],
   "source": [
    "t0, t1 = 200, 1e+5\n",
    "\n",
    "def learning_schedule(t):\n",
    "    return t0 / (t+t1)"
   ]
  },
  {
   "cell_type": "code",
   "execution_count": 66,
   "metadata": {},
   "outputs": [],
   "source": [
    "def mini_batch_gd(X:np.ndarray, y:np.ndarray, \n",
    "num_epochs:int, minibatch_size:int):\n",
    "    '''Estimates parameters of linar regression model through mini-batch gradient descent.\n",
    "    \n",
    "    Args:\n",
    "        X: Feature matrix for training data of shape (n, m+1)\n",
    "        y: Output label for training data vector of shape (n,)\n",
    "        num_epochs: No. of epochs (no. of times MBGD is done over the whole training set)\n",
    "        minibatch_size: Size of each mini-batch, after which we update the weights\n",
    "    \n",
    "    Returns:\n",
    "        Weight vector: Final weight vector\n",
    "        Error vector across different iterations\n",
    "        Weight vectors across different iterations\n",
    "    '''\n",
    "\n",
    "    w_all = [] # all parameters across iterations.\n",
    "    err_all = [] # all errors across iterations.\n",
    "\n",
    "    # Parameter vector (weight vector) initialized to [0,0]\n",
    "    w = np.zeros((X.shape[1]))\n",
    "    t = 0\n",
    "\n",
    "    for epoch in range(num_epochs):\n",
    "        shuffled_indices = np.random.permutation(X.shape[0])\n",
    "        X_shuffled = X[shuffled_indices]\n",
    "        y_shuffled = y[shuffled_indices]\n",
    "\n",
    "        for i in range(0, X.shape[0], minibatch_size):\n",
    "            t += 1\n",
    "            \n",
    "            # ith mini-batch\n",
    "            Xi = X_shuffled[i:i + minibatch_size]\n",
    "            yi = y_shuffled[i:i + minibatch_size]\n",
    "\n",
    "            err_all.append(loss(Xi, yi, w))\n",
    "\n",
    "            gradients = (2/ minibatch_size) * calculate_gradient(Xi, yi, w)\n",
    "\n",
    "            lr = learning_schedule(t)\n",
    "\n",
    "            # Print stats every 10 epochs\n",
    "            if (epoch%10) == 0 and i == 0:\n",
    "                print('For mini-batch size = %d : \\n Epoch #: %d, loss: %4.2f'%(minibatch_size, epoch, err_all[-1]))\n",
    "\n",
    "            w = update_weights(w, gradients, lr)\n",
    "            w_all.append(w)\n",
    "    \n",
    "    print('Final Loss:', err_all[-1], '\\n Final Weights:', w)\n",
    "    return w, err_all, w_all"
   ]
  },
  {
   "cell_type": "markdown",
   "metadata": {},
   "source": [
    "### Learning Curves\n",
    "\n",
    "Let's look at the learning curves for MBGD."
   ]
  },
  {
   "cell_type": "code",
   "execution_count": 67,
   "metadata": {},
   "outputs": [
    {
     "name": "stdout",
     "output_type": "stream",
     "text": [
      "For mini-batch size = 8 : \n",
      " Epoch #: 0, loss: 1375.14\n",
      "For mini-batch size = 8 : \n",
      " Epoch #: 10, loss: 15.81\n",
      "Final Loss: 15.604400176651607 \n",
      " Final Weights: [1.10177019 3.40392684]\n"
     ]
    },
    {
     "data": {
      "text/plain": [
       "Text(0.5, 1.0, 'Learning curves of MBGD')"
      ]
     },
     "execution_count": 67,
     "metadata": {},
     "output_type": "execute_result"
    },
    {
     "data": {
      "image/png": "[encoded data removed]",
      "text/plain": [
       "<Figure size 432x288 with 1 Axes>"
      ]
     },
     "metadata": {
      "needs_background": "light"
     },
     "output_type": "display_data"
    }
   ],
   "source": [
    "w, err_all, w_all = mini_batch_gd(X_train_with_dummy, y_train, 20, 8)\n",
    "plot_learning_curves(err_all)\n",
    "plt.title('Learning curves of MBGD')"
   ]
  },
  {
   "cell_type": "markdown",
   "metadata": {},
   "source": [
    "Let's change the batch size in MBGD and observe its convergence characteristics.\n",
    "\n",
    "- We test with batch-sizes of $\\{1,2,4,16,32,64\\}$."
   ]
  },
  {
   "cell_type": "code",
   "execution_count": 59,
   "metadata": {},
   "outputs": [
    {
     "name": "stdout",
     "output_type": "stream",
     "text": [
      "For mini-batch size = 1 : \n",
      " Epoch #: 0, loss: 85.61\n",
      "For mini-batch size = 1 : \n",
      " Epoch #: 10, loss: 0.00\n",
      "For mini-batch size = 1 : \n",
      " Epoch #: 20, loss: 0.00\n",
      "For mini-batch size = 1 : \n",
      " Epoch #: 30, loss: 1.20\n",
      "For mini-batch size = 1 : \n",
      " Epoch #: 40, loss: 0.09\n",
      "For mini-batch size = 1 : \n",
      " Epoch #: 50, loss: 0.05\n",
      "For mini-batch size = 1 : \n",
      " Epoch #: 60, loss: 0.24\n",
      "For mini-batch size = 1 : \n",
      " Epoch #: 70, loss: 0.22\n",
      "For mini-batch size = 1 : \n",
      " Epoch #: 80, loss: 0.05\n",
      "For mini-batch size = 1 : \n",
      " Epoch #: 90, loss: 0.05\n",
      "For mini-batch size = 2 : \n",
      " Epoch #: 0, loss: 1003.11\n",
      "For mini-batch size = 2 : \n",
      " Epoch #: 10, loss: 4.50\n",
      "For mini-batch size = 2 : \n",
      " Epoch #: 20, loss: 1.08\n",
      "For mini-batch size = 2 : \n",
      " Epoch #: 30, loss: 0.55\n",
      "For mini-batch size = 2 : \n",
      " Epoch #: 40, loss: 2.88\n",
      "For mini-batch size = 2 : \n",
      " Epoch #: 50, loss: 0.54\n",
      "For mini-batch size = 2 : \n",
      " Epoch #: 60, loss: 0.44\n",
      "For mini-batch size = 2 : \n",
      " Epoch #: 70, loss: 0.06\n",
      "For mini-batch size = 2 : \n",
      " Epoch #: 80, loss: 0.16\n",
      "For mini-batch size = 2 : \n",
      " Epoch #: 90, loss: 2.61\n",
      "For mini-batch size = 4 : \n",
      " Epoch #: 0, loss: 757.95\n",
      "For mini-batch size = 4 : \n",
      " Epoch #: 10, loss: 11.69\n",
      "For mini-batch size = 4 : \n",
      " Epoch #: 20, loss: 0.69\n",
      "For mini-batch size = 4 : \n",
      " Epoch #: 30, loss: 1.97\n",
      "For mini-batch size = 4 : \n",
      " Epoch #: 40, loss: 0.48\n",
      "For mini-batch size = 4 : \n",
      " Epoch #: 50, loss: 2.55\n",
      "For mini-batch size = 4 : \n",
      " Epoch #: 60, loss: 0.98\n",
      "For mini-batch size = 4 : \n",
      " Epoch #: 70, loss: 2.86\n",
      "For mini-batch size = 4 : \n",
      " Epoch #: 80, loss: 2.48\n",
      "For mini-batch size = 4 : \n",
      " Epoch #: 90, loss: 3.03\n",
      "For mini-batch size = 16 : \n",
      " Epoch #: 0, loss: 3949.20\n",
      "For mini-batch size = 16 : \n",
      " Epoch #: 10, loss: 34.78\n",
      "For mini-batch size = 16 : \n",
      " Epoch #: 20, loss: 16.25\n",
      "For mini-batch size = 16 : \n",
      " Epoch #: 30, loss: 29.90\n",
      "For mini-batch size = 16 : \n",
      " Epoch #: 40, loss: 25.27\n",
      "For mini-batch size = 16 : \n",
      " Epoch #: 50, loss: 25.06\n",
      "For mini-batch size = 16 : \n",
      " Epoch #: 60, loss: 25.27\n",
      "For mini-batch size = 16 : \n",
      " Epoch #: 70, loss: 24.10\n",
      "For mini-batch size = 16 : \n",
      " Epoch #: 80, loss: 13.83\n",
      "For mini-batch size = 16 : \n",
      " Epoch #: 90, loss: 14.12\n",
      "For mini-batch size = 32 : \n",
      " Epoch #: 0, loss: 6883.56\n",
      "For mini-batch size = 32 : \n",
      " Epoch #: 10, loss: 76.03\n",
      "For mini-batch size = 32 : \n",
      " Epoch #: 20, loss: 61.25\n",
      "For mini-batch size = 32 : \n",
      " Epoch #: 30, loss: 59.94\n",
      "For mini-batch size = 32 : \n",
      " Epoch #: 40, loss: 46.44\n",
      "For mini-batch size = 32 : \n",
      " Epoch #: 50, loss: 49.84\n",
      "For mini-batch size = 32 : \n",
      " Epoch #: 60, loss: 61.60\n",
      "For mini-batch size = 32 : \n",
      " Epoch #: 70, loss: 53.93\n",
      "For mini-batch size = 32 : \n",
      " Epoch #: 80, loss: 54.83\n",
      "For mini-batch size = 32 : \n",
      " Epoch #: 90, loss: 49.73\n",
      "For mini-batch size = 64 : \n",
      " Epoch #: 0, loss: 14005.10\n",
      "For mini-batch size = 64 : \n",
      " Epoch #: 10, loss: 434.46\n",
      "For mini-batch size = 64 : \n",
      " Epoch #: 20, loss: 139.01\n",
      "For mini-batch size = 64 : \n",
      " Epoch #: 30, loss: 134.49\n",
      "For mini-batch size = 64 : \n",
      " Epoch #: 40, loss: 132.34\n",
      "For mini-batch size = 64 : \n",
      " Epoch #: 50, loss: 125.48\n",
      "For mini-batch size = 64 : \n",
      " Epoch #: 60, loss: 129.77\n",
      "For mini-batch size = 64 : \n",
      " Epoch #: 70, loss: 126.12\n",
      "For mini-batch size = 64 : \n",
      " Epoch #: 80, loss: 105.97\n",
      "For mini-batch size = 64 : \n",
      " Epoch #: 90, loss: 125.75\n"
     ]
    },
    {
     "data": {
      "text/plain": [
       "<matplotlib.legend.Legend at 0x7f8020df00d0>"
      ]
     },
     "execution_count": 59,
     "metadata": {},
     "output_type": "execute_result"
    },
    {
     "data": {
      "image/png": "[encoded data removed]",
      "text/plain": [
       "<Figure size 432x288 with 1 Axes>"
      ]
     },
     "metadata": {
      "needs_background": "light"
     },
     "output_type": "display_data"
    }
   ],
   "source": [
    "batch_sizes = [1,2,4,16,32,64]\n",
    "mbgd_stats = {}\n",
    "\n",
    "for batch_size in batch_sizes:\n",
    "    w, err_all, w_all = mini_batch_gd(X_train_with_dummy, y_train, 100, batch_size)\n",
    "    mbgd_stats[batch_size] = err_all\n",
    "    legend = 'batch_size: %d' %batch_size\n",
    "    plt.plot(err_all, label=legend)\n",
    "\n",
    "plt.xlabel('iteration #')\n",
    "plt.ylabel('Loss: $J(w)$')\n",
    "plt.legend()"
   ]
  },
  {
   "cell_type": "markdown",
   "metadata": {},
   "source": [
    "## Stochastic Gradient Descent (SGD)\n",
    "\n",
    "The key idea here is to perform weight updates byy computing gradients on one example at a time.\n",
    "\n",
    "It is infact MBGD with number of example per batch = 1."
   ]
  },
  {
   "cell_type": "code",
   "execution_count": 68,
   "metadata": {},
   "outputs": [],
   "source": [
    "def sgd(X:np.ndarray, y:np.ndarray, num_epochs:int):\n",
    "    '''Estimates parameters of linar regression model through stochastic gradient descent.\n",
    "    \n",
    "    Args:\n",
    "        X: Feature matrix for training data of shape (n, m+1)\n",
    "        y: Output label for training data vector of shape (n,)\n",
    "        num_epochs: No. of epochs (no. of times MBGD is done over the whole training set)\n",
    "    \n",
    "    Returns:\n",
    "        Weight vector: Final weight vector\n",
    "        Error vector across different iterations\n",
    "        Weight vectors across different iterations\n",
    "    '''\n",
    "\n",
    "    w_all = [] # all parameters across iterations.\n",
    "    err_all = [] # all errors across iterations.\n",
    "\n",
    "    # Parameter vector (weight vector) initialized to [0,0]\n",
    "    w = np.zeros((X.shape[1]))\n",
    "    t = 0\n",
    "\n",
    "    for epoch in range(num_epochs):\n",
    "        for i in range(X.shape[0]):\n",
    "            random_index = np.random.randint(X.shape[0])\n",
    "            \n",
    "            # ith iteration of an epoch\n",
    "            Xi = X[random_index:random_index+1]\n",
    "            yi = y[random_index:random_index+1]\n",
    "\n",
    "            err_all.append(loss(Xi, yi, w))\n",
    "\n",
    "            gradients = 2 * calculate_gradient(Xi, yi, w)\n",
    "\n",
    "            lr = learning_schedule(epoch * X.shape[0] + i)\n",
    "\n",
    "            # Print stats every 10 epochs\n",
    "            if (epoch%10) == 0 and i == 0:\n",
    "                print('Epoch #: %d, loss: %4.2f'%(epoch, err_all[-1]))\n",
    "\n",
    "            w = update_weights(w, gradients, lr)\n",
    "            w_all.append(w)\n",
    "    \n",
    "    print('Final Loss:', err_all[-1], '\\n Final Weights:', w)\n",
    "    return w, err_all, w_all"
   ]
  },
  {
   "cell_type": "markdown",
   "metadata": {},
   "source": [
    "### Learning Curves\n",
    "\n",
    "Let's look at the learning curve for SGD."
   ]
  },
  {
   "cell_type": "code",
   "execution_count": 69,
   "metadata": {},
   "outputs": [
    {
     "name": "stdout",
     "output_type": "stream",
     "text": [
      "Epoch #: 0, loss: 174.17\n",
      "Final Loss: 1.8825468120826372 \n",
      " Final Weights: [2.34202135 3.14978351]\n"
     ]
    },
    {
     "data": {
      "text/plain": [
       "Text(0.5, 1.0, 'Learning curves of SGD')"
      ]
     },
     "execution_count": 69,
     "metadata": {},
     "output_type": "execute_result"
    },
    {
     "data": {
      "image/png": "[encoded data removed]",
      "text/plain": [
       "<Figure size 432x288 with 1 Axes>"
      ]
     },
     "metadata": {
      "needs_background": "light"
     },
     "output_type": "display_data"
    }
   ],
   "source": [
    "w, err_all, w_all = sgd(X_train_with_dummy, y_train, 10)\n",
    "plot_learning_curves(err_all)\n",
    "plt.title('Learning curves of SGD')"
   ]
  },
  {
   "cell_type": "markdown",
   "metadata": {},
   "source": [
    "The combined model can be found at [Linear_Regression_(combined).ipynb](file:///Users/sampadk04/Desktop/Programming/VSCode-Projects/Python/IITM/IITM-MLT/W2_Linear_Regression/Linear_Regression_(combined).ipynb)"
   ]
  }
 ],
 "metadata": {
  "interpreter": {
   "hash": "c0b4aa3dbf26008a2f5bdb6f96959d9b12aab8bbe92ce96b5c8a3811effcf69d"
  },
  "kernelspec": {
   "display_name": "Python 3.8.8 64-bit ('skk-mlp-env': conda)",
   "language": "python",
   "name": "python3"
  },
  "language_info": {
   "codemirror_mode": {
    "name": "ipython",
    "version": 3
   },
   "file_extension": ".py",
   "mimetype": "text/x-python",
   "name": "python",
   "nbconvert_exporter": "python",
   "pygments_lexer": "ipython3",
   "version": "3.8.8"
  },
  "orig_nbformat": 4
 },
 "nbformat": 4,
 "nbformat_minor": 2
}
