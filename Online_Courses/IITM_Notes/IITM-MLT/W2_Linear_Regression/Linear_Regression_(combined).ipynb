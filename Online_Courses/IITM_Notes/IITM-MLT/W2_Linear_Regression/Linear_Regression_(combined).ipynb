{
 "cells": [
  {
   "cell_type": "markdown",
   "metadata": {},
   "source": [
    "# Linear Regression: combining all components\n",
    "\n",
    "The objective of this notebook is to combine all components that we implemented in [Linear_Regression_(from_scratch).ipynb](file:///Users/sampadk04/Desktop/Programming/VSCode-Projects/Python/IITM/IITM-MLT/W2_Linear_Regression/Linear_Regression_(from_scratch).ipynb) a single place and make it available for training Linear Regression model on different datasets."
   ]
  },
  {
   "cell_type": "code",
   "execution_count": 1,
   "metadata": {},
   "outputs": [],
   "source": [
    "from IPython.display import display, Math, Latex\n",
    "# This is imported for proper rendering of Latex in Notebook.\n",
    "\n",
    "import numpy as np\n",
    "\n",
    "# import for generating plots\n",
    "import matplotlib.pyplot as plt\n",
    "import seaborn as sns\n",
    "\n",
    "%matplotlib inline"
   ]
  },
  {
   "cell_type": "markdown",
   "metadata": {},
   "source": [
    "Combining the implementation of different components of Linear Regression implemented in [Linear_Regression_(from_scratch).ipynb](file:///Users/sampadk04/Desktop/Programming/VSCode-Projects/Python/IITM/IITM-MLT/W2_Linear_Regression/Linear_Regression_(from_scratch).ipynb) into a single `LinearRegression` class."
   ]
  },
  {
   "cell_type": "code",
   "execution_count": 20,
   "metadata": {},
   "outputs": [],
   "source": [
    "class LinReg(object):\n",
    "    '''\n",
    "    Linear Regression model\n",
    "    -----------------------\n",
    "    y = X@w\n",
    "    X: Feature matrix\n",
    "    w: Weight vector\n",
    "    y: Label vector\n",
    "    '''\n",
    "\n",
    "    def __init__(self):\n",
    "        self.t0 = 200\n",
    "        self.t1 = 100000\n",
    "    \n",
    "    def predict(self, X:np.ndarray) -> np.ndarray:\n",
    "        '''Prediction of output label for a given input.\n",
    "\n",
    "        Args:\n",
    "            X: Feature matrix for given inputs\n",
    "        \n",
    "        Returns:\n",
    "            y: Output label vector as predicted by the given model\n",
    "        '''\n",
    "\n",
    "        y = X @ self.w\n",
    "        \n",
    "        return y\n",
    "    \n",
    "    def loss(self, X:np.ndarray, y:np.ndarray) -> float:\n",
    "        '''Calculate loss for a model based on actual labels.\n",
    "\n",
    "        Args:\n",
    "            X: Feature matrix for given inputs\n",
    "            y: Output label vector as known from the dataset (actual labels)\n",
    "        \n",
    "        Returns:\n",
    "            Loss\n",
    "        '''\n",
    "\n",
    "        e = y - self.predict(X)\n",
    "\n",
    "        return (1/2) * (np.transpose(e) @ e)\n",
    "    \n",
    "    def rmse(self, X:np.ndarray, y:np.ndarray) -> float:\n",
    "        '''Calculate root mean squared error of prediction based on actual labels.\n",
    "\n",
    "        Args:\n",
    "            X: Feature matrix for given inputs\n",
    "            y: Output label vector as known from the dataset (actual label)\n",
    "        \n",
    "        Returns:\n",
    "            RMSE\n",
    "        '''\n",
    "        return np.sqrt((2/X.shape[0]) * self.loss(X,y))\n",
    "    \n",
    "    # Normal Equation based estimation\n",
    "    def fit(self, X:np.ndarray, y:np.ndarray) -> np.ndarray:\n",
    "        '''Estimate parameters of linear regression model with normal equation.\n",
    "\n",
    "        Args:\n",
    "            X: Feature matrix for given inputs\n",
    "            y: Output label vector as known from the dataset (actual label)\n",
    "        \n",
    "        Returns:\n",
    "            Weight vector via normal equation\n",
    "        '''\n",
    "        self.w = np.linalg.pinv(X) @ y\n",
    "        return self.w\n",
    "    \n",
    "    def calculate_gradient(self, X:np.ndarray, y:np.ndarray) -> np.ndarray:\n",
    "        '''Calculate gradients of loss function w.r.t. weight vector on training set.\n",
    "\n",
    "        Args:\n",
    "            X: Feature matrix for given inputs\n",
    "            y: Output label vector as known from the dataset (actual label)\n",
    "        \n",
    "        Returns:\n",
    "            A vector of gradients\n",
    "        '''\n",
    "        return np.transpose(X) @ (self.predict(X) - y)\n",
    "    \n",
    "    def update_weights(self, grad:np.ndarray, lr:float) -> np.ndarray:\n",
    "        '''Update the weights based on the gradient of the loss function.\n",
    "\n",
    "        Weight updates are carried out with the following formula:\n",
    "            w_new := w_old - lr * grad\n",
    "        \n",
    "        Args:\n",
    "            grad: Gradient of loss w.r.t w\n",
    "            lr: Learning rate\n",
    "        \n",
    "        Returns:\n",
    "            Updated weight vector\n",
    "        '''\n",
    "        return self.w - lr * grad\n",
    "    \n",
    "    # Dynamic learning rate\n",
    "    def learning_schedule(self, t):\n",
    "        return self.t0/(t + self.t1)\n",
    "    \n",
    "    # GD - Gradient Descent\n",
    "    def gd(self, X:np.ndarray, y:np.ndarray, num_epochs:int, lr:float) -> np.ndarray:\n",
    "        '''Estimates parameters of linar regression model through gradient descent.\n",
    "        \n",
    "        Args:\n",
    "            X: Feature matrix for training data\n",
    "            y: Output label for training data vector\n",
    "            num_epochs: Number of training steps\n",
    "            lr: Learning rate\n",
    "        \n",
    "        Returns:\n",
    "            Weight vector: Final weight vector\n",
    "        '''\n",
    "        self.w = np.zeros(X.shape[1])\n",
    "        self.w_all = []\n",
    "        self.err_all = []\n",
    "        \n",
    "        for i in np.arange(0, num_epochs):\n",
    "            dJdW = self.calculate_gradient(X,y)\n",
    "            self.w_all.append(self.w)\n",
    "            self.err_all.append(self.loss(X,y))\n",
    "            self.w = self.update_weights(dJdW, lr)\n",
    "        \n",
    "        return self.w\n",
    "    \n",
    "    # MBGD - Mini-Batch Gradient Descent\n",
    "    def mbgd(self, X:np.ndarray, y:np.ndarray, num_epochs:int, batch_size:int) -> np.ndarray:\n",
    "        '''Estimates parameters of linar regression model through mini-batch gradient descent.\n",
    "        \n",
    "        Args:\n",
    "            X: Feature matrix for training data\n",
    "            y: Output label for training data vector\n",
    "            num_epochs: No. of epochs (no. of times MBGD is done over the whole training set)\n",
    "            batch_size: Size of each mini-batch, after which we update the weights\n",
    "        \n",
    "        Returns:\n",
    "            Weight vector: Final weight vector\n",
    "        '''\n",
    "        self.w = np.zeros(X.shape[1])\n",
    "        self.w_all = []\n",
    "        self.err_all = []\n",
    "        mini_batch_id = 0\n",
    "\n",
    "        for epoch in range(num_epochs):\n",
    "            shuffled_indices = np.random.permutation(X.shape[0])\n",
    "            X_shuffled = X[shuffled_indices]\n",
    "            y_shuffled = y[shuffled_indices]\n",
    "\n",
    "            for i in range(0, X.shape[0], batch_size):\n",
    "                mini_batch_id += 1\n",
    "                \n",
    "                # ith mini-batch\n",
    "                Xi = X_shuffled[i:i + batch_size]\n",
    "                yi = y_shuffled[i:i + batch_size]\n",
    "\n",
    "                lr = self.learning_schedule(mini_batch_id)\n",
    "                gradients = (2/ batch_size) * self.calculate_gradient(Xi, yi)\n",
    "\n",
    "                self.w_all.append(self.w)\n",
    "                self.err_all.append(self.loss(Xi, yi))\n",
    "                self.w = self.update_weights(gradients, lr)\n",
    "        \n",
    "        return self.w\n",
    "    \n",
    "    # SGD - Stochastic Gradient Descent\n",
    "    def sgd(self, X:np.ndarray, y:np.ndarray, num_epochs:int) -> np.ndarray:\n",
    "        '''Estimates parameters of linar regression model through stochastic gradient descent.\n",
    "        \n",
    "        Args:\n",
    "            X: Feature matrix for training data\n",
    "            y: Output label for training data vector\n",
    "            num_epochs: No. of epochs (no. of times MBGD is done over the whole training set)\n",
    "        \n",
    "        Returns:\n",
    "            Weight vector: Final weight vector\n",
    "        '''\n",
    "        self.w = np.zeros(X.shape[1])\n",
    "        self.w_all = []\n",
    "        self.err_all = []\n",
    "\n",
    "        for epoch in range(num_epochs):\n",
    "            for i in range(X.shape[0]):\n",
    "                random_index = np.random.randint(X.shape[0])\n",
    "                Xi = X[random_index:random_index+1]\n",
    "                yi = y[random_index:random_index+1]\n",
    "\n",
    "                lr = self.learning_schedule(epoch * X.shape[0] + i)\n",
    "                gradients = 2 * self.calculate_gradient(Xi, yi)\n",
    "\n",
    "                self.w_all.append(self.w)\n",
    "                self.err_all.append(self.loss(Xi,yi))\n",
    "                self.w = self.update_weights(gradients, lr)\n",
    "        \n",
    "        return self.w\n"
   ]
  },
  {
   "cell_type": "markdown",
   "metadata": {},
   "source": [
    "## Generate training data"
   ]
  },
  {
   "cell_type": "code",
   "execution_count": 3,
   "metadata": {},
   "outputs": [],
   "source": [
    "def generate_data(n:int = 100):\n",
    "    ''' Generates 'n' samples for training linear regression model.\n",
    "    \n",
    "    Args:\n",
    "        n: No. of training samples\n",
    "    \n",
    "    Returns:\n",
    "        n training samples\n",
    "    '''\n",
    "    # Create a synthetic dataset of n examples with single feature and a label.\n",
    "    # For this construction use the following 2 parametres.\n",
    "    w0,w1 = 4,3\n",
    "\n",
    "    X = 10 * np.random.rand(n,)\n",
    "\n",
    "    # Obtain y = 4 + 3*x + noise. Noise is randomly sampled.\n",
    "    y  = w0 + w1 * X + np.random.randn(n,)\n",
    "\n",
    "    return X,y"
   ]
  },
  {
   "cell_type": "markdown",
   "metadata": {},
   "source": [
    "## Preprocessing: Dummy feature and train-test split"
   ]
  },
  {
   "cell_type": "code",
   "execution_count": 8,
   "metadata": {},
   "outputs": [],
   "source": [
    "def add_dummy_feature(X:np.ndarray):\n",
    "    ''' Adds a dummy feature to the dataset.\n",
    "    \n",
    "    Args:\n",
    "        X: Training dataset\n",
    "    \n",
    "    Returns:\n",
    "        Training dataset with the addition of dummy feature.\n",
    "    '''\n",
    "    return np.column_stack((np.ones(X.shape[0]), X))\n",
    "\n",
    "def preprocess(X:np.ndarray,y:np.ndarray):\n",
    "    ''' Adds a dummy feature to the dataset. Then splits the dataset into 2 parts --- 80% for training and 20% for testing.\n",
    "    \n",
    "    Args:\n",
    "        X: Training dataset\n",
    "        y: Label vector\n",
    "    \n",
    "    Returns:\n",
    "        Training dataset with the addition of dummy feature.\n",
    "        Testing dataset with the addition of dummy feature.\n",
    "        Training label vector.\n",
    "        Testing label vector.\n",
    "    '''\n",
    "    X_with_dummy_features = add_dummy_feature(X)\n",
    "\n",
    "    from sklearn.model_selection import train_test_split\n",
    "    \n",
    "    return train_test_split(X_with_dummy_features, y, test_size=0.20, random_state=42)"
   ]
  },
  {
   "cell_type": "markdown",
   "metadata": {},
   "source": [
    "## Comparing results of Normal Equation, GD, MBGD and SGD"
   ]
  },
  {
   "cell_type": "code",
   "execution_count": 9,
   "metadata": {},
   "outputs": [],
   "source": [
    "X, y = generate_data(100)\n",
    "X_train, X_test, y_train, y_test = preprocess(X,y)"
   ]
  },
  {
   "cell_type": "code",
   "execution_count": 22,
   "metadata": {},
   "outputs": [],
   "source": [
    "lin_reg = LinReg()"
   ]
  },
  {
   "cell_type": "markdown",
   "metadata": {},
   "source": [
    "### Normal Equation"
   ]
  },
  {
   "cell_type": "code",
   "execution_count": 23,
   "metadata": {},
   "outputs": [
    {
     "name": "stdout",
     "output_type": "stream",
     "text": [
      "Weight vector (Normal Equation):  [4.20068815 2.97028158]\n"
     ]
    }
   ],
   "source": [
    "lin_reg.fit(X_train,y_train)\n",
    "print(\"Weight vector (Normal Equation): \", lin_reg.w)"
   ]
  },
  {
   "cell_type": "markdown",
   "metadata": {},
   "source": [
    "This looks approximately correct, because we assumed $[w_0, w_1] = [4,3]$"
   ]
  },
  {
   "cell_type": "markdown",
   "metadata": {},
   "source": [
    "### Gradient Descent"
   ]
  },
  {
   "cell_type": "code",
   "execution_count": 24,
   "metadata": {},
   "outputs": [
    {
     "name": "stdout",
     "output_type": "stream",
     "text": [
      "Weight vector (Gradient Descent):  [3.5704082  3.06517007]\n"
     ]
    }
   ],
   "source": [
    "lin_reg.gd(X_train, y_train, 1000, lr = 1e-4)\n",
    "print(\"Weight vector (Gradient Descent): \", lin_reg.w)"
   ]
  },
  {
   "cell_type": "markdown",
   "metadata": {},
   "source": [
    "### Mini-Batch Gradient Descent"
   ]
  },
  {
   "cell_type": "code",
   "execution_count": 25,
   "metadata": {},
   "outputs": [
    {
     "name": "stdout",
     "output_type": "stream",
     "text": [
      "Weight vector (Mini-Batch Gradient Descent):  [4.15115148 2.97808214]\n"
     ]
    }
   ],
   "source": [
    "lin_reg.mbgd(X_train, y_train, 1000, 16)\n",
    "print(\"Weight vector (Mini-Batch Gradient Descent): \", lin_reg.w)"
   ]
  },
  {
   "cell_type": "markdown",
   "metadata": {},
   "source": [
    "### Stochastic Gradient Descent"
   ]
  },
  {
   "cell_type": "code",
   "execution_count": 27,
   "metadata": {},
   "outputs": [
    {
     "name": "stdout",
     "output_type": "stream",
     "text": [
      "Weight vector (Stochastic Gradient Descent):  [4.17839009 2.95512835]\n"
     ]
    }
   ],
   "source": [
    "lin_reg.sgd(X_train, y_train, 1000)\n",
    "print(\"Weight vector (Stochastic Gradient Descent): \", lin_reg.w)"
   ]
  },
  {
   "cell_type": "markdown",
   "metadata": {},
   "source": [
    "So, GD, MBGD and SGD seems like a success!"
   ]
  },
  {
   "cell_type": "markdown",
   "metadata": {},
   "source": [
    "# Linear Regression on multiple features and single label"
   ]
  },
  {
   "cell_type": "markdown",
   "metadata": {},
   "source": [
    "## Plot learning curves"
   ]
  },
  {
   "cell_type": "code",
   "execution_count": 28,
   "metadata": {},
   "outputs": [],
   "source": [
    "def plot_learning_curves(err_all):\n",
    "    plt.plot(err_all)\n",
    "    plt.xlabel('iteration #')\n",
    "    plt.ylabel('Loss: $J(w)$')"
   ]
  },
  {
   "cell_type": "markdown",
   "metadata": {},
   "source": [
    "## Generating datasets with multiple features and single label"
   ]
  },
  {
   "cell_type": "markdown",
   "metadata": {},
   "source": [
    "We are generating a dataset with $10$ features and will try training Linear Regression on this."
   ]
  },
  {
   "cell_type": "code",
   "execution_count": 31,
   "metadata": {},
   "outputs": [],
   "source": [
    "from sklearn.datasets import make_regression\n",
    "\n",
    "X, y, coef = make_regression(n_samples=200, n_features=10, n_informative=10, n_targets= 1, shuffle=True, coef=True, noise= 0.5, random_state=0)\n",
    "# Here, the coeff vector holds the weights which actually want to predict."
   ]
  },
  {
   "cell_type": "code",
   "execution_count": 32,
   "metadata": {},
   "outputs": [
    {
     "name": "stdout",
     "output_type": "stream",
     "text": [
      "Shape of feature matrix:  (200, 10)\n",
      "Shape of label vector:  (200,)\n",
      "Shape of coefficient vector:  (10,)\n"
     ]
    }
   ],
   "source": [
    "print('Shape of feature matrix: ', X.shape)\n",
    "print('Shape of label vector: ', y.shape)\n",
    "print('Shape of coefficient vector: ', coef.shape)"
   ]
  },
  {
   "cell_type": "code",
   "execution_count": 33,
   "metadata": {},
   "outputs": [
    {
     "name": "stdout",
     "output_type": "stream",
     "text": [
      "Weight vector used for data generation: [40.05104636 10.32532207 51.90989393  6.18447832 41.09157343 28.46940664\n",
      " 88.97621358  9.68032193 15.48694157 44.96944303]\n"
     ]
    }
   ],
   "source": [
    "print('Weight vector used for data generation:', coef)"
   ]
  },
  {
   "cell_type": "markdown",
   "metadata": {},
   "source": [
    "We will compare it with weight vector estimated from different methods."
   ]
  },
  {
   "cell_type": "code",
   "execution_count": 34,
   "metadata": {},
   "outputs": [],
   "source": [
    "X_train, X_test, y_train, y_test = preprocess(X,y)"
   ]
  },
  {
   "cell_type": "markdown",
   "metadata": {},
   "source": [
    "### Normal Equation"
   ]
  },
  {
   "cell_type": "code",
   "execution_count": 36,
   "metadata": {},
   "outputs": [
    {
     "name": "stdout",
     "output_type": "stream",
     "text": [
      "Weight vector (Normal Equation):  [40.03352283 10.30867897 51.90912772  6.29286567 41.16257809 28.44228619\n",
      " 88.95433059  9.75752481 15.47239738 44.99809523]\n"
     ]
    }
   ],
   "source": [
    "lin_reg.fit(X_train,y_train)\n",
    "print(\"Weight vector (Normal Equation): \", lin_reg.w[1:])\n",
    "# Ignoring the first variable - lin_reg.w[0]."
   ]
  },
  {
   "cell_type": "markdown",
   "metadata": {},
   "source": [
    "### Gradient Descent"
   ]
  },
  {
   "cell_type": "code",
   "execution_count": 40,
   "metadata": {},
   "outputs": [
    {
     "name": "stdout",
     "output_type": "stream",
     "text": [
      "Weight vector (Gradient Descent):  [40.0335497  10.3081869  51.90922011  6.29241093 41.16194883 28.4422549\n",
      " 88.95432219  9.75811687 15.47224083 44.99776155]\n"
     ]
    }
   ],
   "source": [
    "lin_reg.gd(X_train, y_train, 1000, lr = 1e-4)\n",
    "print(\"Weight vector (Gradient Descent): \", lin_reg.w[1:])"
   ]
  },
  {
   "cell_type": "code",
   "execution_count": 41,
   "metadata": {},
   "outputs": [
    {
     "data": {
      "text/plain": [
       "Text(0.5, 1.0, 'Gradient Descent')"
      ]
     },
     "execution_count": 41,
     "metadata": {},
     "output_type": "execute_result"
    },
    {
     "data": {
      "image/png": "[encoded data removed]",
      "text/plain": [
       "<Figure size 432x288 with 1 Axes>"
      ]
     },
     "metadata": {
      "needs_background": "light"
     },
     "output_type": "display_data"
    }
   ],
   "source": [
    "plot_learning_curves(lin_reg.err_all[:1000])\n",
    "plt.title('Gradient Descent')"
   ]
  },
  {
   "cell_type": "markdown",
   "metadata": {},
   "source": [
    "### Mini-Batch Gradient Descent"
   ]
  },
  {
   "cell_type": "code",
   "execution_count": 42,
   "metadata": {},
   "outputs": [
    {
     "name": "stdout",
     "output_type": "stream",
     "text": [
      "Weight vector (Mini-Batch Gradient Descent):  [40.03350852 10.30866066 51.90911921  6.2929218  41.16255105 28.44225692\n",
      " 88.95420357  9.75754028 15.47239742 44.99813388]\n"
     ]
    }
   ],
   "source": [
    "lin_reg.mbgd(X_train, y_train, 1000, 16)\n",
    "print(\"Weight vector (Mini-Batch Gradient Descent): \", lin_reg.w[1:])"
   ]
  },
  {
   "cell_type": "code",
   "execution_count": 43,
   "metadata": {},
   "outputs": [
    {
     "data": {
      "text/plain": [
       "Text(0.5, 1.0, 'Mini-Batch Gradient Descent')"
      ]
     },
     "execution_count": 43,
     "metadata": {},
     "output_type": "execute_result"
    },
    {
     "data": {
      "image/png": "[encoded data removed]",
      "text/plain": [
       "<Figure size 432x288 with 1 Axes>"
      ]
     },
     "metadata": {
      "needs_background": "light"
     },
     "output_type": "display_data"
    }
   ],
   "source": [
    "plot_learning_curves(lin_reg.err_all[:1000])\n",
    "plt.title('Mini-Batch Gradient Descent')"
   ]
  },
  {
   "cell_type": "markdown",
   "metadata": {},
   "source": [
    "### Stochastic Gradient Descent"
   ]
  },
  {
   "cell_type": "code",
   "execution_count": 45,
   "metadata": {},
   "outputs": [
    {
     "name": "stdout",
     "output_type": "stream",
     "text": [
      "Weight vector (Stochastic Gradient Descent):  [40.01375916 10.3002436  51.90907425  6.28344993 41.15596593 28.42576394\n",
      " 88.94979142  9.75904099 15.45412143 44.98689012]\n"
     ]
    }
   ],
   "source": [
    "lin_reg.sgd(X_train, y_train, 1000)\n",
    "print(\"Weight vector (Stochastic Gradient Descent): \", lin_reg.w[1:])"
   ]
  },
  {
   "cell_type": "code",
   "execution_count": 46,
   "metadata": {},
   "outputs": [
    {
     "data": {
      "text/plain": [
       "Text(0.5, 1.0, 'Stochastic Gradient Descent')"
      ]
     },
     "execution_count": 46,
     "metadata": {},
     "output_type": "execute_result"
    },
    {
     "data": {
      "image/png": "[encoded data removed]",
      "text/plain": [
       "<Figure size 432x288 with 1 Axes>"
      ]
     },
     "metadata": {
      "needs_background": "light"
     },
     "output_type": "display_data"
    }
   ],
   "source": [
    "plot_learning_curves(lin_reg.err_all[:1000])\n",
    "plt.title('Stochastic Gradient Descent')"
   ]
  }
 ],
 "metadata": {
  "interpreter": {
   "hash": "c0b4aa3dbf26008a2f5bdb6f96959d9b12aab8bbe92ce96b5c8a3811effcf69d"
  },
  "kernelspec": {
   "display_name": "Python 3.8.8 64-bit ('skk-mlp-env': conda)",
   "language": "python",
   "name": "python3"
  },
  "language_info": {
   "codemirror_mode": {
    "name": "ipython",
    "version": 3
   },
   "file_extension": ".py",
   "mimetype": "text/x-python",
   "name": "python",
   "nbconvert_exporter": "python",
   "pygments_lexer": "ipython3",
   "version": "3.8.8"
  },
  "orig_nbformat": 4
 },
 "nbformat": 4,
 "nbformat_minor": 2
}
