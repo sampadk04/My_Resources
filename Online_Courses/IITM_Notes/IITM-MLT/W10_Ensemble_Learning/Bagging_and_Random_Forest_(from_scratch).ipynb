{
 "cells": [
  {
   "cell_type": "markdown",
   "metadata": {},
   "source": [
    "# Random Forests"
   ]
  },
  {
   "cell_type": "markdown",
   "metadata": {},
   "source": [
    "Random Forest is a bagging technique that trains multiple decision trees with minor modification in the split criterion.\n",
    "\n",
    "![Random Forest](./Random_Forest_1.jpeg)\n",
    "\n",
    "In case of a decision tree, we train a single decision tree, whereas in Random Forest, we train multiple decision trees on different training sets obtained through bootstrap aggregation (bagging)."
   ]
  },
  {
   "cell_type": "markdown",
   "metadata": {},
   "source": [
    "## The Algorithm\n",
    "\n",
    "**Input:**\n",
    "\n",
    "Training data $D$ with shape $(n,m)$, where $n$ is the no. of examples and $m$ is the no. of features.\n",
    "\n",
    "**Steps:**\n",
    "\n",
    "1. Sample $q$ datasets each of shape $(n,m)$, say $D_1, D_2. \\dots D_q$ with replacement from $D$.\n",
    "2. In each dataset $D_j$, select $u$ out of $m$, where $u \\le m$ features before each split and train a full decision tree $h_j(\\vec{x})$.\n",
    "3. The final predictor is\n",
    "    - For regression, an average output from $q$ regressors is assigned to the new example:\n",
    "    $$h(\\vec{x}) = \\frac{1}{q}\\sum_{j=1}^{q} h_j(\\vec{x}) $$\n",
    "    - For classification, a majority voting is taken and the class label with maximum no. of votes is assigned to the new example."
   ]
  },
  {
   "cell_type": "markdown",
   "metadata": {},
   "source": [
    "## Implementation\n",
    "\n",
    "In order to keep the implementation focused to the main components of random forest, we make use of `DecisionTreeClassifier` from `sklearn.tree` module for the decision tree component."
   ]
  },
  {
   "cell_type": "code",
   "execution_count": 2,
   "metadata": {},
   "outputs": [],
   "source": [
    "import numpy as np\n",
    "import pandas as pd\n",
    "from collections import Counter\n",
    "from sklearn.tree import DecisionTreeClassifier"
   ]
  },
  {
   "cell_type": "markdown",
   "metadata": {},
   "source": [
    "We will build the code component-wise and finally combine them into `RondomForest` class."
   ]
  },
  {
   "cell_type": "markdown",
   "metadata": {},
   "source": [
    "### Bagging\n",
    "\n",
    "We define a function for bagging - creating $q$ bootstrap samples $D_1, D_2, \\dots D_q$ from the original dataset $D$:\n",
    "- The key step is `np.random.choice` with `size=n_samples` and `replace=True` which ensures that the bootstrap sample has the same number of samples as the original dataset and it is obtained by sampling with replacement."
   ]
  },
  {
   "cell_type": "code",
   "execution_count": 23,
   "metadata": {},
   "outputs": [],
   "source": [
    "def bag(X,y):\n",
    "    # Counts the no. of rows in the feature matrix\n",
    "    n_samples = X.shape[0]\n",
    "\n",
    "    # Generates a random sample from the given input.\n",
    "    indices = np.random.choice(\n",
    "        n_samples,\n",
    "        size=n_samples,\n",
    "        replace=True\n",
    "    )\n",
    "    # Note that the second argument size has been set to the size of the original sample dataset and replacement has been set to True\n",
    "    # This will allow repitition of indices\n",
    "\n",
    "    return X[indices],y[indices]"
   ]
  },
  {
   "cell_type": "markdown",
   "metadata": {},
   "source": [
    "### Majority Voting\n",
    "\n",
    "Code up `most_common_label` function for obtaining majority vote for class labels."
   ]
  },
  {
   "cell_type": "code",
   "execution_count": 3,
   "metadata": {},
   "outputs": [],
   "source": [
    "def most_common_label(y):\n",
    "    counter = Counter(y)\n",
    "    most_common = counter.most_common(1)[0][0]\n",
    "    return most_common"
   ]
  },
  {
   "cell_type": "markdown",
   "metadata": {},
   "source": [
    "## Random Forest Class\n",
    "\n",
    "We create `RandomForest` class with the following default parameters:\n",
    "- no. of tree = 10\n",
    "- minimum no. of samples = 2\n",
    "- maximum depth = 100\n",
    "\n",
    "The `max_features` is a configurable parameter that can be set by the user."
   ]
  },
  {
   "cell_type": "code",
   "execution_count": 5,
   "metadata": {},
   "outputs": [],
   "source": [
    "class RandomForest:\n",
    "    def __init__(self, n_trees=10, min_samples_split=2, max_depth=100, max_features=None):\n",
    "        # hyperparameter for fixing no. of trees to be generated\n",
    "        self.n_trees=n_trees\n",
    "        # min no. of samples required for split\n",
    "        self.min_samples_split=min_samples_split\n",
    "        # max depth of decison tree\n",
    "        self.max_depth=max_depth\n",
    "        # max no. of features to be considered\n",
    "        self.max_features=max_features\n",
    "        self.trees = []"
   ]
  },
  {
   "cell_type": "markdown",
   "metadata": {},
   "source": [
    "## Training Random Forest\n",
    "\n",
    "We implement `fit` method.\n",
    "- Initialize an empty list of decision tree classifiers.\n",
    "- In the for loop, we train each decision tree with parameters set from the andom forest on a bootstrapped sample obtained via the `bag` function."
   ]
  },
  {
   "cell_type": "code",
   "execution_count": 6,
   "metadata": {},
   "outputs": [],
   "source": [
    "    def fit(self, X,y):\n",
    "        # Empty array of tree which gets filled in during operation\n",
    "        self.trees = []\n",
    "        for _ in range(self.n_trees):\n",
    "            # We will now make RF class inherit features from sklearn.tree.DecisionTreeClassifier\n",
    "            tree = DecisionTreeClassifier(\n",
    "                min_samples_split=self.min_samples_split,\n",
    "                max_depth=self.max_depth,\n",
    "                max_features=self.max_features\n",
    "            )\n",
    "            X_sample, y_sample = bag(X,y)\n",
    "            tree.fit(X_sample,y_sample)\n",
    "            # We append each of these trees\n",
    "            self.trees.append(tree)"
   ]
  },
  {
   "cell_type": "markdown",
   "metadata": {},
   "source": [
    "## Inference\n",
    "\n",
    "Let's implement the `predict` function.\n",
    "\n",
    "Here, we need to note that each of the trees will be give predictions for all the individual rows of the input data.\n",
    "\n",
    "For example, if we have random forest with $3$ trees and $2$ classes `0` and `1`, let's assume the prediction for $5$ samples is as follows:\n",
    "- Tree 1 gives `11001`\n",
    "- Tree 2 gives `00111`\n",
    "- Tree 3 gives `10101`\n",
    "\n",
    "We need to aggregate the output for the respective samples and take an average/majority vote. For this, we will use `np.swapaxes`."
   ]
  },
  {
   "cell_type": "code",
   "execution_count": 26,
   "metadata": {},
   "outputs": [],
   "source": [
    "    def predict(self, X):\n",
    "        # Converting the list of predictions from the models into a numpy array\n",
    "        tree_predict = np.array([tree.predict(X) for tree in self.trees])\n",
    "        # Each tree will give out its own predictions\n",
    "        tree_predict = np.swapaxes(tree_predict, 0, 1)\n",
    "        # After swapping the axes, each row in tree_predict, contains the predictions of a partical input w.r.t. all the trees\n",
    "        y_pred = [most_common_label(tree_pred) for tree_pred in tree_predict]\n",
    "        return np.array(y_pred)"
   ]
  },
  {
   "cell_type": "markdown",
   "metadata": {},
   "source": [
    "## Combined Cleaned Up Code\n",
    "\n",
    "Combining different components for creating the class."
   ]
  },
  {
   "cell_type": "code",
   "execution_count": 28,
   "metadata": {},
   "outputs": [],
   "source": [
    "import numpy as np\n",
    "import pandas as pd\n",
    "from collections import Counter\n",
    "from sklearn.tree import DecisionTreeClassifier\n",
    "\n",
    "def bag(X,y):\n",
    "    # Counts the no. of rows in the feature matrix\n",
    "    n_samples = X.shape[0]\n",
    "\n",
    "    # Generates a random sample from the given input.\n",
    "    indices = np.random.choice(\n",
    "        n_samples,\n",
    "        size=n_samples,\n",
    "        replace=True\n",
    "    )\n",
    "    # Note that the second argument size has been set to the size of the original sample dataset and replacement has been set to True\n",
    "    # This will allow repitition of indices\n",
    "\n",
    "    return X[indices],y[indices]\n",
    "\n",
    "def most_common_label(y):\n",
    "    counter = Counter(y)\n",
    "    most_common = counter.most_common(1)[0][0]\n",
    "    return most_common\n",
    "\n",
    "class RandomForest:\n",
    "    def __init__(self, n_trees=10, min_samples_split=2, max_depth=100, max_features=None):\n",
    "        # hyperparameter for fixing no. of trees to be generated\n",
    "        self.n_trees=n_trees\n",
    "        # min no. of samples required for split\n",
    "        self.min_samples_split=min_samples_split\n",
    "        # max depth of decison tree\n",
    "        self.max_depth=max_depth\n",
    "        # max no. of features to be considered\n",
    "        self.max_features=max_features\n",
    "        self.trees = []\n",
    "\n",
    "    def fit(self, X,y):\n",
    "        # Empty array of tree which gets filled in during operation\n",
    "        self.trees = []\n",
    "        for _ in range(self.n_trees):\n",
    "            # We will now make RF class inherit features from sklearn.tree.DecisionTreeClassifier\n",
    "            tree = DecisionTreeClassifier(\n",
    "                min_samples_split=self.min_samples_split,\n",
    "                max_depth=self.max_depth,\n",
    "                max_features=self.max_features\n",
    "            )\n",
    "            X_sample, y_sample = bag(X,y)\n",
    "            tree.fit(X_sample,y_sample)\n",
    "            # We append each of these trees\n",
    "            self.trees.append(tree)\n",
    "\n",
    "    def predict(self, X):\n",
    "        # Converting the list of predictions from the models into a numpy array\n",
    "        tree_predict = np.array([tree.predict(X) for tree in self.trees])\n",
    "        # Each tree will give out its own predictions\n",
    "        tree_predict = np.swapaxes(tree_predict, 0, 1)\n",
    "        # After swapping the axes, each row in tree_predict, contains the predictions of a partical input w.r.t. all the trees\n",
    "        y_pred = [most_common_label(tree_pred) for tree_pred in tree_predict]\n",
    "        return np.array(y_pred)"
   ]
  },
  {
   "cell_type": "markdown",
   "metadata": {},
   "source": [
    "Let's demonstrate our implementation of Random Forest on a real world dataset."
   ]
  },
  {
   "cell_type": "code",
   "execution_count": 29,
   "metadata": {},
   "outputs": [
    {
     "name": "stdout",
     "output_type": "stream",
     "text": [
      "Accuracy:  0.9649122807017544\n"
     ]
    }
   ],
   "source": [
    "from sklearn.datasets import load_breast_cancer\n",
    "from sklearn.model_selection import train_test_split\n",
    "\n",
    "def accuracy(y_true, y_pred):\n",
    "    accuracy = np.sum(y_true==y_pred)/len(y_true)\n",
    "    return accuracy\n",
    "\n",
    "X,y = load_breast_cancer(return_X_y=True)\n",
    "\n",
    "X_train, X_test, y_train, y_test = train_test_split(X,y, test_size=0.2, random_state=69)\n",
    "\n",
    "clf = RandomForest(n_trees=10, max_depth=10, max_features='sqrt')\n",
    "clf.fit(X_train, y_train)\n",
    "\n",
    "y_test_hat = clf.predict(X_test)\n",
    "acc = accuracy(y_test, y_test_hat)\n",
    "\n",
    "print(\"Accuracy: \", acc)"
   ]
  },
  {
   "cell_type": "markdown",
   "metadata": {},
   "source": [
    "Let's look at other evaluation metrics."
   ]
  },
  {
   "cell_type": "code",
   "execution_count": 30,
   "metadata": {},
   "outputs": [
    {
     "name": "stdout",
     "output_type": "stream",
     "text": [
      "[[51  3]\n",
      " [ 1 59]]\n"
     ]
    }
   ],
   "source": [
    "from sklearn.metrics import confusion_matrix\n",
    "matrix = confusion_matrix(y_test, y_test_hat)\n",
    "print(matrix)"
   ]
  },
  {
   "cell_type": "code",
   "execution_count": 31,
   "metadata": {},
   "outputs": [
    {
     "name": "stdout",
     "output_type": "stream",
     "text": [
      "              precision    recall  f1-score   support\n",
      "\n",
      "           0       0.98      0.94      0.96        54\n",
      "           1       0.95      0.98      0.97        60\n",
      "\n",
      "    accuracy                           0.96       114\n",
      "   macro avg       0.97      0.96      0.96       114\n",
      "weighted avg       0.97      0.96      0.96       114\n",
      "\n"
     ]
    }
   ],
   "source": [
    "from sklearn.metrics import classification_report\n",
    "print(classification_report(y_test, y_test_hat))"
   ]
  },
  {
   "cell_type": "code",
   "execution_count": 34,
   "metadata": {},
   "outputs": [
    {
     "data": {
      "image/png": "[encoded data removed]",
      "text/plain": [
       "<Figure size 432x288 with 2 Axes>"
      ]
     },
     "metadata": {
      "needs_background": "light"
     },
     "output_type": "display_data"
    }
   ],
   "source": [
    "import matplotlib.pyplot as plt\n",
    "%matplotlib inline\n",
    "from sklearn.metrics import ConfusionMatrixDisplay\n",
    "\n",
    "disp = ConfusionMatrixDisplay(matrix)\n",
    "disp.plot()\n",
    "plt.show()\n"
   ]
  }
 ],
 "metadata": {
  "interpreter": {
   "hash": "ee0777041ec98f607d7fd5b29a894c71a8ff0325c3258b55f9f8e1ee2f7fef34"
  },
  "kernelspec": {
   "display_name": "Python 3.9.7 ('skk-mlp-env')",
   "language": "python",
   "name": "python3"
  },
  "language_info": {
   "codemirror_mode": {
    "name": "ipython",
    "version": 3
   },
   "file_extension": ".py",
   "mimetype": "text/x-python",
   "name": "python",
   "nbconvert_exporter": "python",
   "pygments_lexer": "ipython3",
   "version": "3.9.7"
  },
  "orig_nbformat": 4
 },
 "nbformat": 4,
 "nbformat_minor": 2
}
